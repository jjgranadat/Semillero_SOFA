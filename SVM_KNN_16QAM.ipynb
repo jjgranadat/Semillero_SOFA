{
  "cells": [
    {
      "cell_type": "markdown",
      "metadata": {
        "id": "view-in-github",
        "colab_type": "text"
      },
      "source": [
        "<a href=\"https://colab.research.google.com/github/jjgranadat/Semillero_SOFA/blob/Isabella/SVM_KNN_16QAM.ipynb\" target=\"_parent\"><img src=\"https://colab.research.google.com/assets/colab-badge.svg\" alt=\"Open In Colab\"/></a>"
      ]
    },
    {
      "cell_type": "code",
      "execution_count": null,
      "id": "b9971a29",
      "metadata": {
        "id": "b9971a29"
      },
      "outputs": [],
      "source": [
        "import pandas as pd\n",
        "import numpy as np\n",
        "import matplotlib.pyplot as plt\n",
        "import seaborn as sns\n",
        "from sklearn.neighbors import KNeighborsClassifier\n",
        "from sklearn.model_selection import train_test_split\n",
        "from sklearn import metrics"
      ]
    },
    {
      "cell_type": "markdown",
      "id": "4e722f9c",
      "metadata": {
        "id": "4e722f9c"
      },
      "source": [
        "# Generación y modulación"
      ]
    },
    {
      "cell_type": "code",
      "execution_count": null,
      "id": "682b151a",
      "metadata": {
        "id": "682b151a"
      },
      "outputs": [],
      "source": [
        "Ns= 1000\n",
        "Mod=16 #16QAM\n",
        "Symbols_tx = np.random.randint(Mod, size=Ns)\n",
        "df_sym_tx= pd.DataFrame(Symbols_tx)\n",
        "print(Symbols_tx[0:10])"
      ]
    },
    {
      "cell_type": "code",
      "execution_count": null,
      "id": "f6c2a752",
      "metadata": {
        "id": "f6c2a752"
      },
      "outputs": [],
      "source": [
        "mod_dict = {0:-3+3j, #0000\n",
        "            1:-3+1j, #0001\n",
        "            2:-3-3j, #0010\n",
        "            3:-3-1j, #0011\n",
        "            4:-1+3j, #0100\n",
        "            5:-1+1j, #0101\n",
        "            6:-1-3j, #0110\n",
        "            7:-1-1j, #0111\n",
        "            8:3+3j, #1000\n",
        "            9:3+1j, #1001\n",
        "            10:3-3j, #1010\n",
        "            11:3-1j, #1011\n",
        "            12:1+3j, #1100\n",
        "            13:1+1j, #1101\n",
        "            14:1-3j, #1110\n",
        "            15:1-1j} #1111"
      ]
    },
    {
      "cell_type": "code",
      "execution_count": null,
      "id": "592082b3",
      "metadata": {
        "id": "592082b3"
      },
      "outputs": [],
      "source": [
        "#Modulación reemplazando símbolos por valores complejos - mapeo (opción 2)\n",
        "df_sym_mod2 = df_sym_tx.iloc[:,0].map(mod_dict)\n",
        "df_sym_mod2.head(20)"
      ]
    },
    {
      "cell_type": "markdown",
      "id": "6b7b54bb",
      "metadata": {
        "id": "6b7b54bb"
      },
      "source": [
        "# Transmisión canal AWGN"
      ]
    },
    {
      "cell_type": "code",
      "execution_count": null,
      "id": "23424945",
      "metadata": {
        "id": "23424945"
      },
      "outputs": [],
      "source": [
        "Xr = np.real(df_sym_mod2)\n",
        "Xi = np.imag(df_sym_mod2)"
      ]
    },
    {
      "cell_type": "code",
      "execution_count": null,
      "id": "a237ff67",
      "metadata": {
        "id": "a237ff67"
      },
      "outputs": [],
      "source": [
        "# Adición de ruido blanco Gaussiano (AWGN)\n",
        "\n",
        "target_snr_db = 16\n",
        "Xr_avg_p = np.mean(Xr**2)\n",
        "Xr_avg_db = 10 * np.log10(Xr_avg_p)\n",
        "#print(Xr_avg_db)\n",
        "noise_avg_db_r = Xr_avg_db - target_snr_db\n",
        "noise_avg_p_r = 10 ** (noise_avg_db_r / 10)\n",
        "mean_noise = 0\n",
        "noise_r = np.random.normal(mean_noise, np.sqrt(noise_avg_p_r), len(Xr))\n",
        "Xr_ch = Xr + noise_r\n",
        "\n",
        "Xi_avg_p = np.mean(Xi**2)\n",
        "Xi_avg_db = 10 * np.log10(Xi_avg_p)\n",
        "#print(Xi_avg_db)\n",
        "noise_avg_db_i = Xr_avg_db - target_snr_db\n",
        "noise_avg_p_i = 10 ** (noise_avg_db_i / 10)\n",
        "noise_i = np.random.normal(mean_noise, np.sqrt(noise_avg_p_i), len(Xi))\n",
        "Xi_ch = Xi + noise_i"
      ]
    },
    {
      "cell_type": "code",
      "execution_count": null,
      "id": "e50f70d9",
      "metadata": {
        "id": "e50f70d9"
      },
      "outputs": [],
      "source": [
        "plt.plot(Xi_ch, Xr_ch, 'o')\n",
        "plt.xlabel('I')\n",
        "plt.ylabel('Q')\n",
        "plt.title('16-QAM')\n",
        "plt.show()"
      ]
    },
    {
      "cell_type": "code",
      "execution_count": null,
      "id": "b025b103",
      "metadata": {
        "id": "b025b103"
      },
      "outputs": [],
      "source": [
        "fig, ax = plt.subplots()\n",
        "for g in np.unique(Symbols_tx):\n",
        "    ix = np.where(Symbols_tx == g)\n",
        "    ax.scatter(Xr_ch[ix], Xi_ch[ix], label = g, s = 100)\n",
        "ax.legend()\n",
        "plt.xlabel('Característica 1')\n",
        "plt.ylabel('Característica 2')\n",
        "plt.title('Datos')\n",
        "plt.show()"
      ]
    },
    {
      "cell_type": "markdown",
      "id": "86d058cf",
      "metadata": {
        "id": "86d058cf"
      },
      "source": [
        "# Demodulación"
      ]
    },
    {
      "cell_type": "code",
      "execution_count": null,
      "id": "ae9bfe1b",
      "metadata": {
        "id": "ae9bfe1b"
      },
      "outputs": [],
      "source": [
        "def demapper_sym(symbols_I, symbols_Q, Ns, threshold = 2.0):\n",
        "   symbol = []\n",
        "   for i in range(Ns):\n",
        "        if symbols_I[i] <= -threshold and symbols_Q[i] >= threshold: #-3+3j\n",
        "            symbol.append(0)\n",
        "        elif symbols_I[i] <= -threshold and symbols_Q[i] >= 0 and symbols_Q[i] <= threshold: #-3+1j\n",
        "            symbol.append(1)\n",
        "        elif symbols_I[i] <= -threshold and symbols_Q[i] <= 0 and symbols_Q[i] >= -threshold: #-3-j\n",
        "            symbol.append(3)\n",
        "        elif symbols_I[i] <= -threshold and symbols_Q[i] <= -threshold: #-3-3j\n",
        "            symbol.append(2)\n",
        "        elif symbols_I[i] >= -threshold and symbols_I[i] <= 0 and symbols_Q[i] >= threshold: #-1+3j\n",
        "            symbol.append(4)\n",
        "        elif symbols_I[i] >= -threshold and symbols_I[i] <= 0 and symbols_Q[i] >= 0 and symbols_Q[i] <= threshold: #-1+j\n",
        "            symbol.append(5)\n",
        "        elif symbols_I[i] >= -threshold and symbols_I[i] <= 0 and symbols_Q[i] <= 0 and symbols_Q[i] >= -threshold: #-1-j\n",
        "            symbol.append(7)\n",
        "        elif symbols_I[i] >= -threshold and symbols_I[i] <= 0 and symbols_Q[i] <= -threshold: #-1-3j\n",
        "            symbol.append(6)\n",
        "        elif symbols_I[i] >= 0 and symbols_I[i] <= threshold and symbols_Q[i] >= threshold: #1+3j\n",
        "            symbol.append(12)\n",
        "        elif symbols_I[i] >= 0 and symbols_I[i] <= threshold and symbols_Q[i] >= 0 and symbols_Q[i] <= threshold: #1+j\n",
        "            symbol.append(13)\n",
        "        elif symbols_I[i] >= 0 and symbols_I[i] <= threshold and symbols_Q[i] <= 0 and symbols_Q[i] >= -threshold: #1-j\n",
        "            symbol.append(15)\n",
        "        elif symbols_I[i] >= 0 and symbols_I[i] <= threshold and symbols_Q[i] <= -threshold: #1-3j\n",
        "            symbol.append(14)\n",
        "        elif symbols_I[i] >= threshold and symbols_Q[i] >= threshold: #3+3j\n",
        "            symbol.append(8)\n",
        "        elif symbols_I[i] >= threshold and symbols_Q[i] >= 0 and symbols_Q[i] <= threshold: #3+1j\n",
        "            symbol.append(9)\n",
        "        elif symbols_I[i] >= threshold and symbols_Q[i] <= 0 and symbols_Q[i] >= -threshold: #3-1j\n",
        "            symbol.append(11)\n",
        "        elif symbols_I[i] >= threshold and symbols_Q[i] <= -threshold: #3-3j\n",
        "            symbol.append(10)\n",
        "   return(symbol)"
      ]
    },
    {
      "cell_type": "code",
      "execution_count": null,
      "id": "1055b2fd",
      "metadata": {
        "id": "1055b2fd"
      },
      "outputs": [],
      "source": [
        "sym_rx= demapper_sym(Xr_ch, Xi_ch, len(Xr_ch), threshold = 2.0)\n",
        "print(sym_rx[0:10])\n"
      ]
    },
    {
      "cell_type": "code",
      "execution_count": null,
      "id": "3e1daa4f",
      "metadata": {
        "id": "3e1daa4f"
      },
      "outputs": [],
      "source": [
        "def SER_f(sym_rx, Symbols_tx, Ns):\n",
        "    error = 0\n",
        "    for i in range(Ns):\n",
        "        if sym_rx[i] == Symbols_tx[i]:\n",
        "            error = error\n",
        "        else:\n",
        "            error= error + 1\n",
        "    SER = error/Ns\n",
        "    return([SER, error])"
      ]
    },
    {
      "cell_type": "code",
      "execution_count": null,
      "id": "10900f95",
      "metadata": {
        "id": "10900f95"
      },
      "outputs": [],
      "source": [
        "SER, error = SER_f(sym_rx, Symbols_tx, Ns)\n",
        "print(SER)\n",
        "print(error)"
      ]
    },
    {
      "cell_type": "code",
      "execution_count": null,
      "metadata": {
        "id": "do3znYBKnZYt"
      },
      "outputs": [],
      "source": [
        "#Comparación Knn vs Tradicional\n",
        "from numpy import log10\n",
        "list=[1,3,5,7,9]\n",
        "for n in list:\n",
        "  x=[]\n",
        "  y=[]\n",
        "  y2=[]\n",
        "  for i in range(20):\n",
        "    target_snr_db = i+1\n",
        "    Xr_avg_p = np.mean(Xr**2)\n",
        "    Xr_avg_db = 10 * np.log10(Xr_avg_p)\n",
        "    noise_avg_db_r = Xr_avg_db - target_snr_db\n",
        "    noise_avg_p_r = 10 ** (noise_avg_db_r / 10)\n",
        "    mean_noise = 0\n",
        "    noise_r = np.random.normal(mean_noise, np.sqrt(noise_avg_p_r), len(Xr))\n",
        "    Xr_ch = Xr + noise_r\n",
        "    Xi_avg_p = np.mean(Xi**2)\n",
        "    Xi_avg_db = 10 * np.log10(Xi_avg_p)\n",
        "    noise_avg_db_i = Xr_avg_db - target_snr_db\n",
        "    noise_avg_p_i = 10 ** (noise_avg_db_i / 10)\n",
        "    noise_i = np.random.normal(mean_noise, np.sqrt(noise_avg_p_i), len(Xi))\n",
        "    Xi_ch = Xi + noise_i\n",
        "    def SER(sym_rx, Symbols_tx, Ns):\n",
        "      error = 0\n",
        "      for i in range(Ns):\n",
        "          if sym_rx[i] == Symbols_tx[i]:\n",
        "              error = error\n",
        "          else:\n",
        "              error= error + 1\n",
        "      SER = error/Ns\n",
        "      return([SER, error])\n",
        "    sym_rx= demapper_sym(Xr_ch, Xi_ch, len(Xr_ch), threshold = 2.0)\n",
        "    SER, error = SER(sym_rx, Symbols_tx, Ns)\n",
        "    y=np.append(y,log10(SER)) \n",
        "\n",
        "    X_ = np.transpose(np.array([Xr_ch,Xi_ch]))\n",
        "    y_= Symbols_tx\n",
        "    X_train, X_test, y_train, y_test = train_test_split(X_, y_, test_size=0.3) # 70% training and 30% test\n",
        "    k= n+1 # número de vecinos\n",
        "    model = KNeighborsClassifier(n_neighbors=k)\n",
        "    model.fit(X_train, y_train)\n",
        "    model.score(X_train, y_train)\n",
        "    y_pred = model.predict(X_test)\n",
        "    SER_test, error_test = SER_f(y_pred, y_test, len(y_pred))\n",
        "    x.append(i+1) \n",
        "    y2=np.append(y2,log10(SER_test))\n",
        "\n",
        "  plt.plot(x, y, 'o',label = \"Demodulación\")\n",
        "  plt.plot(x, y2, 'o',label = f\"KNN {n+1}\")\n",
        "  plt.xlabel('SNR (dB)')\n",
        "  plt.legend()\n",
        "  plt.ylabel('SER')\n",
        "  plt.show()"
      ],
      "id": "do3znYBKnZYt"
    },
    {
      "cell_type": "code",
      "source": [
        "# BER \n",
        "y_pred_bin=[]\n",
        "y_test_bin=[]\n",
        "count=0\n",
        "for i in range(10000):\n",
        "  y_pred_bin.append(bin(sym_rx[i]))\n",
        "  y_test_bin.append(bin(Symbols_tx[i]))\n",
        "  if bin(sym_rx[i])!=bin(Symbols_tx[i]):\n",
        "    count=count+1\n",
        "    # print(\"Error :\"+ bin(Symbols_tx[i]) + \", transmitido: \"+bin(sym_rx[i]))"
      ],
      "metadata": {
        "id": "444VutTdP2Wk"
      },
      "id": "444VutTdP2Wk",
      "execution_count": null,
      "outputs": []
    },
    {
      "cell_type": "markdown",
      "id": "ec8798f5",
      "metadata": {
        "id": "ec8798f5"
      },
      "source": [
        "# Demodulación usando KNN"
      ]
    },
    {
      "cell_type": "code",
      "execution_count": null,
      "id": "2ebd6bb2",
      "metadata": {
        "id": "2ebd6bb2"
      },
      "outputs": [],
      "source": [
        "X = np.transpose(np.array([Xr_ch,Xi_ch]))\n",
        "y= Symbols_tx\n",
        "X_train, X_test, y_train, y_test = train_test_split(X, y, test_size=0.3) # 70% training and 30% test\n",
        "k= 10 # número de vecinos\n",
        "model = KNeighborsClassifier(n_neighbors=k)\n",
        "model.fit(X_train, y_train)\n",
        "model.score(X_train, y_train)\n",
        "y_pred = model.predict(X_test)\n",
        "print(\"Accuracy:\",metrics.accuracy_score(y_test, y_pred))\n",
        "print(y_pred[0:10])\n",
        "print(y_test[0:10])\n",
        "SER_test, error_test = SER_f(y_pred, y_test, len(y_pred))\n",
        "print(SER_test)\n",
        "print(error_test)"
      ]
    },
    {
      "cell_type": "code",
      "source": [
        "#BER\n",
        "y_pred_bin=[]\n",
        "y_test_bin=[]\n",
        "count=0\n",
        "for i in range(1000):\n",
        "  y_pred_bin.append(bin(y_pred[i]))\n",
        "  y_test_bin.append(bin(y_test[i]))\n",
        "  if bin(y_pred[i])!=bin(y_test[i]):\n",
        "    count=count+1\n",
        "    # print(\"Error :\"+ bin(y_pred[i]) + \", transmitido: \"+bin(y_test[i]))\n",
        "#print(count)"
      ],
      "metadata": {
        "id": "lH9Zl_WhJ0bC"
      },
      "id": "lH9Zl_WhJ0bC",
      "execution_count": null,
      "outputs": []
    },
    {
      "cell_type": "markdown",
      "metadata": {
        "id": "RMfhHBTkTFtC"
      },
      "source": [
        "# Demodulación usando SVM\n"
      ],
      "id": "RMfhHBTkTFtC"
    },
    {
      "cell_type": "code",
      "source": [
        "from sklearn.svm import SVC\n",
        "from sklearn.model_selection import GridSearchCV\n",
        "X_train, X_test, y_train, y_test = train_test_split(X, y, test_size=0.3) # 70% training & 30% test\n",
        "model = SVC()\n",
        "model.fit(X_train, y_train)\n",
        "model.score(X_train, y_train)\n",
        "y_pred = model.predict(X_test)\n",
        "print(\"Accuracy:\",metrics.accuracy_score(y_test, y_pred))\n",
        "param_grid = {'C':[0.1,1,10,100,1000], 'gamma':[1,0.1,0.01, 0.001, 0.0001]}\n",
        "grid = GridSearchCV(SVC(), param_grid, verbose = 3)\n",
        "grid.fit(X_train, y_train)\n",
        "grid.best_params_\n",
        "grid.best_estimator_\n",
        "grid_pred = grid.predict(X_test)"
      ],
      "metadata": {
        "id": "VYJnDcAvTLxs"
      },
      "id": "VYJnDcAvTLxs",
      "execution_count": null,
      "outputs": []
    },
    {
      "cell_type": "code",
      "execution_count": null,
      "metadata": {
        "colab": {
          "base_uri": "https://localhost:8080/"
        },
        "outputId": "c114d86a-011b-488d-ca12-e3272dd9581e",
        "id": "Ls99CF9qUf1-"
      },
      "outputs": [
        {
          "output_type": "stream",
          "name": "stdout",
          "text": [
            "[CV 2/5] END ......................C=1, gamma=1;, score=0.363 total time=   2.8s\n",
            "[CV 3/5] END ......................C=1, gamma=1;, score=0.369 total time=   2.8s\n",
            "[CV 4/5] END ......................C=1, gamma=1;, score=0.349 total time=   2.7s\n",
            "[CV 5/5] END ......................C=1, gamma=1;, score=0.349 total time=   2.8s\n",
            "[CV 1/5] END ....................C=1, gamma=0.1;, score=0.366 total time=   1.6s\n",
            "[CV 2/5] END ....................C=1, gamma=0.1;, score=0.372 total time=   1.6s\n",
            "[CV 3/5] END ....................C=1, gamma=0.1;, score=0.379 total time=   2.5s\n",
            "[CV 4/5] END ....................C=1, gamma=0.1;, score=0.356 total time=   1.8s\n",
            "[CV 5/5] END ....................C=1, gamma=0.1;, score=0.360 total time=   1.6s\n",
            "[CV 1/5] END ...................C=1, gamma=0.01;, score=0.362 total time=   1.6s\n",
            "[CV 2/5] END ...................C=1, gamma=0.01;, score=0.369 total time=   1.6s\n",
            "[CV 3/5] END ...................C=1, gamma=0.01;, score=0.380 total time=   1.6s\n",
            "[CV 4/5] END ...................C=1, gamma=0.01;, score=0.362 total time=   1.6s\n",
            "[CV 5/5] END ...................C=1, gamma=0.01;, score=0.359 total time=   1.6s\n",
            "[CV 1/5] END ..................C=1, gamma=0.001;, score=0.366 total time=   1.9s\n",
            "[CV 2/5] END ..................C=1, gamma=0.001;, score=0.367 total time=   1.9s\n",
            "[CV 3/5] END ..................C=1, gamma=0.001;, score=0.382 total time=   2.0s\n",
            "[CV 4/5] END ..................C=1, gamma=0.001;, score=0.362 total time=   2.0s\n",
            "[CV 5/5] END ..................C=1, gamma=0.001;, score=0.365 total time=   2.0s\n",
            "[CV 1/5] END .................C=1, gamma=0.0001;, score=0.242 total time=   2.9s\n"
          ]
        }
      ],
      "source": [
        "#Comparación SVM vs Knn vs Tradicional\n",
        "from numpy import log10\n",
        "list=[1,3,5,7,9]\n",
        "for n in list:\n",
        "  x=[]\n",
        "  y=[]\n",
        "  y2=[]\n",
        "  y3=[]\n",
        "  for i in range(20):\n",
        "    target_snr_db = i+1\n",
        "    Xr_avg_p = np.mean(Xr**2)\n",
        "    Xr_avg_db = 10 * np.log10(Xr_avg_p)\n",
        "    noise_avg_db_r = Xr_avg_db - target_snr_db\n",
        "    noise_avg_p_r = 10 ** (noise_avg_db_r / 10)\n",
        "    mean_noise = 0\n",
        "    noise_r = np.random.normal(mean_noise, np.sqrt(noise_avg_p_r), len(Xr))\n",
        "    Xr_ch = Xr + noise_r\n",
        "    Xi_avg_p = np.mean(Xi**2)\n",
        "    Xi_avg_db = 10 * np.log10(Xi_avg_p)\n",
        "    noise_avg_db_i = Xr_avg_db - target_snr_db\n",
        "    noise_avg_p_i = 10 ** (noise_avg_db_i / 10)\n",
        "    noise_i = np.random.normal(mean_noise, np.sqrt(noise_avg_p_i), len(Xi))\n",
        "    Xi_ch = Xi + noise_i\n",
        "    def SER(sym_rx, Symbols_tx, Ns):\n",
        "      error = 0\n",
        "      for i in range(Ns):\n",
        "          if sym_rx[i] == Symbols_tx[i]:\n",
        "              error = error\n",
        "          else:\n",
        "              error= error + 1\n",
        "      SER = error/Ns\n",
        "      return([SER, error])\n",
        "    sym_rx= demapper_sym(Xr_ch, Xi_ch, len(Xr_ch), threshold = 2.0)\n",
        "    SER, error = SER(sym_rx, Symbols_tx, Ns)\n",
        "    y=np.append(y,log10(SER)) \n",
        "\n",
        "    X_ = np.transpose(np.array([Xr_ch,Xi_ch]))\n",
        "    y_= Symbols_tx\n",
        "    X_train, X_test, y_train, y_test = train_test_split(X_, y_, test_size=0.3) # 70% training and 30% test\n",
        "    k= n+1 # número de vecinos\n",
        "    model = KNeighborsClassifier(n_neighbors=k)\n",
        "    model.fit(X_train, y_train)\n",
        "    model.score(X_train, y_train)\n",
        "    y_pred = model.predict(X_test)\n",
        "    SER_test, error_test = SER_f(y_pred, y_test, len(y_pred))\n",
        "    x.append(i+1) \n",
        "    y2=np.append(y2,log10(SER_test))\n",
        "\n",
        "    X_train_svm, X_test_svm, y_train_svm, y_test_svm = train_test_split(X_, y_, test_size=0.3) # 70% training & 30% test\n",
        "    model = SVC()\n",
        "    model.fit(X_train_svm, y_train_svm)\n",
        "    model.score(X_train_svm, y_train_svm)\n",
        "    y_pred_svm = model.predict(X_test_svm)\n",
        "    print(\"Accuracy:\",metrics.accuracy_score(y_test_svm, y_pred_svm))\n",
        "    param_grid = {'C':[0.1,1,10,100,1000], 'gamma':[1,0.1,0.01, 0.001, 0.0001]}\n",
        "    grid = GridSearchCV(SVC(), param_grid, verbose = 3)\n",
        "    grid.fit(X_train_svm, y_train_svm)\n",
        "    grid.best_params_\n",
        "    grid.best_estimator_\n",
        "    grid_pred = grid.predict(X_test_svm)\n",
        "    SER_test_svm, error_test_svm = SER_f(grid_pred, y_test_svm, len(y_pred))\n",
        "    y3=np.append(y3,log10(SER_test_svm))\n",
        "\n",
        "\n",
        "  plt.plot(x, y, 'o',label = \"Demodulación\")\n",
        "  plt.plot(x, y2, '+',label = f\"KNN {n+1}\")\n",
        "  plt.plot(x, y3, '*',label = f\"SVM {best_params_}\")\n",
        "  plt.xlabel('SNR (dB)')\n",
        "  plt.legend()\n",
        "  plt.ylabel('SER')\n",
        "  plt.show()"
      ],
      "id": "Ls99CF9qUf1-"
    }
  ],
  "metadata": {
    "kernelspec": {
      "display_name": "Python 3 (ipykernel)",
      "language": "python",
      "name": "python3"
    },
    "language_info": {
      "codemirror_mode": {
        "name": "ipython",
        "version": 3
      },
      "file_extension": ".py",
      "mimetype": "text/x-python",
      "name": "python",
      "nbconvert_exporter": "python",
      "pygments_lexer": "ipython3",
      "version": "3.7.6"
    },
    "colab": {
      "provenance": [],
      "include_colab_link": true
    }
  },
  "nbformat": 4,
  "nbformat_minor": 5
}