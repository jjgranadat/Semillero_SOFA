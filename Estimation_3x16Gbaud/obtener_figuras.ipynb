{
 "cells": [
  {
   "cell_type": "code",
   "execution_count": null,
   "metadata": {},
   "outputs": [],
   "source": [
    "# Librerias necesarias para manejar las imagenes\n",
    "import numpy as np\n",
    "import os\n",
    "import cv2"
   ]
  },
  {
   "cell_type": "code",
   "execution_count": null,
   "metadata": {},
   "outputs": [],
   "source": [
    "# Establecer los valores de OSNR para cada espaciamiento de canal\n",
    "osnr = {\n",
    "    \"single_ch\": [14.3, 15.3, 16.3, 17.8, 19.3, 21.3, 23.3, 26.3, 28.3, 31.3, 36.3],\n",
    "    \"18GHz_spacing\": [18, 19, 20, 23, 25, 27, 30, 32, 35, 40],\n",
    "    \"17.6GHz_spacing\": [18, 19, 20, 21.5, 23, 25, 27, 30, 32, 35, 40],\n",
    "    \"17GHz_spacing\": [18, 19, 20, 21.5, 23, 25, 27, 30, 32, 35, 40],\n",
    "    \"16.5GHz_spacing\": [18, 19, 20, 21.5, 23, 25, 27, 30, 32, 35, 40],\n",
    "    \"16GHz_spacing\": [18, 19, 20, 21.5, 23, 25, 27, 30, 32, 35, 40],\n",
    "    \"15.5GHz_spacing\": [20, 21.5, 23, 25, 27, 30, 32, 35, 40],\n",
    "    \"15GHz_spacing\": [23, 25, 27, 30, 32, 35, 40],\n",
    "}"
   ]
  },
  {
   "cell_type": "code",
   "execution_count": null,
   "metadata": {},
   "outputs": [],
   "source": [
    "# Definir el numero de muestras por cada espaciamiento de canal\n",
    "n_samples = 12096"
   ]
  },
  {
   "cell_type": "code",
   "execution_count": null,
   "metadata": {},
   "outputs": [],
   "source": [
    "for spacing in osnr.keys():\n",
    "    for osnr_value in osnr[spacing]:\n",
    "        # Cargar las imagenes y etiquetas\n",
    "        dir = f\"../DB_EXP/{spacing}/16QAM_3x16GBd_consY{osnr_value}dB.csv\"\n",
    "        data = np.loadtxt(dir, delimiter=\",\", skiprows=1)\n",
    "\n",
    "        # Establecer el numero de muestras por cada OSNR\n",
    "        n = int(len(data) / n_samples)\n",
    "\n",
    "        # Iterar sobre las muestras para obtener las imagenes y etiquetas\n",
    "        for i in range(n):\n",
    "            data_sample = data[i * n_samples : (i + 1) * n_samples]\n",
    "\n",
    "            # Obtener el histograma de data_sample\n",
    "            x = data_sample[:, 0]\n",
    "            y = data_sample[:, 1]\n",
    "            hist, _, _ = np.histogram2d(x, y, bins=64, range=[[-4, 4], [-4, 4]])\n",
    "            hist = hist.T\n",
    "\n",
    "            # Verificar que la carpeta exista\n",
    "            if not os.path.exists(f\"constellations/{spacing}\"):\n",
    "                os.makedirs(f\"constellations/{spacing}\")\n",
    "\n",
    "            # Guardar la imagen\n",
    "            cv2.imwrite(f\"constellations/{spacing}/{osnr_value}_dB_sample_{i}.png\", hist)"
   ]
  }
 ],
 "metadata": {
  "language_info": {
   "name": "python"
  }
 },
 "nbformat": 4,
 "nbformat_minor": 2
}
