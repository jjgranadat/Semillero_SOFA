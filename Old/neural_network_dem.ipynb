{
 "cells": [
  {
   "cell_type": "markdown",
   "id": "b01441ee-fd0a-497c-9a2d-7dca25104e10",
   "metadata": {},
   "source": [
    "# Demodulación usando redes neuronales"
   ]
  },
  {
   "cell_type": "markdown",
   "id": "b52bd51d-80dd-427d-a28f-1ca93b6321b2",
   "metadata": {},
   "source": [
    "## Librerías"
   ]
  },
  {
   "cell_type": "code",
   "execution_count": 1,
   "id": "5bae1c36-6bd6-42c6-b306-7b59124b0567",
   "metadata": {
    "tags": []
   },
   "outputs": [],
   "source": [
    "import sofa\n",
    "import polars as pl\n",
    "import numpy as np\n",
    "import scipy as sp\n",
    "import matplotlib.pyplot as plt\n",
    "import tensorflow as tf\n",
    "import os\n",
    "\n",
    "# Scikit-Learn\n",
    "from sklearn import metrics\n",
    "from sklearn.cluster import KMeans\n",
    "from sklearn.neighbors import KNeighborsClassifier\n",
    "from sklearn.metrics import mean_absolute_error, mean_squared_error, r2_score\n",
    "from sklearn.model_selection import cross_validate\n",
    "from sklearn.preprocessing import StandardScaler\n",
    "from sklearn.svm import SVC\n",
    "from sklearn.model_selection import train_test_split, GridSearchCV\n",
    "\n",
    "# SciPy\n",
    "from scipy.io import loadmat\n",
    "\n",
    "# Tensorflow\n",
    "from tensorflow.keras import models, regularizers, utils\n",
    "from tensorflow.keras.layers import Dense\n",
    "from tensorflow.keras.callbacks import EarlyStopping\n",
    "from tensorflow.keras.wrappers.scikit_learn import KerasClassifier\n",
    "\n",
    "import time\n",
    "%store -r neural_vs_knn_ber18\n",
    "%store -r neural_vs_knn_ber18_35\n",
    "%store -r neural_vs_knn_ber18_32\n",
    "%store -r neural_vs_knn_ber18_30\n",
    "%store -r neural_vs_knn_ber18_27\n",
    "%store -r neural_vs_knn_ber18_25\n",
    "%store -r neural_vs_knn_ber18_23\n",
    "%store -r neural_vs_knn_ber18_20\n",
    "%store -r neural_vs_knn_ber18_19\n",
    "%store -r neural_vs_knn_ber18_18\n",
    "\n"
   ]
  },
  {
   "cell_type": "code",
   "execution_count": 2,
   "id": "f11efb65-7833-44a4-a6c9-18f6f1cabdec",
   "metadata": {},
   "outputs": [],
   "source": [
    "spacings = [\"18\", \"17.6\"]\n",
    "variables_to_restore = [f\"neural_vs_knn_ber{spacing}\" for spacing in spacings]"
   ]
  },
  {
   "cell_type": "code",
   "execution_count": 3,
   "id": "3d7e4612-ad50-4dd6-8d3b-4d69c1e839e4",
   "metadata": {
    "tags": []
   },
   "outputs": [],
   "source": [
    "PARAM_GRID_KNN = {\"n_neighbors\": [3, 5, 7, 9, 11, 13, 15]}\n",
    "FIGSIZE = (16, 8)\n",
    "\n",
    "\n",
    "# Función especial para leer todos los datos con la estructura estudiada\n",
    "def read_data(folder_rx):\n",
    "    data = {}\n",
    "\n",
    "    # Leer la carpeta principal\n",
    "    for folder in os.listdir(folder_rx):\n",
    "        # Leer las subcarpetas\n",
    "        if folder.endswith(\"spacing\"):\n",
    "            data[folder] = {}\n",
    "            for file in os.listdir(f\"{folder_rx}/{folder}\"):\n",
    "                if file.find(\"consY\") != -1:\n",
    "                    data_name = file.split(\"_\")[2]\n",
    "                    if data[folder].get(data_name) == None:\n",
    "                        data[folder][data_name] = {}\n",
    "                    mat_file_data = loadmat(f\"{folder_rx}/{folder}/{file}\")\n",
    "                    data[folder][data_name] = mat_file_data\n",
    "    return data\n",
    "\n",
    "\n",
    "# Función para demodular de manera tradicional, usando KNN y ANN\n",
    "def demodulation(X_rx, X_tx, train_size):\n",
    "    \"\"\"\n",
    "    Realiza la demodulación tradicional, con KNN y ANN\n",
    "\n",
    "    :param X_rx: Diccionario con los datos recibidos (por espaciamiento)\n",
    "    :param X_tx: Datos recibidos\n",
    "    :param train_size: Tamaño entrenamiento\n",
    "    \"\"\"\n",
    "    ber = {}\n",
    "\n",
    "    for i, snr in enumerate(X_rx):\n",
    "        # Extraer información\n",
    "        X_ch_norm = X_rx[snr].get(\"const_Y\").flatten()\n",
    "        X_ch = sofa.mod_norm(X_ch_norm, 10) * X_ch_norm\n",
    "\n",
    "        # Arreglos para el BER de cada algoritmo\n",
    "        trad_ber = np.empty(4)\n",
    "        knn_ber = np.empty(4)\n",
    "        neural_ber = np.empty(4)\n",
    "\n",
    "        for ph in range(4):       \n",
    "            #Mensaje para verificar avanza (Borrar)\n",
    "            print(f\"----Rotación número {ph+1}. Dato {snr}----\\n\")\n",
    "            # Rotar constelación\n",
    "            rotated_X = X_ch * np.exp(ph * 1j * np.pi / 2)\n",
    "            # Sincronizar de las señales\n",
    "            synced_X_tx = sofa.sync_signals(X_tx, rotated_X)\n",
    "            # Demodular señal transmitida\n",
    "            y = sofa.demodulate(synced_X_tx, sofa.MOD_DICT)\n",
    "            #\n",
    "            trad = sofa.demodulate(rotated_X, sofa.MOD_DICT)\n",
    "            trad_ber[ph] = sofa.bit_error_rate(trad, y)[0]\n",
    "            #----------KNN---------------------------\n",
    "            \n",
    "            t_inic = time.time()\n",
    "            # Mejores parámetros para KNN\n",
    "            best_params_knn = sofa.find_best_params(\n",
    "                KNeighborsClassifier, PARAM_GRID_KNN, rotated_X, y\n",
    "            )\n",
    "            k = best_params_knn[\"n_neighbors\"]\n",
    "            knn = sofa.demodulate_knn(rotated_X, y, k=k, train_size=train_size)\n",
    "            knn_ber[ph] = sofa.bit_error_rate(knn, y)[0]\n",
    "\n",
    "            print(f\"BER-KNN {knn_ber[ph]}\")\n",
    "            t_fin = time.time()\n",
    "            print(f\"Tiempo KNN: {t_fin-t_inic}\")\n",
    "            \n",
    "            #--------------RED NEURONAL------------------------------\n",
    "            t_ini= time.time()\n",
    "\n",
    "            max_neurons = 64\n",
    "            activations = [\"relu\"]\n",
    "            layer_props_lst = [\n",
    "                {\"units\": max_neurons // (2**i), \"activation\": activation}\n",
    "                for i, activation in enumerate(activations)\n",
    "            ]\n",
    "            loss_fn = tf.keras.losses.SparseCategoricalCrossentropy\n",
    "            # Demodulación para redes                   \n",
    "            neural_probs = sofa.demodulate_neural(\n",
    "                rotated_X,\n",
    "                y,\n",
    "                layer_props_lst=layer_props_lst,\n",
    "                loss_fn=loss_fn,\n",
    "                train_size=train_size,\n",
    "            )\n",
    "            neural = np.argmax(neural_probs, axis=1)\n",
    "            neural_ber[ph] = sofa.bit_error_rate(neural, y)[0]\n",
    "            \n",
    "            print(f\"BER red neuronal : {neural_ber[ph]}\")\n",
    "            t_fin = time.time()\n",
    "            print(f\"Tiempo Red Neuronal: {t_fin-t_inic}\")\n",
    "            #-------------------------------------------------------\n",
    "            # Obtener el índice de la clase con mayor probabilidad de pertenencia\n",
    "            \n",
    "            \n",
    "            # BER de la demodulación con respecto a la transmitida desplazada\n",
    "            # Índice 0 del retorno para tomar el BER e ignorar la cantidad de errores    \n",
    "\n",
    "        ber[snr] = {\n",
    "            \"trad\": np.amin(trad_ber),\n",
    "            \"knn\": np.amin(knn_ber),\n",
    "            \"neural\": np.amin(neural_ber),\n",
    "        }\n",
    "        print(f\"BER para snr = {snr} => {ber[snr]}\")\n",
    "        # Mensaje para saber que se progresa\n",
    "        print(f\"SNR {snr[5:]} terminado.\")\n",
    "    return ber\n",
    "\n",
    "\n",
    "def curve_fit(f, x, y):\n",
    "    popt, pcov = sp.optimize.curve_fit(f, x, y)\n",
    "    return popt\n",
    "\n",
    "\n",
    "def spacing_ber_eval(ber, spacing):\n",
    "    \"\"\"\n",
    "    Compara resultado de red Neuronal respecto a KNN. Hace gráficas\n",
    "\n",
    "    :param ber: Diccionario con los datos del ber\n",
    "    :param spacing: Espaciamiento\n",
    "    \"\"\"\n",
    "    print(\n",
    "        f\"Evaluación de la red neuronal con respecto a KNN para espaciamiento de {spacing} GHz\"\n",
    "    )\n",
    "\n",
    "    # Lista de strings con los SNR\n",
    "    SNR = [snr[5:-2] for snr in list(data[f\"{spacing}GHz_spacing\"].keys())]\n",
    "\n",
    "    SNR.sort()\n",
    "\n",
    "    get_ber = lambda algorithm: [\n",
    "        np.log10(ber.get(f\"consY{snr_i}dB\").get(algorithm)) for snr_i in SNR\n",
    "    ]\n",
    "    #Calcula el ber para cada tipo de demodulación\n",
    "    tBER = get_ber(\"trad\")\n",
    "    kBER = get_ber(\"knn\")\n",
    "    nBER = get_ber(\"neural\")\n",
    "\n",
    "    # Función para usar en la gráfica\n",
    "    f = lambda x, a, b, c: a * x**2 + b * x + c\n",
    "\n",
    "    # Arreglo con los SNR como flotantes\n",
    "    dSNR = np.array(SNR, dtype=np.float64)\n",
    "    xSNR = np.linspace(float(SNR[0]), float(SNR[-1]), 1000)\n",
    "\n",
    "    plt.rcParams[\"text.usetex\"] = True\n",
    "    plt.figure(figsize=(10, 6))\n",
    "    # Tradicional: Brown\n",
    "    # KNN: Green\n",
    "    # Neural Network: Orange\n",
    "    plt.scatter(dSNR, tBER, marker=\"^\", c=\"brown\", label=\"Tradicional\")\n",
    "    plt.plot(\n",
    "        xSNR,\n",
    "        f(xSNR, *curve_fit(f, dSNR, tBER)),c=\"brown\",ls=\"dashed\",label=\"Tradicional (fit)\",)\n",
    "    plt.scatter(dSNR, kBER, marker=\"x\", c=\"green\", label=\"KNN\")\n",
    "    plt.plot(\n",
    "        xSNR,\n",
    "        f(xSNR, *curve_fit(f, dSNR, kBER)),c=\"green\",ls=\"dashed\",label=\"KNN (fit)\",)\n",
    "    plt.scatter(dSNR, nBER, marker=\"o\", c=\"orange\", label=\"Neural Network\")\n",
    "    plt.plot(\n",
    "        xSNR,\n",
    "        f(xSNR, *curve_fit(f, dSNR, nBER)),\n",
    "        c=\"orange\",\n",
    "        ls=\"dashed\",\n",
    "        label=\"Neural Network (fit)\",\n",
    "    )\n",
    "\n",
    "    plt.title(f\"{spacing} GHz spacing\")\n",
    "    plt.xlabel(\"OSNR (dB)\")\n",
    "    yticks = [f\"$10^{{{tick}}}$\" for tick in plt.yticks()]\n",
    "    plt.yticks(yticks)\n",
    "    plt.ylabel(\"BER\")\n",
    "    plt.legend(loc=\"upper right\")\n",
    "    plt.grid()\n",
    "    plt.show()\n",
    "\n",
    "\n",
    "\n",
    "def calc_once(varname, fn, args):\n",
    "    \"\"\"Calcular una variable una sola vez.\"\"\"\n",
    "    if varname not in globals():\n",
    "        return fn(**args)\n",
    "    return eval(varname)"
   ]
  },
  {
   "cell_type": "markdown",
   "id": "71d95b0f-e449-4f2d-a93e-0a9c8a3d1367",
   "metadata": {
    "id": "AZs5hIMpuIFG"
   },
   "source": [
    "## Datos experimentales"
   ]
  },
  {
   "cell_type": "code",
   "execution_count": 13,
   "id": "9fd2802c-d0da-4e66-bff9-f5ea9f6013d8",
   "metadata": {
    "colab": {
     "base_uri": "https://localhost:8080/",
     "height": 621
    },
    "id": "F2_5BERE2qJU",
    "outputId": "a304ca85-171f-4e4e-fff1-139cf18aecfb",
    "tags": []
   },
   "outputs": [],
   "source": [
    "file_tx = \"Datos/2x16QAM_16GBd.mat\"\n",
    "folder_rx = \"Datos/\"\n",
    "\n",
    "# Datos transmitidos\n",
    "X_tx_norm = loadmat(file_tx)\n",
    "X_tx_norm = X_tx_norm.get(\"Constellation\").flatten()[0][0].flatten()\n",
    "X_tx = sofa.mod_norm(X_tx_norm, 10)*X_tx_norm\n",
    "\n",
    "# Leer los datos recibidos\n",
    "data = read_data(folder_rx)"
   ]
  },
  {
   "cell_type": "markdown",
   "id": "7cac0a76-9a1c-4b0e-a7e1-26178c28b218",
   "metadata": {},
   "source": [
    "## Espaciamiento de 18 GHz"
   ]
  },
  {
   "cell_type": "code",
   "execution_count": 14,
   "id": "6d62b2e1",
   "metadata": {},
   "outputs": [
    {
     "data": {
      "text/plain": [
       "{'consY19dB': {'trad': 0.036736202968841856,\n",
       "  'knn': 0.03423078336272781,\n",
       "  'neural': 0.03398047104644327}}"
      ]
     },
     "execution_count": 14,
     "metadata": {},
     "output_type": "execute_result"
    }
   ],
   "source": [
    "neural_vs_knn_ber18_19"
   ]
  },
  {
   "cell_type": "code",
   "execution_count": 15,
   "id": "0a49cf43",
   "metadata": {},
   "outputs": [
    {
     "name": "stdout",
     "output_type": "stream",
     "text": [
      "----Rotación número 1. Dato consY18dB----\n",
      "\n",
      "BER-KNN 0.05055619855967078\n",
      "Tiempo KNN: 22.743672370910645\n",
      "3402/3402 [==============================] - 4s 1ms/step\n",
      "BER red neuronal : 0.05051945546737213\n",
      "Tiempo Red Neuronal: 919.4157259464264\n",
      "----Rotación número 2. Dato consY18dB----\n",
      "\n",
      "BER-KNN 0.05065953850676073\n",
      "Tiempo KNN: 25.86255145072937\n",
      "3402/3402 [==============================] - 4s 1ms/step\n",
      "BER red neuronal : 0.050530937683715464\n",
      "Tiempo Red Neuronal: 503.4716811180115\n",
      "----Rotación número 3. Dato consY18dB----\n",
      "\n",
      "BER-KNN 0.05075598912404468\n",
      "Tiempo KNN: 22.217644214630127\n",
      "3402/3402 [==============================] - 4s 1ms/step\n",
      "BER red neuronal : 0.050682502939447385\n",
      "Tiempo Red Neuronal: 812.160605430603\n",
      "----Rotación número 4. Dato consY18dB----\n",
      "\n",
      "BER-KNN 0.050896072163433274\n",
      "Tiempo KNN: 22.42751979827881\n",
      "3402/3402 [==============================] - 3s 943us/step\n",
      "BER red neuronal : 0.05042300485008818\n",
      "Tiempo Red Neuronal: 842.3141393661499\n",
      "BER para snr = consY18dB => {'trad': 0.053061618165784835, 'knn': 0.05055619855967078, 'neural': 0.05042300485008818}\n",
      "SNR 18dB terminado.\n",
      "Stored 'neural_vs_knn_ber18_18' (dict)\n"
     ]
    }
   ],
   "source": [
    "spacing = \"18\"\n",
    "X_rx = data[f\"{spacing}GHz_spacing\"]\n",
    "neural_vs_knn_ber18_18 = demodulation(X_rx,X_tx,0.4)\n",
    "%store neural_vs_knn_ber18_18"
   ]
  },
  {
   "cell_type": "code",
   "execution_count": 6,
   "id": "8bb6a9c1",
   "metadata": {},
   "outputs": [
    {
     "name": "stdout",
     "output_type": "stream",
     "text": [
      "----Rotación número 1. Dato consY32dB----\n",
      "\n",
      "BER-KNN 4.363242210464433e-05\n",
      "Tiempo KNN: 38.98034381866455\n",
      "3402/3402 [==============================] - 8s 2ms/step\n",
      "BER red neuronal : 4.8225308641975306e-05\n",
      "Tiempo Red Neuronal: 1550.3432927131653\n",
      "----Rotación número 2. Dato consY32dB----\n",
      "\n",
      "BER-KNN 3.2150205761316875e-05\n",
      "Tiempo KNN: 34.137065172195435\n",
      "3402/3402 [==============================] - 6s 2ms/step\n",
      "BER red neuronal : 5.281819517930629e-05\n",
      "Tiempo Red Neuronal: 1018.568172454834\n",
      "----Rotación número 3. Dato consY32dB----\n",
      "\n",
      "BER-KNN 4.363242210464433e-05\n",
      "Tiempo KNN: 36.90018820762634\n",
      "3402/3402 [==============================] - 9s 3ms/step\n",
      "BER red neuronal : 4.592886537330982e-05\n",
      "Tiempo Red Neuronal: 1207.9884250164032\n",
      "----Rotación número 4. Dato consY32dB----\n",
      "\n",
      "BER-KNN 3.6743092298647854e-05\n",
      "Tiempo KNN: 39.573625326156616\n",
      "3402/3402 [==============================] - 4s 1ms/step\n",
      "BER red neuronal : 3.2150205761316875e-05\n",
      "Tiempo Red Neuronal: 1311.5193531513214\n",
      "BER para snr = consY32dB => {'trad': 0.00013778659611992945, 'knn': 3.2150205761316875e-05, 'neural': 3.2150205761316875e-05}\n",
      "SNR 32dB terminado.\n",
      "Stored 'neural_vs_knn_ber18_32' (dict)\n"
     ]
    }
   ],
   "source": [
    "spacing = \"18\"\n",
    "X_rx = data[f\"{spacing}GHz_spacing\"]\n",
    "neural_vs_knn_ber18_32 = demodulation(X_rx,X_tx,0.4)\n",
    "%store neural_vs_knn_ber18_32"
   ]
  },
  {
   "cell_type": "code",
   "execution_count": 5,
   "id": "eae4bacb",
   "metadata": {},
   "outputs": [
    {
     "name": "stdout",
     "output_type": "stream",
     "text": [
      "----Rotación número 1. Dato consY25dB----\n",
      "\n",
      "BER-KNN 0.001244672251616696\n",
      "Tiempo KNN: 27.725266933441162\n",
      "3402/3402 [==============================] - 4s 1ms/step\n",
      "BER red neuronal : 0.0013457157554379777\n",
      "Tiempo Red Neuronal: 770.7269492149353\n",
      "----Rotación número 2. Dato consY25dB----\n",
      "\n",
      "BER-KNN 0.0012814153439153438\n",
      "Tiempo KNN: 29.16118025779724\n",
      "3402/3402 [==============================] - 5s 1ms/step\n",
      "BER red neuronal : 0.001267636684303351\n",
      "Tiempo Red Neuronal: 1030.7945091724396\n",
      "----Rotación número 3. Dato consY25dB----\n",
      "\n",
      "BER-KNN 0.001267636684303351\n",
      "Tiempo KNN: 29.243515968322754\n",
      "3402/3402 [==============================] - 5s 2ms/step\n",
      "BER red neuronal : 0.0013020833333333333\n",
      "Tiempo Red Neuronal: 1207.564539194107\n",
      "----Rotación número 4. Dato consY25dB----\n",
      "\n",
      "BER-KNN 0.001290601116990006\n",
      "Tiempo KNN: 31.08590292930603\n",
      "3402/3402 [==============================] - 5s 1ms/step\n",
      "BER red neuronal : 0.0012997868900646678\n",
      "Tiempo Red Neuronal: 631.5542001724243\n",
      "BER para snr = consY25dB => {'trad': 0.0019542732216343327, 'knn': 0.001244672251616696, 'neural': 0.001267636684303351}\n",
      "SNR 25dB terminado.\n",
      "----Rotación número 1. Dato consY27dB----\n",
      "\n",
      "BER-KNN 0.00040647045855379186\n",
      "Tiempo KNN: 28.895862579345703\n",
      "3402/3402 [==============================] - 9s 3ms/step\n",
      "BER red neuronal : 0.0004455099941211052\n",
      "Tiempo Red Neuronal: 3079.136865377426\n",
      "----Rotación número 2. Dato consY27dB----\n",
      "\n",
      "BER-KNN 0.0003926917989417989\n",
      "Tiempo KNN: 40.21041226387024\n",
      "3402/3402 [==============================] - 8s 2ms/step\n",
      "BER red neuronal : 0.00041335978835978834\n",
      "Tiempo Red Neuronal: 1275.2612736225128\n",
      "----Rotación número 3. Dato consY27dB----\n",
      "\n",
      "BER-KNN 0.0004041740152851264\n",
      "Tiempo KNN: 38.138224601745605\n",
      "3402/3402 [==============================] - 7s 2ms/step\n",
      "BER red neuronal : 0.0004248420047031158\n",
      "Tiempo Red Neuronal: 12307.720502614975\n",
      "----Rotación número 4. Dato consY27dB----\n",
      "\n",
      "BER-KNN 0.00041335978835978834\n",
      "Tiempo KNN: 40.37248468399048\n",
      "3402/3402 [==============================] - 5s 1ms/step\n",
      "BER red neuronal : 0.00047077087007642564\n",
      "Tiempo Red Neuronal: 1174.2602560520172\n",
      "BER para snr = consY27dB => {'trad': 0.0007463440623162845, 'knn': 0.0003926917989417989, 'neural': 0.00041335978835978834}\n",
      "SNR 27dB terminado.\n",
      "----Rotación número 1. Dato consY30dB----\n",
      "\n",
      "BER-KNN 9.185773074661964e-05\n",
      "Tiempo KNN: 28.34779667854309\n",
      "3402/3402 [==============================] - 5s 1ms/step\n",
      "BER red neuronal : 7.348618459729571e-05\n",
      "Tiempo Red Neuronal: 1262.0608463287354\n",
      "----Rotación número 2. Dato consY30dB----\n",
      "\n",
      "BER-KNN 8.956128747795414e-05\n",
      "Tiempo KNN: 24.897204637527466\n",
      "3402/3402 [==============================] - 5s 1ms/step\n",
      "BER red neuronal : 0.0001240079365079365\n",
      "Tiempo Red Neuronal: 629.3352544307709\n",
      "----Rotación número 3. Dato consY30dB----\n",
      "\n",
      "BER-KNN 8.267195767195767e-05\n",
      "Tiempo KNN: 31.26522135734558\n",
      "3402/3402 [==============================] - 6s 2ms/step\n",
      "BER red neuronal : 0.00014008303938859495\n",
      "Tiempo Red Neuronal: 669.4321436882019\n",
      "----Rotación número 4. Dato consY30dB----\n",
      "\n",
      "BER-KNN 8.496840094062317e-05\n",
      "Tiempo KNN: 32.13111758232117\n",
      "3402/3402 [==============================] - 6s 2ms/step\n",
      "BER red neuronal : 0.00010563639035861258\n",
      "Tiempo Red Neuronal: 1256.0610904693604\n",
      "BER para snr = consY30dB => {'trad': 0.00024342298647854203, 'knn': 8.267195767195767e-05, 'neural': 7.348618459729571e-05}\n",
      "SNR 30dB terminado.\n",
      "----Rotación número 1. Dato consY32dB----\n",
      "\n",
      "BER-KNN 4.1335978835978834e-05\n",
      "Tiempo KNN: 27.617557764053345\n"
     ]
    },
    {
     "ename": "KeyboardInterrupt",
     "evalue": "",
     "output_type": "error",
     "traceback": [
      "\u001b[1;31m---------------------------------------------------------------------------\u001b[0m",
      "\u001b[1;31mKeyboardInterrupt\u001b[0m                         Traceback (most recent call last)",
      "Cell \u001b[1;32mIn[5], line 3\u001b[0m\n\u001b[0;32m      1\u001b[0m spacing \u001b[39m=\u001b[39m \u001b[39m\"\u001b[39m\u001b[39m18\u001b[39m\u001b[39m\"\u001b[39m\n\u001b[0;32m      2\u001b[0m X_rx \u001b[39m=\u001b[39m data[\u001b[39mf\u001b[39m\u001b[39m\"\u001b[39m\u001b[39m{\u001b[39;00mspacing\u001b[39m}\u001b[39;00m\u001b[39mGHz_spacing\u001b[39m\u001b[39m\"\u001b[39m]\n\u001b[1;32m----> 3\u001b[0m neural_vs_knn_ber18 \u001b[39m=\u001b[39m demodulation(X_rx,X_tx,\u001b[39m0.4\u001b[39;49m)\n",
      "Cell \u001b[1;32mIn[3], line 83\u001b[0m, in \u001b[0;36mdemodulation\u001b[1;34m(X_rx, X_tx, train_size)\u001b[0m\n\u001b[0;32m     81\u001b[0m loss_fn \u001b[39m=\u001b[39m tf\u001b[39m.\u001b[39mkeras\u001b[39m.\u001b[39mlosses\u001b[39m.\u001b[39mSparseCategoricalCrossentropy\n\u001b[0;32m     82\u001b[0m \u001b[39m# Demodulación para redes                   \u001b[39;00m\n\u001b[1;32m---> 83\u001b[0m neural_probs \u001b[39m=\u001b[39m sofa\u001b[39m.\u001b[39;49mdemodulate_neural(\n\u001b[0;32m     84\u001b[0m     rotated_X,\n\u001b[0;32m     85\u001b[0m     y,\n\u001b[0;32m     86\u001b[0m     layer_props_lst\u001b[39m=\u001b[39;49mlayer_props_lst,\n\u001b[0;32m     87\u001b[0m     loss_fn\u001b[39m=\u001b[39;49mloss_fn,\n\u001b[0;32m     88\u001b[0m     train_size\u001b[39m=\u001b[39;49mtrain_size,\n\u001b[0;32m     89\u001b[0m )\n\u001b[0;32m     90\u001b[0m neural \u001b[39m=\u001b[39m np\u001b[39m.\u001b[39margmax(neural_probs, axis\u001b[39m=\u001b[39m\u001b[39m1\u001b[39m)\n\u001b[0;32m     91\u001b[0m neural_ber[ph] \u001b[39m=\u001b[39m sofa\u001b[39m.\u001b[39mbit_error_rate(neural, y)[\u001b[39m0\u001b[39m]\n",
      "File \u001b[1;32md:\\Estudio\\OneDrive - Universidad de Antioquia\\Estudio\\Semillero SOFA\\Demodulacion con Redes\\sofa.py:210\u001b[0m, in \u001b[0;36mdemodulate_neural\u001b[1;34m(X_rx, sym_tx, layer_props_lst, loss_fn, train_size)\u001b[0m\n\u001b[0;32m    206\u001b[0m model \u001b[39m=\u001b[39m classifier_model(layer_props_lst, loss_fn)\n\u001b[0;32m    207\u001b[0m callback \u001b[39m=\u001b[39m tf\u001b[39m.\u001b[39mkeras\u001b[39m.\u001b[39mcallbacks\u001b[39m.\u001b[39mEarlyStopping(\n\u001b[0;32m    208\u001b[0m     monitor\u001b[39m=\u001b[39m\u001b[39m\"\u001b[39m\u001b[39mloss\u001b[39m\u001b[39m\"\u001b[39m, patience\u001b[39m=\u001b[39m\u001b[39m300\u001b[39m, mode\u001b[39m=\u001b[39m\u001b[39m\"\u001b[39m\u001b[39mmin\u001b[39m\u001b[39m\"\u001b[39m, restore_best_weights\u001b[39m=\u001b[39m\u001b[39mTrue\u001b[39;00m\n\u001b[0;32m    209\u001b[0m )\n\u001b[1;32m--> 210\u001b[0m model\u001b[39m.\u001b[39;49mfit(\n\u001b[0;32m    211\u001b[0m     X_train,\n\u001b[0;32m    212\u001b[0m     y_train,\n\u001b[0;32m    213\u001b[0m     epochs\u001b[39m=\u001b[39;49m\u001b[39m2000\u001b[39;49m,\n\u001b[0;32m    214\u001b[0m     batch_size\u001b[39m=\u001b[39;49m\u001b[39m128\u001b[39;49m,\n\u001b[0;32m    215\u001b[0m     verbose\u001b[39m=\u001b[39;49m\u001b[39m0\u001b[39;49m,\n\u001b[0;32m    216\u001b[0m     callbacks\u001b[39m=\u001b[39;49m[callback],\n\u001b[0;32m    217\u001b[0m )\n\u001b[0;32m    219\u001b[0m \u001b[39mreturn\u001b[39;00m model\u001b[39m.\u001b[39mpredict(X)\n",
      "File \u001b[1;32m~\\AppData\\Roaming\\Python\\Python310\\site-packages\\keras\\utils\\traceback_utils.py:65\u001b[0m, in \u001b[0;36mfilter_traceback.<locals>.error_handler\u001b[1;34m(*args, **kwargs)\u001b[0m\n\u001b[0;32m     63\u001b[0m filtered_tb \u001b[39m=\u001b[39m \u001b[39mNone\u001b[39;00m\n\u001b[0;32m     64\u001b[0m \u001b[39mtry\u001b[39;00m:\n\u001b[1;32m---> 65\u001b[0m     \u001b[39mreturn\u001b[39;00m fn(\u001b[39m*\u001b[39margs, \u001b[39m*\u001b[39m\u001b[39m*\u001b[39mkwargs)\n\u001b[0;32m     66\u001b[0m \u001b[39mexcept\u001b[39;00m \u001b[39mException\u001b[39;00m \u001b[39mas\u001b[39;00m e:\n\u001b[0;32m     67\u001b[0m     filtered_tb \u001b[39m=\u001b[39m _process_traceback_frames(e\u001b[39m.\u001b[39m__traceback__)\n",
      "File \u001b[1;32m~\\AppData\\Roaming\\Python\\Python310\\site-packages\\keras\\engine\\training.py:1641\u001b[0m, in \u001b[0;36mModel.fit\u001b[1;34m(self, x, y, batch_size, epochs, verbose, callbacks, validation_split, validation_data, shuffle, class_weight, sample_weight, initial_epoch, steps_per_epoch, validation_steps, validation_batch_size, validation_freq, max_queue_size, workers, use_multiprocessing)\u001b[0m\n\u001b[0;32m   1639\u001b[0m callbacks\u001b[39m.\u001b[39mon_epoch_begin(epoch)\n\u001b[0;32m   1640\u001b[0m \u001b[39mwith\u001b[39;00m data_handler\u001b[39m.\u001b[39mcatch_stop_iteration():\n\u001b[1;32m-> 1641\u001b[0m     \u001b[39mfor\u001b[39;00m step \u001b[39min\u001b[39;00m data_handler\u001b[39m.\u001b[39msteps():\n\u001b[0;32m   1642\u001b[0m         \u001b[39mwith\u001b[39;00m tf\u001b[39m.\u001b[39mprofiler\u001b[39m.\u001b[39mexperimental\u001b[39m.\u001b[39mTrace(\n\u001b[0;32m   1643\u001b[0m             \u001b[39m\"\u001b[39m\u001b[39mtrain\u001b[39m\u001b[39m\"\u001b[39m,\n\u001b[0;32m   1644\u001b[0m             epoch_num\u001b[39m=\u001b[39mepoch,\n\u001b[1;32m   (...)\u001b[0m\n\u001b[0;32m   1647\u001b[0m             _r\u001b[39m=\u001b[39m\u001b[39m1\u001b[39m,\n\u001b[0;32m   1648\u001b[0m         ):\n\u001b[0;32m   1649\u001b[0m             callbacks\u001b[39m.\u001b[39mon_train_batch_begin(step)\n",
      "File \u001b[1;32m~\\AppData\\Roaming\\Python\\Python310\\site-packages\\keras\\engine\\data_adapter.py:1371\u001b[0m, in \u001b[0;36mDataHandler.steps\u001b[1;34m(self)\u001b[0m\n\u001b[0;32m   1369\u001b[0m \u001b[39mif\u001b[39;00m \u001b[39mself\u001b[39m\u001b[39m.\u001b[39m_insufficient_data:  \u001b[39m# Set by `catch_stop_iteration`.\u001b[39;00m\n\u001b[0;32m   1370\u001b[0m     \u001b[39mbreak\u001b[39;00m\n\u001b[1;32m-> 1371\u001b[0m original_spe \u001b[39m=\u001b[39m \u001b[39mself\u001b[39;49m\u001b[39m.\u001b[39;49m_steps_per_execution\u001b[39m.\u001b[39;49mnumpy()\u001b[39m.\u001b[39mitem()\n\u001b[0;32m   1372\u001b[0m can_run_full_execution \u001b[39m=\u001b[39m (\n\u001b[0;32m   1373\u001b[0m     original_spe \u001b[39m==\u001b[39m \u001b[39m1\u001b[39m\n\u001b[0;32m   1374\u001b[0m     \u001b[39mor\u001b[39;00m \u001b[39mself\u001b[39m\u001b[39m.\u001b[39m_inferred_steps \u001b[39mis\u001b[39;00m \u001b[39mNone\u001b[39;00m\n\u001b[0;32m   1375\u001b[0m     \u001b[39mor\u001b[39;00m \u001b[39mself\u001b[39m\u001b[39m.\u001b[39m_inferred_steps \u001b[39m-\u001b[39m \u001b[39mself\u001b[39m\u001b[39m.\u001b[39m_current_step \u001b[39m>\u001b[39m\u001b[39m=\u001b[39m original_spe\n\u001b[0;32m   1376\u001b[0m )\n\u001b[0;32m   1378\u001b[0m \u001b[39mif\u001b[39;00m can_run_full_execution:\n",
      "File \u001b[1;32m~\\AppData\\Roaming\\Python\\Python310\\site-packages\\tensorflow\\python\\ops\\resource_variable_ops.py:639\u001b[0m, in \u001b[0;36mBaseResourceVariable.numpy\u001b[1;34m(self)\u001b[0m\n\u001b[0;32m    637\u001b[0m \u001b[39mdef\u001b[39;00m \u001b[39mnumpy\u001b[39m(\u001b[39mself\u001b[39m):\n\u001b[0;32m    638\u001b[0m   \u001b[39mif\u001b[39;00m context\u001b[39m.\u001b[39mexecuting_eagerly():\n\u001b[1;32m--> 639\u001b[0m     \u001b[39mreturn\u001b[39;00m \u001b[39mself\u001b[39;49m\u001b[39m.\u001b[39;49mread_value()\u001b[39m.\u001b[39mnumpy()\n\u001b[0;32m    640\u001b[0m   \u001b[39mraise\u001b[39;00m \u001b[39mNotImplementedError\u001b[39;00m(\n\u001b[0;32m    641\u001b[0m       \u001b[39m\"\u001b[39m\u001b[39mnumpy() is only available when eager execution is enabled.\u001b[39m\u001b[39m\"\u001b[39m)\n",
      "File \u001b[1;32m~\\AppData\\Roaming\\Python\\Python310\\site-packages\\tensorflow\\python\\ops\\resource_variable_ops.py:727\u001b[0m, in \u001b[0;36mBaseResourceVariable.read_value\u001b[1;34m(self)\u001b[0m\n\u001b[0;32m    718\u001b[0m \u001b[39m\u001b[39m\u001b[39m\"\"\"Constructs an op which reads the value of this variable.\u001b[39;00m\n\u001b[0;32m    719\u001b[0m \n\u001b[0;32m    720\u001b[0m \u001b[39mShould be used when there are multiple reads, or when it is desirable to\u001b[39;00m\n\u001b[1;32m   (...)\u001b[0m\n\u001b[0;32m    724\u001b[0m \u001b[39m  The value of the variable.\u001b[39;00m\n\u001b[0;32m    725\u001b[0m \u001b[39m\"\"\"\u001b[39;00m\n\u001b[0;32m    726\u001b[0m \u001b[39mwith\u001b[39;00m ops\u001b[39m.\u001b[39mname_scope(\u001b[39m\"\u001b[39m\u001b[39mRead\u001b[39m\u001b[39m\"\u001b[39m):\n\u001b[1;32m--> 727\u001b[0m   value \u001b[39m=\u001b[39m \u001b[39mself\u001b[39;49m\u001b[39m.\u001b[39;49m_read_variable_op()\n\u001b[0;32m    728\u001b[0m \u001b[39m# Return an identity so it can get placed on whatever device the context\u001b[39;00m\n\u001b[0;32m    729\u001b[0m \u001b[39m# specifies instead of the device where the variable is.\u001b[39;00m\n\u001b[0;32m    730\u001b[0m \u001b[39mreturn\u001b[39;00m array_ops\u001b[39m.\u001b[39midentity(value)\n",
      "File \u001b[1;32m~\\AppData\\Roaming\\Python\\Python310\\site-packages\\tensorflow\\python\\ops\\resource_variable_ops.py:706\u001b[0m, in \u001b[0;36mBaseResourceVariable._read_variable_op\u001b[1;34m(self, no_copy)\u001b[0m\n\u001b[0;32m    704\u001b[0m       result \u001b[39m=\u001b[39m read_and_set_handle(no_copy)\n\u001b[0;32m    705\u001b[0m \u001b[39melse\u001b[39;00m:\n\u001b[1;32m--> 706\u001b[0m   result \u001b[39m=\u001b[39m read_and_set_handle(no_copy)\n\u001b[0;32m    708\u001b[0m \u001b[39mif\u001b[39;00m \u001b[39mnot\u001b[39;00m context\u001b[39m.\u001b[39mexecuting_eagerly():\n\u001b[0;32m    709\u001b[0m   \u001b[39m# Note that if a control flow context is active the input of the read op\u001b[39;00m\n\u001b[0;32m    710\u001b[0m   \u001b[39m# might not actually be the handle. This line bypasses it.\u001b[39;00m\n\u001b[0;32m    711\u001b[0m   tape\u001b[39m.\u001b[39mrecord_operation(\n\u001b[0;32m    712\u001b[0m       \u001b[39m\"\u001b[39m\u001b[39mReadVariableOp\u001b[39m\u001b[39m\"\u001b[39m, [result], [\u001b[39mself\u001b[39m\u001b[39m.\u001b[39mhandle],\n\u001b[0;32m    713\u001b[0m       backward_function\u001b[39m=\u001b[39m\u001b[39mlambda\u001b[39;00m x: [x],\n\u001b[0;32m    714\u001b[0m       forward_function\u001b[39m=\u001b[39m\u001b[39mlambda\u001b[39;00m x: [x])\n",
      "File \u001b[1;32m~\\AppData\\Roaming\\Python\\Python310\\site-packages\\tensorflow\\python\\ops\\resource_variable_ops.py:696\u001b[0m, in \u001b[0;36mBaseResourceVariable._read_variable_op.<locals>.read_and_set_handle\u001b[1;34m(no_copy)\u001b[0m\n\u001b[0;32m    694\u001b[0m \u001b[39mif\u001b[39;00m no_copy \u001b[39mand\u001b[39;00m forward_compat\u001b[39m.\u001b[39mforward_compatible(\u001b[39m2022\u001b[39m, \u001b[39m5\u001b[39m, \u001b[39m3\u001b[39m):\n\u001b[0;32m    695\u001b[0m   gen_resource_variable_ops\u001b[39m.\u001b[39mdisable_copy_on_read(\u001b[39mself\u001b[39m\u001b[39m.\u001b[39mhandle)\n\u001b[1;32m--> 696\u001b[0m result \u001b[39m=\u001b[39m gen_resource_variable_ops\u001b[39m.\u001b[39;49mread_variable_op(\n\u001b[0;32m    697\u001b[0m     \u001b[39mself\u001b[39;49m\u001b[39m.\u001b[39;49mhandle, \u001b[39mself\u001b[39;49m\u001b[39m.\u001b[39;49m_dtype)\n\u001b[0;32m    698\u001b[0m _maybe_set_handle_data(\u001b[39mself\u001b[39m\u001b[39m.\u001b[39m_dtype, \u001b[39mself\u001b[39m\u001b[39m.\u001b[39mhandle, result)\n\u001b[0;32m    699\u001b[0m \u001b[39mreturn\u001b[39;00m result\n",
      "File \u001b[1;32m~\\AppData\\Roaming\\Python\\Python310\\site-packages\\tensorflow\\python\\ops\\gen_resource_variable_ops.py:580\u001b[0m, in \u001b[0;36mread_variable_op\u001b[1;34m(resource, dtype, name)\u001b[0m\n\u001b[0;32m    578\u001b[0m \u001b[39mif\u001b[39;00m tld\u001b[39m.\u001b[39mis_eager:\n\u001b[0;32m    579\u001b[0m   \u001b[39mtry\u001b[39;00m:\n\u001b[1;32m--> 580\u001b[0m     _result \u001b[39m=\u001b[39m pywrap_tfe\u001b[39m.\u001b[39;49mTFE_Py_FastPathExecute(\n\u001b[0;32m    581\u001b[0m       _ctx, \u001b[39m\"\u001b[39;49m\u001b[39mReadVariableOp\u001b[39;49m\u001b[39m\"\u001b[39;49m, name, resource, \u001b[39m\"\u001b[39;49m\u001b[39mdtype\u001b[39;49m\u001b[39m\"\u001b[39;49m, dtype)\n\u001b[0;32m    582\u001b[0m     \u001b[39mreturn\u001b[39;00m _result\n\u001b[0;32m    583\u001b[0m   \u001b[39mexcept\u001b[39;00m _core\u001b[39m.\u001b[39m_NotOkStatusException \u001b[39mas\u001b[39;00m e:\n",
      "\u001b[1;31mKeyboardInterrupt\u001b[0m: "
     ]
    }
   ],
   "source": [
    "spacing = \"18\"\n",
    "X_rx = data[f\"{spacing}GHz_spacing\"]\n",
    "neural_vs_knn_ber18 = demodulation(X_rx,X_tx,0.4)"
   ]
  },
  {
   "attachments": {},
   "cell_type": "markdown",
   "id": "01220453",
   "metadata": {},
   "source": [
    "### 5000 epochs, batch_size 64"
   ]
  },
  {
   "cell_type": "code",
   "execution_count": 24,
   "id": "66e2afc7",
   "metadata": {},
   "outputs": [
    {
     "name": "stdout",
     "output_type": "stream",
     "text": [
      "----Rotación número 1. Dato consY25dB----\n",
      "\n",
      "BER-KNN 0.0012745260141093474\n",
      "Tiempo KNN: 62.223000049591064\n",
      "3402/3402 [==============================] - 8s 2ms/step\n",
      "BER red neuronal : 0.0015615814226925338\n",
      "Tiempo Red Neuronal: 3668.5465655326843\n",
      "----Rotación número 2. Dato consY25dB----\n",
      "\n",
      "BER-KNN 0.001244672251616696\n",
      "Tiempo KNN: 42.95404314994812\n",
      "3402/3402 [==============================] - 7s 2ms/step\n",
      "BER red neuronal : 0.001357197971781305\n",
      "Tiempo Red Neuronal: 3321.104240655899\n",
      "----Rotación número 3. Dato consY25dB----\n",
      "\n",
      "BER-KNN 0.001272229570840682\n",
      "Tiempo KNN: 42.479342460632324\n",
      "3402/3402 [==============================] - 7s 2ms/step\n",
      "BER red neuronal : 0.0013962375073486185\n",
      "Tiempo Red Neuronal: 2583.123237133026\n",
      "----Rotación número 4. Dato consY25dB----\n",
      "\n",
      "BER-KNN 0.0012217078189300412\n",
      "Tiempo KNN: 42.39050769805908\n",
      "3402/3402 [==============================] - 7s 2ms/step\n",
      "BER red neuronal : 0.0013503086419753086\n",
      "Tiempo Red Neuronal: 4228.946703910828\n",
      "BER para snr = consY25dB => {'trad': 0.0019542732216343327, 'knn': 0.0012217078189300412, 'neural': 0.0013503086419753086}\n",
      "SNR 25dB terminado.\n",
      "----Rotación número 1. Dato consY27dB----\n",
      "\n",
      "BER-KNN 0.00040647045855379186\n",
      "Tiempo KNN: 42.495654821395874\n"
     ]
    }
   ],
   "source": [
    "spacing = \"18\"\n",
    "X_rx = data[f\"{spacing}GHz_spacing\"]\n",
    "neural_vs_knn_ber18 = demodulation(X_rx,X_tx,0.4)"
   ]
  },
  {
   "cell_type": "code",
   "execution_count": 30,
   "id": "8faafaf5",
   "metadata": {},
   "outputs": [
    {
     "data": {
      "text/plain": [
       "{'consY40dB': {'trad': 5.741108171663727e-05,\n",
       "  'knn': 1.8371546149323927e-05,\n",
       "  'neural': 2.296443268665491e-05}}"
      ]
     },
     "execution_count": 30,
     "metadata": {},
     "output_type": "execute_result"
    }
   ],
   "source": [
    "neural_vs_knn_ber18"
   ]
  },
  {
   "cell_type": "code",
   "execution_count": 21,
   "id": "1dfb2cea",
   "metadata": {},
   "outputs": [
    {
     "name": "stdout",
     "output_type": "stream",
     "text": [
      "Stored 'neural_vs_knn_ber18' (dict)\n",
      "Evaluación de la red neuronal con respecto a KNN para espaciamiento de 18 GHz\n"
     ]
    },
    {
     "ename": "AttributeError",
     "evalue": "'NoneType' object has no attribute 'get'",
     "output_type": "error",
     "traceback": [
      "\u001b[1;31m---------------------------------------------------------------------------\u001b[0m",
      "\u001b[1;31mAttributeError\u001b[0m                            Traceback (most recent call last)",
      "Cell \u001b[1;32mIn[21], line 9\u001b[0m\n\u001b[0;32m      4\u001b[0m neural_vs_knn_ber18 \u001b[39m=\u001b[39m calc_once(\u001b[39mf\u001b[39m\u001b[39m\"\u001b[39m\u001b[39mneural_vs_knn_ber\u001b[39m\u001b[39m{\u001b[39;00mspacing\u001b[39m.\u001b[39mreplace(\u001b[39m'\u001b[39m\u001b[39m.\u001b[39m\u001b[39m'\u001b[39m,\u001b[39m \u001b[39m\u001b[39m'\u001b[39m\u001b[39m_\u001b[39m\u001b[39m'\u001b[39m)\u001b[39m}\u001b[39;00m\u001b[39m\"\u001b[39m, \n\u001b[0;32m      5\u001b[0m                                 demodulation, {\u001b[39m\"\u001b[39m\u001b[39mX_rx\u001b[39m\u001b[39m\"\u001b[39m: X_rx, \u001b[39m\"\u001b[39m\u001b[39mX_tx\u001b[39m\u001b[39m\"\u001b[39m: X_tx, \u001b[39m\"\u001b[39m\u001b[39mtrain_size\u001b[39m\u001b[39m\"\u001b[39m: \u001b[39m0.4\u001b[39m})\n\u001b[0;32m      7\u001b[0m get_ipython()\u001b[39m.\u001b[39mrun_line_magic(\u001b[39m'\u001b[39m\u001b[39mstore\u001b[39m\u001b[39m'\u001b[39m, \u001b[39m'\u001b[39m\u001b[39mneural_vs_knn_ber18\u001b[39m\u001b[39m'\u001b[39m)\n\u001b[1;32m----> 9\u001b[0m spacing_ber_eval(neural_vs_knn_ber18, spacing)\n",
      "Cell \u001b[1;32mIn[18], line 142\u001b[0m, in \u001b[0;36mspacing_ber_eval\u001b[1;34m(ber, spacing)\u001b[0m\n\u001b[0;32m    138\u001b[0m get_ber \u001b[39m=\u001b[39m \u001b[39mlambda\u001b[39;00m algorithm: [\n\u001b[0;32m    139\u001b[0m     np\u001b[39m.\u001b[39mlog10(ber\u001b[39m.\u001b[39mget(\u001b[39mf\u001b[39m\u001b[39m\"\u001b[39m\u001b[39mconsY\u001b[39m\u001b[39m{\u001b[39;00msnr_i\u001b[39m}\u001b[39;00m\u001b[39mdB\u001b[39m\u001b[39m\"\u001b[39m)\u001b[39m.\u001b[39mget(algorithm)) \u001b[39mfor\u001b[39;00m snr_i \u001b[39min\u001b[39;00m SNR\n\u001b[0;32m    140\u001b[0m ]\n\u001b[0;32m    141\u001b[0m \u001b[39m#Calcula el ber para cada tipo de demodulación\u001b[39;00m\n\u001b[1;32m--> 142\u001b[0m tBER \u001b[39m=\u001b[39m get_ber(\u001b[39m\"\u001b[39;49m\u001b[39mtrad\u001b[39;49m\u001b[39m\"\u001b[39;49m)\n\u001b[0;32m    143\u001b[0m kBER \u001b[39m=\u001b[39m get_ber(\u001b[39m\"\u001b[39m\u001b[39mknn\u001b[39m\u001b[39m\"\u001b[39m)\n\u001b[0;32m    144\u001b[0m nBER \u001b[39m=\u001b[39m get_ber(\u001b[39m\"\u001b[39m\u001b[39mneural\u001b[39m\u001b[39m\"\u001b[39m)\n",
      "Cell \u001b[1;32mIn[18], line 138\u001b[0m, in \u001b[0;36mspacing_ber_eval.<locals>.<lambda>\u001b[1;34m(algorithm)\u001b[0m\n\u001b[0;32m    134\u001b[0m SNR \u001b[39m=\u001b[39m [snr[\u001b[39m5\u001b[39m:\u001b[39m-\u001b[39m\u001b[39m2\u001b[39m] \u001b[39mfor\u001b[39;00m snr \u001b[39min\u001b[39;00m \u001b[39mlist\u001b[39m(data[\u001b[39mf\u001b[39m\u001b[39m\"\u001b[39m\u001b[39m{\u001b[39;00mspacing\u001b[39m}\u001b[39;00m\u001b[39mGHz_spacing\u001b[39m\u001b[39m\"\u001b[39m]\u001b[39m.\u001b[39mkeys())]\n\u001b[0;32m    136\u001b[0m SNR\u001b[39m.\u001b[39msort()\n\u001b[1;32m--> 138\u001b[0m get_ber \u001b[39m=\u001b[39m \u001b[39mlambda\u001b[39;00m algorithm: [\n\u001b[0;32m    139\u001b[0m     np\u001b[39m.\u001b[39mlog10(ber\u001b[39m.\u001b[39mget(\u001b[39mf\u001b[39m\u001b[39m\"\u001b[39m\u001b[39mconsY\u001b[39m\u001b[39m{\u001b[39;00msnr_i\u001b[39m}\u001b[39;00m\u001b[39mdB\u001b[39m\u001b[39m\"\u001b[39m)\u001b[39m.\u001b[39mget(algorithm)) \u001b[39mfor\u001b[39;00m snr_i \u001b[39min\u001b[39;00m SNR\n\u001b[0;32m    140\u001b[0m ]\n\u001b[0;32m    141\u001b[0m \u001b[39m#Calcula el ber para cada tipo de demodulación\u001b[39;00m\n\u001b[0;32m    142\u001b[0m tBER \u001b[39m=\u001b[39m get_ber(\u001b[39m\"\u001b[39m\u001b[39mtrad\u001b[39m\u001b[39m\"\u001b[39m)\n",
      "Cell \u001b[1;32mIn[18], line 139\u001b[0m, in \u001b[0;36m<listcomp>\u001b[1;34m(.0)\u001b[0m\n\u001b[0;32m    134\u001b[0m SNR \u001b[39m=\u001b[39m [snr[\u001b[39m5\u001b[39m:\u001b[39m-\u001b[39m\u001b[39m2\u001b[39m] \u001b[39mfor\u001b[39;00m snr \u001b[39min\u001b[39;00m \u001b[39mlist\u001b[39m(data[\u001b[39mf\u001b[39m\u001b[39m\"\u001b[39m\u001b[39m{\u001b[39;00mspacing\u001b[39m}\u001b[39;00m\u001b[39mGHz_spacing\u001b[39m\u001b[39m\"\u001b[39m]\u001b[39m.\u001b[39mkeys())]\n\u001b[0;32m    136\u001b[0m SNR\u001b[39m.\u001b[39msort()\n\u001b[0;32m    138\u001b[0m get_ber \u001b[39m=\u001b[39m \u001b[39mlambda\u001b[39;00m algorithm: [\n\u001b[1;32m--> 139\u001b[0m     np\u001b[39m.\u001b[39mlog10(ber\u001b[39m.\u001b[39;49mget(\u001b[39mf\u001b[39;49m\u001b[39m\"\u001b[39;49m\u001b[39mconsY\u001b[39;49m\u001b[39m{\u001b[39;49;00msnr_i\u001b[39m}\u001b[39;49;00m\u001b[39mdB\u001b[39;49m\u001b[39m\"\u001b[39;49m)\u001b[39m.\u001b[39;49mget(algorithm)) \u001b[39mfor\u001b[39;00m snr_i \u001b[39min\u001b[39;00m SNR\n\u001b[0;32m    140\u001b[0m ]\n\u001b[0;32m    141\u001b[0m \u001b[39m#Calcula el ber para cada tipo de demodulación\u001b[39;00m\n\u001b[0;32m    142\u001b[0m tBER \u001b[39m=\u001b[39m get_ber(\u001b[39m\"\u001b[39m\u001b[39mtrad\u001b[39m\u001b[39m\"\u001b[39m)\n",
      "\u001b[1;31mAttributeError\u001b[0m: 'NoneType' object has no attribute 'get'"
     ]
    }
   ],
   "source": [
    "spacing = \"18\"\n",
    "X_rx = data[f\"{spacing}GHz_spacing\"]\n",
    "\n",
    "neural_vs_knn_ber18 = calc_once(f\"neural_vs_knn_ber{spacing.replace('.', '_')}\", \n",
    "                                demodulation, {\"X_rx\": X_rx, \"X_tx\": X_tx, \"train_size\": 0.4})\n",
    "\n",
    "%store neural_vs_knn_ber18\n",
    "\n",
    "spacing_ber_eval(neural_vs_knn_ber18, spacing)"
   ]
  },
  {
   "cell_type": "code",
   "execution_count": 8,
   "id": "19adb319-225d-4413-a593-dd87bb3b6fdd",
   "metadata": {
    "tags": []
   },
   "outputs": [
    {
     "name": "stdout",
     "output_type": "stream",
     "text": [
      "Evaluación de la red neuronal con respecto a KNN para espaciamiento de 18 GHz\n"
     ]
    },
    {
     "ename": "AttributeError",
     "evalue": "'NoneType' object has no attribute 'get'",
     "output_type": "error",
     "traceback": [
      "\u001b[1;31m---------------------------------------------------------------------------\u001b[0m",
      "\u001b[1;31mAttributeError\u001b[0m                            Traceback (most recent call last)",
      "Cell \u001b[1;32mIn[8], line 9\u001b[0m\n\u001b[0;32m      4\u001b[0m neural_vs_knn_ber18 \u001b[39m=\u001b[39m calc_once(\u001b[39mf\u001b[39m\u001b[39m\"\u001b[39m\u001b[39mneural_vs_knn_ber\u001b[39m\u001b[39m{\u001b[39;00mspacing\u001b[39m.\u001b[39mreplace(\u001b[39m'\u001b[39m\u001b[39m.\u001b[39m\u001b[39m'\u001b[39m,\u001b[39m \u001b[39m\u001b[39m'\u001b[39m\u001b[39m_\u001b[39m\u001b[39m'\u001b[39m)\u001b[39m}\u001b[39;00m\u001b[39m\"\u001b[39m, \n\u001b[0;32m      5\u001b[0m                                 demodulation, {\u001b[39m\"\u001b[39m\u001b[39mX_rx\u001b[39m\u001b[39m\"\u001b[39m: X_rx, \u001b[39m\"\u001b[39m\u001b[39mX_tx\u001b[39m\u001b[39m\"\u001b[39m: X_tx, \u001b[39m\"\u001b[39m\u001b[39mtrain_size\u001b[39m\u001b[39m\"\u001b[39m: \u001b[39m0.4\u001b[39m})\n\u001b[0;32m      7\u001b[0m \u001b[39m#%store neural_vs_knn_ber18\u001b[39;00m\n\u001b[1;32m----> 9\u001b[0m spacing_ber_eval(neural_vs_knn_ber18, spacing)\n",
      "Cell \u001b[1;32mIn[4], line 142\u001b[0m, in \u001b[0;36mspacing_ber_eval\u001b[1;34m(ber, spacing)\u001b[0m\n\u001b[0;32m    138\u001b[0m get_ber \u001b[39m=\u001b[39m \u001b[39mlambda\u001b[39;00m algorithm: [\n\u001b[0;32m    139\u001b[0m     np\u001b[39m.\u001b[39mlog10(ber\u001b[39m.\u001b[39mget(\u001b[39mf\u001b[39m\u001b[39m\"\u001b[39m\u001b[39mconsY\u001b[39m\u001b[39m{\u001b[39;00msnr_i\u001b[39m}\u001b[39;00m\u001b[39mdB\u001b[39m\u001b[39m\"\u001b[39m)\u001b[39m.\u001b[39mget(algorithm)) \u001b[39mfor\u001b[39;00m snr_i \u001b[39min\u001b[39;00m SNR\n\u001b[0;32m    140\u001b[0m ]\n\u001b[0;32m    141\u001b[0m \u001b[39m#Calcula el ber para cada tipo de demodulación\u001b[39;00m\n\u001b[1;32m--> 142\u001b[0m tBER \u001b[39m=\u001b[39m get_ber(\u001b[39m\"\u001b[39;49m\u001b[39mtrad\u001b[39;49m\u001b[39m\"\u001b[39;49m)\n\u001b[0;32m    143\u001b[0m kBER \u001b[39m=\u001b[39m get_ber(\u001b[39m\"\u001b[39m\u001b[39mknn\u001b[39m\u001b[39m\"\u001b[39m)\n\u001b[0;32m    144\u001b[0m nBER \u001b[39m=\u001b[39m get_ber(\u001b[39m\"\u001b[39m\u001b[39mneural\u001b[39m\u001b[39m\"\u001b[39m)\n",
      "Cell \u001b[1;32mIn[4], line 138\u001b[0m, in \u001b[0;36mspacing_ber_eval.<locals>.<lambda>\u001b[1;34m(algorithm)\u001b[0m\n\u001b[0;32m    134\u001b[0m SNR \u001b[39m=\u001b[39m [snr[\u001b[39m5\u001b[39m:\u001b[39m-\u001b[39m\u001b[39m2\u001b[39m] \u001b[39mfor\u001b[39;00m snr \u001b[39min\u001b[39;00m \u001b[39mlist\u001b[39m(data[\u001b[39mf\u001b[39m\u001b[39m\"\u001b[39m\u001b[39m{\u001b[39;00mspacing\u001b[39m}\u001b[39;00m\u001b[39mGHz_spacing\u001b[39m\u001b[39m\"\u001b[39m]\u001b[39m.\u001b[39mkeys())]\n\u001b[0;32m    136\u001b[0m SNR\u001b[39m.\u001b[39msort()\n\u001b[1;32m--> 138\u001b[0m get_ber \u001b[39m=\u001b[39m \u001b[39mlambda\u001b[39;00m algorithm: [\n\u001b[0;32m    139\u001b[0m     np\u001b[39m.\u001b[39mlog10(ber\u001b[39m.\u001b[39mget(\u001b[39mf\u001b[39m\u001b[39m\"\u001b[39m\u001b[39mconsY\u001b[39m\u001b[39m{\u001b[39;00msnr_i\u001b[39m}\u001b[39;00m\u001b[39mdB\u001b[39m\u001b[39m\"\u001b[39m)\u001b[39m.\u001b[39mget(algorithm)) \u001b[39mfor\u001b[39;00m snr_i \u001b[39min\u001b[39;00m SNR\n\u001b[0;32m    140\u001b[0m ]\n\u001b[0;32m    141\u001b[0m \u001b[39m#Calcula el ber para cada tipo de demodulación\u001b[39;00m\n\u001b[0;32m    142\u001b[0m tBER \u001b[39m=\u001b[39m get_ber(\u001b[39m\"\u001b[39m\u001b[39mtrad\u001b[39m\u001b[39m\"\u001b[39m)\n",
      "Cell \u001b[1;32mIn[4], line 139\u001b[0m, in \u001b[0;36m<listcomp>\u001b[1;34m(.0)\u001b[0m\n\u001b[0;32m    134\u001b[0m SNR \u001b[39m=\u001b[39m [snr[\u001b[39m5\u001b[39m:\u001b[39m-\u001b[39m\u001b[39m2\u001b[39m] \u001b[39mfor\u001b[39;00m snr \u001b[39min\u001b[39;00m \u001b[39mlist\u001b[39m(data[\u001b[39mf\u001b[39m\u001b[39m\"\u001b[39m\u001b[39m{\u001b[39;00mspacing\u001b[39m}\u001b[39;00m\u001b[39mGHz_spacing\u001b[39m\u001b[39m\"\u001b[39m]\u001b[39m.\u001b[39mkeys())]\n\u001b[0;32m    136\u001b[0m SNR\u001b[39m.\u001b[39msort()\n\u001b[0;32m    138\u001b[0m get_ber \u001b[39m=\u001b[39m \u001b[39mlambda\u001b[39;00m algorithm: [\n\u001b[1;32m--> 139\u001b[0m     np\u001b[39m.\u001b[39mlog10(ber\u001b[39m.\u001b[39;49mget(\u001b[39mf\u001b[39;49m\u001b[39m\"\u001b[39;49m\u001b[39mconsY\u001b[39;49m\u001b[39m{\u001b[39;49;00msnr_i\u001b[39m}\u001b[39;49;00m\u001b[39mdB\u001b[39;49m\u001b[39m\"\u001b[39;49m)\u001b[39m.\u001b[39;49mget(algorithm)) \u001b[39mfor\u001b[39;00m snr_i \u001b[39min\u001b[39;00m SNR\n\u001b[0;32m    140\u001b[0m ]\n\u001b[0;32m    141\u001b[0m \u001b[39m#Calcula el ber para cada tipo de demodulación\u001b[39;00m\n\u001b[0;32m    142\u001b[0m tBER \u001b[39m=\u001b[39m get_ber(\u001b[39m\"\u001b[39m\u001b[39mtrad\u001b[39m\u001b[39m\"\u001b[39m)\n",
      "\u001b[1;31mAttributeError\u001b[0m: 'NoneType' object has no attribute 'get'"
     ]
    }
   ],
   "source": [
    "spacing = \"18\"\n",
    "X_rx = data[f\"{spacing}GHz_spacing\"]\n",
    "\n",
    "neural_vs_knn_ber18 = calc_once(f\"neural_vs_knn_ber{spacing.replace('.', '_')}\", \n",
    "                                demodulation, {\"X_rx\": X_rx, \"X_tx\": X_tx, \"train_size\": 0.4})\n",
    "\n",
    "#%store neural_vs_knn_ber18\n",
    "\n",
    "spacing_ber_eval(neural_vs_knn_ber18, spacing)"
   ]
  },
  {
   "cell_type": "code",
   "execution_count": null,
   "id": "d94fd5e7-eb6b-490c-9ff4-6ecacb88718e",
   "metadata": {
    "tags": []
   },
   "outputs": [],
   "source": [
    "a = X_rx['consY35dB'].get(\"const_Y\").flatten()"
   ]
  },
  {
   "cell_type": "code",
   "execution_count": null,
   "id": "7e0c32cb-c6d0-467d-839c-7cdd2a2c9c80",
   "metadata": {},
   "outputs": [
    {
     "data": {
      "text/plain": [
       "2"
      ]
     },
     "execution_count": 19,
     "metadata": {},
     "output_type": "execute_result"
    }
   ],
   "source": [
    "np.array([a.real, a.imag]).T.shape[1]"
   ]
  },
  {
   "attachments": {},
   "cell_type": "markdown",
   "id": "5c92d196",
   "metadata": {},
   "source": [
    "# Espaciamiento de 17.6 GHz"
   ]
  },
  {
   "cell_type": "code",
   "execution_count": null,
   "id": "5b24bfaf-fb8a-4777-b08e-6eb5a77d1623",
   "metadata": {},
   "outputs": [],
   "source": []
  }
 ],
 "metadata": {
  "kernelspec": {
   "display_name": "Python 3 (ipykernel)",
   "language": "python",
   "name": "python3"
  },
  "language_info": {
   "codemirror_mode": {
    "name": "ipython",
    "version": 3
   },
   "file_extension": ".py",
   "mimetype": "text/x-python",
   "name": "python",
   "nbconvert_exporter": "python",
   "pygments_lexer": "ipython3",
   "version": "3.10.0"
  }
 },
 "nbformat": 4,
 "nbformat_minor": 5
}
