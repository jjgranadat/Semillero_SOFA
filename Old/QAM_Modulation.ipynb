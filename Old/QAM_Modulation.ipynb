{
  "cells": [
    {
      "cell_type": "markdown",
      "metadata": {
        "id": "view-in-github",
        "colab_type": "text"
      },
      "source": [
        "<a href=\"https://colab.research.google.com/github/jjgranadat/Semillero_SOFA/blob/main/QAM_Modulation.ipynb\" target=\"_parent\"><img src=\"https://colab.research.google.com/assets/colab-badge.svg\" alt=\"Open In Colab\"/></a>"
      ]
    },
    {
      "cell_type": "code",
      "execution_count": null,
      "id": "b9971a29",
      "metadata": {
        "id": "b9971a29"
      },
      "outputs": [],
      "source": [
        "import pandas as pd\n",
        "import numpy as np\n",
        "import matplotlib.pyplot as plt\n",
        "import matplotlib.image as mpimg"
      ]
    },
    {
      "cell_type": "markdown",
      "id": "b9a104b5",
      "metadata": {
        "id": "b9a104b5"
      },
      "source": [
        "## Generación de secuencia de símbolos"
      ]
    },
    {
      "cell_type": "code",
      "execution_count": null,
      "id": "442abfd3",
      "metadata": {
        "id": "442abfd3",
        "outputId": "4f1f5f0f-e780-49db-970e-2639d1f58258"
      },
      "outputs": [
        {
          "name": "stdout",
          "output_type": "stream",
          "text": [
            "[ 2 10  0 ... 12  4  5]\n"
          ]
        },
        {
          "data": {
            "text/html": [
              "<div>\n",
              "<style scoped>\n",
              "    .dataframe tbody tr th:only-of-type {\n",
              "        vertical-align: middle;\n",
              "    }\n",
              "\n",
              "    .dataframe tbody tr th {\n",
              "        vertical-align: top;\n",
              "    }\n",
              "\n",
              "    .dataframe thead th {\n",
              "        text-align: right;\n",
              "    }\n",
              "</style>\n",
              "<table border=\"1\" class=\"dataframe\">\n",
              "  <thead>\n",
              "    <tr style=\"text-align: right;\">\n",
              "      <th></th>\n",
              "      <th>0</th>\n",
              "    </tr>\n",
              "  </thead>\n",
              "  <tbody>\n",
              "    <tr>\n",
              "      <th>0</th>\n",
              "      <td>2</td>\n",
              "    </tr>\n",
              "    <tr>\n",
              "      <th>1</th>\n",
              "      <td>10</td>\n",
              "    </tr>\n",
              "    <tr>\n",
              "      <th>2</th>\n",
              "      <td>0</td>\n",
              "    </tr>\n",
              "    <tr>\n",
              "      <th>3</th>\n",
              "      <td>13</td>\n",
              "    </tr>\n",
              "    <tr>\n",
              "      <th>4</th>\n",
              "      <td>2</td>\n",
              "    </tr>\n",
              "  </tbody>\n",
              "</table>\n",
              "</div>"
            ],
            "text/plain": [
              "    0\n",
              "0   2\n",
              "1  10\n",
              "2   0\n",
              "3  13\n",
              "4   2"
            ]
          },
          "execution_count": 2,
          "metadata": {},
          "output_type": "execute_result"
        }
      ],
      "source": [
        "Ns= 10000\n",
        "Mod=16 #16QAM\n",
        "Symbols_tx = np.random.randint(Mod, size=Ns)\n",
        "df_sym_tx= pd.DataFrame(Symbols_tx)\n",
        "print(Symbols_tx)\n",
        "df_sym_tx.head()"
      ]
    },
    {
      "cell_type": "markdown",
      "id": "b52cd584",
      "metadata": {
        "id": "b52cd584"
      },
      "source": [
        "## Modulación 16QAM"
      ]
    },
    {
      "cell_type": "code",
      "execution_count": null,
      "id": "f880e7c8",
      "metadata": {
        "id": "f880e7c8",
        "outputId": "16ab1125-9adb-4acd-94e2-f168435f6970"
      },
      "outputs": [
        {
          "data": {
            "text/plain": [
              "<matplotlib.image.AxesImage at 0x19127cb0648>"
            ]
          },
          "execution_count": 3,
          "metadata": {},
          "output_type": "execute_result"
        },
        {
          "data": {
            "image/png": "[encoded data removed]",
            "text/plain": [
              "<Figure size 432x288 with 1 Axes>"
            ]
          },
          "metadata": {
            "needs_background": "light"
          },
          "output_type": "display_data"
        }
      ],
      "source": [
        "image = mpimg.imread(\"16QAM_GC.png\")\n",
        "plt.imshow(image)"
      ]
    },
    {
      "cell_type": "code",
      "execution_count": null,
      "id": "166dde64",
      "metadata": {
        "id": "166dde64"
      },
      "outputs": [],
      "source": [
        "mod_dict = {0:-3+3j, #0000\n",
        "            1:-3+1j, #0001\n",
        "            2:-3-3j, #0010\n",
        "            3:-3-1j, #0011\n",
        "            4:-1+3j, #0100\n",
        "            5:-1+1j, #0101\n",
        "            6:-1-3j, #0110\n",
        "            7:-1-1j, #0111\n",
        "            8:3+3j, #1000\n",
        "            9:3+1j, #1001\n",
        "            10:3-3j, #1010\n",
        "            11:3-1j, #1011\n",
        "            12:1+3j, #1100\n",
        "            13:1+1j, #1101\n",
        "            14:1-3j, #1110\n",
        "            15:1-1j} #1111"
      ]
    },
    {
      "cell_type": "code",
      "execution_count": null,
      "id": "a4400292",
      "metadata": {
        "id": "a4400292",
        "outputId": "863e9e40-1063-4bf1-bf39-3f77ca939b15"
      },
      "outputs": [
        {
          "data": {
            "text/html": [
              "<div>\n",
              "<style scoped>\n",
              "    .dataframe tbody tr th:only-of-type {\n",
              "        vertical-align: middle;\n",
              "    }\n",
              "\n",
              "    .dataframe tbody tr th {\n",
              "        vertical-align: top;\n",
              "    }\n",
              "\n",
              "    .dataframe thead th {\n",
              "        text-align: right;\n",
              "    }\n",
              "</style>\n",
              "<table border=\"1\" class=\"dataframe\">\n",
              "  <thead>\n",
              "    <tr style=\"text-align: right;\">\n",
              "      <th></th>\n",
              "      <th>0</th>\n",
              "    </tr>\n",
              "  </thead>\n",
              "  <tbody>\n",
              "    <tr>\n",
              "      <th>0</th>\n",
              "      <td>-3.0-3.0j</td>\n",
              "    </tr>\n",
              "    <tr>\n",
              "      <th>1</th>\n",
              "      <td>3.0-3.0j</td>\n",
              "    </tr>\n",
              "    <tr>\n",
              "      <th>2</th>\n",
              "      <td>-3.0+3.0j</td>\n",
              "    </tr>\n",
              "    <tr>\n",
              "      <th>3</th>\n",
              "      <td>1.0+1.0j</td>\n",
              "    </tr>\n",
              "    <tr>\n",
              "      <th>4</th>\n",
              "      <td>-3.0-3.0j</td>\n",
              "    </tr>\n",
              "  </tbody>\n",
              "</table>\n",
              "</div>"
            ],
            "text/plain": [
              "          0\n",
              "0 -3.0-3.0j\n",
              "1  3.0-3.0j\n",
              "2 -3.0+3.0j\n",
              "3  1.0+1.0j\n",
              "4 -3.0-3.0j"
            ]
          },
          "execution_count": 5,
          "metadata": {},
          "output_type": "execute_result"
        }
      ],
      "source": [
        "#Modulación reemplazando símbolos por valores complejos (opción 1)\n",
        "df_sym_mod = df_sym_tx.replace(mod_dict)\n",
        "df_sym_mod.head()"
      ]
    },
    {
      "cell_type": "code",
      "execution_count": null,
      "id": "8b6ae141",
      "metadata": {
        "id": "8b6ae141",
        "outputId": "0a983b1c-67ce-45d4-e149-04e1c44598f2"
      },
      "outputs": [
        {
          "data": {
            "text/plain": [
              "0    -3.0-3.0j\n",
              "1     3.0-3.0j\n",
              "2    -3.0+3.0j\n",
              "3     1.0+1.0j\n",
              "4    -3.0-3.0j\n",
              "5    -3.0-1.0j\n",
              "6    -3.0+1.0j\n",
              "7     1.0-3.0j\n",
              "8     1.0-3.0j\n",
              "9     3.0-1.0j\n",
              "10   -1.0-3.0j\n",
              "11    3.0-3.0j\n",
              "12    1.0+3.0j\n",
              "13   -3.0+1.0j\n",
              "14    3.0-1.0j\n",
              "15   -3.0-3.0j\n",
              "16   -3.0-3.0j\n",
              "17    1.0+3.0j\n",
              "18   -3.0-1.0j\n",
              "19   -1.0+3.0j\n",
              "Name: 0, dtype: complex128"
            ]
          },
          "execution_count": 6,
          "metadata": {},
          "output_type": "execute_result"
        }
      ],
      "source": [
        "#Modulación reemplazando símbolos por valores complejos - mapeo (opción 2)\n",
        "df_sym_mod2 = df_sym_tx.iloc[:,0].map(mod_dict)\n",
        "df_sym_mod2.head(20)"
      ]
    },
    {
      "cell_type": "markdown",
      "id": "933aaade",
      "metadata": {
        "id": "933aaade"
      },
      "source": [
        "## Demodulador Símbolos 16QAM"
      ]
    },
    {
      "cell_type": "code",
      "execution_count": null,
      "id": "0a4c7a6d",
      "metadata": {
        "id": "0a4c7a6d"
      },
      "outputs": [],
      "source": [
        "def demapper_sym(symbols_I, symbols_Q, Ns, threshold = 2.0):\n",
        "   symbol = []\n",
        "   for i in range(Ns):\n",
        "        if symbols_I[i] <= -threshold and symbols_Q[i] >= threshold: #-3+3j\n",
        "            symbol.append(0)\n",
        "        elif symbols_I[i] <= -threshold and symbols_Q[i] >= 0 and symbols_Q[i] <= threshold: #-3+1j\n",
        "            symbol.append(1)\n",
        "        elif symbols_I[i] <= -threshold and symbols_Q[i] <= 0 and symbols_Q[i] >= -threshold: #-3-j\n",
        "            symbol.append(3)\n",
        "        elif symbols_I[i] <= -threshold and symbols_Q[i] <= -threshold: #-3-3j\n",
        "            symbol.append(2)\n",
        "        elif symbols_I[i] >= -threshold and symbols_I[i] <= 0 and symbols_Q[i] >= threshold: #-1+3j\n",
        "            symbol.append(4)\n",
        "        elif symbols_I[i] >= -threshold and symbols_I[i] <= 0 and symbols_Q[i] >= 0 and symbols_Q[i] <= threshold: #-1+j\n",
        "            symbol.append(5)\n",
        "        elif symbols_I[i] >= -threshold and symbols_I[i] <= 0 and symbols_Q[i] <= 0 and symbols_Q[i] >= -threshold: #-1-j\n",
        "            symbol.append(7)\n",
        "        elif symbols_I[i] >= -threshold and symbols_I[i] <= 0 and symbols_Q[i] <= -threshold: #-1-3j\n",
        "            symbol.append(6)\n",
        "        elif symbols_I[i] >= 0 and symbols_I[i] <= threshold and symbols_Q[i] >= threshold: #1+3j\n",
        "            symbol.append(12)\n",
        "        elif symbols_I[i] >= 0 and symbols_I[i] <= threshold and symbols_Q[i] >= 0 and symbols_Q[i] <= threshold: #1+j\n",
        "            symbol.append(13)\n",
        "        elif symbols_I[i] >= 0 and symbols_I[i] <= threshold and symbols_Q[i] <= 0 and symbols_Q[i] >= -threshold: #1-j\n",
        "            symbol.append(15)\n",
        "        elif symbols_I[i] >= 0 and symbols_I[i] <= threshold and symbols_Q[i] <= -threshold: #1-3j\n",
        "            symbol.append(14)\n",
        "        elif symbols_I[i] >= threshold and symbols_Q[i] >= threshold: #3+3j\n",
        "            symbol.append(8)\n",
        "        elif symbols_I[i] >= threshold and symbols_Q[i] >= 0 and symbols_Q[i] <= threshold: #3+1j\n",
        "            symbol.append(9)\n",
        "        elif symbols_I[i] >= threshold and symbols_Q[i] <= 0 and symbols_Q[i] >= -threshold: #3-1j\n",
        "            symbol.append(11)\n",
        "        elif symbols_I[i] >= threshold and symbols_Q[i] <= -threshold: #3-3j\n",
        "            symbol.append(10)\n",
        "   return(symbol)"
      ]
    },
    {
      "cell_type": "code",
      "execution_count": null,
      "id": "72db7cfc",
      "metadata": {
        "id": "72db7cfc",
        "outputId": "9b865737-f11e-4fdc-fb6d-8b7daf7ed5d1"
      },
      "outputs": [
        {
          "name": "stdout",
          "output_type": "stream",
          "text": [
            "[2, 10, 0, 13, 2, 3, 1, 14, 14, 11]\n",
            "[ 2 10  0 13  2  3  1 14 14 11]\n"
          ]
        }
      ],
      "source": [
        "sym_tx= demapper_sym(np.real(df_sym_mod2), np.imag(df_sym_mod2), len(df_sym_mod2), threshold = 2.0)\n",
        "print(sym_tx[0:10])\n",
        "print(Symbols_tx[0:10])"
      ]
    },
    {
      "cell_type": "code",
      "execution_count": null,
      "id": "2b81cb3f",
      "metadata": {
        "id": "2b81cb3f"
      },
      "outputs": [],
      "source": [
        "Xr = np.real(df_sym_mod2)\n",
        "Xi = np.imag(df_sym_mod2)"
      ]
    },
    {
      "cell_type": "code",
      "execution_count": null,
      "id": "b47b3e3c",
      "metadata": {
        "id": "b47b3e3c"
      },
      "outputs": [],
      "source": [
        "# Adición de ruido blanco Gaussiano (AWGN)\n",
        "\n",
        "target_snr_db = 16\n",
        "Xr_avg_p = np.mean(Xr**2)\n",
        "Xr_avg_db = 10 * np.log10(Xr_avg_p)\n",
        "#print(Xr_avg_db)\n",
        "noise_avg_db_r = Xr_avg_db - target_snr_db\n",
        "noise_avg_p_r = 10 ** (noise_avg_db_r / 10)\n",
        "mean_noise = 0\n",
        "noise_r = np.random.normal(mean_noise, np.sqrt(noise_avg_p_r), len(Xr))\n",
        "Xr_ch = Xr + noise_r\n",
        "\n",
        "Xi_avg_p = np.mean(Xi**2)\n",
        "Xi_avg_db = 10 * np.log10(Xi_avg_p)\n",
        "#print(Xi_avg_db)\n",
        "noise_avg_db_i = Xr_avg_db - target_snr_db\n",
        "noise_avg_p_i = 10 ** (noise_avg_db_i / 10)\n",
        "noise_i = np.random.normal(mean_noise, np.sqrt(noise_avg_p_i), len(Xi))\n",
        "Xi_ch = Xi + noise_i"
      ]
    },
    {
      "cell_type": "code",
      "execution_count": null,
      "id": "fd5571c6",
      "metadata": {
        "id": "fd5571c6",
        "outputId": "1b1415c4-9a7f-4d76-a664-5703bc3e6179"
      },
      "outputs": [
        {
          "data": {
            "image/png": "[encoded data removed]",
            "text/plain": [
              "<Figure size 432x288 with 1 Axes>"
            ]
          },
          "metadata": {
            "needs_background": "light"
          },
          "output_type": "display_data"
        }
      ],
      "source": [
        "plt.plot(Xi_ch, Xr_ch, 'o')\n",
        "plt.xlabel('I')\n",
        "plt.ylabel('Q')\n",
        "plt.title('16-QAM')\n",
        "plt.show()"
      ]
    },
    {
      "cell_type": "code",
      "execution_count": null,
      "id": "f65ce176",
      "metadata": {
        "id": "f65ce176",
        "outputId": "8ea7701e-5898-41ab-cc1e-8f08cf4881b6"
      },
      "outputs": [
        {
          "name": "stdout",
          "output_type": "stream",
          "text": [
            "[2, 10, 0, 13, 2, 3, 1, 14, 14, 11]\n",
            "[ 2 10  0 13  2  3  1 14 14 11]\n"
          ]
        }
      ],
      "source": [
        "sym_rx= demapper_sym(Xr_ch, Xi_ch, len(Xr_ch), threshold = 2.0)\n",
        "print(sym_rx[0:10])\n",
        "print(Symbols_tx[0:10])"
      ]
    },
    {
      "cell_type": "code",
      "execution_count": null,
      "id": "c3038cfe",
      "metadata": {
        "id": "c3038cfe"
      },
      "outputs": [],
      "source": [
        "def SER(sym_rx, Symbols_tx, Ns):\n",
        "    error = 0\n",
        "    for i in range(Ns):\n",
        "        if sym_rx[i] == Symbols_tx[i]:\n",
        "            error = error\n",
        "        else:\n",
        "            error= error + 1\n",
        "    SER = error/Ns\n",
        "    return([SER, error])"
      ]
    },
    {
      "cell_type": "code",
      "execution_count": null,
      "id": "8dcecf8d",
      "metadata": {
        "id": "8dcecf8d",
        "outputId": "1020d558-cc2c-4633-bb8e-7084cd46ca06"
      },
      "outputs": [
        {
          "name": "stdout",
          "output_type": "stream",
          "text": [
            "0.0059\n",
            "59\n"
          ]
        }
      ],
      "source": [
        "SER, error = SER(sym_rx, Symbols_tx, Ns)\n",
        "print(SER)\n",
        "print(error)"
      ]
    }
  ],
  "metadata": {
    "kernelspec": {
      "display_name": "Python 3 (ipykernel)",
      "language": "python",
      "name": "python3"
    },
    "language_info": {
      "codemirror_mode": {
        "name": "ipython",
        "version": 3
      },
      "file_extension": ".py",
      "mimetype": "text/x-python",
      "name": "python",
      "nbconvert_exporter": "python",
      "pygments_lexer": "ipython3",
      "version": "3.7.6"
    },
    "colab": {
      "provenance": [],
      "include_colab_link": true
    }
  },
  "nbformat": 4,
  "nbformat_minor": 5
}