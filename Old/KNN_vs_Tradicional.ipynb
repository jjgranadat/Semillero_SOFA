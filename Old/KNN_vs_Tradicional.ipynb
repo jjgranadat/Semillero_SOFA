{
  "cells": [
    {
      "cell_type": "markdown",
      "metadata": {
        "id": "view-in-github",
        "colab_type": "text"
      },
      "source": [
        "<a href=\"https://colab.research.google.com/github/jjgranadat/Semillero_SOFA/blob/Santiago_V/KNN_vs_Tradicional.ipynb\" target=\"_parent\"><img src=\"https://colab.research.google.com/assets/colab-badge.svg\" alt=\"Open In Colab\"/></a>"
      ]
    },
    {
      "cell_type": "code",
      "execution_count": null,
      "id": "b9971a29",
      "metadata": {
        "id": "b9971a29"
      },
      "outputs": [],
      "source": [
        "import pandas as pd\n",
        "import numpy as np\n",
        "import matplotlib.pyplot as plt\n",
        "import seaborn as sns\n",
        "from sklearn.neighbors import KNeighborsClassifier\n",
        "from sklearn.model_selection import train_test_split\n",
        "from sklearn import metrics"
      ]
    },
    {
      "cell_type": "markdown",
      "id": "86d058cf",
      "metadata": {
        "id": "86d058cf"
      },
      "source": [
        "# Demodulación"
      ]
    },
    {
      "cell_type": "code",
      "execution_count": null,
      "id": "ae9bfe1b",
      "metadata": {
        "id": "ae9bfe1b"
      },
      "outputs": [],
      "source": [
        "def demapper_sym(symbols_I, symbols_Q, Ns, threshold = 2.0):\n",
        "   symbol = []\n",
        "   for i in range(Ns):\n",
        "        if symbols_I[i] <= -threshold and symbols_Q[i] >= threshold: #-3+3j\n",
        "            symbol.append(0)\n",
        "        elif symbols_I[i] <= -threshold and symbols_Q[i] >= 0 and symbols_Q[i] <= threshold: #-3+1j\n",
        "            symbol.append(1)\n",
        "        elif symbols_I[i] <= -threshold and symbols_Q[i] <= 0 and symbols_Q[i] >= -threshold: #-3-j\n",
        "            symbol.append(3)\n",
        "        elif symbols_I[i] <= -threshold and symbols_Q[i] <= -threshold: #-3-3j\n",
        "            symbol.append(2)\n",
        "        elif symbols_I[i] >= -threshold and symbols_I[i] <= 0 and symbols_Q[i] >= threshold: #-1+3j\n",
        "            symbol.append(4)\n",
        "        elif symbols_I[i] >= -threshold and symbols_I[i] <= 0 and symbols_Q[i] >= 0 and symbols_Q[i] <= threshold: #-1+j\n",
        "            symbol.append(5)\n",
        "        elif symbols_I[i] >= -threshold and symbols_I[i] <= 0 and symbols_Q[i] <= 0 and symbols_Q[i] >= -threshold: #-1-j\n",
        "            symbol.append(7)\n",
        "        elif symbols_I[i] >= -threshold and symbols_I[i] <= 0 and symbols_Q[i] <= -threshold: #-1-3j\n",
        "            symbol.append(6)\n",
        "        elif symbols_I[i] >= 0 and symbols_I[i] <= threshold and symbols_Q[i] >= threshold: #1+3j\n",
        "            symbol.append(12)\n",
        "        elif symbols_I[i] >= 0 and symbols_I[i] <= threshold and symbols_Q[i] >= 0 and symbols_Q[i] <= threshold: #1+j\n",
        "            symbol.append(13)\n",
        "        elif symbols_I[i] >= 0 and symbols_I[i] <= threshold and symbols_Q[i] <= 0 and symbols_Q[i] >= -threshold: #1-j\n",
        "            symbol.append(15)\n",
        "        elif symbols_I[i] >= 0 and symbols_I[i] <= threshold and symbols_Q[i] <= -threshold: #1-3j\n",
        "            symbol.append(14)\n",
        "        elif symbols_I[i] >= threshold and symbols_Q[i] >= threshold: #3+3j\n",
        "            symbol.append(8)\n",
        "        elif symbols_I[i] >= threshold and symbols_Q[i] >= 0 and symbols_Q[i] <= threshold: #3+1j\n",
        "            symbol.append(9)\n",
        "        elif symbols_I[i] >= threshold and symbols_Q[i] <= 0 and symbols_Q[i] >= -threshold: #3-1j\n",
        "            symbol.append(11)\n",
        "        elif symbols_I[i] >= threshold and symbols_Q[i] <= -threshold: #3-3j\n",
        "            symbol.append(10)\n",
        "   return(symbol)"
      ]
    },
    {
      "cell_type": "code",
      "execution_count": null,
      "id": "3e1daa4f",
      "metadata": {
        "id": "3e1daa4f"
      },
      "outputs": [],
      "source": [
        "def SER_f(sym_rx, Symbols_tx, Ns):\n",
        "    error = 0\n",
        "    for i in range(Ns):\n",
        "        if sym_rx[i] == Symbols_tx[i]:\n",
        "            error = error\n",
        "        else:\n",
        "            error= error + 1\n",
        "    SER = error/Ns\n",
        "    return([SER, error])"
      ]
    },
    {
      "cell_type": "markdown",
      "id": "4e722f9c",
      "metadata": {
        "id": "4e722f9c"
      },
      "source": [
        "# Generación y modulación"
      ]
    },
    {
      "cell_type": "code",
      "execution_count": null,
      "id": "682b151a",
      "metadata": {
        "colab": {
          "base_uri": "https://localhost:8080/"
        },
        "id": "682b151a",
        "outputId": "5f01fd4e-3923-46e7-9951-bcc6845c6eb2"
      },
      "outputs": [
        {
          "output_type": "stream",
          "name": "stdout",
          "text": [
            "[ 3  5 11  7 11  6  6  0  7  6]\n"
          ]
        }
      ],
      "source": [
        "Ns= 100000\n",
        "Mod=16 #16QAM\n",
        "Symbols_tx = np.random.randint(Mod, size=Ns)\n",
        "df_sym_tx= pd.DataFrame(Symbols_tx)\n",
        "print(Symbols_tx[0:10])"
      ]
    },
    {
      "cell_type": "code",
      "execution_count": null,
      "id": "f6c2a752",
      "metadata": {
        "id": "f6c2a752"
      },
      "outputs": [],
      "source": [
        "mod_dict = {0:-3+3j, #0000\n",
        "            1:-3+1j, #0001\n",
        "            2:-3-3j, #0010\n",
        "            3:-3-1j, #0011\n",
        "            4:-1+3j, #0100\n",
        "            5:-1+1j, #0101\n",
        "            6:-1-3j, #0110\n",
        "            7:-1-1j, #0111\n",
        "            8:3+3j, #1000\n",
        "            9:3+1j, #1001\n",
        "            10:3-3j, #1010\n",
        "            11:3-1j, #1011\n",
        "            12:1+3j, #1100\n",
        "            13:1+1j, #1101\n",
        "            14:1-3j, #1110\n",
        "            15:1-1j} #1111"
      ]
    },
    {
      "cell_type": "code",
      "execution_count": null,
      "id": "592082b3",
      "metadata": {
        "colab": {
          "base_uri": "https://localhost:8080/"
        },
        "id": "592082b3",
        "outputId": "7f7f5c0a-552e-4bb7-d313-d62968cc1cb9"
      },
      "outputs": [
        {
          "output_type": "execute_result",
          "data": {
            "text/plain": [
              "0    -3.0-1.0j\n",
              "1    -1.0+1.0j\n",
              "2     3.0-1.0j\n",
              "3    -1.0-1.0j\n",
              "4     3.0-1.0j\n",
              "5    -1.0-3.0j\n",
              "6    -1.0-3.0j\n",
              "7    -3.0+3.0j\n",
              "8    -1.0-1.0j\n",
              "9    -1.0-3.0j\n",
              "10    3.0-1.0j\n",
              "11    1.0+1.0j\n",
              "12    1.0-1.0j\n",
              "13    3.0+1.0j\n",
              "14   -3.0-1.0j\n",
              "15   -3.0+1.0j\n",
              "16   -3.0-3.0j\n",
              "17    1.0+1.0j\n",
              "18   -1.0+3.0j\n",
              "19    3.0-3.0j\n",
              "Name: 0, dtype: complex128"
            ]
          },
          "metadata": {},
          "execution_count": 33
        }
      ],
      "source": [
        "#Modulación reemplazando símbolos por valores complejos - mapeo (opción 2)\n",
        "df_sym_mod2 = df_sym_tx.iloc[:,0].map(mod_dict)\n",
        "df_sym_mod2.head(20)"
      ]
    },
    {
      "cell_type": "markdown",
      "id": "6b7b54bb",
      "metadata": {
        "id": "6b7b54bb"
      },
      "source": [
        "# Transmisión canal AWGN"
      ]
    },
    {
      "cell_type": "code",
      "execution_count": null,
      "id": "23424945",
      "metadata": {
        "id": "23424945"
      },
      "outputs": [],
      "source": [
        "Xr = np.real(df_sym_mod2)\n",
        "Xi = np.imag(df_sym_mod2)"
      ]
    },
    {
      "cell_type": "code",
      "execution_count": null,
      "id": "a237ff67",
      "metadata": {
        "id": "a237ff67",
        "colab": {
          "base_uri": "https://localhost:8080/"
        },
        "outputId": "f1dd3de6-d4a1-43fd-a46f-20da4122a6b1"
      },
      "outputs": [
        {
          "output_type": "stream",
          "name": "stdout",
          "text": [
            "{'snr: 6': {2: -0.2208365762355012, 3: -0.2351765214753958, 4: -0.25261408999258517, 5: -0.26262180100878124, 6: -0.26962153141235706, 7: -0.272675673286595, 8: -0.27937218709705, 9: -0.2811386240313042, 10: -0.2847210843595331}, 'snr: 8': {2: -0.32060238997263507, 3: -0.356119819730022, 4: -0.37362541060989696, 5: -0.3898013425132616, 6: -0.3976144098948949, 7: -0.4050920538917405, 8: -0.4095297064181503, 9: -0.41472731746646724, 10: -0.41646118074564786}, 'snr: 10': {2: -0.49889507304513653, 3: -0.5608779242543227, 4: -0.5733261119786272, 5: -0.5948244537820107, 6: -0.6011344832911745, 7: -0.6136794261059538, 8: -0.6130850719938874, 9: -0.6196681376843959, 10: -0.6225723189067117}, 'snr: 12': {2: -0.799696817018415, 3: -0.8881776119796476, 4: -0.8923378757231548, 5: -0.916139199133427, 6: -0.9148283902631877, 7: -0.9303319030884043, 8: -0.9309488864027199, 9: -0.9427143555817854, 10: -0.9410680995604578}, 'snr: 14': {2: -1.2515535412801915, 3: -1.359518563029578, 4: -1.3539231796876638, 5: -1.3900500488131269, 6: -1.3868632017883462, 7: -1.4037695523327616, 8: -1.3964947677978568, 9: -1.4119151266653505, 10: -1.4030365656914188}, 'snr: 16': {2: -1.9899828792424759, 3: -2.084424301459997, 4: -2.0861861476162833, 5: -2.1060533924479263, 6: -2.1060533924479263, 7: -2.1210953975265396, 8: -2.1116332698287628, 9: -2.1191864077192086, 10: -2.1426675035687315}, 'snr: 18': {2: -3.1153934187020695, 3: -3.2218487496163566, 4: -3.3309932190414244, 5: -3.3631779024128257, 6: -3.2730012720637376, 7: -3.2730012720637376, 8: -3.3010299956639813, 9: -3.3010299956639813, 10: -3.3010299956639813}}\n",
            "{6: 10, 8: 10, 10: 10, 12: 9, 14: 9, 16: 10, 18: 5}\n"
          ]
        }
      ],
      "source": [
        "# Adición de ruido blanco Gaussiano (AWGN)\n",
        "l_snr=[]\n",
        "dem_trad=[]\n",
        "dem_knn=[]\n",
        "neigh={}\n",
        "best_neigh = {}\n",
        "\n",
        "for count in range(6,20,2): #Adición ciclo for\n",
        "  target_snr_db = count\n",
        "  Xr_avg_p = np.mean(Xr**2)\n",
        "  Xr_avg_db = 10 * np.log10(Xr_avg_p)\n",
        "  #print(Xr_avg_db)\n",
        "  noise_avg_db_r = Xr_avg_db - target_snr_db\n",
        "  noise_avg_p_r = 10 ** (noise_avg_db_r / 10)\n",
        "  mean_noise = 0\n",
        "  noise_r = np.random.normal(mean_noise, np.sqrt(noise_avg_p_r), len(Xr))\n",
        "  Xr_ch = Xr + noise_r\n",
        "\n",
        "  Xi_avg_p = np.mean(Xi**2)\n",
        "  Xi_avg_db = 10 * np.log10(Xi_avg_p)\n",
        "  #print(Xi_avg_db)\n",
        "  noise_avg_db_i = Xr_avg_db - target_snr_db\n",
        "  noise_avg_p_i = 10 ** (noise_avg_db_i / 10)\n",
        "  noise_i = np.random.normal(mean_noise, np.sqrt(noise_avg_p_i), len(Xi))\n",
        "  Xi_ch = Xi + noise_i\n",
        "\n",
        "  sym_rx= demapper_sym(Xr_ch, Xi_ch, len(Xr_ch), threshold = 2.0)\n",
        " \n",
        "  #lista para la gráfica:\n",
        "  l_snr.append(count)\n",
        "\n",
        "  #-------------SIN KNN------------------\n",
        "  SER, error = SER_f(sym_rx[:int(len(sym_rx)*.3)], Symbols_tx[:int(len(Symbols_tx)*.3)], int(Ns*.3))\n",
        "  \n",
        "  #------------USANDO KNN-----------------\n",
        "  X = np.transpose(np.array([Xr_ch,Xi_ch]))\n",
        "  y= Symbols_tx\n",
        "  X_train, X_test, y_train, y_test = train_test_split(X, y, test_size=0.3)\n",
        "\n",
        "  best = [] #Resultado SER test segun vecino\n",
        "  dic_sertest = {}\n",
        "\n",
        "  for vecinos in range(2,11): #Iterar vecinos.\n",
        "    k= vecinos # número de vecinos\n",
        "    model = KNeighborsClassifier(n_neighbors=k)\n",
        "    model.fit(X_train, y_train)\n",
        "\n",
        "    model.score(X_train, y_train)\n",
        "    y_pred = model.predict(X_test)    \n",
        "\n",
        "    SER_test, error_test = SER_f(y_pred, y_test, len(y_pred))\n",
        "    \n",
        "    best.append(np.log10(SER_test))\n",
        "    dic_sertest[vecinos] = np.log10(SER_test)\n",
        "    \n",
        "  neigh[\"snr: \"+str(count)]=dic_sertest\n",
        "  dem_trad.append(np.log10(SER))\n",
        "  dem_knn.append(min(best))\n",
        "\n",
        "  best_neigh[count]=best.index(min(best))+2\n",
        "  \n",
        "print(neigh) # Dic. SER_test para cada vecino y snr\n",
        "print(best_neigh)#Dic. Mejores vecinos por cada snr \n"
      ]
    },
    {
      "cell_type": "code",
      "source": [
        "fig, ax = plt.subplots()\n",
        "dem = {\"trad\":dem_trad,\"dem_knn\":dem_knn}\n",
        "ax.plot(l_snr,dem_trad, label = \"Demodulación Tradicional\", marker = 'o')\n",
        "ax.plot(l_snr,dem_knn, label =\"Demodualación con KNN\", marker = 'X')\n",
        "ax.legend(loc='upper right')\n",
        "ax.grid(axis = 'both', color = 'gray', linestyle = 'dashed')\n",
        "ax.set_title(\"Demodulación: Tradicional vs KNN\")\n",
        "ax.set_xlabel(\"SNR [dB]\")\n",
        "ax.set_ylabel(\"SER\")\n",
        "plt.show()"
      ],
      "metadata": {
        "colab": {
          "base_uri": "https://localhost:8080/",
          "height": 295
        },
        "id": "rB_gAOv4PMgr",
        "outputId": "4f4b6d44-df1c-4fd9-bef4-b66706652733"
      },
      "id": "rB_gAOv4PMgr",
      "execution_count": null,
      "outputs": [
        {
          "output_type": "display_data",
          "data": {
            "text/plain": [
              "<Figure size 432x288 with 1 Axes>"
            ],
            "image/png": "[encoded data removed]"
          },
          "metadata": {
            "needs_background": "light"
          }
        }
      ]
    }
  ],
  "metadata": {
    "kernelspec": {
      "display_name": "Python 3 (ipykernel)",
      "language": "python",
      "name": "python3"
    },
    "language_info": {
      "codemirror_mode": {
        "name": "ipython",
        "version": 3
      },
      "file_extension": ".py",
      "mimetype": "text/x-python",
      "name": "python",
      "nbconvert_exporter": "python",
      "pygments_lexer": "ipython3",
      "version": "3.7.6"
    },
    "colab": {
      "provenance": [],
      "include_colab_link": true
    }
  },
  "nbformat": 4,
  "nbformat_minor": 5
}