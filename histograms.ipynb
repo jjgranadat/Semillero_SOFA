{
 "cells": [
  {
   "cell_type": "markdown",
   "id": "59be66b6-f376-484e-8c2b-c5d58a38c942",
   "metadata": {
    "tags": []
   },
   "source": [
    "# Estimación de ICI mediante histogramas de diagramas de constelación"
   ]
  },
  {
   "cell_type": "markdown",
   "id": "0914a3e1-f282-4380-ac57-5d2be93c2e0b",
   "metadata": {},
   "source": [
    "## Tareas\n",
    "- [X] Hacerlo 2D\n",
    "- [X] Con ambos utilizar un clasificador\n",
    "- [ ] En caso tal, variar los bins"
   ]
  },
  {
   "cell_type": "markdown",
   "id": "408abaa0-933f-499a-accc-5fe826ffcd58",
   "metadata": {},
   "source": [
    "## Librerías"
   ]
  },
  {
   "cell_type": "code",
   "execution_count": 5,
   "id": "c7e5b55a-87f0-47ea-9a51-942c2216202b",
   "metadata": {
    "tags": []
   },
   "outputs": [],
   "source": [
    "import sofa\n",
    "import polars as pl\n",
    "import numpy as np\n",
    "import scipy as sp\n",
    "import matplotlib.pyplot as plt\n",
    "import tensorflow.keras as ker\n",
    "import json\n",
    "import os\n",
    "\n",
    "from scipy.stats import multivariate_normal\n",
    "from mpl_toolkits.mplot3d import Axes3D\n",
    "from matplotlib import cm\n",
    "from matplotlib.colors import LogNorm\n",
    "\n",
    "from sklearn.mixture import GaussianMixture\n",
    "from sklearn.metrics import (accuracy_score, f1_score, multilabel_confusion_matrix,\n",
    "                             ConfusionMatrixDisplay)\n",
    "from sklearn.model_selection import cross_validate, KFold, train_test_split\n",
    "from sklearn.preprocessing import StandardScaler\n",
    "\n",
    "from tensorflow.keras import models, regularizers, Sequential, utils\n",
    "from tensorflow.keras.layers import Dense\n",
    "from tensorflow.keras.callbacks import EarlyStopping\n",
    "from tensorflow.keras.wrappers.scikit_learn import KerasClassifier\n",
    "\n",
    "from itertools import product\n",
    "from time import time"
   ]
  },
  {
   "cell_type": "markdown",
   "id": "39a1a2c2-572c-4fc4-8ba9-d4c6ad017cbc",
   "metadata": {
    "tags": []
   },
   "source": [
    "## Funciones globales"
   ]
  },
  {
   "cell_type": "code",
   "execution_count": 13,
   "id": "b02dcfd1-b001-4072-9f6c-02ac61f5fe10",
   "metadata": {
    "tags": []
   },
   "outputs": [],
   "source": [
    "# Special function to read the known data structure\n",
    "def read_data(folder_rx):\n",
    "    data = {}\n",
    "\n",
    "    # Read root directory\n",
    "    for folder in os.listdir(folder_rx):\n",
    "        # Check name consistency for subdirectories \n",
    "        if folder.endswith(\"spacing\"):\n",
    "            # Extract \"pretty\" part of the name\n",
    "            spacing = folder[:-8]\n",
    "            data[spacing] = {}\n",
    "            \n",
    "            # Read each data file\n",
    "            for file in os.listdir(f\"{folder_rx}/{folder}\"):\n",
    "                # Check name consistency for data files\n",
    "                if file.find(\"consY\") != -1:\n",
    "                    # Extract \"pretty\" part of the name\n",
    "                    osnr = file.split(\"_\")[2][5:-4]\n",
    "                    \n",
    "                    # Initialize if not created yet\n",
    "                    if data[spacing].get(osnr) == None:\n",
    "                        data[spacing][osnr] = {}\n",
    "                    # Set data\n",
    "                    csv_file_data = pl.read_csv(f\"{folder_rx}/{folder}/{file}\")\n",
    "                    data[spacing][osnr] = csv_file_data\n",
    "    return data\n",
    "\n",
    "def plot_constellation_diagram(X, ax):\n",
    "    ax.scatter(X.real, X.imag, alpha=0.5)\n",
    "    ax.set_title(\"Constellation diagram\")\n",
    "    ax.set_xlabel(\"I\")\n",
    "    ax.set_ylabel(\"Q\")\n",
    "    \n",
    "def calculate_gmm(data, gm_kwargs):\n",
    "    return GaussianMixture(**gm_kwargs).fit(data)\n",
    "    \n",
    "def calculate_1d_histogram(X, bins):\n",
    "    hist_y, hist_x = np.histogram(X.real, bins=bins)\n",
    "    # Remove last bin edge\n",
    "    hist_x = hist_x[:-1]\n",
    "    \n",
    "    return hist_x, hist_y\n",
    "\n",
    "def plot_1d_histogram(X, ax):\n",
    "    ax.hist(X, bins=bins, density=True, alpha=0.5, label=\"Calculated histogram\")\n",
    "    \n",
    "def plot_gmm_1d(gm, limits):\n",
    "    x = np.linspace(*limits, 1000)\n",
    "    \n",
    "    logprob = gm.score_samples(x.reshape(-1, 1))\n",
    "    responsibilities = gm.predict_proba(x.reshape(-1, 1))\n",
    "    pdf = np.exp(logprob)\n",
    "    pdf_individual = responsibilities * pdf[:, np.newaxis]\n",
    "    \n",
    "    ax.plot(x, pdf_individual, '--', label=\"Adjusted histogram\")\n",
    "\n",
    "def plot_gmm_2d(gm, limits, ax):\n",
    "    x = y = np.linspace(*limits)\n",
    "    X, Y = np.meshgrid(x, y)\n",
    "    Z = -gm.score_samples(np.array([X.ravel(), Y.ravel()]).T).reshape(X.shape)\n",
    "\n",
    "    ax.contour(\n",
    "        X, Y, Z,\n",
    "        norm=LogNorm(vmin=1.0, vmax=1000.0), \n",
    "        levels=np.logspace(0, 3, 25), cmap=\"seismic\"\n",
    "    )\n",
    "    \n",
    "def calculate_3d_histogram(X, bins, limits, spacing, snr):\n",
    "    hist, xedges, yedges = np.histogram2d(X.real, X.imag, bins=bins, range=[[*limits], [*limits]])\n",
    "\n",
    "    # Define the extent\n",
    "    extent = [xedges[0], xedges[-1], yedges[0], yedges[-1]]\n",
    "\n",
    "    # Create the meshgrid for the surface plot, excluding the last edge\n",
    "    x_mesh, y_mesh = np.meshgrid(xedges[:-1], yedges[:-1])\n",
    "    \n",
    "    return hist, x_mesh, y_mesh\n",
    "    \n",
    "def plot_3d_histogram(x_mesh, y_mesh, hist, ax):\n",
    "    ax.plot_surface(x_mesh, y_mesh, hist.T, cmap=\"seismic\", rstride=1, cstride=1, edgecolor=\"none\")\n",
    "    ax.set_title(\"3D Histogram\")\n",
    "    ax.set_xlabel(\"I\")\n",
    "    ax.set_ylabel(\"Q\")"
   ]
  },
  {
   "cell_type": "code",
   "execution_count": 14,
   "id": "b5dd6092-f808-4326-af60-1b750a5710fa",
   "metadata": {
    "tags": []
   },
   "outputs": [],
   "source": [
    "def calc_once(varname, fn, args):\n",
    "    \"\"\" Calculate a variable only once. \"\"\"\n",
    "    if varname not in globals():\n",
    "        return fn(**args)\n",
    "    return eval(varname)\n",
    "\n",
    "def classificator(df, interval_lst, column_name):\n",
    "    \"\"\"Transforms a dataframe's column into classes\"\"\"\n",
    "    array = df[column_name].to_numpy()\n",
    "    indexes_lst = []\n",
    "    for i, interval in enumerate(interval_lst):\n",
    "        lower_limit, upper_limit = interval\n",
    "        indexes_lst.append(np.intersect1d(np.where(lower_limit < array), np.where(array <= upper_limit)))\n",
    "    \n",
    "    classfull = df[column_name]\n",
    "    for index, indexes in enumerate(indexes_lst):\n",
    "        classfull[indexes] = index\n",
    "\n",
    "    df_classfull = df.clone()\n",
    "    df_classfull.replace(column_name, classfull)\n",
    "    \n",
    "    return df_classfull\n",
    "\n",
    "def classifier_model(input_dim, layers_props_lst, classes_n, loss_fn):\n",
    "    \"\"\" Compile a sequential model for classification purposes. \"\"\"\n",
    "    model = ker.Sequential()\n",
    "    # Hidden layers\n",
    "    for i, layer_props in enumerate(layers_props_lst):\n",
    "        if i == 0:\n",
    "            model.add(ker.layers.Dense(**layer_props, input_dim=input_dim))\n",
    "        else:\n",
    "            model.add(ker.layers.Dense(**layer_props))\n",
    "    # Classifier\n",
    "    model.add(ker.layers.Dense(units=classes_n, activation=\"softmax\"))\n",
    "\n",
    "    model.compile(loss=loss_fn, optimizer=\"adam\")\n",
    "    return model    \n",
    "\n",
    "\n",
    "def classification_crossvalidation(X, y, n_splits, layer_props, classes_n, loss_fn, callbacks):\n",
    "    \"\"\" Crossvalidation of a classification network. \"\"\"\n",
    "    # Scores dict\n",
    "    scores = {}\n",
    "    scores[\"loss\"] = []\n",
    "    scores[\"acc\"] = {\"train\": [], \"test\": []}\n",
    "    scores[\"f1\"] = {\"train\": [], \"test\": []}\n",
    "    scores[\"cm\"] = {\"train\": [], \"test\": []}\n",
    "    \n",
    "    # K-fold crossvalidation\n",
    "    kf = KFold(n_splits=n_splits, shuffle=True)\n",
    "\n",
    "    for train_index, test_index in kf.split(X, y):\n",
    "        X_train, X_test = X[train_index], X[test_index]\n",
    "        y_train, y_test = y[train_index], y[test_index]\n",
    "\n",
    "        # Input variables standarizer\n",
    "        sc = StandardScaler()\n",
    "        X_train = sc.fit_transform(X_train)\n",
    "        X_test_kf = sc.transform(X_test)\n",
    "        \n",
    "        model = classifier_model(X_train.shape[1], layer_props, classes_n, loss_fn)\n",
    "        \n",
    "        # Save test scalar loss\n",
    "        if callbacks:\n",
    "            loss = model.fit(\n",
    "                X_train, y_train, epochs=5000, batch_size=64, verbose=0, callbacks=callbacks\n",
    "            )\n",
    "        else:\n",
    "            loss = model.fit(X_train, y_train, epochs=5000, batch_size=64, verbose=0)\n",
    "        print(f\"Needed iterations: {len(loss.history['loss'])}\")\n",
    "        \n",
    "        # Predict using train values\n",
    "        fuzzy_predictions_train = model.predict(X_train)\n",
    "        # Predict using test values\n",
    "        fuzzy_predictions_test = model.predict(X_test_kf)\n",
    "        \n",
    "        # Assign class based on higher probability in membership vector\n",
    "        predictions_train = np.array([np.argmax(fuzzy_prediction) for fuzzy_prediction in fuzzy_predictions_train])\n",
    "        predictions_test = np.array([np.argmax(fuzzy_prediction) for fuzzy_prediction in fuzzy_predictions_test])\n",
    "\n",
    "        # Dataframe for better visualization\n",
    "        train_data_train = pl.DataFrame(\n",
    "            {\"ICI\": [y_train], \"Predicted ICI\": [predictions_train]}\n",
    "        )\n",
    "        train_data_test = pl.DataFrame(\n",
    "            {\"ICI\": [y_test], \"Predicted ICI\": [predictions_test]}\n",
    "        )\n",
    "\n",
    "        # Accuracy\n",
    "        acc_score_train = accuracy_score(\n",
    "            *train_data_train[\"ICI\"], *train_data_train[\"Predicted ICI\"]\n",
    "        )\n",
    "        acc_score_test = accuracy_score(\n",
    "            *train_data_test[\"ICI\"], *train_data_test[\"Predicted ICI\"]\n",
    "        )\n",
    "\n",
    "        # F1\n",
    "        f1_score_train = f1_score(\n",
    "            *train_data_train[\"ICI\"], *train_data_train[\"Predicted ICI\"],\n",
    "            average=\"micro\"\n",
    "        )\n",
    "        f1_score_test = f1_score(\n",
    "            *train_data_test[\"ICI\"], *train_data_test[\"Predicted ICI\"],\n",
    "            average=\"micro\"\n",
    "        )\n",
    "         \n",
    "        # Confusion Matrix\n",
    "        cm_score_train = multilabel_confusion_matrix(\n",
    "            *train_data_train[\"ICI\"], *train_data_train[\"Predicted ICI\"]\n",
    "        )\n",
    "        cm_score_test = multilabel_confusion_matrix(\n",
    "            *train_data_test[\"ICI\"], *train_data_test[\"Predicted ICI\"]\n",
    "        )\n",
    "\n",
    "        # Append to lists\n",
    "        scores[\"loss\"].append(loss)\n",
    "        scores[\"acc\"][\"train\"].append(acc_score_train)\n",
    "        scores[\"acc\"][\"test\"].append(acc_score_test)\n",
    "        scores[\"f1\"][\"train\"].append(f1_score_train)\n",
    "        scores[\"f1\"][\"test\"].append(f1_score_test)\n",
    "        scores[\"cm\"][\"train\"].append(cm_score_train)\n",
    "        scores[\"cm\"][\"test\"].append(cm_score_test)\n",
    "        \n",
    "    return scores\n",
    "\n",
    "\n",
    "def test_classification_model(data, n_splits, max_neurons, activations, classes_n,\n",
    "                               use_osnr=True, loss_fn=\"sparse_categorical_crossentropy\"):\n",
    "    \"\"\" Test a spectral overlapping classification model with given parameters. \"\"\"\n",
    "    # Set variable number\n",
    "    var_n = 97 if use_osnr else 96\n",
    "    \n",
    "    # Split variables\n",
    "    # Variables\n",
    "    X = np.array(data[:, 0:var_n])\n",
    "    # Tags\n",
    "    y = np.array(data[:, -1])\n",
    "    \n",
    "    # Layer properties\n",
    "    layer_props = [\n",
    "        {\"units\": max_neurons // (2**i), \"activation\": activation}\n",
    "        for i, activation in enumerate(activations)\n",
    "    ]\n",
    "    print(layer_props)\n",
    "    callbacks = [\n",
    "        EarlyStopping(monitor=\"loss\", patience=30, mode=\"min\", restore_best_weights=True)\n",
    "    ]\n",
    "    \n",
    "    return classification_crossvalidation(X, y, n_splits, layer_props, classes_n, loss_fn, callbacks)\n",
    "\n",
    "def plot_cm(scores, interval_lst):\n",
    "    CM = np.array(scores.get(\"cm\").get(\"test\"))\n",
    "    for n, interval in enumerate(interval_lst):\n",
    "        result = np.zeros(CM[0][0].shape)\n",
    "        for cm in CM:\n",
    "            result = np.add(result, cm[n])\n",
    "        result /= np.sum(result)\n",
    "        disp = ConfusionMatrixDisplay(confusion_matrix=result, display_labels=[\"Positive\", \"Negative\"])\n",
    "        disp.plot(colorbar=False)\n",
    "        lower_limit, upper_limit = interval \n",
    "        plt.title(f\"Confusion matrix for class from {lower_limit} GHz up to {upper_limit} GHz\")\n",
    "        plt.show()"
   ]
  },
  {
   "cell_type": "code",
   "execution_count": 15,
   "id": "d9bcc7b0-f358-4feb-ab6f-740f93fa0a92",
   "metadata": {
    "tags": []
   },
   "outputs": [],
   "source": [
    "def plot_loss(score, end=500):\n",
    "    \"\"\" Plot loss evolution for each k-fold. \"\"\"\n",
    "    for k, loss in enumerate(score[\"loss\"]):\n",
    "        loss_length = len(loss.history[\"loss\"])\n",
    "        loss_values = loss.history[\"loss\"][:end if loss_length > end else loss_length]\n",
    "        epoch_values = range(end if loss_length > end else loss_length)\n",
    "        plt.plot(epoch_values, loss_values, label=f\"k = {k+1}\")\n",
    "\n",
    "def plot_losses(scores, scenario, cmp_fn, cmp_values=[], end=500, based_on_index=False):\n",
    "    \"\"\" Plot loss graphics for each scenario. \"\"\"\n",
    "    # Handle default cmp_values\n",
    "    if len(cmp_values) == 0:\n",
    "        cmp_values = np.zeros(len(scores))\n",
    "        \n",
    "    fig_loss = plt.figure(figsize=(16, 3*len(scores)), layout=\"constrained\")\n",
    "    fig_loss.suptitle(f\"{scenario} loss history\", size=\"x-large\")\n",
    "    \n",
    "    for index, (score, cmps) in enumerate(zip(scores, cmp_values)):\n",
    "        plt.subplot(len(scores)//2, 2, index + 1)\n",
    "        plot_loss(score, end=end)\n",
    "        \n",
    "        plt.title(cmp_fn(cmps) if not based_on_index else cmp_fn(index))\n",
    "        \n",
    "        plt.xlabel(\"Iteration\")\n",
    "        plt.ylabel(\"Loss\")\n",
    "        \n",
    "        # Transparent white box black edge legend\n",
    "        legend = plt.legend(loc=\"upper right\", edgecolor=\"black\")\n",
    "        legend.get_frame().set_alpha(None)\n",
    "        legend.get_frame().set_facecolor((1, 1, 1, 0.01))\n",
    "        \n",
    "        plt.grid(True)\n",
    "\n",
    "def plot_scores(scores, x_values, scenario, score_names, data_type,\n",
    "                label, xlabel, markers=[], colors=[], based_on_index=False,\n",
    "                log=False, multiple_points=False, plot_train=True):\n",
    "    fig_scores = plt.figure(figsize=(16, 6), layout=\"constrained\")\n",
    "    fig_scores.suptitle(f\"{scenario} scores\")\n",
    "    i = 0\n",
    "    for sn in score_names:\n",
    "        ax = plt.subplot(1, len(score_names), i+1)\n",
    "        for dt in data_type:\n",
    "            if not plot_train and dt == \"train\":\n",
    "                continue\n",
    "            points = [np.average(score[sn][dt]) for score in scores]\n",
    "            if not multiple_points:\n",
    "                label_value = \"\"\n",
    "                plt.scatter(x_values, points, marker=markers[0 if dt == \"train\" else 1],\n",
    "                            label=f\"{dt.title()} {label(i)}\", s=100)\n",
    "            else:\n",
    "                label_value = \"\"\n",
    "                points1 = points[::2]\n",
    "                points2 = points[1::2]\n",
    "                plt.scatter(x_values, points1, marker=markers[0 if dt == \"train\" else 1],\n",
    "                            color=colors[0 if dt == \"train\" else 1],\n",
    "                            label=f\"{dt.title()} {label(0)}\", s=100)\n",
    "                plt.scatter(x_values, points2, marker=markers[2 if dt == \"train\" else 3],\n",
    "                            color=colors[2 if dt == \"train\" else 3],\n",
    "                            label=f\"{dt.title()} {label(1)}\", s=100)\n",
    "            title = \"\"\n",
    "            if sn == \"r2\":\n",
    "                title = \"R²\"\n",
    "            elif sn == \"acc\":\n",
    "                title = \"Accuracy\"\n",
    "            else:\n",
    "                title = sn.upper()\n",
    "            plt.title(title)\n",
    "                \n",
    "        plt.xlabel(xlabel)\n",
    "        # Adjust logarithmic scale if requested\n",
    "        if log:\n",
    "            plt.xscale(\"log\", base=2)\n",
    "            \n",
    "        # Make integer xticks if matches}\n",
    "        if type(x_values[0]) == np.int64:\n",
    "            ax.set_xticks(x_values)\n",
    "            \n",
    "        if type(x_values[0]) == str:\n",
    "            ax.set_xticks(range(len(x_values)), x_values)\n",
    "            \n",
    "        # Shrink current axis by 20%\n",
    "        box = ax.get_position()\n",
    "        ax.set_position([box.x0, box.y0, box.width * 0.8, box.height])\n",
    "\n",
    "        # Transparent white box black edge legend\n",
    "        legend = plt.legend(loc=\"center left\", bbox_to_anchor=(1, 0.5),\n",
    "                            edgecolor=\"black\")\n",
    "        legend.get_frame().set_alpha(None)\n",
    "        legend.get_frame().set_facecolor((1, 1, 1, 0.01))\n",
    "\n",
    "        plt.grid(True)\n",
    "        i += 1\n",
    "    plt.show()"
   ]
  },
  {
   "cell_type": "markdown",
   "id": "ec7bcd59-a733-450f-8a13-5cb88e231038",
   "metadata": {
    "tags": []
   },
   "source": [
    "## Restaurar variables"
   ]
  },
  {
   "cell_type": "code",
   "execution_count": 5,
   "id": "a79d9ed4-d062-4c71-ba0e-4cfa1704482d",
   "metadata": {
    "tags": []
   },
   "outputs": [
    {
     "name": "stdout",
     "output_type": "stream",
     "text": [
      "no stored variable or alias scores_histograms_2classes_woOSNR\n",
      "no stored variable or alias scores_histograms_2classes\n"
     ]
    }
   ],
   "source": [
    "%store -r histograms_gmm\n",
    "%store -r histograms_hist\n",
    "%store -r scores_histograms_2classes_woOSNR\n",
    "%store -r scores_histograms_2classes\n",
    "%store -r scores_histograms_3classes_woOSNR\n",
    "%store -r scores_histograms_3classes\n",
    "%store -r scores_histograms_4classes_woOSNR\n",
    "%store -r scores_histograms_4classes\n",
    "%store -r scores_histograms_5classes_woOSNR\n",
    "%store -r scores_histograms_5classes\n",
    "%store -r scores_histograms_6classes_woOSNR\n",
    "%store -r scores_histograms_6classes\n",
    "%store -r scores_histograms_7classes_woOSNR\n",
    "%store -r scores_histograms_7classes"
   ]
  },
  {
   "cell_type": "markdown",
   "id": "4efce4fa-5de8-4a54-8685-491ecc648041",
   "metadata": {
    "tags": []
   },
   "source": [
    "## Leer datos"
   ]
  },
  {
   "cell_type": "code",
   "execution_count": 45,
   "id": "75d361a4-bc88-451a-9945-c05e8b3a17ab",
   "metadata": {
    "tags": []
   },
   "outputs": [],
   "source": [
    "file_tx = \"Demodulation/Data/Processed/2x16QAM_16GBd.csv\"\n",
    "folder_rx = \"Demodulation/Data/Processed\"\n",
    "\n",
    "# Transmitted data\n",
    "X_tx = np.array(pl.read_csv(file_tx))\n",
    "\n",
    "# Read received data\n",
    "data = read_data(folder_rx)"
   ]
  },
  {
   "cell_type": "code",
   "execution_count": 46,
   "id": "0d5a5f6f-b556-44c1-b236-646ba1063e7d",
   "metadata": {
    "tags": []
   },
   "outputs": [
    {
     "data": {
      "text/plain": [
       "array([[ 3.,  3.],\n",
       "       [-3., -3.],\n",
       "       [ 3., -1.],\n",
       "       ...,\n",
       "       [ 1.,  3.],\n",
       "       [ 3., -3.],\n",
       "       [ 3.,  1.]])"
      ]
     },
     "execution_count": 46,
     "metadata": {},
     "output_type": "execute_result"
    }
   ],
   "source": [
    "X_tx"
   ]
  },
  {
   "cell_type": "markdown",
   "id": "770b3c94-9896-4f2d-ac62-4e16a65274c6",
   "metadata": {
    "tags": []
   },
   "source": [
    "## Obtener histogramas"
   ]
  },
  {
   "cell_type": "code",
   "execution_count": 57,
   "id": "8b0a6a99-4b60-424f-87dc-c482366b25e8",
   "metadata": {
    "tags": []
   },
   "outputs": [
    {
     "name": "stdout",
     "output_type": "stream",
     "text": [
      "Stored 'histograms_hist' (dict)\n",
      "Stored 'histograms_gmm' (dict)\n"
     ]
    }
   ],
   "source": [
    "spacings = [\"15\", \"15.5\", \"16\", \"16.5\", \"17\", \"17.6\", \"18\"]\n",
    "\n",
    "histograms_hist = {}\n",
    "histograms_gmm = {}\n",
    "bins = 128\n",
    "limits = [-5, 5]\n",
    "\n",
    "for spacing in spacings:\n",
    "    X_rx = data[f\"{spacing}GHz\"]\n",
    "    for snr in X_rx:\n",
    "        # Extract data \n",
    "        X_ch = np.array(X_rx[snr])\n",
    "        X_ch = X_ch[:, 0] + 1j*X_ch[:, 1]\n",
    "\n",
    "        # Calculate 2D GMM\n",
    "        input_data = np.vstack((X_ch.real, X_ch.imag)).T\n",
    "        gm_kwargs = {\n",
    "            \"means_init\": np.array(list(product([-3, -1, 1, 3], repeat=2))), \n",
    "            \"n_components\": 16\n",
    "        }\n",
    "        gm_2d = calculate_gmm(input_data, gm_kwargs)\n",
    "        \n",
    "        # Calculate 3D histogram\n",
    "        hist, x_mesh, y_mesh = calculate_3d_histogram(X_ch, bins, limits, spacing, snr)\n",
    "        \n",
    "        # Save 3D histogram\n",
    "        if histograms_hist.get(f\"{spacing}GHz\") == None:\n",
    "            histograms_hist[f\"{spacing}GHz\"] = {}\n",
    "        histograms_hist[f\"{spacing}GHz\"][snr] = hist\n",
    "    \n",
    "        # Calculate I and Q histograms\n",
    "        hist_x, hist_y = calculate_1d_histogram(X_ch.real, bins)\n",
    "        input_data = np.repeat(hist_x, hist_y).reshape(-1, 1)\n",
    "        gm_kwargs = {\n",
    "            \"means_init\": np.array([-3, -1, 1, 3]).reshape(4, 1), \n",
    "            \"n_components\": 4\n",
    "        }\n",
    "        gm_i = calculate_gmm(input_data, gm_kwargs)\n",
    "\n",
    "        # Q\n",
    "        hist_x, hist_y = calculate_1d_histogram(X_ch.imag, bins)\n",
    "        input_data = np.repeat(hist_x, hist_y).reshape(-1, 1)\n",
    "        gm_kwargs = {\n",
    "            \"means_init\": np.array([-3, -1, 1, 3]).reshape(4, 1), \n",
    "            \"n_components\": 4\n",
    "        }\n",
    "        gm_q = calculate_gmm(input_data, gm_kwargs)\n",
    "    \n",
    "        # Save gaussians\n",
    "        if histograms_gmm.get(f\"{spacing}GHz\") == None:\n",
    "            histograms_gmm[f\"{spacing}GHz\"] = {}\n",
    "        histograms_gmm[f\"{spacing}GHz\"][snr] = [gm_2d, gm_i, gm_q]\n",
    "        \n",
    "%store histograms_hist\n",
    "%store histograms_gmm"
   ]
  },
  {
   "cell_type": "code",
   "execution_count": null,
   "id": "f8dedd46-4b31-44de-a82b-438db4fb61d0",
   "metadata": {},
   "outputs": [],
   "source": [
    "spacings = [\"15\", \"15.5\", \"16\", \"16.5\", \"17\", \"17.6\", \"18\"]\n",
    "\n",
    "for spacing in spacings:\n",
    "    X_rx = data[f\"{spacing}GHz\"]\n",
    "    for snr in X_rx:\n",
    "        # Extract data \n",
    "        X_ch = np.array(X_rx[snr])\n",
    "        X_ch = X_ch[:, 0] + 1j*X_ch[:, 1]\n",
    "\n",
    "        plt.figure(figsize=(12, 12), layout=\"tight\")\n",
    "\n",
    "        # Plot constellation diagram\n",
    "        ax = plt.subplot(2, 2, 1)\n",
    "        plot_constellation_diagram(X_ch, ax)\n",
    "        \n",
    "        gm_2d = histograms_gmm.get(f\"{spacing}GHz\").get(snr)[0]\n",
    "        \n",
    "        # Plot 2D GMM\n",
    "        plot_gmm_2d(gm_2d, limits, ax)\n",
    "        ax.grid(True)\n",
    "\n",
    "        # Calculate 3D histogram\n",
    "        hist, x_mesh, y_mesh = calculate_3d_histogram(X_ch, bins, limits, spacing, snr)\n",
    "        \n",
    "        # Plot 3D histogram\n",
    "        ax = plt.subplot(2, 2, 2, projection=\"3d\")\n",
    "        plot_3d_histogram(x_mesh, y_mesh, hist, ax)\n",
    "\n",
    "        # Plot I and Q histograms separately\n",
    "        # I\n",
    "        ax = plt.subplot(2, 2, 3)\n",
    "        plot_1d_histogram(X_ch.real, ax)\n",
    "        \n",
    "        hist_x, hist_y = calculate_1d_histogram(X_ch.real, bins)\n",
    "        input_data = np.repeat(hist_x, hist_y).reshape(-1, 1)\n",
    "        gm_kwargs = {\n",
    "            \"means_init\": np.array([-3, -1, 1, 3]).reshape(4, 1), \n",
    "            \"n_components\": 4\n",
    "        }\n",
    "        gm_i = calculate_gmm(input_data, gm_kwargs)\n",
    "        plot_gmm_1d(gm_i, limits)\n",
    "\n",
    "        ax.set_title(\"I-Histogram\")\n",
    "        ax.set_xlabel(\"I\")\n",
    "        ax.grid(True)\n",
    "\n",
    "        # Q\n",
    "        ax = plt.subplot(2, 2, 4)\n",
    "        plot_1d_histogram(X_ch.imag, ax)\n",
    "        \n",
    "        hist_x, hist_y = calculate_1d_histogram(X_ch.imag, bins)\n",
    "        input_data = np.repeat(hist_x, hist_y).reshape(-1, 1)\n",
    "        gm_kwargs = {\n",
    "            \"means_init\": np.array([-3, -1, 1, 3]).reshape(4, 1), \n",
    "            \"n_components\": 4\n",
    "        }\n",
    "        gm_q = calculate_gmm(input_data, gm_kwargs)\n",
    "        plot_gmm_1d(gm_q, limits)\n",
    "        ax.set_title(\"Q-Histogram\")\n",
    "        ax.set_xlabel(\"Q\")\n",
    "        ax.grid(True)\n",
    "    \n",
    "        plt.suptitle(f\"Plots for {snr} OSNR and {spacing}GHz of spacing\")\n",
    "\n",
    "        plt.show()"
   ]
  },
  {
   "cell_type": "markdown",
   "id": "fe3f3c52-2f24-4206-a56a-4887d5f001e9",
   "metadata": {
    "tags": []
   },
   "source": [
    "## Preparar datos"
   ]
  },
  {
   "cell_type": "code",
   "execution_count": 67,
   "id": "cc4ceb73-290b-430c-b5e3-7ed4b544b0a8",
   "metadata": {},
   "outputs": [
    {
     "name": "stdout",
     "output_type": "stream",
     "text": [
      "shape: (70, 98)\n",
      "┌───────────┬───────────┬───────────┬───────────┬───┬───────────┬──────────┬───────┬───────┐\n",
      "│ col0      ┆ col1      ┆ col2      ┆ col3      ┆ … ┆ col94     ┆ col95    ┆ col96 ┆ col97 │\n",
      "│ ---       ┆ ---       ┆ ---       ┆ ---       ┆   ┆ ---       ┆ ---      ┆ ---   ┆ ---   │\n",
      "│ f64       ┆ f64       ┆ f64       ┆ f64       ┆   ┆ f64       ┆ f64      ┆ f64   ┆ f64   │\n",
      "╞═══════════╪═══════════╪═══════════╪═══════════╪═══╪═══════════╪══════════╪═══════╪═══════╡\n",
      "│ -2.715876 ┆ -2.757723 ┆ -2.770407 ┆ -0.899518 ┆ … ┆ 0.002125  ┆ 0.27351  ┆ 23.0  ┆ 15.0  │\n",
      "│ -2.70152  ┆ -2.708522 ┆ -2.748146 ┆ -0.873293 ┆ … ┆ 0.003248  ┆ 0.243064 ┆ 25.0  ┆ 15.0  │\n",
      "│ -2.730963 ┆ -2.735929 ┆ -2.774846 ┆ -0.890546 ┆ … ┆ -0.000036 ┆ 0.249809 ┆ 27.0  ┆ 15.0  │\n",
      "│ -2.692345 ┆ -2.704085 ┆ -2.749606 ┆ -0.851273 ┆ … ┆ -0.005625 ┆ 0.202575 ┆ 30.0  ┆ 15.0  │\n",
      "│ …         ┆ …         ┆ …         ┆ …         ┆ … ┆ …         ┆ …        ┆ …     ┆ …     │\n",
      "│ -2.672845 ┆ -2.699972 ┆ -2.740713 ┆ -0.787432 ┆ … ┆ -0.000411 ┆ 0.067419 ┆ 30.0  ┆ 18.0  │\n",
      "│ -2.675313 ┆ -2.688572 ┆ -2.737638 ┆ -0.775086 ┆ … ┆ -0.001432 ┆ 0.06022  ┆ 32.0  ┆ 18.0  │\n",
      "│ -2.68215  ┆ -2.698024 ┆ -2.748559 ┆ -0.781714 ┆ … ┆ -0.000888 ┆ 0.055203 ┆ 35.0  ┆ 18.0  │\n",
      "│ -2.689592 ┆ -2.698323 ┆ -2.746654 ┆ -0.785354 ┆ … ┆ 0.000574  ┆ 0.049631 ┆ 40.0  ┆ 18.0  │\n",
      "└───────────┴───────────┴───────────┴───────────┴───┴───────────┴──────────┴───────┴───────┘\n"
     ]
    }
   ],
   "source": [
    "# Dataframe con 98 columnas\n",
    "# 16 primeras para las medias\n",
    "# 64 siguientes para los valores de las matrices de covarianza\n",
    "# Penúltima para el valor del OSNR (dB)\n",
    "# Última para el valor del espaciamiento (GHz)\n",
    "\n",
    "df_dict = {f\"col{n}\": [] for n in range(98)}\n",
    "\n",
    "# Iterate over the dictionary and populate the DataFrame\n",
    "for spacing, osnr in histograms_gmm.items():\n",
    "    for osnr_, gmm_data in osnr.items():\n",
    "        gmm = gmm_data[0]\n",
    "        means = gmm.means_.flatten()\n",
    "        covariances = gmm.covariances_.flatten()\n",
    "        osnr_value = np.array([float(osnr_[:-2])])\n",
    "        spacing_value = np.array([float(spacing[:-3])])\n",
    "        \n",
    "        features = np.concatenate((means, covariances, osnr_value, spacing_value))\n",
    "        \n",
    "        for n in range(98):\n",
    "            df_dict[f\"col{n}\"].append(features[n])\n",
    "# Reset the index of the DataFrame\n",
    "df = pl.DataFrame(df_dict)\n",
    "\n",
    "# Print the DataFrame\n",
    "print(df)\n",
    "df.write_json(\"histograms.json\")"
   ]
  },
  {
   "cell_type": "markdown",
   "id": "7fba7e1b-2050-4487-a4df-1b13d613613f",
   "metadata": {},
   "source": [
    "## Clasificador con 2 clases"
   ]
  },
  {
   "cell_type": "code",
   "execution_count": 68,
   "id": "3e3092d5-50ab-4b42-9754-df1b1e139e31",
   "metadata": {
    "tags": []
   },
   "outputs": [],
   "source": [
    "interval_lst = [(0, 17.6), (17.6, 18)]\n",
    "df_2classes = classificator(df, interval_lst, \"col97\")"
   ]
  },
  {
   "cell_type": "code",
   "execution_count": 69,
   "id": "ec38d9a3-3269-48c2-bb1e-bced7d47341a",
   "metadata": {},
   "outputs": [
    {
     "name": "stdout",
     "output_type": "stream",
     "text": [
      "[{'units': 256, 'activation': 'relu'}, {'units': 128, 'activation': 'tanh'}, {'units': 64, 'activation': 'sigmoid'}]\n",
      "Needed iterations: 5000\n",
      "2/2 [==============================] - 0s 2ms/step\n",
      "1/1 [==============================] - 0s 14ms/step\n",
      "Needed iterations: 5000\n",
      "2/2 [==============================] - 0s 1ms/step\n",
      "1/1 [==============================] - 0s 13ms/step\n",
      "Needed iterations: 5000\n",
      "2/2 [==============================] - 0s 2ms/step\n",
      "1/1 [==============================] - 0s 14ms/step\n",
      "Needed iterations: 5000\n",
      "2/2 [==============================] - 0s 2ms/step\n",
      "1/1 [==============================] - 0s 12ms/step\n",
      "Needed iterations: 5000\n",
      "WARNING:tensorflow:5 out of the last 13 calls to <function Model.make_predict_function.<locals>.predict_function at 0x7f1ac02b49a0> triggered tf.function retracing. Tracing is expensive and the excessive number of tracings could be due to (1) creating @tf.function repeatedly in a loop, (2) passing tensors with different shapes, (3) passing Python objects instead of tensors. For (1), please define your @tf.function outside of the loop. For (2), @tf.function has reduce_retracing=True option that can avoid unnecessary retracing. For (3), please refer to https://www.tensorflow.org/guide/function#controlling_retracing and https://www.tensorflow.org/api_docs/python/tf/function for  more details.\n",
      "2/2 [==============================] - 0s 2ms/step\n",
      "1/1 [==============================] - 0s 13ms/step\n",
      "Stored 'scores_histograms_2classes_woOSNR' (dict)\n",
      "CPU times: user 1min 27s, sys: 3.89 s, total: 1min 31s\n",
      "Wall time: 1min 8s\n"
     ]
    }
   ],
   "source": [
    "%%time\n",
    "args = {\"data\": df_2classes, \"n_splits\": 5, \"max_neurons\": 256, \"activations\": [\"relu\", \"tanh\", \"sigmoid\"], \"classes_n\": len(interval_lst), \"loss_fn\": \"sparse_categorical_crossentropy\", \"use_osnr\": False}\n",
    "scores_histograms_2classes_woOSNR = calc_once(\"scores_histograms_2classes_woOSNR\", test_classification_model, args)\n",
    "%store scores_histograms_2classes_woOSNR"
   ]
  },
  {
   "cell_type": "code",
   "execution_count": 70,
   "id": "afd573d7-a0e9-4084-85b9-5d05dad0017a",
   "metadata": {},
   "outputs": [
    {
     "name": "stdout",
     "output_type": "stream",
     "text": [
      "[{'units': 256, 'activation': 'relu'}, {'units': 128, 'activation': 'tanh'}, {'units': 64, 'activation': 'sigmoid'}]\n",
      "Needed iterations: 5000\n",
      "WARNING:tensorflow:5 out of the last 13 calls to <function Model.make_predict_function.<locals>.predict_function at 0x7f1b68cfa480> triggered tf.function retracing. Tracing is expensive and the excessive number of tracings could be due to (1) creating @tf.function repeatedly in a loop, (2) passing tensors with different shapes, (3) passing Python objects instead of tensors. For (1), please define your @tf.function outside of the loop. For (2), @tf.function has reduce_retracing=True option that can avoid unnecessary retracing. For (3), please refer to https://www.tensorflow.org/guide/function#controlling_retracing and https://www.tensorflow.org/api_docs/python/tf/function for  more details.\n",
      "2/2 [==============================] - 0s 2ms/step\n",
      "1/1 [==============================] - 0s 14ms/step\n",
      "Needed iterations: 5000\n",
      "2/2 [==============================] - 0s 2ms/step\n",
      "1/1 [==============================] - 0s 13ms/step\n",
      "Needed iterations: 5000\n",
      "2/2 [==============================] - 0s 2ms/step\n",
      "1/1 [==============================] - 0s 26ms/step\n",
      "Needed iterations: 5000\n",
      "2/2 [==============================] - 0s 2ms/step\n",
      "1/1 [==============================] - 0s 13ms/step\n",
      "Needed iterations: 5000\n",
      "2/2 [==============================] - 0s 1ms/step\n",
      "1/1 [==============================] - 0s 11ms/step\n",
      "Stored 'scores_histograms_2classes' (dict)\n",
      "CPU times: user 1min 25s, sys: 3.39 s, total: 1min 29s\n",
      "Wall time: 1min 6s\n"
     ]
    }
   ],
   "source": [
    "%%time\n",
    "args = {\"data\": df_2classes, \"n_splits\": 5, \"max_neurons\": 256, \"activations\": [\"relu\", \"tanh\", \"sigmoid\"], \"classes_n\": len(interval_lst), \"loss_fn\": \"sparse_categorical_crossentropy\", \"use_osnr\": True}\n",
    "scores_histograms_2classes = calc_once(\"scores_histograms_2classes\", test_classification_model, args)\n",
    "%store scores_histograms_2classes"
   ]
  },
  {
   "cell_type": "markdown",
   "id": "c453df5a-c617-46e5-a935-5338e882338d",
   "metadata": {},
   "source": [
    "## Clasificador con 3 clases"
   ]
  },
  {
   "cell_type": "code",
   "execution_count": 71,
   "id": "8169c276-667a-42e8-80d0-8e17de768083",
   "metadata": {
    "tags": []
   },
   "outputs": [],
   "source": [
    "interval_lst = [(0, 17), (17, 17.6), (17.6, 18)]\n",
    "df_3classes = classificator(df, interval_lst, \"col97\")"
   ]
  },
  {
   "cell_type": "code",
   "execution_count": 72,
   "id": "cba79e7d-8f3c-4257-9c81-1b06c1f566e9",
   "metadata": {},
   "outputs": [
    {
     "name": "stdout",
     "output_type": "stream",
     "text": [
      "[{'units': 256, 'activation': 'relu'}, {'units': 128, 'activation': 'tanh'}, {'units': 64, 'activation': 'sigmoid'}]\n",
      "Needed iterations: 5000\n",
      "2/2 [==============================] - 0s 2ms/step\n",
      "1/1 [==============================] - 0s 11ms/step\n",
      "Needed iterations: 5000\n",
      "2/2 [==============================] - 0s 1ms/step\n",
      "1/1 [==============================] - 0s 12ms/step\n",
      "Needed iterations: 5000\n",
      "2/2 [==============================] - 0s 2ms/step\n",
      "1/1 [==============================] - 0s 11ms/step\n",
      "Needed iterations: 5000\n",
      "2/2 [==============================] - 0s 1ms/step\n",
      "1/1 [==============================] - 0s 11ms/step\n",
      "Needed iterations: 5000\n",
      "2/2 [==============================] - 0s 1ms/step\n",
      "1/1 [==============================] - 0s 11ms/step\n",
      "Stored 'scores_histograms_3classes_woOSNR' (dict)\n",
      "CPU times: user 1min 22s, sys: 3.49 s, total: 1min 25s\n",
      "Wall time: 1min 3s\n"
     ]
    }
   ],
   "source": [
    "%%time\n",
    "args = {\"data\": df_3classes, \"n_splits\": 5, \"max_neurons\": 256, \"activations\": [\"relu\", \"tanh\", \"sigmoid\"], \"classes_n\": len(interval_lst), \"loss_fn\": \"sparse_categorical_crossentropy\", \"use_osnr\": False}\n",
    "scores_histograms_3classes_woOSNR = calc_once(\"scores_histograms_3classes_woOSNR\", test_classification_model, args)\n",
    "%store scores_histograms_3classes_woOSNR"
   ]
  },
  {
   "cell_type": "code",
   "execution_count": 73,
   "id": "6578199f-226e-4254-b4d6-bb539d020491",
   "metadata": {},
   "outputs": [
    {
     "name": "stdout",
     "output_type": "stream",
     "text": [
      "[{'units': 256, 'activation': 'relu'}, {'units': 128, 'activation': 'tanh'}, {'units': 64, 'activation': 'sigmoid'}]\n",
      "Needed iterations: 5000\n",
      "2/2 [==============================] - 0s 1ms/step\n",
      "1/1 [==============================] - 0s 11ms/step\n",
      "Needed iterations: 5000\n",
      "2/2 [==============================] - 0s 1ms/step\n",
      "1/1 [==============================] - 0s 14ms/step\n",
      "Needed iterations: 5000\n",
      "2/2 [==============================] - 0s 2ms/step\n",
      "1/1 [==============================] - 0s 11ms/step\n",
      "Needed iterations: 5000\n",
      "2/2 [==============================] - 0s 1ms/step\n",
      "1/1 [==============================] - 0s 12ms/step\n",
      "Needed iterations: 5000\n",
      "2/2 [==============================] - 0s 2ms/step\n",
      "1/1 [==============================] - 0s 12ms/step\n",
      "Stored 'scores_histograms_3classes' (dict)\n",
      "CPU times: user 1min 24s, sys: 3.41 s, total: 1min 27s\n",
      "Wall time: 1min 5s\n"
     ]
    }
   ],
   "source": [
    "%%time\n",
    "args = {\"data\": df_3classes, \"n_splits\": 5, \"max_neurons\": 256, \"activations\": [\"relu\", \"tanh\", \"sigmoid\"], \"classes_n\": len(interval_lst), \"loss_fn\": \"sparse_categorical_crossentropy\", \"use_osnr\": True}\n",
    "scores_histograms_3classes = calc_once(\"scores_histograms_3classes\", test_classification_model, args)\n",
    "%store scores_histograms_3classes"
   ]
  },
  {
   "cell_type": "markdown",
   "id": "5ab4c2a4-3e87-4739-871a-769f7c7666c1",
   "metadata": {},
   "source": [
    "## Clasificador con 4 clases"
   ]
  },
  {
   "cell_type": "code",
   "execution_count": 74,
   "id": "fd9f34a5-db68-4775-8744-113945c5a42f",
   "metadata": {
    "tags": []
   },
   "outputs": [],
   "source": [
    "interval_lst = [(0, 16.5), (16.5, 17), (17, 17.6), (17.6, 18)]\n",
    "df_4classes = classificator(df, interval_lst, \"col97\")"
   ]
  },
  {
   "cell_type": "code",
   "execution_count": 75,
   "id": "741a8f70-ab3b-45e8-b17c-b6f09b4f7ee7",
   "metadata": {},
   "outputs": [
    {
     "name": "stdout",
     "output_type": "stream",
     "text": [
      "[{'units': 256, 'activation': 'relu'}, {'units': 128, 'activation': 'tanh'}, {'units': 64, 'activation': 'sigmoid'}]\n",
      "Needed iterations: 5000\n",
      "2/2 [==============================] - 0s 2ms/step\n",
      "1/1 [==============================] - 0s 12ms/step\n",
      "Needed iterations: 5000\n",
      "2/2 [==============================] - 0s 1ms/step\n",
      "1/1 [==============================] - 0s 14ms/step\n",
      "Needed iterations: 5000\n",
      "2/2 [==============================] - 0s 2ms/step\n",
      "1/1 [==============================] - 0s 13ms/step\n",
      "Needed iterations: 5000\n",
      "2/2 [==============================] - 0s 1ms/step\n",
      "1/1 [==============================] - 0s 11ms/step\n",
      "Needed iterations: 5000\n",
      "2/2 [==============================] - 0s 1ms/step\n",
      "1/1 [==============================] - 0s 11ms/step\n",
      "Stored 'scores_histograms_4classes_woOSNR' (dict)\n",
      "CPU times: user 1min 26s, sys: 3.58 s, total: 1min 30s\n",
      "Wall time: 1min 6s\n"
     ]
    }
   ],
   "source": [
    "%%time\n",
    "args = {\"data\": df_4classes, \"n_splits\": 5, \"max_neurons\": 256, \"activations\": [\"relu\", \"tanh\", \"sigmoid\"], \"classes_n\": len(interval_lst), \"loss_fn\": \"sparse_categorical_crossentropy\", \"use_osnr\": False}\n",
    "scores_histograms_4classes_woOSNR = calc_once(\"scores_histograms_4classes_woOSNR\", test_classification_model, args)\n",
    "%store scores_histograms_4classes_woOSNR"
   ]
  },
  {
   "cell_type": "code",
   "execution_count": 76,
   "id": "dfcdab0f-8f7f-43d1-8ba9-3ef5dd1e763a",
   "metadata": {},
   "outputs": [
    {
     "name": "stdout",
     "output_type": "stream",
     "text": [
      "[{'units': 256, 'activation': 'relu'}, {'units': 128, 'activation': 'tanh'}, {'units': 64, 'activation': 'sigmoid'}]\n",
      "Needed iterations: 5000\n",
      "2/2 [==============================] - 0s 1ms/step\n",
      "1/1 [==============================] - 0s 12ms/step\n",
      "Needed iterations: 5000\n",
      "2/2 [==============================] - 0s 1ms/step\n",
      "1/1 [==============================] - 0s 13ms/step\n",
      "Needed iterations: 5000\n",
      "2/2 [==============================] - 0s 1ms/step\n",
      "1/1 [==============================] - 0s 12ms/step\n",
      "Needed iterations: 5000\n",
      "2/2 [==============================] - 0s 1ms/step\n",
      "1/1 [==============================] - 0s 13ms/step\n",
      "Needed iterations: 5000\n",
      "2/2 [==============================] - 0s 1ms/step\n",
      "1/1 [==============================] - 0s 12ms/step\n",
      "Stored 'scores_histograms_4classes' (dict)\n",
      "CPU times: user 1min 23s, sys: 3.29 s, total: 1min 27s\n",
      "Wall time: 1min 4s\n"
     ]
    }
   ],
   "source": [
    "%%time\n",
    "args = {\"data\": df_4classes, \"n_splits\": 5, \"max_neurons\": 256, \"activations\": [\"relu\", \"tanh\", \"sigmoid\"], \"classes_n\": len(interval_lst), \"loss_fn\": \"sparse_categorical_crossentropy\", \"use_osnr\": True}\n",
    "scores_histograms_4classes = calc_once(\"scores_histograms_4classes\", test_classification_model, args)\n",
    "%store scores_histograms_4classes"
   ]
  },
  {
   "cell_type": "markdown",
   "id": "773fd190-35cd-4035-a610-885f74714adc",
   "metadata": {},
   "source": [
    "## Clasificador con 5 clases"
   ]
  },
  {
   "cell_type": "code",
   "execution_count": 77,
   "id": "c0d59fbd-ec9c-46bf-9cc4-f1502a80bda1",
   "metadata": {
    "tags": []
   },
   "outputs": [],
   "source": [
    "interval_lst = [(0, 16), (16, 16.5), (16.5, 17), (17, 17.6), (17.6, 18)]\n",
    "df_5classes = classificator(df, interval_lst, \"col97\")"
   ]
  },
  {
   "cell_type": "code",
   "execution_count": 78,
   "id": "0acbc913-e052-4c9a-a132-5d366e585ce2",
   "metadata": {},
   "outputs": [
    {
     "name": "stdout",
     "output_type": "stream",
     "text": [
      "[{'units': 256, 'activation': 'relu'}, {'units': 128, 'activation': 'tanh'}, {'units': 64, 'activation': 'sigmoid'}]\n",
      "Needed iterations: 5000\n",
      "2/2 [==============================] - 0s 1ms/step\n",
      "1/1 [==============================] - 0s 12ms/step\n",
      "Needed iterations: 5000\n",
      "2/2 [==============================] - 0s 1ms/step\n",
      "1/1 [==============================] - 0s 12ms/step\n",
      "Needed iterations: 5000\n",
      "2/2 [==============================] - 0s 1ms/step\n",
      "1/1 [==============================] - 0s 12ms/step\n",
      "Needed iterations: 5000\n",
      "2/2 [==============================] - 0s 1ms/step\n",
      "1/1 [==============================] - 0s 12ms/step\n",
      "Needed iterations: 5000\n",
      "2/2 [==============================] - 0s 1ms/step\n",
      "1/1 [==============================] - 0s 13ms/step\n",
      "Stored 'scores_histograms_5classes_woOSNR' (dict)\n",
      "CPU times: user 1min 24s, sys: 3.32 s, total: 1min 27s\n",
      "Wall time: 1min 5s\n"
     ]
    }
   ],
   "source": [
    "%%time\n",
    "args = {\"data\": df_5classes, \"n_splits\": 5, \"max_neurons\": 256, \"activations\": [\"relu\", \"tanh\", \"sigmoid\"], \"classes_n\": len(interval_lst), \"loss_fn\": \"sparse_categorical_crossentropy\", \"use_osnr\": False}\n",
    "scores_histograms_5classes_woOSNR = calc_once(\"scores_histograms_5classes_woOSNR\", test_classification_model, args)\n",
    "%store scores_histograms_5classes_woOSNR"
   ]
  },
  {
   "cell_type": "code",
   "execution_count": 79,
   "id": "ac9e9b90-b15c-4eb2-8083-e6ade2dfc900",
   "metadata": {},
   "outputs": [
    {
     "name": "stdout",
     "output_type": "stream",
     "text": [
      "[{'units': 256, 'activation': 'relu'}, {'units': 128, 'activation': 'tanh'}, {'units': 64, 'activation': 'sigmoid'}]\n",
      "Needed iterations: 5000\n",
      "2/2 [==============================] - 0s 1ms/step\n",
      "1/1 [==============================] - 0s 12ms/step\n",
      "Needed iterations: 5000\n",
      "2/2 [==============================] - 0s 1ms/step\n",
      "1/1 [==============================] - 0s 17ms/step\n",
      "Needed iterations: 5000\n",
      "2/2 [==============================] - 0s 1ms/step\n",
      "1/1 [==============================] - 0s 11ms/step\n",
      "Needed iterations: 5000\n",
      "2/2 [==============================] - 0s 2ms/step\n",
      "1/1 [==============================] - 0s 13ms/step\n",
      "Needed iterations: 5000\n",
      "2/2 [==============================] - 0s 1ms/step\n",
      "1/1 [==============================] - 0s 12ms/step\n",
      "Stored 'scores_histograms_5classes' (dict)\n",
      "CPU times: user 1min 26s, sys: 3.3 s, total: 1min 29s\n",
      "Wall time: 1min 6s\n"
     ]
    }
   ],
   "source": [
    "%%time\n",
    "args = {\"data\": df_5classes, \"n_splits\": 5, \"max_neurons\": 256, \"activations\": [\"relu\", \"tanh\", \"sigmoid\"], \"classes_n\": len(interval_lst), \"loss_fn\": \"sparse_categorical_crossentropy\", \"use_osnr\": True}\n",
    "scores_histograms_5classes = calc_once(\"scores_histograms_5classes\", test_classification_model, args)\n",
    "%store scores_histograms_5classes"
   ]
  },
  {
   "cell_type": "markdown",
   "id": "6c0e5ce5-8e32-4f4e-b3c4-e8ee0c04bf31",
   "metadata": {},
   "source": [
    "## Clasificador con 6 clases"
   ]
  },
  {
   "cell_type": "code",
   "execution_count": 80,
   "id": "58b334e2-972a-4633-b62c-e99ccc1db4a7",
   "metadata": {
    "tags": []
   },
   "outputs": [],
   "source": [
    "interval_lst = [(0, 15.5), (15.5, 16), (16, 16.5), (16.5, 17), (17, 17.6), (17.6, 18)]\n",
    "df_6classes = classificator(df, interval_lst, \"col97\")"
   ]
  },
  {
   "cell_type": "code",
   "execution_count": 81,
   "id": "69c75dd7-50b4-49a3-8726-fbaef0ee4a33",
   "metadata": {},
   "outputs": [
    {
     "name": "stdout",
     "output_type": "stream",
     "text": [
      "[{'units': 256, 'activation': 'relu'}, {'units': 128, 'activation': 'tanh'}, {'units': 64, 'activation': 'sigmoid'}]\n",
      "Needed iterations: 5000\n",
      "2/2 [==============================] - 0s 2ms/step\n",
      "1/1 [==============================] - 0s 12ms/step\n",
      "Needed iterations: 5000\n",
      "2/2 [==============================] - 0s 1ms/step\n",
      "1/1 [==============================] - 0s 12ms/step\n",
      "Needed iterations: 5000\n",
      "2/2 [==============================] - 0s 1ms/step\n",
      "1/1 [==============================] - 0s 13ms/step\n",
      "Needed iterations: 5000\n",
      "2/2 [==============================] - 0s 2ms/step\n",
      "1/1 [==============================] - 0s 13ms/step\n",
      "Needed iterations: 5000\n",
      "2/2 [==============================] - 0s 1ms/step\n",
      "1/1 [==============================] - 0s 12ms/step\n",
      "Stored 'scores_histograms_6classes_woOSNR' (dict)\n",
      "CPU times: user 1min 28s, sys: 3.34 s, total: 1min 31s\n",
      "Wall time: 1min 8s\n"
     ]
    }
   ],
   "source": [
    "%%time\n",
    "args = {\"data\": df_6classes, \"n_splits\": 5, \"max_neurons\": 256, \"activations\": [\"relu\", \"tanh\", \"sigmoid\"], \"classes_n\": len(interval_lst), \"loss_fn\": \"sparse_categorical_crossentropy\", \"use_osnr\": False}\n",
    "scores_histograms_6classes_woOSNR = calc_once(\"scores_histograms_6classes_woOSNR\", test_classification_model, args)\n",
    "%store scores_histograms_6classes_woOSNR"
   ]
  },
  {
   "cell_type": "code",
   "execution_count": 82,
   "id": "d658da86-b4ed-4524-8495-c973ed148b44",
   "metadata": {},
   "outputs": [
    {
     "name": "stdout",
     "output_type": "stream",
     "text": [
      "[{'units': 256, 'activation': 'relu'}, {'units': 128, 'activation': 'tanh'}, {'units': 64, 'activation': 'sigmoid'}]\n",
      "Needed iterations: 5000\n",
      "2/2 [==============================] - 0s 1ms/step\n",
      "1/1 [==============================] - 0s 11ms/step\n",
      "Needed iterations: 5000\n",
      "2/2 [==============================] - 0s 1ms/step\n",
      "1/1 [==============================] - 0s 11ms/step\n",
      "Needed iterations: 5000\n",
      "2/2 [==============================] - 0s 1ms/step\n",
      "1/1 [==============================] - 0s 11ms/step\n",
      "Needed iterations: 5000\n",
      "2/2 [==============================] - 0s 2ms/step\n",
      "1/1 [==============================] - 0s 11ms/step\n",
      "Needed iterations: 5000\n",
      "2/2 [==============================] - 0s 1ms/step\n",
      "1/1 [==============================] - 0s 12ms/step\n",
      "Stored 'scores_histograms_6classes' (dict)\n",
      "CPU times: user 1min 24s, sys: 3.32 s, total: 1min 27s\n",
      "Wall time: 1min 5s\n"
     ]
    }
   ],
   "source": [
    "%%time\n",
    "args = {\"data\": df_6classes, \"n_splits\": 5, \"max_neurons\": 256, \"activations\": [\"relu\", \"tanh\", \"sigmoid\"], \"classes_n\": len(interval_lst), \"loss_fn\": \"sparse_categorical_crossentropy\", \"use_osnr\": True}\n",
    "scores_histograms_6classes = calc_once(\"scores_histograms_6classes\", test_classification_model, args)\n",
    "%store scores_histograms_6classes"
   ]
  },
  {
   "cell_type": "markdown",
   "id": "0e33d150-7bd4-46e1-9cde-6ed98c9fd347",
   "metadata": {},
   "source": [
    "## Clasificador con 7 clases"
   ]
  },
  {
   "cell_type": "code",
   "execution_count": 83,
   "id": "1f22d9ab-59fe-48ae-90ee-8371ea9c209f",
   "metadata": {
    "tags": []
   },
   "outputs": [],
   "source": [
    "interval_lst = [(0, 15), (15, 15.5), (15.5, 16), (16, 16.5), (16.5, 17), (17, 17.6), (17.6, 18)]\n",
    "df_7classes = classificator(df, interval_lst, \"col97\")"
   ]
  },
  {
   "cell_type": "code",
   "execution_count": 84,
   "id": "a23a07b9-a0a5-4958-81c2-ab812478cdeb",
   "metadata": {},
   "outputs": [
    {
     "name": "stdout",
     "output_type": "stream",
     "text": [
      "[{'units': 256, 'activation': 'relu'}, {'units': 128, 'activation': 'tanh'}, {'units': 64, 'activation': 'sigmoid'}]\n",
      "Needed iterations: 5000\n",
      "2/2 [==============================] - 0s 2ms/step\n",
      "1/1 [==============================] - 0s 12ms/step\n",
      "Needed iterations: 5000\n",
      "2/2 [==============================] - 0s 1ms/step\n",
      "1/1 [==============================] - 0s 12ms/step\n",
      "Needed iterations: 5000\n",
      "2/2 [==============================] - 0s 2ms/step\n",
      "1/1 [==============================] - 0s 13ms/step\n",
      "Needed iterations: 5000\n",
      "2/2 [==============================] - 0s 2ms/step\n",
      "1/1 [==============================] - 0s 12ms/step\n",
      "Needed iterations: 5000\n",
      "2/2 [==============================] - 0s 2ms/step\n",
      "1/1 [==============================] - 0s 11ms/step\n",
      "Stored 'scores_histograms_7classes_woOSNR' (dict)\n",
      "CPU times: user 1min 23s, sys: 3.34 s, total: 1min 26s\n",
      "Wall time: 1min 4s\n"
     ]
    }
   ],
   "source": [
    "%%time\n",
    "args = {\"data\": df_7classes, \"n_splits\": 5, \"max_neurons\": 256, \"activations\": [\"relu\", \"tanh\", \"sigmoid\"], \"classes_n\": len(interval_lst), \"loss_fn\": \"sparse_categorical_crossentropy\", \"use_osnr\": False}\n",
    "scores_histograms_7classes_woOSNR = calc_once(\"scores_histograms_7classes_woOSNR\", test_classification_model, args)\n",
    "%store scores_histograms_7classes_woOSNR"
   ]
  },
  {
   "cell_type": "code",
   "execution_count": 85,
   "id": "3f913abb-4062-4d1f-a873-9c4a750fb8b9",
   "metadata": {},
   "outputs": [
    {
     "name": "stdout",
     "output_type": "stream",
     "text": [
      "[{'units': 256, 'activation': 'relu'}, {'units': 128, 'activation': 'tanh'}, {'units': 64, 'activation': 'sigmoid'}]\n",
      "Needed iterations: 5000\n",
      "2/2 [==============================] - 0s 1ms/step\n",
      "1/1 [==============================] - 0s 12ms/step\n",
      "Needed iterations: 5000\n",
      "2/2 [==============================] - 0s 1ms/step\n",
      "1/1 [==============================] - 0s 11ms/step\n",
      "Needed iterations: 5000\n",
      "2/2 [==============================] - 0s 1ms/step\n",
      "1/1 [==============================] - 0s 12ms/step\n",
      "Needed iterations: 5000\n",
      "2/2 [==============================] - 0s 1ms/step\n",
      "1/1 [==============================] - 0s 12ms/step\n",
      "Needed iterations: 5000\n",
      "2/2 [==============================] - 0s 1ms/step\n",
      "1/1 [==============================] - 0s 11ms/step\n",
      "Stored 'scores_histograms_7classes' (dict)\n",
      "CPU times: user 1min 26s, sys: 3.08 s, total: 1min 29s\n",
      "Wall time: 1min 7s\n"
     ]
    }
   ],
   "source": [
    "%%time\n",
    "args = {\"data\": df_7classes, \"n_splits\": 5, \"max_neurons\": 256, \"activations\": [\"relu\", \"tanh\", \"sigmoid\"], \"classes_n\": len(interval_lst), \"loss_fn\": \"sparse_categorical_crossentropy\", \"use_osnr\": True}\n",
    "scores_histograms_7classes = calc_once(\"scores_histograms_7classes\", test_classification_model, args)\n",
    "%store scores_histograms_7classes"
   ]
  },
  {
   "cell_type": "markdown",
   "id": "132c7563-c35b-42a4-aaee-f5ff065c745c",
   "metadata": {},
   "source": [
    "## Gráficas"
   ]
  },
  {
   "cell_type": "code",
   "execution_count": 86,
   "id": "48e37227-a860-4b01-9db7-45a8b1d86ad2",
   "metadata": {
    "tags": []
   },
   "outputs": [
    {
     "data": {
      "image/png": "[encoded data removed]",
      "text/plain": [
       "<Figure size 800x600 with 1 Axes>"
      ]
     },
     "metadata": {},
     "output_type": "display_data"
    }
   ],
   "source": [
    "classes_n = [2, 3, 4, 5, 6, 7]\n",
    "OSNR = [\"\", \"_woOSNR\"]\n",
    "classes_scores = {f\"scores_histograms{osnr}\":\n",
    "                  [np.average(\n",
    "                      eval(f\"scores_histograms_{n}classes{osnr}\").get(\n",
    "                          \"acc\"\n",
    "                      ).get(\n",
    "                          \"test\"\n",
    "                      )\n",
    "                  ) for n in classes_n]\n",
    "                  for osnr in OSNR\n",
    "                 }\n",
    "plt.figure(figsize=(8, 6), layout=\"constrained\")\n",
    "ax = plt.subplot(1, 1, 1)\n",
    "for osnr in OSNR:\n",
    "    OSNR_label = \" with OSNR\" if osnr == \"\" else \" without OSNR\"\n",
    "    marker = \"8\"\n",
    "    plt.plot(classes_n, classes_scores.get(f\"scores_histograms{osnr}\"),\n",
    "             marker=marker, linestyle=\"--\",\n",
    "             label=OSNR_label)\n",
    "plt.xlabel(\"Number of classes\")\n",
    "ax.set_xticks(classes_n)\n",
    "plt.ylabel(\"Accuracy\")\n",
    "# Shrink current axis by 20%\n",
    "box = ax.get_position()\n",
    "ax.set_position([box.x0, box.y0, box.width * 0.8, box.height])\n",
    "\n",
    "# Transparent white box black edge legend\n",
    "legend = plt.legend(loc=\"center left\", bbox_to_anchor=(1, 0.5),\n",
    "                    edgecolor=\"black\")\n",
    "legend.get_frame().set_alpha(None)\n",
    "legend.get_frame().set_facecolor((1, 1, 1, 0.01))\n",
    "plt.grid(True)\n",
    "\n",
    "plt.savefig(\"hist_classes.svg\", format=\"svg\", transparent=True, bbox_inches=\"tight\")"
   ]
  },
  {
   "cell_type": "code",
   "execution_count": null,
   "id": "a8cdc20d-82ad-44f3-8096-7320070d8974",
   "metadata": {},
   "outputs": [],
   "source": []
  }
 ],
 "metadata": {
  "kernelspec": {
   "display_name": "Python 3 (ipykernel)",
   "language": "python",
   "name": "python3"
  },
  "language_info": {
   "codemirror_mode": {
    "name": "ipython",
    "version": 3
   },
   "file_extension": ".py",
   "mimetype": "text/x-python",
   "name": "python",
   "nbconvert_exporter": "python",
   "pygments_lexer": "ipython3",
   "version": "3.11.4"
  }
 },
 "nbformat": 4,
 "nbformat_minor": 5
}
