{
  "cells": [
    {
      "cell_type": "markdown",
      "metadata": {
        "id": "view-in-github",
        "colab_type": "text"
      },
      "source": [
        "<a href=\"https://colab.research.google.com/github/jjgranadat/Semillero_SOFA/blob/main/KNN_16QAM.ipynb\" target=\"_parent\"><img src=\"https://colab.research.google.com/assets/colab-badge.svg\" alt=\"Open In Colab\"/></a>"
      ]
    },
    {
      "cell_type": "code",
      "execution_count": null,
      "id": "b9971a29",
      "metadata": {
        "id": "b9971a29"
      },
      "outputs": [],
      "source": [
        "import pandas as pd\n",
        "import numpy as np\n",
        "import matplotlib.pyplot as plt\n",
        "import seaborn as sns\n",
        "from sklearn.neighbors import KNeighborsClassifier\n",
        "from sklearn.model_selection import train_test_split\n",
        "from sklearn import metrics"
      ]
    },
    {
      "cell_type": "markdown",
      "id": "4e722f9c",
      "metadata": {
        "id": "4e722f9c"
      },
      "source": [
        "# Generación y modulación"
      ]
    },
    {
      "cell_type": "code",
      "execution_count": null,
      "id": "682b151a",
      "metadata": {
        "id": "682b151a",
        "outputId": "8b47d5ed-9cf2-4cf8-902a-4ae43d6849d5"
      },
      "outputs": [
        {
          "name": "stdout",
          "output_type": "stream",
          "text": [
            "[14 12 12  5  3  3  8  9 13  5]\n"
          ]
        }
      ],
      "source": [
        "Ns= 10000\n",
        "Mod=16 #16QAM\n",
        "Symbols_tx = np.random.randint(Mod, size=Ns)\n",
        "df_sym_tx= pd.DataFrame(Symbols_tx)\n",
        "print(Symbols_tx[0:10])"
      ]
    },
    {
      "cell_type": "code",
      "execution_count": null,
      "id": "f6c2a752",
      "metadata": {
        "id": "f6c2a752"
      },
      "outputs": [],
      "source": [
        "mod_dict = {0:-3+3j, #0000\n",
        "            1:-3+1j, #0001\n",
        "            2:-3-3j, #0010\n",
        "            3:-3-1j, #0011\n",
        "            4:-1+3j, #0100\n",
        "            5:-1+1j, #0101\n",
        "            6:-1-3j, #0110\n",
        "            7:-1-1j, #0111\n",
        "            8:3+3j, #1000\n",
        "            9:3+1j, #1001\n",
        "            10:3-3j, #1010\n",
        "            11:3-1j, #1011\n",
        "            12:1+3j, #1100\n",
        "            13:1+1j, #1101\n",
        "            14:1-3j, #1110\n",
        "            15:1-1j} #1111"
      ]
    },
    {
      "cell_type": "code",
      "execution_count": null,
      "id": "592082b3",
      "metadata": {
        "id": "592082b3",
        "outputId": "559b8d0f-9c19-4670-abdc-2d747ee3b724"
      },
      "outputs": [
        {
          "data": {
            "text/plain": [
              "0     1.0-3.0j\n",
              "1     1.0+3.0j\n",
              "2     1.0+3.0j\n",
              "3    -1.0+1.0j\n",
              "4    -3.0-1.0j\n",
              "5    -3.0-1.0j\n",
              "6     3.0+3.0j\n",
              "7     3.0+1.0j\n",
              "8     1.0+1.0j\n",
              "9    -1.0+1.0j\n",
              "10    1.0-3.0j\n",
              "11    1.0-1.0j\n",
              "12    1.0+3.0j\n",
              "13    3.0-1.0j\n",
              "14    3.0+1.0j\n",
              "15   -3.0-3.0j\n",
              "16    3.0-1.0j\n",
              "17    3.0+3.0j\n",
              "18   -3.0-3.0j\n",
              "19   -3.0-3.0j\n",
              "Name: 0, dtype: complex128"
            ]
          },
          "execution_count": 4,
          "metadata": {},
          "output_type": "execute_result"
        }
      ],
      "source": [
        "#Modulación reemplazando símbolos por valores complejos - mapeo (opción 2)\n",
        "df_sym_mod2 = df_sym_tx.iloc[:,0].map(mod_dict)\n",
        "df_sym_mod2.head(20)"
      ]
    },
    {
      "cell_type": "markdown",
      "id": "6b7b54bb",
      "metadata": {
        "id": "6b7b54bb"
      },
      "source": [
        "# Transmisión canal AWGN"
      ]
    },
    {
      "cell_type": "code",
      "execution_count": null,
      "id": "23424945",
      "metadata": {
        "id": "23424945"
      },
      "outputs": [],
      "source": [
        "Xr = np.real(df_sym_mod2)\n",
        "Xi = np.imag(df_sym_mod2)"
      ]
    },
    {
      "cell_type": "code",
      "execution_count": null,
      "id": "a237ff67",
      "metadata": {
        "id": "a237ff67"
      },
      "outputs": [],
      "source": [
        "# Adición de ruido blanco Gaussiano (AWGN)\n",
        "\n",
        "target_snr_db = 16\n",
        "Xr_avg_p = np.mean(Xr**2)\n",
        "Xr_avg_db = 10 * np.log10(Xr_avg_p)\n",
        "#print(Xr_avg_db)\n",
        "noise_avg_db_r = Xr_avg_db - target_snr_db\n",
        "noise_avg_p_r = 10 ** (noise_avg_db_r / 10)\n",
        "mean_noise = 0\n",
        "noise_r = np.random.normal(mean_noise, np.sqrt(noise_avg_p_r), len(Xr))\n",
        "Xr_ch = Xr + noise_r\n",
        "\n",
        "Xi_avg_p = np.mean(Xi**2)\n",
        "Xi_avg_db = 10 * np.log10(Xi_avg_p)\n",
        "#print(Xi_avg_db)\n",
        "noise_avg_db_i = Xr_avg_db - target_snr_db\n",
        "noise_avg_p_i = 10 ** (noise_avg_db_i / 10)\n",
        "noise_i = np.random.normal(mean_noise, np.sqrt(noise_avg_p_i), len(Xi))\n",
        "Xi_ch = Xi + noise_i"
      ]
    },
    {
      "cell_type": "code",
      "execution_count": null,
      "id": "e50f70d9",
      "metadata": {
        "id": "e50f70d9",
        "outputId": "770b2224-0143-4b71-8452-28206b8eadaa"
      },
      "outputs": [
        {
          "data": {
            "image/png": "[encoded data removed]",
            "text/plain": [
              "<Figure size 432x288 with 1 Axes>"
            ]
          },
          "metadata": {
            "needs_background": "light"
          },
          "output_type": "display_data"
        }
      ],
      "source": [
        "plt.plot(Xi_ch, Xr_ch, 'o')\n",
        "plt.xlabel('I')\n",
        "plt.ylabel('Q')\n",
        "plt.title('16-QAM')\n",
        "plt.show()"
      ]
    },
    {
      "cell_type": "code",
      "execution_count": null,
      "id": "b025b103",
      "metadata": {
        "id": "b025b103",
        "outputId": "8e90c00c-1c40-4d90-f792-d946fded9bf8"
      },
      "outputs": [
        {
          "data": {
            "image/png": "[encoded data removed]",
            "text/plain": [
              "<Figure size 432x288 with 1 Axes>"
            ]
          },
          "metadata": {
            "needs_background": "light"
          },
          "output_type": "display_data"
        }
      ],
      "source": [
        "fig, ax = plt.subplots()\n",
        "for g in np.unique(Symbols_tx):\n",
        "    ix = np.where(Symbols_tx == g)\n",
        "    ax.scatter(Xr_ch[ix], Xi_ch[ix], label = g, s = 100)\n",
        "ax.legend()\n",
        "plt.xlabel('Característica 1')\n",
        "plt.ylabel('Característica 2')\n",
        "plt.title('Datos')\n",
        "plt.show()"
      ]
    },
    {
      "cell_type": "markdown",
      "id": "86d058cf",
      "metadata": {
        "id": "86d058cf"
      },
      "source": [
        "# Demodulación"
      ]
    },
    {
      "cell_type": "code",
      "execution_count": null,
      "id": "ae9bfe1b",
      "metadata": {
        "id": "ae9bfe1b"
      },
      "outputs": [],
      "source": [
        "def demapper_sym(symbols_I, symbols_Q, Ns, threshold = 2.0):\n",
        "   symbol = []\n",
        "   for i in range(Ns):\n",
        "        if symbols_I[i] <= -threshold and symbols_Q[i] >= threshold: #-3+3j\n",
        "            symbol.append(0)\n",
        "        elif symbols_I[i] <= -threshold and symbols_Q[i] >= 0 and symbols_Q[i] <= threshold: #-3+1j\n",
        "            symbol.append(1)\n",
        "        elif symbols_I[i] <= -threshold and symbols_Q[i] <= 0 and symbols_Q[i] >= -threshold: #-3-j\n",
        "            symbol.append(3)\n",
        "        elif symbols_I[i] <= -threshold and symbols_Q[i] <= -threshold: #-3-3j\n",
        "            symbol.append(2)\n",
        "        elif symbols_I[i] >= -threshold and symbols_I[i] <= 0 and symbols_Q[i] >= threshold: #-1+3j\n",
        "            symbol.append(4)\n",
        "        elif symbols_I[i] >= -threshold and symbols_I[i] <= 0 and symbols_Q[i] >= 0 and symbols_Q[i] <= threshold: #-1+j\n",
        "            symbol.append(5)\n",
        "        elif symbols_I[i] >= -threshold and symbols_I[i] <= 0 and symbols_Q[i] <= 0 and symbols_Q[i] >= -threshold: #-1-j\n",
        "            symbol.append(7)\n",
        "        elif symbols_I[i] >= -threshold and symbols_I[i] <= 0 and symbols_Q[i] <= -threshold: #-1-3j\n",
        "            symbol.append(6)\n",
        "        elif symbols_I[i] >= 0 and symbols_I[i] <= threshold and symbols_Q[i] >= threshold: #1+3j\n",
        "            symbol.append(12)\n",
        "        elif symbols_I[i] >= 0 and symbols_I[i] <= threshold and symbols_Q[i] >= 0 and symbols_Q[i] <= threshold: #1+j\n",
        "            symbol.append(13)\n",
        "        elif symbols_I[i] >= 0 and symbols_I[i] <= threshold and symbols_Q[i] <= 0 and symbols_Q[i] >= -threshold: #1-j\n",
        "            symbol.append(15)\n",
        "        elif symbols_I[i] >= 0 and symbols_I[i] <= threshold and symbols_Q[i] <= -threshold: #1-3j\n",
        "            symbol.append(14)\n",
        "        elif symbols_I[i] >= threshold and symbols_Q[i] >= threshold: #3+3j\n",
        "            symbol.append(8)\n",
        "        elif symbols_I[i] >= threshold and symbols_Q[i] >= 0 and symbols_Q[i] <= threshold: #3+1j\n",
        "            symbol.append(9)\n",
        "        elif symbols_I[i] >= threshold and symbols_Q[i] <= 0 and symbols_Q[i] >= -threshold: #3-1j\n",
        "            symbol.append(11)\n",
        "        elif symbols_I[i] >= threshold and symbols_Q[i] <= -threshold: #3-3j\n",
        "            symbol.append(10)\n",
        "   return(symbol)"
      ]
    },
    {
      "cell_type": "code",
      "execution_count": null,
      "id": "1055b2fd",
      "metadata": {
        "id": "1055b2fd",
        "outputId": "e1b9750c-7ed7-4b52-cfb3-507312b6d828"
      },
      "outputs": [
        {
          "name": "stdout",
          "output_type": "stream",
          "text": [
            "[14, 12, 12, 5, 3, 3, 8, 9, 13, 5]\n"
          ]
        }
      ],
      "source": [
        "sym_rx= demapper_sym(Xr_ch, Xi_ch, len(Xr_ch), threshold = 2.0)\n",
        "print(sym_rx[0:10])"
      ]
    },
    {
      "cell_type": "code",
      "execution_count": null,
      "id": "3e1daa4f",
      "metadata": {
        "id": "3e1daa4f"
      },
      "outputs": [],
      "source": [
        "def SER_f(sym_rx, Symbols_tx, Ns):\n",
        "    error = 0\n",
        "    for i in range(Ns):\n",
        "        if sym_rx[i] == Symbols_tx[i]:\n",
        "            error = error\n",
        "        else:\n",
        "            error= error + 1\n",
        "    SER = error/Ns\n",
        "    return([SER, error])"
      ]
    },
    {
      "cell_type": "code",
      "execution_count": null,
      "id": "10900f95",
      "metadata": {
        "id": "10900f95",
        "outputId": "346db4a8-398b-443d-a04c-24e44c2fa894"
      },
      "outputs": [
        {
          "name": "stdout",
          "output_type": "stream",
          "text": [
            "0.0065\n",
            "65\n"
          ]
        }
      ],
      "source": [
        "SER, error = SER_f(sym_rx, Symbols_tx, Ns)\n",
        "print(SER)\n",
        "print(error)"
      ]
    },
    {
      "cell_type": "markdown",
      "id": "ec8798f5",
      "metadata": {
        "id": "ec8798f5"
      },
      "source": [
        "# Demodulación usando KNN"
      ]
    },
    {
      "cell_type": "code",
      "execution_count": null,
      "id": "2ebd6bb2",
      "metadata": {
        "id": "2ebd6bb2"
      },
      "outputs": [],
      "source": [
        "X = np.transpose(np.array([Xr_ch,Xi_ch]))\n",
        "y= Symbols_tx"
      ]
    },
    {
      "cell_type": "code",
      "execution_count": null,
      "id": "d007a51a",
      "metadata": {
        "id": "d007a51a"
      },
      "outputs": [],
      "source": [
        "X_train, X_test, y_train, y_test = train_test_split(X, y, test_size=0.3) # 70% training and 30% test"
      ]
    },
    {
      "cell_type": "code",
      "execution_count": null,
      "id": "b40c3402",
      "metadata": {
        "id": "b40c3402",
        "outputId": "666aba03-4f10-4d7a-9c99-40df3f0dbe87"
      },
      "outputs": [
        {
          "data": {
            "text/plain": [
              "KNeighborsClassifier(n_neighbors=3)"
            ]
          },
          "execution_count": 15,
          "metadata": {},
          "output_type": "execute_result"
        }
      ],
      "source": [
        "k= 3 # número de vecinos\n",
        "model = KNeighborsClassifier(n_neighbors=k)\n",
        "model.fit(X_train, y_train)"
      ]
    },
    {
      "cell_type": "code",
      "execution_count": null,
      "id": "091b103c",
      "metadata": {
        "id": "091b103c",
        "outputId": "b25c6ce4-b0f4-48b0-e28d-f0628767164a"
      },
      "outputs": [
        {
          "data": {
            "text/plain": [
              "0.9955714285714286"
            ]
          },
          "execution_count": 16,
          "metadata": {},
          "output_type": "execute_result"
        }
      ],
      "source": [
        "model.score(X_train, y_train)"
      ]
    },
    {
      "cell_type": "code",
      "execution_count": null,
      "id": "4d024994",
      "metadata": {
        "id": "4d024994"
      },
      "outputs": [],
      "source": [
        "y_pred = model.predict(X_test)"
      ]
    },
    {
      "cell_type": "code",
      "execution_count": null,
      "id": "749eab5f",
      "metadata": {
        "id": "749eab5f",
        "outputId": "b5e6be84-ca23-42b7-86bf-5773395e2a6e"
      },
      "outputs": [
        {
          "name": "stdout",
          "output_type": "stream",
          "text": [
            "Accuracy: 0.9906666666666667\n"
          ]
        }
      ],
      "source": [
        "print(\"Accuracy:\",metrics.accuracy_score(y_test, y_pred))"
      ]
    },
    {
      "cell_type": "code",
      "execution_count": null,
      "id": "eb1980b7",
      "metadata": {
        "id": "eb1980b7",
        "outputId": "0ab3370b-a6b2-4872-bc64-92881f45d9c0"
      },
      "outputs": [
        {
          "name": "stdout",
          "output_type": "stream",
          "text": [
            "[15  7  8  7  9  1  6  8  7 12]\n",
            "[14  7  8  7  9  1  6  8  7 12]\n"
          ]
        }
      ],
      "source": [
        "print(y_pred[0:10])\n",
        "print(y_test[0:10])"
      ]
    },
    {
      "cell_type": "code",
      "execution_count": null,
      "id": "c519a7fa",
      "metadata": {
        "id": "c519a7fa"
      },
      "outputs": [],
      "source": [
        "SER_test, error_test = SER_f(y_pred, y_test, len(y_pred))"
      ]
    },
    {
      "cell_type": "code",
      "execution_count": null,
      "id": "8b1294e0",
      "metadata": {
        "id": "8b1294e0",
        "outputId": "bf7153ba-450f-4017-9ffa-00f9dfbe771b"
      },
      "outputs": [
        {
          "name": "stdout",
          "output_type": "stream",
          "text": [
            "0.009333333333333334\n",
            "28\n"
          ]
        }
      ],
      "source": [
        "print(SER_test)\n",
        "print(error_test)"
      ]
    }
  ],
  "metadata": {
    "kernelspec": {
      "display_name": "Python 3 (ipykernel)",
      "language": "python",
      "name": "python3"
    },
    "language_info": {
      "codemirror_mode": {
        "name": "ipython",
        "version": 3
      },
      "file_extension": ".py",
      "mimetype": "text/x-python",
      "name": "python",
      "nbconvert_exporter": "python",
      "pygments_lexer": "ipython3",
      "version": "3.7.6"
    },
    "colab": {
      "provenance": [],
      "include_colab_link": true
    }
  },
  "nbformat": 4,
  "nbformat_minor": 5
}