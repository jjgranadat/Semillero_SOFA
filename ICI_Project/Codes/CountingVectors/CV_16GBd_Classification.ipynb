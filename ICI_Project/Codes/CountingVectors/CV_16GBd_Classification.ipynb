{
 "cells": [
  {
   "cell_type": "markdown",
   "id": "59be66b6-f376-484e-8c2b-c5d58a38c942",
   "metadata": {
    "id": "59be66b6-f376-484e-8c2b-c5d58a38c942",
    "tags": []
   },
   "source": [
    "# Inter-channel interference (ICI) classification using *counting vectors* in a 16 GBd system. "
   ]
  },
  {
   "cell_type": "markdown",
   "id": "pJ6XTcEno0ID",
   "metadata": {
    "id": "pJ6XTcEno0ID"
   },
   "source": [
    "## Initialization"
   ]
  },
  {
   "cell_type": "markdown",
   "id": "0e0f2d14-9d97-41d7-b247-0c302f27f4f7",
   "metadata": {},
   "source": [
    "### Google Colab checking"
   ]
  },
  {
   "cell_type": "code",
   "execution_count": 1,
   "id": "0k-2EzDZazUP",
   "metadata": {
    "colab": {
     "base_uri": "https://localhost:8080/"
    },
    "id": "0k-2EzDZazUP",
    "outputId": "881bef92-5fdb-4fe6-b5d4-ad0923ae8797"
   },
   "outputs": [],
   "source": [
    "if \"google.colab\" in str(get_ipython()):\n",
    "    from google.colab import drive\n",
    "\n",
    "    GOOGLE_COLAB = True\n",
    "    ROOT = \"/content/drive/MyDrive/SOFA/ICI_Project\"\n",
    "\n",
    "    drive.mount(\"/content/drive\")\n",
    "    !cp {ROOT}\"/sofa.py\" \".\"\n",
    "    !cp {ROOT}\"/counting_vectors_16f.csv\" \".\"\n",
    "    !cp {ROOT}\"/counting_vectors_16g.csv\" \".\"\n",
    "else:\n",
    "    GOOGLE_COLAB = False\n",
    "    ROOT = \".\""
   ]
  },
  {
   "cell_type": "markdown",
   "id": "408abaa0-933f-499a-accc-5fe826ffcd58",
   "metadata": {
    "id": "408abaa0-933f-499a-accc-5fe826ffcd58"
   },
   "source": [
    "### Libraries"
   ]
  },
  {
   "cell_type": "code",
   "execution_count": 2,
   "id": "c7e5b55a-87f0-47ea-9a51-942c2216202b",
   "metadata": {
    "id": "c7e5b55a-87f0-47ea-9a51-942c2216202b",
    "tags": []
   },
   "outputs": [
    {
     "name": "stderr",
     "output_type": "stream",
     "text": [
      "2024-01-18 17:06:52.282695: I external/local_tsl/tsl/cuda/cudart_stub.cc:31] Could not find cuda drivers on your machine, GPU will not be used.\n",
      "2024-01-18 17:06:52.353911: E external/local_xla/xla/stream_executor/cuda/cuda_dnn.cc:9261] Unable to register cuDNN factory: Attempting to register factory for plugin cuDNN when one has already been registered\n",
      "2024-01-18 17:06:52.354075: E external/local_xla/xla/stream_executor/cuda/cuda_fft.cc:607] Unable to register cuFFT factory: Attempting to register factory for plugin cuFFT when one has already been registered\n",
      "2024-01-18 17:06:52.356810: E external/local_xla/xla/stream_executor/cuda/cuda_blas.cc:1515] Unable to register cuBLAS factory: Attempting to register factory for plugin cuBLAS when one has already been registered\n",
      "2024-01-18 17:06:52.368581: I external/local_tsl/tsl/cuda/cudart_stub.cc:31] Could not find cuda drivers on your machine, GPU will not be used.\n",
      "2024-01-18 17:06:52.370439: I tensorflow/core/platform/cpu_feature_guard.cc:182] This TensorFlow binary is optimized to use available CPU instructions in performance-critical operations.\n",
      "To enable the following instructions: AVX2 FMA, in other operations, rebuild TensorFlow with the appropriate compiler flags.\n",
      "2024-01-18 17:06:54.887207: W tensorflow/compiler/tf2tensorrt/utils/py_utils.cc:38] TF-TRT Warning: Could not find TensorRT\n"
     ]
    }
   ],
   "source": [
    "import json\n",
    "import os\n",
    "from collections import defaultdict\n",
    "from itertools import product\n",
    "\n",
    "import matplotlib.pyplot as plt\n",
    "import numpy as np\n",
    "import polars as pl\n",
    "import scipy as sp\n",
    "import sofa\n",
    "import tensorflow as tf\n",
    "import tensorflow.keras as ker\n",
    "from matplotlib import cm\n",
    "from matplotlib.colors import LogNorm\n",
    "from mpl_toolkits.mplot3d import Axes3D\n",
    "from scipy.stats import multivariate_normal\n",
    "from sklearn.metrics import (\n",
    "    ConfusionMatrixDisplay,\n",
    "    accuracy_score,\n",
    "    f1_score,\n",
    "    multilabel_confusion_matrix,\n",
    ")\n",
    "from sklearn.mixture import GaussianMixture\n",
    "from sklearn.model_selection import KFold, cross_validate, train_test_split\n",
    "from sklearn.preprocessing import StandardScaler\n",
    "from tensorflow.keras import Sequential, models, regularizers, utils\n",
    "from tensorflow.keras.callbacks import EarlyStopping\n",
    "from tensorflow.keras.layers import Dense"
   ]
  },
  {
   "cell_type": "code",
   "execution_count": 3,
   "id": "ObdMXuCIlLXR",
   "metadata": {
    "id": "ObdMXuCIlLXR"
   },
   "outputs": [],
   "source": [
    "GPU = tf.config.list_physical_devices(\"GPU\")\n",
    "if len(GPU) > 0:\n",
    "    print(f\"Using GPU: {GPU}\")"
   ]
  },
  {
   "cell_type": "markdown",
   "id": "39a1a2c2-572c-4fc4-8ba9-d4c6ad017cbc",
   "metadata": {
    "id": "39a1a2c2-572c-4fc4-8ba9-d4c6ad017cbc",
    "tags": []
   },
   "source": [
    "### Globals"
   ]
  },
  {
   "cell_type": "code",
   "execution_count": 4,
   "id": "b5dd6092-f808-4326-af60-1b750a5710fa",
   "metadata": {
    "id": "b5dd6092-f808-4326-af60-1b750a5710fa",
    "tags": []
   },
   "outputs": [],
   "source": [
    "def calc_once(varname, fn, args):\n",
    "    \"\"\"Calculate a variable only once.\"\"\"\n",
    "    if varname not in globals():\n",
    "        return fn(**args)\n",
    "    return eval(varname)\n",
    "\n",
    "\n",
    "def classificator(df, interval_lst, column_name):\n",
    "    \"\"\"Transforms a dataframe's column into classes\"\"\"\n",
    "    array = df[column_name].to_numpy()\n",
    "    indexes_lst = []\n",
    "    for i, interval in enumerate(interval_lst):\n",
    "        lower_limit, upper_limit = interval\n",
    "        indexes_lst.append(\n",
    "            np.intersect1d(\n",
    "                np.where(lower_limit < array), np.where(array <= upper_limit)\n",
    "            )\n",
    "        )\n",
    "\n",
    "    classfull = df[column_name]\n",
    "    for index, indexes in enumerate(indexes_lst):\n",
    "        classfull[indexes] = index\n",
    "\n",
    "    df_classfull = df.clone()\n",
    "    df_classfull = df_classfull.with_columns(classfull.alias(column_name))\n",
    "\n",
    "    return df_classfull\n",
    "\n",
    "def classifier_model(\n",
    "    layers_props_lst: list, classes_n: int, loss_fn: ker.losses.Loss, input_dim: int\n",
    ") -> ker.models.Sequential:\n",
    "    \"\"\"Compile a sequential model for classification purposes.\"\"\"\n",
    "    model = ker.Sequential()\n",
    "    # Hidden layers\n",
    "    for i, layer_props in enumerate(layers_props_lst):\n",
    "        if i == 0:\n",
    "            model.add(ker.layers.Dense(input_dim=input_dim, **layer_props))\n",
    "        else:\n",
    "            model.add(ker.layers.Dense(**layer_props))\n",
    "    # Classifier\n",
    "    model.add(ker.layers.Dense(units=classes_n, activation=\"softmax\"))\n",
    "\n",
    "    model.compile(loss=loss_fn, optimizer=\"adam\")\n",
    "\n",
    "    return model\n",
    "\n",
    "\n",
    "def classification_crossvalidation(\n",
    "    X, y, X_prod, y_prod, n_splits, layer_props, classes_n, loss_fn, callbacks\n",
    "):\n",
    "    \"\"\"Crossvalidation of a classification network.\"\"\"\n",
    "    # Scores dict\n",
    "    scores = {}\n",
    "    scores[\"model\"] = []\n",
    "    scores[\"loss\"] = []\n",
    "    scores[\"acc\"] = {\"train\": [], \"test\": [], \"prod\": []}\n",
    "    scores[\"f1\"] = {\"train\": [], \"test\": [], \"prod\": []}\n",
    "    scores[\"cm\"] = {\"train\": [], \"test\": [], \"prod\": []}\n",
    "\n",
    "    # K-fold crossvalidation\n",
    "    kf = KFold(n_splits=n_splits, shuffle=True)\n",
    "\n",
    "    for train_index, test_index in kf.split(X, y):\n",
    "        X_train, X_test = X[train_index], X[test_index]\n",
    "        y_train, y_test = y[train_index], y[test_index]\n",
    "\n",
    "        # Input variables standarizer\n",
    "        sc = StandardScaler()\n",
    "        X_train = sc.fit_transform(X_train)\n",
    "        X_test_kf = sc.transform(X_test)\n",
    "        X_prod_kf = sc.transform(X_prod)\n",
    "\n",
    "        model = classifier_model(layer_props, classes_n, loss_fn, X_train.shape[1])\n",
    "\n",
    "        # Save test scalar loss\n",
    "        if callbacks:\n",
    "            loss = model.fit(\n",
    "                X_train,\n",
    "                y_train,\n",
    "                epochs=5000,\n",
    "                batch_size=64,\n",
    "                callbacks=callbacks,\n",
    "                verbose=0,\n",
    "            )\n",
    "        else:\n",
    "            loss = model.fit(X_train, y_train, epochs=5000, batch_size=64, verbose=0)\n",
    "        print(f\"Needed iterations: {len(loss.history['loss'])}\")\n",
    "        loss = loss.history[\"loss\"]\n",
    "\n",
    "        # Predict using train values\n",
    "        fuzzy_predictions_train = model.predict(X_train, verbose=0)\n",
    "        # Predict using test values\n",
    "        fuzzy_predictions_test = model.predict(X_test_kf, verbose=0)\n",
    "        # Predict using production values\n",
    "        fuzzy_predictions_prod = model.predict(X_prod_kf, verbose=0)\n",
    "\n",
    "        predictions_train = np.array([np.argmax(fuzzy_prediction) for fuzzy_prediction in fuzzy_predictions_train])\n",
    "        predictions_test = np.array([np.argmax(fuzzy_prediction) for fuzzy_prediction in fuzzy_predictions_test])\n",
    "        predictions_prod = np.array([np.argmax(fuzzy_prediction) for fuzzy_prediction in fuzzy_predictions_prod])\n",
    "\n",
    "        # Dataframe for better visualization\n",
    "        train_data_train = pl.DataFrame(\n",
    "            {\"ICI\": y_train, \"Predicted ICI\": predictions_train}\n",
    "        )\n",
    "        train_data_test = pl.DataFrame(\n",
    "            {\"ICI\": y_test, \"Predicted ICI\": predictions_test}\n",
    "        )\n",
    "        train_data_prod = pl.DataFrame(\n",
    "            {\"ICI\": y_prod, \"Predicted ICI\": predictions_prod}\n",
    "        )\n",
    "\n",
    "        # Accuracy\n",
    "        acc_score_train = accuracy_score(\n",
    "            train_data_train[\"ICI\"], train_data_train[\"Predicted ICI\"]\n",
    "        )\n",
    "        acc_score_test = accuracy_score(\n",
    "            train_data_test[\"ICI\"], train_data_test[\"Predicted ICI\"]\n",
    "        )\n",
    "        acc_score_prod = accuracy_score(\n",
    "            train_data_prod[\"ICI\"], train_data_prod[\"Predicted ICI\"]\n",
    "        )\n",
    "\n",
    "        # F1\n",
    "        f1_score_train = f1_score(\n",
    "            train_data_train[\"ICI\"], train_data_train[\"Predicted ICI\"], average=\"micro\"\n",
    "        )\n",
    "        f1_score_test = f1_score(\n",
    "            train_data_test[\"ICI\"], train_data_test[\"Predicted ICI\"], average=\"micro\"\n",
    "        )\n",
    "        f1_score_prod = f1_score(\n",
    "            train_data_prod[\"ICI\"], train_data_prod[\"Predicted ICI\"], average=\"micro\"\n",
    "        )\n",
    "\n",
    "        # RMSE\n",
    "        cm_score_train = multilabel_confusion_matrix(\n",
    "            train_data_train[\"ICI\"], train_data_train[\"Predicted ICI\"]\n",
    "        ).tolist()\n",
    "        cm_score_test = multilabel_confusion_matrix(\n",
    "            train_data_test[\"ICI\"], train_data_test[\"Predicted ICI\"]\n",
    "        ).tolist()\n",
    "        cm_score_prod = multilabel_confusion_matrix(\n",
    "            train_data_prod[\"ICI\"], train_data_prod[\"Predicted ICI\"]\n",
    "        ).tolist()\n",
    "\n",
    "        # Append to lists\n",
    "        scores[\"model\"].append(model)\n",
    "        scores[\"loss\"].append(loss)\n",
    "        scores[\"acc\"][\"train\"].append(acc_score_train)\n",
    "        scores[\"acc\"][\"test\"].append(acc_score_test)\n",
    "        scores[\"acc\"][\"prod\"].append(acc_score_prod)\n",
    "        scores[\"f1\"][\"train\"].append(f1_score_train)\n",
    "        scores[\"f1\"][\"test\"].append(f1_score_test)\n",
    "        scores[\"f1\"][\"prod\"].append(f1_score_prod)\n",
    "        scores[\"cm\"][\"train\"].append(cm_score_train)\n",
    "        scores[\"cm\"][\"test\"].append(cm_score_test)\n",
    "        scores[\"cm\"][\"prod\"].append(cm_score_prod)\n",
    "\n",
    "    return scores\n",
    "\n",
    "\n",
    "def test_classification_model(\n",
    "    data,\n",
    "    data_prod,\n",
    "    n_splits,\n",
    "    classes_n,\n",
    "    max_neurons,\n",
    "    activations,\n",
    "    use_osnr=True,\n",
    "    loss_fn=\"sparse_categorical_crossentropy\",\n",
    "):\n",
    "    \"\"\"Test a spectral spacing estimation model with given parameters.\"\"\"\n",
    "    n_feat = data.shape[1]\n",
    "    var_n = n_feat - 1 if use_osnr else n_feat - 2\n",
    "\n",
    "    # Split variables\n",
    "    # Features\n",
    "    X = np.array(data[:, 0:var_n])\n",
    "    X_prod = np.array(data_prod[:, 0:var_n])\n",
    "    # Tags\n",
    "    y = np.array(data[:, -1])\n",
    "    y_prod = np.array(data_prod[:, -1])\n",
    "\n",
    "    # Layer properties\n",
    "    layer_props = [\n",
    "        {\"units\": max_neurons // (2**i), \"activation\": activation}\n",
    "        for i, activation in enumerate(activations)\n",
    "    ]\n",
    "    print(f\"{layer_props}{' + OSNR' if use_osnr else ''} {classes_n} classes\")\n",
    "    callbacks = [\n",
    "        EarlyStopping(\n",
    "            monitor=\"loss\", patience=30, mode=\"min\", restore_best_weights=True\n",
    "        )\n",
    "    ]\n",
    "\n",
    "    return classification_crossvalidation(\n",
    "        X, y, X_prod, y_prod, n_splits, layer_props, classes_n, loss_fn, callbacks\n",
    "    )\n",
    "\n",
    "def plot_cm(scores, interval_lst):\n",
    "    CM = np.array(scores.get(\"cm\").get(\"test\"))\n",
    "    for n, interval in enumerate(interval_lst):\n",
    "        result = np.zeros(CM[0][0].shape)\n",
    "        for cm in CM:\n",
    "            result = np.add(result, cm[n])\n",
    "        result /= np.sum(result)\n",
    "        disp = ConfusionMatrixDisplay(confusion_matrix=result, display_labels=[\"Positive\", \"Negative\"])\n",
    "        disp.plot(colorbar=False)\n",
    "        lower_limit, upper_limit = interval \n",
    "        plt.title(f\"Confusion matrix for class from {lower_limit} GHz up to {upper_limit} GHz\")\n",
    "        plt.show()"
   ]
  },
  {
   "cell_type": "markdown",
   "id": "fe3f3c52-2f24-4206-a56a-4887d5f001e9",
   "metadata": {
    "id": "fe3f3c52-2f24-4206-a56a-4887d5f001e9",
    "tags": []
   },
   "source": [
    "## FCM"
   ]
  },
  {
   "cell_type": "markdown",
   "id": "4efce4fa-5de8-4a54-8685-491ecc648041",
   "metadata": {
    "id": "4efce4fa-5de8-4a54-8685-491ecc648041",
    "tags": []
   },
   "source": [
    "### Load data"
   ]
  },
  {
   "cell_type": "code",
   "execution_count": 5,
   "id": "8aa7a9ce-69e1-40d3-9833-9e26e649fa00",
   "metadata": {
    "colab": {
     "base_uri": "https://localhost:8080/",
     "height": 882
    },
    "id": "8aa7a9ce-69e1-40d3-9833-9e26e649fa00",
    "outputId": "d2a1f94a-1034-402f-d20b-a736677c9476"
   },
   "outputs": [
    {
     "data": {
      "text/html": [
       "<div><style>\n",
       ".dataframe > thead > tr,\n",
       ".dataframe > tbody > tr {\n",
       "  text-align: right;\n",
       "  white-space: pre-wrap;\n",
       "}\n",
       "</style>\n",
       "<small>shape: (680, 18)</small><table border=\"1\" class=\"dataframe\"><thead><tr><th>column_1</th><th>column_2</th><th>column_3</th><th>column_4</th><th>column_5</th><th>column_6</th><th>column_7</th><th>column_8</th><th>column_9</th><th>column_10</th><th>column_11</th><th>column_12</th><th>column_13</th><th>column_14</th><th>column_15</th><th>column_16</th><th>column_17</th><th>column_18</th></tr><tr><td>f64</td><td>f64</td><td>f64</td><td>f64</td><td>f64</td><td>f64</td><td>f64</td><td>f64</td><td>f64</td><td>f64</td><td>f64</td><td>f64</td><td>f64</td><td>f64</td><td>f64</td><td>f64</td><td>f64</td><td>f64</td></tr></thead><tbody><tr><td>0.7955</td><td>0.1557</td><td>0.0309</td><td>0.0145</td><td>0.0021</td><td>0.0013</td><td>0.0</td><td>0.0</td><td>0.0</td><td>0.0</td><td>0.0</td><td>0.0</td><td>0.0</td><td>0.0</td><td>0.0</td><td>0.0</td><td>16.3</td><td>15.5</td></tr><tr><td>0.7988</td><td>0.1467</td><td>0.034</td><td>0.0149</td><td>0.0035</td><td>0.0015</td><td>0.0006</td><td>0.0</td><td>0.0</td><td>0.0</td><td>0.0</td><td>0.0</td><td>0.0</td><td>0.0</td><td>0.0</td><td>0.0</td><td>16.3</td><td>15.5</td></tr><tr><td>0.789</td><td>0.1601</td><td>0.0332</td><td>0.0132</td><td>0.0032</td><td>0.0008</td><td>0.0002</td><td>0.0002</td><td>0.0001</td><td>0.0</td><td>0.0</td><td>0.0</td><td>0.0</td><td>0.0</td><td>0.0</td><td>0.0</td><td>16.3</td><td>15.5</td></tr><tr><td>0.7957</td><td>0.1542</td><td>0.0311</td><td>0.0152</td><td>0.0024</td><td>0.0013</td><td>0.0001</td><td>0.0</td><td>0.0</td><td>0.0</td><td>0.0</td><td>0.0</td><td>0.0</td><td>0.0</td><td>0.0</td><td>0.0</td><td>16.3</td><td>15.5</td></tr><tr><td>0.7947</td><td>0.1477</td><td>0.0352</td><td>0.0143</td><td>0.0053</td><td>0.0023</td><td>0.0005</td><td>0.0</td><td>0.0</td><td>0.0</td><td>0.0</td><td>0.0</td><td>0.0</td><td>0.0</td><td>0.0</td><td>0.0</td><td>16.3</td><td>15.5</td></tr><tr><td>0.7976</td><td>0.152</td><td>0.0316</td><td>0.0152</td><td>0.0031</td><td>0.0004</td><td>0.0</td><td>0.0001</td><td>0.0</td><td>0.0</td><td>0.0</td><td>0.0</td><td>0.0</td><td>0.0</td><td>0.0</td><td>0.0</td><td>16.3</td><td>15.5</td></tr><tr><td>0.7736</td><td>0.1619</td><td>0.0386</td><td>0.0179</td><td>0.0039</td><td>0.0031</td><td>0.0004</td><td>0.0004</td><td>0.0001</td><td>0.0001</td><td>0.0</td><td>0.0</td><td>0.0</td><td>0.0</td><td>0.0</td><td>0.0</td><td>16.3</td><td>15.5</td></tr><tr><td>0.8089</td><td>0.1469</td><td>0.0293</td><td>0.0114</td><td>0.0025</td><td>0.0009</td><td>0.0001</td><td>0.0</td><td>0.0</td><td>0.0</td><td>0.0</td><td>0.0</td><td>0.0</td><td>0.0</td><td>0.0</td><td>0.0</td><td>16.3</td><td>15.5</td></tr><tr><td>0.8025</td><td>0.1523</td><td>0.029</td><td>0.013</td><td>0.0025</td><td>0.0005</td><td>0.0002</td><td>0.0</td><td>0.0</td><td>0.0</td><td>0.0</td><td>0.0</td><td>0.0</td><td>0.0</td><td>0.0</td><td>0.0</td><td>16.3</td><td>15.5</td></tr><tr><td>0.7974</td><td>0.1499</td><td>0.0316</td><td>0.0162</td><td>0.0027</td><td>0.0015</td><td>0.0005</td><td>0.0002</td><td>0.0</td><td>0.0</td><td>0.0</td><td>0.0</td><td>0.0</td><td>0.0</td><td>0.0</td><td>0.0</td><td>16.3</td><td>15.5</td></tr><tr><td>0.8856</td><td>0.0966</td><td>0.0124</td><td>0.0046</td><td>0.0005</td><td>0.0003</td><td>0.0</td><td>0.0</td><td>0.0</td><td>0.0</td><td>0.0</td><td>0.0</td><td>0.0</td><td>0.0</td><td>0.0</td><td>0.0</td><td>19.3</td><td>15.5</td></tr><tr><td>0.8806</td><td>0.0971</td><td>0.0151</td><td>0.0063</td><td>0.0006</td><td>0.0003</td><td>0.0</td><td>0.0</td><td>0.0</td><td>0.0</td><td>0.0</td><td>0.0</td><td>0.0</td><td>0.0</td><td>0.0</td><td>0.0</td><td>19.3</td><td>15.5</td></tr><tr><td>&hellip;</td><td>&hellip;</td><td>&hellip;</td><td>&hellip;</td><td>&hellip;</td><td>&hellip;</td><td>&hellip;</td><td>&hellip;</td><td>&hellip;</td><td>&hellip;</td><td>&hellip;</td><td>&hellip;</td><td>&hellip;</td><td>&hellip;</td><td>&hellip;</td><td>&hellip;</td><td>&hellip;</td><td>&hellip;</td></tr><tr><td>1.0</td><td>0.0</td><td>0.0</td><td>0.0</td><td>0.0</td><td>0.0</td><td>0.0</td><td>0.0</td><td>0.0</td><td>0.0</td><td>0.0</td><td>0.0</td><td>0.0</td><td>0.0</td><td>0.0</td><td>0.0</td><td>31.3</td><td>50.0</td></tr><tr><td>1.0</td><td>0.0</td><td>0.0</td><td>0.0</td><td>0.0</td><td>0.0</td><td>0.0</td><td>0.0</td><td>0.0</td><td>0.0</td><td>0.0</td><td>0.0</td><td>0.0</td><td>0.0</td><td>0.0</td><td>0.0</td><td>31.3</td><td>50.0</td></tr><tr><td>1.0</td><td>0.0</td><td>0.0</td><td>0.0</td><td>0.0</td><td>0.0</td><td>0.0</td><td>0.0</td><td>0.0</td><td>0.0</td><td>0.0</td><td>0.0</td><td>0.0</td><td>0.0</td><td>0.0</td><td>0.0</td><td>36.3</td><td>50.0</td></tr><tr><td>1.0</td><td>0.0</td><td>0.0</td><td>0.0</td><td>0.0</td><td>0.0</td><td>0.0</td><td>0.0</td><td>0.0</td><td>0.0</td><td>0.0</td><td>0.0</td><td>0.0</td><td>0.0</td><td>0.0</td><td>0.0</td><td>36.3</td><td>50.0</td></tr><tr><td>1.0</td><td>0.0</td><td>0.0</td><td>0.0</td><td>0.0</td><td>0.0</td><td>0.0</td><td>0.0</td><td>0.0</td><td>0.0</td><td>0.0</td><td>0.0</td><td>0.0</td><td>0.0</td><td>0.0</td><td>0.0</td><td>36.3</td><td>50.0</td></tr><tr><td>1.0</td><td>0.0</td><td>0.0</td><td>0.0</td><td>0.0</td><td>0.0</td><td>0.0</td><td>0.0</td><td>0.0</td><td>0.0</td><td>0.0</td><td>0.0</td><td>0.0</td><td>0.0</td><td>0.0</td><td>0.0</td><td>36.3</td><td>50.0</td></tr><tr><td>1.0</td><td>0.0</td><td>0.0</td><td>0.0</td><td>0.0</td><td>0.0</td><td>0.0</td><td>0.0</td><td>0.0</td><td>0.0</td><td>0.0</td><td>0.0</td><td>0.0</td><td>0.0</td><td>0.0</td><td>0.0</td><td>36.3</td><td>50.0</td></tr><tr><td>1.0</td><td>0.0</td><td>0.0</td><td>0.0</td><td>0.0</td><td>0.0</td><td>0.0</td><td>0.0</td><td>0.0</td><td>0.0</td><td>0.0</td><td>0.0</td><td>0.0</td><td>0.0</td><td>0.0</td><td>0.0</td><td>36.3</td><td>50.0</td></tr><tr><td>1.0</td><td>0.0</td><td>0.0</td><td>0.0</td><td>0.0</td><td>0.0</td><td>0.0</td><td>0.0</td><td>0.0</td><td>0.0</td><td>0.0</td><td>0.0</td><td>0.0</td><td>0.0</td><td>0.0</td><td>0.0</td><td>36.3</td><td>50.0</td></tr><tr><td>1.0</td><td>0.0</td><td>0.0</td><td>0.0</td><td>0.0</td><td>0.0</td><td>0.0</td><td>0.0</td><td>0.0</td><td>0.0</td><td>0.0</td><td>0.0</td><td>0.0</td><td>0.0</td><td>0.0</td><td>0.0</td><td>36.3</td><td>50.0</td></tr><tr><td>1.0</td><td>0.0</td><td>0.0</td><td>0.0</td><td>0.0</td><td>0.0</td><td>0.0</td><td>0.0</td><td>0.0</td><td>0.0</td><td>0.0</td><td>0.0</td><td>0.0</td><td>0.0</td><td>0.0</td><td>0.0</td><td>36.3</td><td>50.0</td></tr><tr><td>1.0</td><td>0.0</td><td>0.0</td><td>0.0</td><td>0.0</td><td>0.0</td><td>0.0</td><td>0.0</td><td>0.0</td><td>0.0</td><td>0.0</td><td>0.0</td><td>0.0</td><td>0.0</td><td>0.0</td><td>0.0</td><td>36.3</td><td>50.0</td></tr></tbody></table></div>"
      ],
      "text/plain": [
       "shape: (680, 18)\n",
       "┌──────────┬──────────┬──────────┬──────────┬───┬───────────┬───────────┬───────────┬───────────┐\n",
       "│ column_1 ┆ column_2 ┆ column_3 ┆ column_4 ┆ … ┆ column_15 ┆ column_16 ┆ column_17 ┆ column_18 │\n",
       "│ ---      ┆ ---      ┆ ---      ┆ ---      ┆   ┆ ---       ┆ ---       ┆ ---       ┆ ---       │\n",
       "│ f64      ┆ f64      ┆ f64      ┆ f64      ┆   ┆ f64       ┆ f64       ┆ f64       ┆ f64       │\n",
       "╞══════════╪══════════╪══════════╪══════════╪═══╪═══════════╪═══════════╪═══════════╪═══════════╡\n",
       "│ 0.7955   ┆ 0.1557   ┆ 0.0309   ┆ 0.0145   ┆ … ┆ 0.0       ┆ 0.0       ┆ 16.3      ┆ 15.5      │\n",
       "│ 0.7988   ┆ 0.1467   ┆ 0.034    ┆ 0.0149   ┆ … ┆ 0.0       ┆ 0.0       ┆ 16.3      ┆ 15.5      │\n",
       "│ 0.789    ┆ 0.1601   ┆ 0.0332   ┆ 0.0132   ┆ … ┆ 0.0       ┆ 0.0       ┆ 16.3      ┆ 15.5      │\n",
       "│ 0.7957   ┆ 0.1542   ┆ 0.0311   ┆ 0.0152   ┆ … ┆ 0.0       ┆ 0.0       ┆ 16.3      ┆ 15.5      │\n",
       "│ …        ┆ …        ┆ …        ┆ …        ┆ … ┆ …         ┆ …         ┆ …         ┆ …         │\n",
       "│ 1.0      ┆ 0.0      ┆ 0.0      ┆ 0.0      ┆ … ┆ 0.0       ┆ 0.0       ┆ 36.3      ┆ 50.0      │\n",
       "│ 1.0      ┆ 0.0      ┆ 0.0      ┆ 0.0      ┆ … ┆ 0.0       ┆ 0.0       ┆ 36.3      ┆ 50.0      │\n",
       "│ 1.0      ┆ 0.0      ┆ 0.0      ┆ 0.0      ┆ … ┆ 0.0       ┆ 0.0       ┆ 36.3      ┆ 50.0      │\n",
       "│ 1.0      ┆ 0.0      ┆ 0.0      ┆ 0.0      ┆ … ┆ 0.0       ┆ 0.0       ┆ 36.3      ┆ 50.0      │\n",
       "└──────────┴──────────┴──────────┴──────────┴───┴───────────┴───────────┴───────────┴───────────┘"
      ]
     },
     "execution_count": 5,
     "metadata": {},
     "output_type": "execute_result"
    }
   ],
   "source": [
    "if GOOGLE_COLAB:\n",
    "    cv16f_file = \"counting_vectors_16f.csv\"\n",
    "else:\n",
    "    cv16f_file = \"../../Databases/16GBd/counting_vectors_16f.csv\"\n",
    "\n",
    "cv16f = pl.read_csv(cv16f_file, has_header=False, dtypes=[pl.Float64])\n",
    "# Show the original dataframe\n",
    "cv16f"
   ]
  },
  {
   "cell_type": "code",
   "execution_count": 6,
   "id": "334e6212-6a60-4146-80aa-9cf7520d8188",
   "metadata": {},
   "outputs": [
    {
     "data": {
      "text/plain": [
       "{'2': shape: (680, 18)\n",
       " ┌──────────┬──────────┬──────────┬──────────┬───┬───────────┬───────────┬───────────┬───────────┐\n",
       " │ column_1 ┆ column_2 ┆ column_3 ┆ column_4 ┆ … ┆ column_15 ┆ column_16 ┆ column_17 ┆ column_18 │\n",
       " │ ---      ┆ ---      ┆ ---      ┆ ---      ┆   ┆ ---       ┆ ---       ┆ ---       ┆ ---       │\n",
       " │ f64      ┆ f64      ┆ f64      ┆ f64      ┆   ┆ f64       ┆ f64       ┆ f64       ┆ f64       │\n",
       " ╞══════════╪══════════╪══════════╪══════════╪═══╪═══════════╪═══════════╪═══════════╪═══════════╡\n",
       " │ 0.7955   ┆ 0.1557   ┆ 0.0309   ┆ 0.0145   ┆ … ┆ 0.0       ┆ 0.0       ┆ 16.3      ┆ 0.0       │\n",
       " │ 0.7988   ┆ 0.1467   ┆ 0.034    ┆ 0.0149   ┆ … ┆ 0.0       ┆ 0.0       ┆ 16.3      ┆ 0.0       │\n",
       " │ 0.789    ┆ 0.1601   ┆ 0.0332   ┆ 0.0132   ┆ … ┆ 0.0       ┆ 0.0       ┆ 16.3      ┆ 0.0       │\n",
       " │ 0.7957   ┆ 0.1542   ┆ 0.0311   ┆ 0.0152   ┆ … ┆ 0.0       ┆ 0.0       ┆ 16.3      ┆ 0.0       │\n",
       " │ …        ┆ …        ┆ …        ┆ …        ┆ … ┆ …         ┆ …         ┆ …         ┆ …         │\n",
       " │ 1.0      ┆ 0.0      ┆ 0.0      ┆ 0.0      ┆ … ┆ 0.0       ┆ 0.0       ┆ 36.3      ┆ 1.0       │\n",
       " │ 1.0      ┆ 0.0      ┆ 0.0      ┆ 0.0      ┆ … ┆ 0.0       ┆ 0.0       ┆ 36.3      ┆ 1.0       │\n",
       " │ 1.0      ┆ 0.0      ┆ 0.0      ┆ 0.0      ┆ … ┆ 0.0       ┆ 0.0       ┆ 36.3      ┆ 1.0       │\n",
       " │ 1.0      ┆ 0.0      ┆ 0.0      ┆ 0.0      ┆ … ┆ 0.0       ┆ 0.0       ┆ 36.3      ┆ 1.0       │\n",
       " └──────────┴──────────┴──────────┴──────────┴───┴───────────┴───────────┴───────────┴───────────┘,\n",
       " '3': shape: (680, 18)\n",
       " ┌──────────┬──────────┬──────────┬──────────┬───┬───────────┬───────────┬───────────┬───────────┐\n",
       " │ column_1 ┆ column_2 ┆ column_3 ┆ column_4 ┆ … ┆ column_15 ┆ column_16 ┆ column_17 ┆ column_18 │\n",
       " │ ---      ┆ ---      ┆ ---      ┆ ---      ┆   ┆ ---       ┆ ---       ┆ ---       ┆ ---       │\n",
       " │ f64      ┆ f64      ┆ f64      ┆ f64      ┆   ┆ f64       ┆ f64       ┆ f64       ┆ f64       │\n",
       " ╞══════════╪══════════╪══════════╪══════════╪═══╪═══════════╪═══════════╪═══════════╪═══════════╡\n",
       " │ 0.7955   ┆ 0.1557   ┆ 0.0309   ┆ 0.0145   ┆ … ┆ 0.0       ┆ 0.0       ┆ 16.3      ┆ 0.0       │\n",
       " │ 0.7988   ┆ 0.1467   ┆ 0.034    ┆ 0.0149   ┆ … ┆ 0.0       ┆ 0.0       ┆ 16.3      ┆ 0.0       │\n",
       " │ 0.789    ┆ 0.1601   ┆ 0.0332   ┆ 0.0132   ┆ … ┆ 0.0       ┆ 0.0       ┆ 16.3      ┆ 0.0       │\n",
       " │ 0.7957   ┆ 0.1542   ┆ 0.0311   ┆ 0.0152   ┆ … ┆ 0.0       ┆ 0.0       ┆ 16.3      ┆ 0.0       │\n",
       " │ …        ┆ …        ┆ …        ┆ …        ┆ … ┆ …         ┆ …         ┆ …         ┆ …         │\n",
       " │ 1.0      ┆ 0.0      ┆ 0.0      ┆ 0.0      ┆ … ┆ 0.0       ┆ 0.0       ┆ 36.3      ┆ 2.0       │\n",
       " │ 1.0      ┆ 0.0      ┆ 0.0      ┆ 0.0      ┆ … ┆ 0.0       ┆ 0.0       ┆ 36.3      ┆ 2.0       │\n",
       " │ 1.0      ┆ 0.0      ┆ 0.0      ┆ 0.0      ┆ … ┆ 0.0       ┆ 0.0       ┆ 36.3      ┆ 2.0       │\n",
       " │ 1.0      ┆ 0.0      ┆ 0.0      ┆ 0.0      ┆ … ┆ 0.0       ┆ 0.0       ┆ 36.3      ┆ 2.0       │\n",
       " └──────────┴──────────┴──────────┴──────────┴───┴───────────┴───────────┴───────────┴───────────┘,\n",
       " '4': shape: (680, 18)\n",
       " ┌──────────┬──────────┬──────────┬──────────┬───┬───────────┬───────────┬───────────┬───────────┐\n",
       " │ column_1 ┆ column_2 ┆ column_3 ┆ column_4 ┆ … ┆ column_15 ┆ column_16 ┆ column_17 ┆ column_18 │\n",
       " │ ---      ┆ ---      ┆ ---      ┆ ---      ┆   ┆ ---       ┆ ---       ┆ ---       ┆ ---       │\n",
       " │ f64      ┆ f64      ┆ f64      ┆ f64      ┆   ┆ f64       ┆ f64       ┆ f64       ┆ f64       │\n",
       " ╞══════════╪══════════╪══════════╪══════════╪═══╪═══════════╪═══════════╪═══════════╪═══════════╡\n",
       " │ 0.7955   ┆ 0.1557   ┆ 0.0309   ┆ 0.0145   ┆ … ┆ 0.0       ┆ 0.0       ┆ 16.3      ┆ 0.0       │\n",
       " │ 0.7988   ┆ 0.1467   ┆ 0.034    ┆ 0.0149   ┆ … ┆ 0.0       ┆ 0.0       ┆ 16.3      ┆ 0.0       │\n",
       " │ 0.789    ┆ 0.1601   ┆ 0.0332   ┆ 0.0132   ┆ … ┆ 0.0       ┆ 0.0       ┆ 16.3      ┆ 0.0       │\n",
       " │ 0.7957   ┆ 0.1542   ┆ 0.0311   ┆ 0.0152   ┆ … ┆ 0.0       ┆ 0.0       ┆ 16.3      ┆ 0.0       │\n",
       " │ …        ┆ …        ┆ …        ┆ …        ┆ … ┆ …         ┆ …         ┆ …         ┆ …         │\n",
       " │ 1.0      ┆ 0.0      ┆ 0.0      ┆ 0.0      ┆ … ┆ 0.0       ┆ 0.0       ┆ 36.3      ┆ 3.0       │\n",
       " │ 1.0      ┆ 0.0      ┆ 0.0      ┆ 0.0      ┆ … ┆ 0.0       ┆ 0.0       ┆ 36.3      ┆ 3.0       │\n",
       " │ 1.0      ┆ 0.0      ┆ 0.0      ┆ 0.0      ┆ … ┆ 0.0       ┆ 0.0       ┆ 36.3      ┆ 3.0       │\n",
       " │ 1.0      ┆ 0.0      ┆ 0.0      ┆ 0.0      ┆ … ┆ 0.0       ┆ 0.0       ┆ 36.3      ┆ 3.0       │\n",
       " └──────────┴──────────┴──────────┴──────────┴───┴───────────┴───────────┴───────────┴───────────┘,\n",
       " '5': shape: (680, 18)\n",
       " ┌──────────┬──────────┬──────────┬──────────┬───┬───────────┬───────────┬───────────┬───────────┐\n",
       " │ column_1 ┆ column_2 ┆ column_3 ┆ column_4 ┆ … ┆ column_15 ┆ column_16 ┆ column_17 ┆ column_18 │\n",
       " │ ---      ┆ ---      ┆ ---      ┆ ---      ┆   ┆ ---       ┆ ---       ┆ ---       ┆ ---       │\n",
       " │ f64      ┆ f64      ┆ f64      ┆ f64      ┆   ┆ f64       ┆ f64       ┆ f64       ┆ f64       │\n",
       " ╞══════════╪══════════╪══════════╪══════════╪═══╪═══════════╪═══════════╪═══════════╪═══════════╡\n",
       " │ 0.7955   ┆ 0.1557   ┆ 0.0309   ┆ 0.0145   ┆ … ┆ 0.0       ┆ 0.0       ┆ 16.3      ┆ 0.0       │\n",
       " │ 0.7988   ┆ 0.1467   ┆ 0.034    ┆ 0.0149   ┆ … ┆ 0.0       ┆ 0.0       ┆ 16.3      ┆ 0.0       │\n",
       " │ 0.789    ┆ 0.1601   ┆ 0.0332   ┆ 0.0132   ┆ … ┆ 0.0       ┆ 0.0       ┆ 16.3      ┆ 0.0       │\n",
       " │ 0.7957   ┆ 0.1542   ┆ 0.0311   ┆ 0.0152   ┆ … ┆ 0.0       ┆ 0.0       ┆ 16.3      ┆ 0.0       │\n",
       " │ …        ┆ …        ┆ …        ┆ …        ┆ … ┆ …         ┆ …         ┆ …         ┆ …         │\n",
       " │ 1.0      ┆ 0.0      ┆ 0.0      ┆ 0.0      ┆ … ┆ 0.0       ┆ 0.0       ┆ 36.3      ┆ 4.0       │\n",
       " │ 1.0      ┆ 0.0      ┆ 0.0      ┆ 0.0      ┆ … ┆ 0.0       ┆ 0.0       ┆ 36.3      ┆ 4.0       │\n",
       " │ 1.0      ┆ 0.0      ┆ 0.0      ┆ 0.0      ┆ … ┆ 0.0       ┆ 0.0       ┆ 36.3      ┆ 4.0       │\n",
       " │ 1.0      ┆ 0.0      ┆ 0.0      ┆ 0.0      ┆ … ┆ 0.0       ┆ 0.0       ┆ 36.3      ┆ 4.0       │\n",
       " └──────────┴──────────┴──────────┴──────────┴───┴───────────┴───────────┴───────────┴───────────┘}"
      ]
     },
     "execution_count": 6,
     "metadata": {},
     "output_type": "execute_result"
    }
   ],
   "source": [
    "interval_lst = {\"2\": [(0, 35), (35, 50)],\n",
    "                \"3\": [(0, 32), (32, 35), (35, 50)],\n",
    "                \"4\": [(0, 31.5), (31.5, 33.5), (33.5, 35), (35, 50)],\n",
    "                \"5\": [(0, 31.5), (31.5, 33.5), (33.5, 35), (35, 37.5), (37.5, 50)]}\n",
    "\n",
    "cv16f_class = {}\n",
    "for classes_n, interval in interval_lst.items():\n",
    "    cv16f_class[classes_n] = classificator(cv16f, interval, \"column_18\")\n",
    "cv16f_class"
   ]
  },
  {
   "cell_type": "code",
   "execution_count": 7,
   "id": "f4f300c3-eb56-4e90-bad2-4fd476f30b31",
   "metadata": {
    "colab": {
     "base_uri": "https://localhost:8080/",
     "height": 882
    },
    "id": "f4f300c3-eb56-4e90-bad2-4fd476f30b31",
    "outputId": "64c2393a-2e65-47c1-d798-a6773ae3dabb"
   },
   "outputs": [
    {
     "data": {
      "text/plain": [
       "{'2': shape: (680, 18)\n",
       " ┌──────────┬──────────┬──────────┬──────────┬───┬───────────┬───────────┬───────────┬───────────┐\n",
       " │ column_1 ┆ column_2 ┆ column_3 ┆ column_4 ┆ … ┆ column_15 ┆ column_16 ┆ column_17 ┆ column_18 │\n",
       " │ ---      ┆ ---      ┆ ---      ┆ ---      ┆   ┆ ---       ┆ ---       ┆ ---       ┆ ---       │\n",
       " │ f64      ┆ f64      ┆ f64      ┆ f64      ┆   ┆ f64       ┆ f64       ┆ f64       ┆ f64       │\n",
       " ╞══════════╪══════════╪══════════╪══════════╪═══╪═══════════╪═══════════╪═══════════╪═══════════╡\n",
       " │ 0.8907   ┆ 0.0905   ┆ 0.0119   ┆ 0.0054   ┆ … ┆ 0.0       ┆ 0.0       ┆ 21.3      ┆ 0.0       │\n",
       " │ 0.8867   ┆ 0.0966   ┆ 0.0117   ┆ 0.0047   ┆ … ┆ 0.0       ┆ 0.0       ┆ 15.3      ┆ 0.0       │\n",
       " │ 0.8751   ┆ 0.108    ┆ 0.0134   ┆ 0.0033   ┆ … ┆ 0.0       ┆ 0.0       ┆ 16.3      ┆ 0.0       │\n",
       " │ 0.9991   ┆ 0.0009   ┆ 0.0      ┆ 0.0      ┆ … ┆ 0.0       ┆ 0.0       ┆ 28.3      ┆ 0.0       │\n",
       " │ …        ┆ …        ┆ …        ┆ …        ┆ … ┆ …         ┆ …         ┆ …         ┆ …         │\n",
       " │ 0.9405   ┆ 0.0552   ┆ 0.0035   ┆ 0.0007   ┆ … ┆ 0.0       ┆ 0.0       ┆ 16.3      ┆ 1.0       │\n",
       " │ 0.9188   ┆ 0.0741   ┆ 0.006    ┆ 0.0011   ┆ … ┆ 0.0       ┆ 0.0       ┆ 16.3      ┆ 0.0       │\n",
       " │ 0.9896   ┆ 0.0102   ┆ 0.0001   ┆ 0.0001   ┆ … ┆ 0.0       ┆ 0.0       ┆ 21.3      ┆ 0.0       │\n",
       " │ 0.8898   ┆ 0.0963   ┆ 0.0107   ┆ 0.0031   ┆ … ┆ 0.0       ┆ 0.0       ┆ 15.3      ┆ 0.0       │\n",
       " └──────────┴──────────┴──────────┴──────────┴───┴───────────┴───────────┴───────────┴───────────┘,\n",
       " '3': shape: (680, 18)\n",
       " ┌──────────┬──────────┬──────────┬──────────┬───┬───────────┬───────────┬───────────┬───────────┐\n",
       " │ column_1 ┆ column_2 ┆ column_3 ┆ column_4 ┆ … ┆ column_15 ┆ column_16 ┆ column_17 ┆ column_18 │\n",
       " │ ---      ┆ ---      ┆ ---      ┆ ---      ┆   ┆ ---       ┆ ---       ┆ ---       ┆ ---       │\n",
       " │ f64      ┆ f64      ┆ f64      ┆ f64      ┆   ┆ f64       ┆ f64       ┆ f64       ┆ f64       │\n",
       " ╞══════════╪══════════╪══════════╪══════════╪═══╪═══════════╪═══════════╪═══════════╪═══════════╡\n",
       " │ 0.8907   ┆ 0.0905   ┆ 0.0119   ┆ 0.0054   ┆ … ┆ 0.0       ┆ 0.0       ┆ 21.3      ┆ 0.0       │\n",
       " │ 0.8867   ┆ 0.0966   ┆ 0.0117   ┆ 0.0047   ┆ … ┆ 0.0       ┆ 0.0       ┆ 15.3      ┆ 0.0       │\n",
       " │ 0.8751   ┆ 0.108    ┆ 0.0134   ┆ 0.0033   ┆ … ┆ 0.0       ┆ 0.0       ┆ 16.3      ┆ 0.0       │\n",
       " │ 0.9991   ┆ 0.0009   ┆ 0.0      ┆ 0.0      ┆ … ┆ 0.0       ┆ 0.0       ┆ 28.3      ┆ 0.0       │\n",
       " │ …        ┆ …        ┆ …        ┆ …        ┆ … ┆ …         ┆ …         ┆ …         ┆ …         │\n",
       " │ 0.9405   ┆ 0.0552   ┆ 0.0035   ┆ 0.0007   ┆ … ┆ 0.0       ┆ 0.0       ┆ 16.3      ┆ 2.0       │\n",
       " │ 0.9188   ┆ 0.0741   ┆ 0.006    ┆ 0.0011   ┆ … ┆ 0.0       ┆ 0.0       ┆ 16.3      ┆ 0.0       │\n",
       " │ 0.9896   ┆ 0.0102   ┆ 0.0001   ┆ 0.0001   ┆ … ┆ 0.0       ┆ 0.0       ┆ 21.3      ┆ 0.0       │\n",
       " │ 0.8898   ┆ 0.0963   ┆ 0.0107   ┆ 0.0031   ┆ … ┆ 0.0       ┆ 0.0       ┆ 15.3      ┆ 0.0       │\n",
       " └──────────┴──────────┴──────────┴──────────┴───┴───────────┴───────────┴───────────┴───────────┘,\n",
       " '4': shape: (680, 18)\n",
       " ┌──────────┬──────────┬──────────┬──────────┬───┬───────────┬───────────┬───────────┬───────────┐\n",
       " │ column_1 ┆ column_2 ┆ column_3 ┆ column_4 ┆ … ┆ column_15 ┆ column_16 ┆ column_17 ┆ column_18 │\n",
       " │ ---      ┆ ---      ┆ ---      ┆ ---      ┆   ┆ ---       ┆ ---       ┆ ---       ┆ ---       │\n",
       " │ f64      ┆ f64      ┆ f64      ┆ f64      ┆   ┆ f64       ┆ f64       ┆ f64       ┆ f64       │\n",
       " ╞══════════╪══════════╪══════════╪══════════╪═══╪═══════════╪═══════════╪═══════════╪═══════════╡\n",
       " │ 0.8907   ┆ 0.0905   ┆ 0.0119   ┆ 0.0054   ┆ … ┆ 0.0       ┆ 0.0       ┆ 21.3      ┆ 0.0       │\n",
       " │ 0.8867   ┆ 0.0966   ┆ 0.0117   ┆ 0.0047   ┆ … ┆ 0.0       ┆ 0.0       ┆ 15.3      ┆ 0.0       │\n",
       " │ 0.8751   ┆ 0.108    ┆ 0.0134   ┆ 0.0033   ┆ … ┆ 0.0       ┆ 0.0       ┆ 16.3      ┆ 0.0       │\n",
       " │ 0.9991   ┆ 0.0009   ┆ 0.0      ┆ 0.0      ┆ … ┆ 0.0       ┆ 0.0       ┆ 28.3      ┆ 0.0       │\n",
       " │ …        ┆ …        ┆ …        ┆ …        ┆ … ┆ …         ┆ …         ┆ …         ┆ …         │\n",
       " │ 0.9405   ┆ 0.0552   ┆ 0.0035   ┆ 0.0007   ┆ … ┆ 0.0       ┆ 0.0       ┆ 16.3      ┆ 3.0       │\n",
       " │ 0.9188   ┆ 0.0741   ┆ 0.006    ┆ 0.0011   ┆ … ┆ 0.0       ┆ 0.0       ┆ 16.3      ┆ 0.0       │\n",
       " │ 0.9896   ┆ 0.0102   ┆ 0.0001   ┆ 0.0001   ┆ … ┆ 0.0       ┆ 0.0       ┆ 21.3      ┆ 0.0       │\n",
       " │ 0.8898   ┆ 0.0963   ┆ 0.0107   ┆ 0.0031   ┆ … ┆ 0.0       ┆ 0.0       ┆ 15.3      ┆ 0.0       │\n",
       " └──────────┴──────────┴──────────┴──────────┴───┴───────────┴───────────┴───────────┴───────────┘,\n",
       " '5': shape: (680, 18)\n",
       " ┌──────────┬──────────┬──────────┬──────────┬───┬───────────┬───────────┬───────────┬───────────┐\n",
       " │ column_1 ┆ column_2 ┆ column_3 ┆ column_4 ┆ … ┆ column_15 ┆ column_16 ┆ column_17 ┆ column_18 │\n",
       " │ ---      ┆ ---      ┆ ---      ┆ ---      ┆   ┆ ---       ┆ ---       ┆ ---       ┆ ---       │\n",
       " │ f64      ┆ f64      ┆ f64      ┆ f64      ┆   ┆ f64       ┆ f64       ┆ f64       ┆ f64       │\n",
       " ╞══════════╪══════════╪══════════╪══════════╪═══╪═══════════╪═══════════╪═══════════╪═══════════╡\n",
       " │ 0.8907   ┆ 0.0905   ┆ 0.0119   ┆ 0.0054   ┆ … ┆ 0.0       ┆ 0.0       ┆ 21.3      ┆ 0.0       │\n",
       " │ 0.8867   ┆ 0.0966   ┆ 0.0117   ┆ 0.0047   ┆ … ┆ 0.0       ┆ 0.0       ┆ 15.3      ┆ 0.0       │\n",
       " │ 0.8751   ┆ 0.108    ┆ 0.0134   ┆ 0.0033   ┆ … ┆ 0.0       ┆ 0.0       ┆ 16.3      ┆ 0.0       │\n",
       " │ 0.9991   ┆ 0.0009   ┆ 0.0      ┆ 0.0      ┆ … ┆ 0.0       ┆ 0.0       ┆ 28.3      ┆ 0.0       │\n",
       " │ …        ┆ …        ┆ …        ┆ …        ┆ … ┆ …         ┆ …         ┆ …         ┆ …         │\n",
       " │ 0.9405   ┆ 0.0552   ┆ 0.0035   ┆ 0.0007   ┆ … ┆ 0.0       ┆ 0.0       ┆ 16.3      ┆ 4.0       │\n",
       " │ 0.9188   ┆ 0.0741   ┆ 0.006    ┆ 0.0011   ┆ … ┆ 0.0       ┆ 0.0       ┆ 16.3      ┆ 0.0       │\n",
       " │ 0.9896   ┆ 0.0102   ┆ 0.0001   ┆ 0.0001   ┆ … ┆ 0.0       ┆ 0.0       ┆ 21.3      ┆ 0.0       │\n",
       " │ 0.8898   ┆ 0.0963   ┆ 0.0107   ┆ 0.0031   ┆ … ┆ 0.0       ┆ 0.0       ┆ 15.3      ┆ 0.0       │\n",
       " └──────────┴──────────┴──────────┴──────────┴───┴───────────┴───────────┴───────────┴───────────┘}"
      ]
     },
     "execution_count": 7,
     "metadata": {},
     "output_type": "execute_result"
    }
   ],
   "source": [
    "# Shuffle the dataframe\n",
    "cv16f_class_shuffled = {}\n",
    "for classes_n, df in cv16f_class.items():\n",
    "    cv16f_class_shuffled[classes_n] = df.sample(n=len(df), shuffle=True, seed=1036681523)\n",
    "cv16f_class_shuffled"
   ]
  },
  {
   "cell_type": "code",
   "execution_count": 8,
   "id": "5e079b32-d271-4ca7-85e1-64c72c09c89a",
   "metadata": {
    "colab": {
     "base_uri": "https://localhost:8080/",
     "height": 882
    },
    "id": "5e079b32-d271-4ca7-85e1-64c72c09c89a",
    "outputId": "9c1a8fa5-a3fd-4a4d-c7d6-b2784c383e32"
   },
   "outputs": [
    {
     "data": {
      "text/plain": [
       "{'2': shape: (68, 18)\n",
       " ┌──────────┬──────────┬──────────┬──────────┬───┬───────────┬───────────┬───────────┬───────────┐\n",
       " │ column_1 ┆ column_2 ┆ column_3 ┆ column_4 ┆ … ┆ column_15 ┆ column_16 ┆ column_17 ┆ column_18 │\n",
       " │ ---      ┆ ---      ┆ ---      ┆ ---      ┆   ┆ ---       ┆ ---       ┆ ---       ┆ ---       │\n",
       " │ f64      ┆ f64      ┆ f64      ┆ f64      ┆   ┆ f64       ┆ f64       ┆ f64       ┆ f64       │\n",
       " ╞══════════╪══════════╪══════════╪══════════╪═══╪═══════════╪═══════════╪═══════════╪═══════════╡\n",
       " │ 0.8907   ┆ 0.0905   ┆ 0.0119   ┆ 0.0054   ┆ … ┆ 0.0       ┆ 0.0       ┆ 21.3      ┆ 0.0       │\n",
       " │ 0.8867   ┆ 0.0966   ┆ 0.0117   ┆ 0.0047   ┆ … ┆ 0.0       ┆ 0.0       ┆ 15.3      ┆ 0.0       │\n",
       " │ 0.8751   ┆ 0.108    ┆ 0.0134   ┆ 0.0033   ┆ … ┆ 0.0       ┆ 0.0       ┆ 16.3      ┆ 0.0       │\n",
       " │ 0.9991   ┆ 0.0009   ┆ 0.0      ┆ 0.0      ┆ … ┆ 0.0       ┆ 0.0       ┆ 28.3      ┆ 0.0       │\n",
       " │ …        ┆ …        ┆ …        ┆ …        ┆ … ┆ …         ┆ …         ┆ …         ┆ …         │\n",
       " │ 1.0      ┆ 0.0      ┆ 0.0      ┆ 0.0      ┆ … ┆ 0.0       ┆ 0.0       ┆ 23.3      ┆ 1.0       │\n",
       " │ 0.8802   ┆ 0.1006   ┆ 0.0147   ┆ 0.004    ┆ … ┆ 0.0       ┆ 0.0       ┆ 16.3      ┆ 0.0       │\n",
       " │ 0.9996   ┆ 0.0004   ┆ 0.0      ┆ 0.0      ┆ … ┆ 0.0       ┆ 0.0       ┆ 36.3      ┆ 0.0       │\n",
       " │ 0.9462   ┆ 0.049    ┆ 0.0035   ┆ 0.0012   ┆ … ┆ 0.0       ┆ 0.0       ┆ 19.3      ┆ 0.0       │\n",
       " └──────────┴──────────┴──────────┴──────────┴───┴───────────┴───────────┴───────────┴───────────┘,\n",
       " '3': shape: (68, 18)\n",
       " ┌──────────┬──────────┬──────────┬──────────┬───┬───────────┬───────────┬───────────┬───────────┐\n",
       " │ column_1 ┆ column_2 ┆ column_3 ┆ column_4 ┆ … ┆ column_15 ┆ column_16 ┆ column_17 ┆ column_18 │\n",
       " │ ---      ┆ ---      ┆ ---      ┆ ---      ┆   ┆ ---       ┆ ---       ┆ ---       ┆ ---       │\n",
       " │ f64      ┆ f64      ┆ f64      ┆ f64      ┆   ┆ f64       ┆ f64       ┆ f64       ┆ f64       │\n",
       " ╞══════════╪══════════╪══════════╪══════════╪═══╪═══════════╪═══════════╪═══════════╪═══════════╡\n",
       " │ 0.8907   ┆ 0.0905   ┆ 0.0119   ┆ 0.0054   ┆ … ┆ 0.0       ┆ 0.0       ┆ 21.3      ┆ 0.0       │\n",
       " │ 0.8867   ┆ 0.0966   ┆ 0.0117   ┆ 0.0047   ┆ … ┆ 0.0       ┆ 0.0       ┆ 15.3      ┆ 0.0       │\n",
       " │ 0.8751   ┆ 0.108    ┆ 0.0134   ┆ 0.0033   ┆ … ┆ 0.0       ┆ 0.0       ┆ 16.3      ┆ 0.0       │\n",
       " │ 0.9991   ┆ 0.0009   ┆ 0.0      ┆ 0.0      ┆ … ┆ 0.0       ┆ 0.0       ┆ 28.3      ┆ 0.0       │\n",
       " │ …        ┆ …        ┆ …        ┆ …        ┆ … ┆ …         ┆ …         ┆ …         ┆ …         │\n",
       " │ 1.0      ┆ 0.0      ┆ 0.0      ┆ 0.0      ┆ … ┆ 0.0       ┆ 0.0       ┆ 23.3      ┆ 2.0       │\n",
       " │ 0.8802   ┆ 0.1006   ┆ 0.0147   ┆ 0.004    ┆ … ┆ 0.0       ┆ 0.0       ┆ 16.3      ┆ 0.0       │\n",
       " │ 0.9996   ┆ 0.0004   ┆ 0.0      ┆ 0.0      ┆ … ┆ 0.0       ┆ 0.0       ┆ 36.3      ┆ 0.0       │\n",
       " │ 0.9462   ┆ 0.049    ┆ 0.0035   ┆ 0.0012   ┆ … ┆ 0.0       ┆ 0.0       ┆ 19.3      ┆ 0.0       │\n",
       " └──────────┴──────────┴──────────┴──────────┴───┴───────────┴───────────┴───────────┴───────────┘,\n",
       " '4': shape: (68, 18)\n",
       " ┌──────────┬──────────┬──────────┬──────────┬───┬───────────┬───────────┬───────────┬───────────┐\n",
       " │ column_1 ┆ column_2 ┆ column_3 ┆ column_4 ┆ … ┆ column_15 ┆ column_16 ┆ column_17 ┆ column_18 │\n",
       " │ ---      ┆ ---      ┆ ---      ┆ ---      ┆   ┆ ---       ┆ ---       ┆ ---       ┆ ---       │\n",
       " │ f64      ┆ f64      ┆ f64      ┆ f64      ┆   ┆ f64       ┆ f64       ┆ f64       ┆ f64       │\n",
       " ╞══════════╪══════════╪══════════╪══════════╪═══╪═══════════╪═══════════╪═══════════╪═══════════╡\n",
       " │ 0.8907   ┆ 0.0905   ┆ 0.0119   ┆ 0.0054   ┆ … ┆ 0.0       ┆ 0.0       ┆ 21.3      ┆ 0.0       │\n",
       " │ 0.8867   ┆ 0.0966   ┆ 0.0117   ┆ 0.0047   ┆ … ┆ 0.0       ┆ 0.0       ┆ 15.3      ┆ 0.0       │\n",
       " │ 0.8751   ┆ 0.108    ┆ 0.0134   ┆ 0.0033   ┆ … ┆ 0.0       ┆ 0.0       ┆ 16.3      ┆ 0.0       │\n",
       " │ 0.9991   ┆ 0.0009   ┆ 0.0      ┆ 0.0      ┆ … ┆ 0.0       ┆ 0.0       ┆ 28.3      ┆ 0.0       │\n",
       " │ …        ┆ …        ┆ …        ┆ …        ┆ … ┆ …         ┆ …         ┆ …         ┆ …         │\n",
       " │ 1.0      ┆ 0.0      ┆ 0.0      ┆ 0.0      ┆ … ┆ 0.0       ┆ 0.0       ┆ 23.3      ┆ 3.0       │\n",
       " │ 0.8802   ┆ 0.1006   ┆ 0.0147   ┆ 0.004    ┆ … ┆ 0.0       ┆ 0.0       ┆ 16.3      ┆ 0.0       │\n",
       " │ 0.9996   ┆ 0.0004   ┆ 0.0      ┆ 0.0      ┆ … ┆ 0.0       ┆ 0.0       ┆ 36.3      ┆ 0.0       │\n",
       " │ 0.9462   ┆ 0.049    ┆ 0.0035   ┆ 0.0012   ┆ … ┆ 0.0       ┆ 0.0       ┆ 19.3      ┆ 0.0       │\n",
       " └──────────┴──────────┴──────────┴──────────┴───┴───────────┴───────────┴───────────┴───────────┘,\n",
       " '5': shape: (68, 18)\n",
       " ┌──────────┬──────────┬──────────┬──────────┬───┬───────────┬───────────┬───────────┬───────────┐\n",
       " │ column_1 ┆ column_2 ┆ column_3 ┆ column_4 ┆ … ┆ column_15 ┆ column_16 ┆ column_17 ┆ column_18 │\n",
       " │ ---      ┆ ---      ┆ ---      ┆ ---      ┆   ┆ ---       ┆ ---       ┆ ---       ┆ ---       │\n",
       " │ f64      ┆ f64      ┆ f64      ┆ f64      ┆   ┆ f64       ┆ f64       ┆ f64       ┆ f64       │\n",
       " ╞══════════╪══════════╪══════════╪══════════╪═══╪═══════════╪═══════════╪═══════════╪═══════════╡\n",
       " │ 0.8907   ┆ 0.0905   ┆ 0.0119   ┆ 0.0054   ┆ … ┆ 0.0       ┆ 0.0       ┆ 21.3      ┆ 0.0       │\n",
       " │ 0.8867   ┆ 0.0966   ┆ 0.0117   ┆ 0.0047   ┆ … ┆ 0.0       ┆ 0.0       ┆ 15.3      ┆ 0.0       │\n",
       " │ 0.8751   ┆ 0.108    ┆ 0.0134   ┆ 0.0033   ┆ … ┆ 0.0       ┆ 0.0       ┆ 16.3      ┆ 0.0       │\n",
       " │ 0.9991   ┆ 0.0009   ┆ 0.0      ┆ 0.0      ┆ … ┆ 0.0       ┆ 0.0       ┆ 28.3      ┆ 0.0       │\n",
       " │ …        ┆ …        ┆ …        ┆ …        ┆ … ┆ …         ┆ …         ┆ …         ┆ …         │\n",
       " │ 1.0      ┆ 0.0      ┆ 0.0      ┆ 0.0      ┆ … ┆ 0.0       ┆ 0.0       ┆ 23.3      ┆ 4.0       │\n",
       " │ 0.8802   ┆ 0.1006   ┆ 0.0147   ┆ 0.004    ┆ … ┆ 0.0       ┆ 0.0       ┆ 16.3      ┆ 0.0       │\n",
       " │ 0.9996   ┆ 0.0004   ┆ 0.0      ┆ 0.0      ┆ … ┆ 0.0       ┆ 0.0       ┆ 36.3      ┆ 0.0       │\n",
       " │ 0.9462   ┆ 0.049    ┆ 0.0035   ┆ 0.0012   ┆ … ┆ 0.0       ┆ 0.0       ┆ 19.3      ┆ 0.0       │\n",
       " └──────────┴──────────┴──────────┴──────────┴───┴───────────┴───────────┴───────────┴───────────┘}"
      ]
     },
     "execution_count": 8,
     "metadata": {},
     "output_type": "execute_result"
    }
   ],
   "source": [
    "# Extract 10% of the data to use later for \"production\" testing\n",
    "cv16f_class_prod = {}\n",
    "for classes_n, df in cv16f_class_shuffled.items():\n",
    "    cv16f_class_prod[classes_n] = df[: int(len(df) * 0.1)]\n",
    "cv16f_class_prod"
   ]
  },
  {
   "cell_type": "code",
   "execution_count": 9,
   "id": "e5bc5587-8508-4809-a9eb-10a4cb51eb03",
   "metadata": {
    "id": "e5bc5587-8508-4809-a9eb-10a4cb51eb03"
   },
   "outputs": [
    {
     "data": {
      "text/plain": [
       "{'2': shape: (612, 18)\n",
       " ┌──────────┬──────────┬──────────┬──────────┬───┬───────────┬───────────┬───────────┬───────────┐\n",
       " │ column_1 ┆ column_2 ┆ column_3 ┆ column_4 ┆ … ┆ column_15 ┆ column_16 ┆ column_17 ┆ column_18 │\n",
       " │ ---      ┆ ---      ┆ ---      ┆ ---      ┆   ┆ ---       ┆ ---       ┆ ---       ┆ ---       │\n",
       " │ f64      ┆ f64      ┆ f64      ┆ f64      ┆   ┆ f64       ┆ f64       ┆ f64       ┆ f64       │\n",
       " ╞══════════╪══════════╪══════════╪══════════╪═══╪═══════════╪═══════════╪═══════════╪═══════════╡\n",
       " │ 0.9999   ┆ 0.0001   ┆ 0.0      ┆ 0.0      ┆ … ┆ 0.0       ┆ 0.0       ┆ 26.3      ┆ 1.0       │\n",
       " │ 0.9975   ┆ 0.0024   ┆ 0.0      ┆ 0.0001   ┆ … ┆ 0.0       ┆ 0.0       ┆ 26.3      ┆ 0.0       │\n",
       " │ 0.9802   ┆ 0.0193   ┆ 0.0003   ┆ 0.0002   ┆ … ┆ 0.0       ┆ 0.0       ┆ 19.3      ┆ 0.0       │\n",
       " │ 0.977    ┆ 0.0214   ┆ 0.0011   ┆ 0.0005   ┆ … ┆ 0.0       ┆ 0.0       ┆ 23.3      ┆ 0.0       │\n",
       " │ …        ┆ …        ┆ …        ┆ …        ┆ … ┆ …         ┆ …         ┆ …         ┆ …         │\n",
       " │ 0.9405   ┆ 0.0552   ┆ 0.0035   ┆ 0.0007   ┆ … ┆ 0.0       ┆ 0.0       ┆ 16.3      ┆ 1.0       │\n",
       " │ 0.9188   ┆ 0.0741   ┆ 0.006    ┆ 0.0011   ┆ … ┆ 0.0       ┆ 0.0       ┆ 16.3      ┆ 0.0       │\n",
       " │ 0.9896   ┆ 0.0102   ┆ 0.0001   ┆ 0.0001   ┆ … ┆ 0.0       ┆ 0.0       ┆ 21.3      ┆ 0.0       │\n",
       " │ 0.8898   ┆ 0.0963   ┆ 0.0107   ┆ 0.0031   ┆ … ┆ 0.0       ┆ 0.0       ┆ 15.3      ┆ 0.0       │\n",
       " └──────────┴──────────┴──────────┴──────────┴───┴───────────┴───────────┴───────────┴───────────┘,\n",
       " '3': shape: (612, 18)\n",
       " ┌──────────┬──────────┬──────────┬──────────┬───┬───────────┬───────────┬───────────┬───────────┐\n",
       " │ column_1 ┆ column_2 ┆ column_3 ┆ column_4 ┆ … ┆ column_15 ┆ column_16 ┆ column_17 ┆ column_18 │\n",
       " │ ---      ┆ ---      ┆ ---      ┆ ---      ┆   ┆ ---       ┆ ---       ┆ ---       ┆ ---       │\n",
       " │ f64      ┆ f64      ┆ f64      ┆ f64      ┆   ┆ f64       ┆ f64       ┆ f64       ┆ f64       │\n",
       " ╞══════════╪══════════╪══════════╪══════════╪═══╪═══════════╪═══════════╪═══════════╪═══════════╡\n",
       " │ 0.9999   ┆ 0.0001   ┆ 0.0      ┆ 0.0      ┆ … ┆ 0.0       ┆ 0.0       ┆ 26.3      ┆ 2.0       │\n",
       " │ 0.9975   ┆ 0.0024   ┆ 0.0      ┆ 0.0001   ┆ … ┆ 0.0       ┆ 0.0       ┆ 26.3      ┆ 0.0       │\n",
       " │ 0.9802   ┆ 0.0193   ┆ 0.0003   ┆ 0.0002   ┆ … ┆ 0.0       ┆ 0.0       ┆ 19.3      ┆ 0.0       │\n",
       " │ 0.977    ┆ 0.0214   ┆ 0.0011   ┆ 0.0005   ┆ … ┆ 0.0       ┆ 0.0       ┆ 23.3      ┆ 0.0       │\n",
       " │ …        ┆ …        ┆ …        ┆ …        ┆ … ┆ …         ┆ …         ┆ …         ┆ …         │\n",
       " │ 0.9405   ┆ 0.0552   ┆ 0.0035   ┆ 0.0007   ┆ … ┆ 0.0       ┆ 0.0       ┆ 16.3      ┆ 2.0       │\n",
       " │ 0.9188   ┆ 0.0741   ┆ 0.006    ┆ 0.0011   ┆ … ┆ 0.0       ┆ 0.0       ┆ 16.3      ┆ 0.0       │\n",
       " │ 0.9896   ┆ 0.0102   ┆ 0.0001   ┆ 0.0001   ┆ … ┆ 0.0       ┆ 0.0       ┆ 21.3      ┆ 0.0       │\n",
       " │ 0.8898   ┆ 0.0963   ┆ 0.0107   ┆ 0.0031   ┆ … ┆ 0.0       ┆ 0.0       ┆ 15.3      ┆ 0.0       │\n",
       " └──────────┴──────────┴──────────┴──────────┴───┴───────────┴───────────┴───────────┴───────────┘,\n",
       " '4': shape: (612, 18)\n",
       " ┌──────────┬──────────┬──────────┬──────────┬───┬───────────┬───────────┬───────────┬───────────┐\n",
       " │ column_1 ┆ column_2 ┆ column_3 ┆ column_4 ┆ … ┆ column_15 ┆ column_16 ┆ column_17 ┆ column_18 │\n",
       " │ ---      ┆ ---      ┆ ---      ┆ ---      ┆   ┆ ---       ┆ ---       ┆ ---       ┆ ---       │\n",
       " │ f64      ┆ f64      ┆ f64      ┆ f64      ┆   ┆ f64       ┆ f64       ┆ f64       ┆ f64       │\n",
       " ╞══════════╪══════════╪══════════╪══════════╪═══╪═══════════╪═══════════╪═══════════╪═══════════╡\n",
       " │ 0.9999   ┆ 0.0001   ┆ 0.0      ┆ 0.0      ┆ … ┆ 0.0       ┆ 0.0       ┆ 26.3      ┆ 3.0       │\n",
       " │ 0.9975   ┆ 0.0024   ┆ 0.0      ┆ 0.0001   ┆ … ┆ 0.0       ┆ 0.0       ┆ 26.3      ┆ 0.0       │\n",
       " │ 0.9802   ┆ 0.0193   ┆ 0.0003   ┆ 0.0002   ┆ … ┆ 0.0       ┆ 0.0       ┆ 19.3      ┆ 0.0       │\n",
       " │ 0.977    ┆ 0.0214   ┆ 0.0011   ┆ 0.0005   ┆ … ┆ 0.0       ┆ 0.0       ┆ 23.3      ┆ 0.0       │\n",
       " │ …        ┆ …        ┆ …        ┆ …        ┆ … ┆ …         ┆ …         ┆ …         ┆ …         │\n",
       " │ 0.9405   ┆ 0.0552   ┆ 0.0035   ┆ 0.0007   ┆ … ┆ 0.0       ┆ 0.0       ┆ 16.3      ┆ 3.0       │\n",
       " │ 0.9188   ┆ 0.0741   ┆ 0.006    ┆ 0.0011   ┆ … ┆ 0.0       ┆ 0.0       ┆ 16.3      ┆ 0.0       │\n",
       " │ 0.9896   ┆ 0.0102   ┆ 0.0001   ┆ 0.0001   ┆ … ┆ 0.0       ┆ 0.0       ┆ 21.3      ┆ 0.0       │\n",
       " │ 0.8898   ┆ 0.0963   ┆ 0.0107   ┆ 0.0031   ┆ … ┆ 0.0       ┆ 0.0       ┆ 15.3      ┆ 0.0       │\n",
       " └──────────┴──────────┴──────────┴──────────┴───┴───────────┴───────────┴───────────┴───────────┘,\n",
       " '5': shape: (612, 18)\n",
       " ┌──────────┬──────────┬──────────┬──────────┬───┬───────────┬───────────┬───────────┬───────────┐\n",
       " │ column_1 ┆ column_2 ┆ column_3 ┆ column_4 ┆ … ┆ column_15 ┆ column_16 ┆ column_17 ┆ column_18 │\n",
       " │ ---      ┆ ---      ┆ ---      ┆ ---      ┆   ┆ ---       ┆ ---       ┆ ---       ┆ ---       │\n",
       " │ f64      ┆ f64      ┆ f64      ┆ f64      ┆   ┆ f64       ┆ f64       ┆ f64       ┆ f64       │\n",
       " ╞══════════╪══════════╪══════════╪══════════╪═══╪═══════════╪═══════════╪═══════════╪═══════════╡\n",
       " │ 0.9999   ┆ 0.0001   ┆ 0.0      ┆ 0.0      ┆ … ┆ 0.0       ┆ 0.0       ┆ 26.3      ┆ 4.0       │\n",
       " │ 0.9975   ┆ 0.0024   ┆ 0.0      ┆ 0.0001   ┆ … ┆ 0.0       ┆ 0.0       ┆ 26.3      ┆ 0.0       │\n",
       " │ 0.9802   ┆ 0.0193   ┆ 0.0003   ┆ 0.0002   ┆ … ┆ 0.0       ┆ 0.0       ┆ 19.3      ┆ 0.0       │\n",
       " │ 0.977    ┆ 0.0214   ┆ 0.0011   ┆ 0.0005   ┆ … ┆ 0.0       ┆ 0.0       ┆ 23.3      ┆ 0.0       │\n",
       " │ …        ┆ …        ┆ …        ┆ …        ┆ … ┆ …         ┆ …         ┆ …         ┆ …         │\n",
       " │ 0.9405   ┆ 0.0552   ┆ 0.0035   ┆ 0.0007   ┆ … ┆ 0.0       ┆ 0.0       ┆ 16.3      ┆ 4.0       │\n",
       " │ 0.9188   ┆ 0.0741   ┆ 0.006    ┆ 0.0011   ┆ … ┆ 0.0       ┆ 0.0       ┆ 16.3      ┆ 0.0       │\n",
       " │ 0.9896   ┆ 0.0102   ┆ 0.0001   ┆ 0.0001   ┆ … ┆ 0.0       ┆ 0.0       ┆ 21.3      ┆ 0.0       │\n",
       " │ 0.8898   ┆ 0.0963   ┆ 0.0107   ┆ 0.0031   ┆ … ┆ 0.0       ┆ 0.0       ┆ 15.3      ┆ 0.0       │\n",
       " └──────────┴──────────┴──────────┴──────────┴───┴───────────┴───────────┴───────────┴───────────┘}"
      ]
     },
     "execution_count": 9,
     "metadata": {},
     "output_type": "execute_result"
    }
   ],
   "source": [
    "# Use the rest of the data for normal testing\n",
    "cv16f_class_new = {}\n",
    "for classes_n, df in cv16f_class_shuffled.items():\n",
    "    cv16f_class_new[classes_n] = df[int(len(df) * 0.1) :]\n",
    "cv16f_class_new"
   ]
  },
  {
   "cell_type": "markdown",
   "id": "c7171c0b-812c-4e54-b46b-91480904a9a4",
   "metadata": {
    "id": "c7171c0b-812c-4e54-b46b-91480904a9a4"
   },
   "source": [
    "### Hyperparameters evaluation"
   ]
  },
  {
   "cell_type": "markdown",
   "id": "fffca2c3-15d4-4d50-bbe3-44fa538e51cb",
   "metadata": {
    "id": "fffca2c3-15d4-4d50-bbe3-44fa538e51cb"
   },
   "source": [
    "The following hyperparameters are going to be combined and evaluated: \n",
    "- Maximum number of neurons in the first layer (8, 16, 32, 64, 128, 256, 512, 1024).\n",
    "- Number of hidden layers (1, 2, 3).\n",
    "- Activation functions (ReLu, tanh, sigmoid).\n",
    "- Using or not the OSNR value as an additional feature.\n",
    "\n",
    "Results will have the following structure:\n",
    "```\n",
    "{\"xyz\": {\"n_neurons\": {\"osnr\": {\"classes_n\": results}}}}\n",
    "```\n",
    "Where `xyz` will be each initial of the activation functions in the model (r for ReLu, t for tanh and s for sigmoid), `n_neurons` will be the maximum number of neurons in the model (corresponding to the first layer), `osnr` will be a string telling if that model used OSNR as input or not (`\"osnr\"` or `wo_osnr`), then, the number of classes used will be stored.\n",
    "Finally the results will store the loss history, the serialized model in JSON format in a string and MAE, RMSE and R² values for training, test and production data."
   ]
  },
  {
   "cell_type": "code",
   "execution_count": 10,
   "id": "27927d24-4ad8-4a25-b63d-dd5e54dfc0b0",
   "metadata": {
    "id": "27927d24-4ad8-4a25-b63d-dd5e54dfc0b0",
    "tags": []
   },
   "outputs": [],
   "source": [
    "osnr_lst = [\"osnr\", \"wo_osnr\"]\n",
    "max_neurons = [str(2**n) for n in range(3, 11)]\n",
    "functs = [\"relu\", \"tanh\", \"sigmoid\"]\n",
    "layers_n = [1, 2, 3]\n",
    "classes_n = list(map(str, range(2, 6)))\n",
    "\n",
    "combinations = [\n",
    "    [list(subset) for subset in product(functs, repeat=n)] for n in layers_n\n",
    "]\n",
    "\n",
    "hidden_layers = [item for sublist in combinations for item in sublist]"
   ]
  },
  {
   "cell_type": "code",
   "execution_count": null,
   "id": "1c29e306-cde9-4113-924a-ec3bd07e0d71",
   "metadata": {
    "id": "1c29e306-cde9-4113-924a-ec3bd07e0d71"
   },
   "outputs": [
    {
     "name": "stdout",
     "output_type": "stream",
     "text": [
      "Error loading from file, creating a new dictionary\n",
      "[{'units': 8, 'activation': 'relu'}] + OSNR 2 classes\n",
      "Needed iterations: 5000\n",
      "Needed iterations: 2976\n",
      "Needed iterations: 4082\n",
      "Needed iterations: 3827\n",
      "Needed iterations: 2245\n",
      "Saving results...\n",
      "Results saved!\n",
      "[{'units': 8, 'activation': 'relu'}] + OSNR 3 classes\n",
      "Needed iterations: 4246\n",
      "Needed iterations: 3141\n",
      "Needed iterations: 3605\n",
      "Needed iterations: 4181\n",
      "Needed iterations: 3375\n",
      "Saving results...\n",
      "Results saved!\n",
      "[{'units': 8, 'activation': 'relu'}] + OSNR 4 classes\n",
      "Needed iterations: 5000\n",
      "Needed iterations: 4307\n",
      "Needed iterations: 3354\n",
      "Needed iterations: 2174\n",
      "Needed iterations: 4359\n",
      "Saving results...\n",
      "Results saved!\n",
      "[{'units': 8, 'activation': 'relu'}] + OSNR 5 classes\n",
      "Needed iterations: 3599\n",
      "Needed iterations: 3485\n",
      "Needed iterations: 4346\n",
      "Needed iterations: 3476\n"
     ]
    }
   ],
   "source": [
    "try:\n",
    "    cv16f_class_results = sofa.load_hdf5(f\"{ROOT}/cv16f_class_results.h5\")\n",
    "except:\n",
    "    print(\"Error loading from file, creating a new dictionary\")\n",
    "    cv16f_class_results = defaultdict(\n",
    "        defaultdict(defaultdict(defaultdict(defaultdict().copy).copy).copy).copy\n",
    "    )\n",
    "\n",
    "# Evaluate\n",
    "for activations in hidden_layers:\n",
    "    for neurons in max_neurons:\n",
    "        for osnr in osnr_lst:\n",
    "            for n in classes_n:\n",
    "                args = {\n",
    "                    \"data\": cv16f_class_new[n],\n",
    "                    \"data_prod\": cv16f_class_prod[n],\n",
    "                    \"n_splits\": 5,\n",
    "                    \"classes_n\": int(n),\n",
    "                    \"max_neurons\": int(neurons),\n",
    "                    \"activations\": activations,\n",
    "                    \"use_osnr\": True if osnr == \"osnr\" else False,\n",
    "                }\n",
    "                act_fn_name = \"\".join([s[0] for s in activations])\n",
    "                if cv16f_class_results[act_fn_name][neurons][osnr][n] == defaultdict():\n",
    "                    # Get results\n",
    "                    results = test_classification_model(**args)\n",
    "                    # Serialize model\n",
    "                    results[\"model\"] = [\n",
    "                        utils.serialize_keras_object(model) for model in results[\"model\"]\n",
    "                    ]\n",
    "                    # Save serialized model for serialization\n",
    "                    cv16f_class_results[act_fn_name][neurons][osnr][n] = results\n",
    "                    # Save results with serialized model\n",
    "                    print(\"Saving results...\")\n",
    "                    sofa.save_hdf5(cv16f_class_results, f\"{ROOT}/cv16f_class_results.h5\", n_backups = 5)\n",
    "                    print(\"Results saved!\")"
   ]
  },
  {
   "cell_type": "markdown",
   "id": "91445933-554a-4ff9-a694-8352380b19ae",
   "metadata": {
    "id": "91445933-554a-4ff9-a694-8352380b19ae"
   },
   "source": [
    "### Results"
   ]
  },
  {
   "cell_type": "code",
   "execution_count": 17,
   "id": "83f757c6-1f28-4730-87e5-56683d000b44",
   "metadata": {
    "id": "83f757c6-1f28-4730-87e5-56683d000b44",
    "tags": []
   },
   "outputs": [],
   "source": [
    "def get_avg_score(results, target_value, target=\"neurons\", metric=\"mae\", score=\"test\"):\n",
    "    mae_lst = []\n",
    "    for activations in hidden_layers:\n",
    "        if target == \"layers\" and len(activations) != target_value:\n",
    "            continue\n",
    "        for neurons in max_neurons:\n",
    "            if target == \"neurons\" and neurons != target_value:\n",
    "                continue\n",
    "            for osnr in osnr_lst:\n",
    "                if target == \"osnr\" and osnr != target_value:\n",
    "                    continue\n",
    "                act_fn_name = \"\".join([s[0] for s in activations])\n",
    "                mae_lst.append(\n",
    "                    np.mean(results[act_fn_name][neurons][osnr][\"mae\"][\"test\"])\n",
    "                )\n",
    "    return mae_lst"
   ]
  },
  {
   "cell_type": "code",
   "execution_count": 18,
   "id": "DFDTFw5QUftS",
   "metadata": {
    "colab": {
     "base_uri": "https://localhost:8080/",
     "height": 628
    },
    "id": "DFDTFw5QUftS",
    "outputId": "7583980e-ca7c-480f-f309-180893bd89e6"
   },
   "outputs": [
    {
     "data": {
      "image/png": "[encoded data removed]",
      "text/plain": [
       "<Figure size 800x600 with 1 Axes>"
      ]
     },
     "metadata": {},
     "output_type": "display_data"
    }
   ],
   "source": [
    "cv16f_neurons_avg_results = [\n",
    "    np.mean(\n",
    "        get_avg_score(\n",
    "            cv16f_reg_results, neurons, target=\"neurons\", metric=\"mae\", score=\"test\"\n",
    "        )\n",
    "    )\n",
    "    for neurons in max_neurons\n",
    "]\n",
    "x = list(map(int, max_neurons))\n",
    "plot_results(x, cv16f_neurons_avg_results, \"Maximum number of neurons\", log=True)"
   ]
  },
  {
   "cell_type": "code",
   "execution_count": 19,
   "id": "08af0301-f030-4210-88aa-a29f2c6bfba3",
   "metadata": {
    "colab": {
     "base_uri": "https://localhost:8080/",
     "height": 628
    },
    "id": "08af0301-f030-4210-88aa-a29f2c6bfba3",
    "outputId": "0e876956-6897-4005-99f1-4f9cfc444d61",
    "tags": []
   },
   "outputs": [
    {
     "data": {
      "image/png": "[encoded data removed]",
      "text/plain": [
       "<Figure size 800x600 with 1 Axes>"
      ]
     },
     "metadata": {},
     "output_type": "display_data"
    }
   ],
   "source": [
    "cv16f_layers_avg_results = [\n",
    "    np.mean(\n",
    "        get_avg_score(\n",
    "            cv16f_reg_results, layers, target=\"layers\", metric=\"mae\", score=\"test\"\n",
    "        )\n",
    "    )\n",
    "    for layers in range(1, 4)\n",
    "]\n",
    "x = range(1, 4)\n",
    "plot_results(x, cv16f_layers_avg_results, \"Number of layers\", log=False, intx=True)"
   ]
  },
  {
   "cell_type": "code",
   "execution_count": 20,
   "id": "504675ce-fd55-49d0-95fd-dcff312cbaeb",
   "metadata": {
    "colab": {
     "base_uri": "https://localhost:8080/"
    },
    "id": "504675ce-fd55-49d0-95fd-dcff312cbaeb",
    "outputId": "8d9897be-8262-429d-d366-aeb27fd299d5",
    "tags": []
   },
   "outputs": [
    {
     "name": "stdout",
     "output_type": "stream",
     "text": [
      "With OSNR  Without OSNR\n",
      "4.232       5.235\n"
     ]
    }
   ],
   "source": [
    "cv16f_osnr_avg_results = [\n",
    "    np.mean(\n",
    "        get_avg_score(\n",
    "            cv16f_reg_results, osnr, target=\"osnr\", metric=\"mae\", score=\"test\"\n",
    "        )\n",
    "    )\n",
    "    for osnr in [\"osnr\", \"wo_osnr\"]\n",
    "]\n",
    "print(f\"With OSNR  Without OSNR\")\n",
    "print(f\"{cv16f_osnr_avg_results[0]:.3f}       {cv16f_osnr_avg_results[1]:.3f}\")"
   ]
  },
  {
   "cell_type": "markdown",
   "id": "9d7534de-2700-4ed5-a213-60a105904ac5",
   "metadata": {
    "id": "9d7534de-2700-4ed5-a213-60a105904ac5"
   },
   "source": [
    "### Sort models by score"
   ]
  },
  {
   "cell_type": "code",
   "execution_count": 21,
   "id": "8bed53e1-b29f-4dfc-8df7-ca9c7c6913e4",
   "metadata": {
    "id": "8bed53e1-b29f-4dfc-8df7-ca9c7c6913e4"
   },
   "outputs": [],
   "source": [
    "# Find better model by test score\n",
    "def get_better_models(results, metric=\"mae\", score=\"test\"):\n",
    "    scores = []\n",
    "    for activations in hidden_layers:\n",
    "        for neurons in max_neurons:\n",
    "            for osnr in osnr_lst:\n",
    "                act_fn_name = \"\".join([s[0] for s in activations])\n",
    "                coll = results[act_fn_name][neurons][osnr][metric][score]\n",
    "                if isinstance(coll, defaultdict):\n",
    "                    continue\n",
    "                score_value = np.mean(coll)\n",
    "                scores.append((score_value, [act_fn_name, neurons, osnr]))\n",
    "    scores.sort(key=lambda x: x[0])\n",
    "    return pl.dataframe.DataFrame(scores)"
   ]
  },
  {
   "cell_type": "code",
   "execution_count": 22,
   "id": "PT2mJucuX-Rf",
   "metadata": {
    "colab": {
     "base_uri": "https://localhost:8080/",
     "height": 411
    },
    "id": "PT2mJucuX-Rf",
    "outputId": "2ced51dc-8f3b-4fff-b4aa-3b68b8b7c6ac"
   },
   "outputs": [
    {
     "data": {
      "text/html": [
       "<div><style>\n",
       ".dataframe > thead > tr,\n",
       ".dataframe > tbody > tr {\n",
       "  text-align: right;\n",
       "  white-space: pre-wrap;\n",
       "}\n",
       "</style>\n",
       "<small>shape: (10, 2)</small><table border=\"1\" class=\"dataframe\"><thead><tr><th>column_0</th><th>column_1</th></tr><tr><td>f64</td><td>list[str]</td></tr></thead><tbody><tr><td>2.80612</td><td>[&quot;tst&quot;, &quot;512&quot;, &quot;osnr&quot;]</td></tr><tr><td>2.807177</td><td>[&quot;tss&quot;, &quot;32&quot;, &quot;osnr&quot;]</td></tr><tr><td>2.818996</td><td>[&quot;stt&quot;, &quot;256&quot;, &quot;osnr&quot;]</td></tr><tr><td>2.83914</td><td>[&quot;tss&quot;, &quot;256&quot;, &quot;osnr&quot;]</td></tr><tr><td>2.845752</td><td>[&quot;tst&quot;, &quot;128&quot;, &quot;osnr&quot;]</td></tr><tr><td>2.879023</td><td>[&quot;rtt&quot;, &quot;256&quot;, &quot;osnr&quot;]</td></tr><tr><td>2.881343</td><td>[&quot;tss&quot;, &quot;64&quot;, &quot;osnr&quot;]</td></tr><tr><td>2.891847</td><td>[&quot;tss&quot;, &quot;1024&quot;, &quot;osnr&quot;]</td></tr><tr><td>2.893098</td><td>[&quot;rrs&quot;, &quot;256&quot;, &quot;osnr&quot;]</td></tr><tr><td>2.921867</td><td>[&quot;tst&quot;, &quot;64&quot;, &quot;osnr&quot;]</td></tr></tbody></table></div>"
      ],
      "text/plain": [
       "shape: (10, 2)\n",
       "┌──────────┬─────────────────────────┐\n",
       "│ column_0 ┆ column_1                │\n",
       "│ ---      ┆ ---                     │\n",
       "│ f64      ┆ list[str]               │\n",
       "╞══════════╪═════════════════════════╡\n",
       "│ 2.80612  ┆ [\"tst\", \"512\", \"osnr\"]  │\n",
       "│ 2.807177 ┆ [\"tss\", \"32\", \"osnr\"]   │\n",
       "│ 2.818996 ┆ [\"stt\", \"256\", \"osnr\"]  │\n",
       "│ 2.83914  ┆ [\"tss\", \"256\", \"osnr\"]  │\n",
       "│ …        ┆ …                       │\n",
       "│ 2.881343 ┆ [\"tss\", \"64\", \"osnr\"]   │\n",
       "│ 2.891847 ┆ [\"tss\", \"1024\", \"osnr\"] │\n",
       "│ 2.893098 ┆ [\"rrs\", \"256\", \"osnr\"]  │\n",
       "│ 2.921867 ┆ [\"tst\", \"64\", \"osnr\"]   │\n",
       "└──────────┴─────────────────────────┘"
      ]
     },
     "execution_count": 22,
     "metadata": {},
     "output_type": "execute_result"
    }
   ],
   "source": [
    "cv16f_better_models_df = get_better_models(\n",
    "    cv16f_reg_results, metric=\"mae\", score=\"test\"\n",
    ")\n",
    "cv16f_better_models_df.head(10)"
   ]
  },
  {
   "cell_type": "markdown",
   "id": "QnkjCjBmpPZI",
   "metadata": {
    "id": "QnkjCjBmpPZI",
    "tags": []
   },
   "source": [
    "## GKM"
   ]
  },
  {
   "cell_type": "code",
   "execution_count": 23,
   "id": "O10egjkUpPZP",
   "metadata": {
    "colab": {
     "base_uri": "https://localhost:8080/",
     "height": 882
    },
    "id": "O10egjkUpPZP",
    "outputId": "e4a34547-1634-402b-c0be-d9f7b0b95513"
   },
   "outputs": [
    {
     "data": {
      "text/html": [
       "<div><style>\n",
       ".dataframe > thead > tr,\n",
       ".dataframe > tbody > tr {\n",
       "  text-align: right;\n",
       "  white-space: pre-wrap;\n",
       "}\n",
       "</style>\n",
       "<small>shape: (680, 18)</small><table border=\"1\" class=\"dataframe\"><thead><tr><th>column_1</th><th>column_2</th><th>column_3</th><th>column_4</th><th>column_5</th><th>column_6</th><th>column_7</th><th>column_8</th><th>column_9</th><th>column_10</th><th>column_11</th><th>column_12</th><th>column_13</th><th>column_14</th><th>column_15</th><th>column_16</th><th>column_17</th><th>column_18</th></tr><tr><td>f64</td><td>f64</td><td>f64</td><td>f64</td><td>f64</td><td>f64</td><td>f64</td><td>f64</td><td>f64</td><td>f64</td><td>f64</td><td>f64</td><td>f64</td><td>f64</td><td>f64</td><td>f64</td><td>f64</td><td>f64</td></tr></thead><tbody><tr><td>0.7904</td><td>0.1593</td><td>0.0307</td><td>0.0155</td><td>0.0028</td><td>0.0011</td><td>0.0002</td><td>0.0</td><td>0.0</td><td>0.0</td><td>0.0</td><td>0.0</td><td>0.0</td><td>0.0</td><td>0.0</td><td>0.9</td><td>16.3</td><td>15.5</td></tr><tr><td>0.7958</td><td>0.1501</td><td>0.0311</td><td>0.0169</td><td>0.0036</td><td>0.0019</td><td>0.0004</td><td>0.0001</td><td>0.0001</td><td>0.0</td><td>0.0</td><td>0.0</td><td>0.0</td><td>0.0</td><td>0.0</td><td>0.0</td><td>16.3</td><td>15.5</td></tr><tr><td>0.7867</td><td>0.1636</td><td>0.0306</td><td>0.0149</td><td>0.0026</td><td>0.0012</td><td>0.0002</td><td>0.0002</td><td>0.0</td><td>0.0</td><td>0.0</td><td>0.0</td><td>0.0</td><td>0.0</td><td>0.0</td><td>0.0</td><td>16.3</td><td>15.5</td></tr><tr><td>0.7893</td><td>0.1616</td><td>0.0285</td><td>0.0164</td><td>0.0021</td><td>0.0019</td><td>0.0001</td><td>0.0001</td><td>0.0</td><td>0.0</td><td>0.0</td><td>0.0</td><td>0.0</td><td>0.0</td><td>0.0</td><td>0.0</td><td>16.3</td><td>15.5</td></tr><tr><td>0.7918</td><td>0.1496</td><td>0.0331</td><td>0.0175</td><td>0.0055</td><td>0.002</td><td>0.0005</td><td>0.0</td><td>0.0</td><td>0.0</td><td>0.0</td><td>0.0</td><td>0.0</td><td>0.0</td><td>0.0</td><td>0.0</td><td>16.3</td><td>15.5</td></tr><tr><td>0.7948</td><td>0.1564</td><td>0.029</td><td>0.017</td><td>0.0023</td><td>0.0004</td><td>0.0</td><td>0.0001</td><td>0.0</td><td>0.0</td><td>0.0</td><td>0.0</td><td>0.0</td><td>0.0</td><td>0.0</td><td>0.0</td><td>16.3</td><td>15.5</td></tr><tr><td>0.7682</td><td>0.1669</td><td>0.0362</td><td>0.0205</td><td>0.0044</td><td>0.0028</td><td>0.0005</td><td>0.0003</td><td>0.0001</td><td>0.0001</td><td>0.0</td><td>0.0</td><td>0.0</td><td>0.0</td><td>0.0</td><td>0.0</td><td>16.3</td><td>15.5</td></tr><tr><td>0.8038</td><td>0.1516</td><td>0.0279</td><td>0.0132</td><td>0.002</td><td>0.0011</td><td>0.0004</td><td>0.0</td><td>0.0</td><td>0.0</td><td>0.0</td><td>0.0</td><td>0.0</td><td>0.0</td><td>0.0</td><td>0.0</td><td>16.3</td><td>15.5</td></tr><tr><td>0.8013</td><td>0.1537</td><td>0.029</td><td>0.0125</td><td>0.0024</td><td>0.0009</td><td>0.0002</td><td>0.0</td><td>0.0</td><td>0.0</td><td>0.0</td><td>0.0</td><td>0.0</td><td>0.0</td><td>0.0</td><td>0.0</td><td>16.3</td><td>15.5</td></tr><tr><td>0.7953</td><td>0.1515</td><td>0.031</td><td>0.0174</td><td>0.0028</td><td>0.0013</td><td>0.0005</td><td>0.0002</td><td>0.0</td><td>0.0</td><td>0.0</td><td>0.0</td><td>0.0</td><td>0.0</td><td>0.0</td><td>0.0</td><td>16.3</td><td>15.5</td></tr><tr><td>0.8822</td><td>0.0999</td><td>0.0126</td><td>0.0046</td><td>0.0005</td><td>0.0002</td><td>0.0</td><td>0.0</td><td>0.0</td><td>0.0</td><td>0.0</td><td>0.0</td><td>0.0</td><td>0.0</td><td>0.0</td><td>0.0</td><td>19.3</td><td>15.5</td></tr><tr><td>0.8772</td><td>0.1008</td><td>0.0145</td><td>0.0063</td><td>0.0011</td><td>0.0001</td><td>0.0</td><td>0.0</td><td>0.0</td><td>0.0</td><td>0.0</td><td>0.0</td><td>0.0</td><td>0.0</td><td>0.0</td><td>0.0</td><td>19.3</td><td>15.5</td></tr><tr><td>&hellip;</td><td>&hellip;</td><td>&hellip;</td><td>&hellip;</td><td>&hellip;</td><td>&hellip;</td><td>&hellip;</td><td>&hellip;</td><td>&hellip;</td><td>&hellip;</td><td>&hellip;</td><td>&hellip;</td><td>&hellip;</td><td>&hellip;</td><td>&hellip;</td><td>&hellip;</td><td>&hellip;</td><td>&hellip;</td></tr><tr><td>1.0</td><td>0.0</td><td>0.0</td><td>0.0</td><td>0.0</td><td>0.0</td><td>0.0</td><td>0.0</td><td>0.0</td><td>0.0</td><td>0.0</td><td>0.0</td><td>0.0</td><td>0.0</td><td>0.0</td><td>0.0</td><td>31.3</td><td>50.0</td></tr><tr><td>1.0</td><td>0.0</td><td>0.0</td><td>0.0</td><td>0.0</td><td>0.0</td><td>0.0</td><td>0.0</td><td>0.0</td><td>0.0</td><td>0.0</td><td>0.0</td><td>0.0</td><td>0.0</td><td>0.0</td><td>0.0</td><td>31.3</td><td>50.0</td></tr><tr><td>1.0</td><td>0.0</td><td>0.0</td><td>0.0</td><td>0.0</td><td>0.0</td><td>0.0</td><td>0.0</td><td>0.0</td><td>0.0</td><td>0.0</td><td>0.0</td><td>0.0</td><td>0.0</td><td>0.0</td><td>0.0</td><td>36.3</td><td>50.0</td></tr><tr><td>1.0</td><td>0.0</td><td>0.0</td><td>0.0</td><td>0.0</td><td>0.0</td><td>0.0</td><td>0.0</td><td>0.0</td><td>0.0</td><td>0.0</td><td>0.0</td><td>0.0</td><td>0.0</td><td>0.0</td><td>0.0</td><td>36.3</td><td>50.0</td></tr><tr><td>1.0</td><td>0.0</td><td>0.0</td><td>0.0</td><td>0.0</td><td>0.0</td><td>0.0</td><td>0.0</td><td>0.0</td><td>0.0</td><td>0.0</td><td>0.0</td><td>0.0</td><td>0.0</td><td>0.0</td><td>0.0</td><td>36.3</td><td>50.0</td></tr><tr><td>1.0</td><td>0.0</td><td>0.0</td><td>0.0</td><td>0.0</td><td>0.0</td><td>0.0</td><td>0.0</td><td>0.0</td><td>0.0</td><td>0.0</td><td>0.0</td><td>0.0</td><td>0.0</td><td>0.0</td><td>0.0</td><td>36.3</td><td>50.0</td></tr><tr><td>1.0</td><td>0.0</td><td>0.0</td><td>0.0</td><td>0.0</td><td>0.0</td><td>0.0</td><td>0.0</td><td>0.0</td><td>0.0</td><td>0.0</td><td>0.0</td><td>0.0</td><td>0.0</td><td>0.0</td><td>0.0</td><td>36.3</td><td>50.0</td></tr><tr><td>1.0</td><td>0.0</td><td>0.0</td><td>0.0</td><td>0.0</td><td>0.0</td><td>0.0</td><td>0.0</td><td>0.0</td><td>0.0</td><td>0.0</td><td>0.0</td><td>0.0</td><td>0.0</td><td>0.0</td><td>0.0</td><td>36.3</td><td>50.0</td></tr><tr><td>1.0</td><td>0.0</td><td>0.0</td><td>0.0</td><td>0.0</td><td>0.0</td><td>0.0</td><td>0.0</td><td>0.0</td><td>0.0</td><td>0.0</td><td>0.0</td><td>0.0</td><td>0.0</td><td>0.0</td><td>0.0</td><td>36.3</td><td>50.0</td></tr><tr><td>1.0</td><td>0.0</td><td>0.0</td><td>0.0</td><td>0.0</td><td>0.0</td><td>0.0</td><td>0.0</td><td>0.0</td><td>0.0</td><td>0.0</td><td>0.0</td><td>0.0</td><td>0.0</td><td>0.0</td><td>0.0</td><td>36.3</td><td>50.0</td></tr><tr><td>1.0</td><td>0.0</td><td>0.0</td><td>0.0</td><td>0.0</td><td>0.0</td><td>0.0</td><td>0.0</td><td>0.0</td><td>0.0</td><td>0.0</td><td>0.0</td><td>0.0</td><td>0.0</td><td>0.0</td><td>0.0</td><td>36.3</td><td>50.0</td></tr><tr><td>1.0</td><td>0.0</td><td>0.0</td><td>0.0</td><td>0.0</td><td>0.0</td><td>0.0</td><td>0.0</td><td>0.0</td><td>0.0</td><td>0.0</td><td>0.0</td><td>0.0</td><td>0.0</td><td>0.0</td><td>0.0</td><td>36.3</td><td>50.0</td></tr></tbody></table></div>"
      ],
      "text/plain": [
       "shape: (680, 18)\n",
       "┌──────────┬──────────┬──────────┬──────────┬───┬───────────┬───────────┬───────────┬───────────┐\n",
       "│ column_1 ┆ column_2 ┆ column_3 ┆ column_4 ┆ … ┆ column_15 ┆ column_16 ┆ column_17 ┆ column_18 │\n",
       "│ ---      ┆ ---      ┆ ---      ┆ ---      ┆   ┆ ---       ┆ ---       ┆ ---       ┆ ---       │\n",
       "│ f64      ┆ f64      ┆ f64      ┆ f64      ┆   ┆ f64       ┆ f64       ┆ f64       ┆ f64       │\n",
       "╞══════════╪══════════╪══════════╪══════════╪═══╪═══════════╪═══════════╪═══════════╪═══════════╡\n",
       "│ 0.7904   ┆ 0.1593   ┆ 0.0307   ┆ 0.0155   ┆ … ┆ 0.0       ┆ 0.9       ┆ 16.3      ┆ 15.5      │\n",
       "│ 0.7958   ┆ 0.1501   ┆ 0.0311   ┆ 0.0169   ┆ … ┆ 0.0       ┆ 0.0       ┆ 16.3      ┆ 15.5      │\n",
       "│ 0.7867   ┆ 0.1636   ┆ 0.0306   ┆ 0.0149   ┆ … ┆ 0.0       ┆ 0.0       ┆ 16.3      ┆ 15.5      │\n",
       "│ 0.7893   ┆ 0.1616   ┆ 0.0285   ┆ 0.0164   ┆ … ┆ 0.0       ┆ 0.0       ┆ 16.3      ┆ 15.5      │\n",
       "│ …        ┆ …        ┆ …        ┆ …        ┆ … ┆ …         ┆ …         ┆ …         ┆ …         │\n",
       "│ 1.0      ┆ 0.0      ┆ 0.0      ┆ 0.0      ┆ … ┆ 0.0       ┆ 0.0       ┆ 36.3      ┆ 50.0      │\n",
       "│ 1.0      ┆ 0.0      ┆ 0.0      ┆ 0.0      ┆ … ┆ 0.0       ┆ 0.0       ┆ 36.3      ┆ 50.0      │\n",
       "│ 1.0      ┆ 0.0      ┆ 0.0      ┆ 0.0      ┆ … ┆ 0.0       ┆ 0.0       ┆ 36.3      ┆ 50.0      │\n",
       "│ 1.0      ┆ 0.0      ┆ 0.0      ┆ 0.0      ┆ … ┆ 0.0       ┆ 0.0       ┆ 36.3      ┆ 50.0      │\n",
       "└──────────┴──────────┴──────────┴──────────┴───┴───────────┴───────────┴───────────┴───────────┘"
      ]
     },
     "execution_count": 23,
     "metadata": {},
     "output_type": "execute_result"
    }
   ],
   "source": [
    "if GOOGLE_COLAB:\n",
    "    cv16g_file = \"counting_vectors_16g.csv\"\n",
    "else:\n",
    "    cv16g_file = \"../../Databases/16GBd/counting_vectors_16g.csv\"\n",
    "\n",
    "cv16g = pl.read_csv(cv16g_file, has_header=False, dtypes=[pl.Float64])\n",
    "# Show the original dataframe\n",
    "cv16g"
   ]
  },
  {
   "cell_type": "code",
   "execution_count": 24,
   "id": "Klpuu9ojpPZP",
   "metadata": {
    "colab": {
     "base_uri": "https://localhost:8080/"
    },
    "id": "Klpuu9ojpPZP",
    "outputId": "591eafcd-a484-406e-b693-3e983c9e2cb2"
   },
   "outputs": [
    {
     "data": {
      "text/html": [
       "<div><style>\n",
       ".dataframe > thead > tr,\n",
       ".dataframe > tbody > tr {\n",
       "  text-align: right;\n",
       "  white-space: pre-wrap;\n",
       "}\n",
       "</style>\n",
       "<small>shape: (680, 18)</small><table border=\"1\" class=\"dataframe\"><thead><tr><th>column_1</th><th>column_2</th><th>column_3</th><th>column_4</th><th>column_5</th><th>column_6</th><th>column_7</th><th>column_8</th><th>column_9</th><th>column_10</th><th>column_11</th><th>column_12</th><th>column_13</th><th>column_14</th><th>column_15</th><th>column_16</th><th>column_17</th><th>column_18</th></tr><tr><td>f64</td><td>f64</td><td>f64</td><td>f64</td><td>f64</td><td>f64</td><td>f64</td><td>f64</td><td>f64</td><td>f64</td><td>f64</td><td>f64</td><td>f64</td><td>f64</td><td>f64</td><td>f64</td><td>f64</td><td>f64</td></tr></thead><tbody><tr><td>0.8876</td><td>0.0925</td><td>0.0125</td><td>0.0061</td><td>0.0006</td><td>0.0006</td><td>0.0001</td><td>0.0</td><td>0.0</td><td>0.0</td><td>0.0</td><td>0.0</td><td>0.0</td><td>0.0</td><td>0.0</td><td>0.0</td><td>21.3</td><td>15.5</td></tr><tr><td>0.883</td><td>0.1012</td><td>0.0108</td><td>0.0048</td><td>0.0001</td><td>0.0001</td><td>0.0</td><td>0.0</td><td>0.0</td><td>0.0</td><td>0.0</td><td>0.0</td><td>0.0</td><td>0.0</td><td>0.0</td><td>0.0</td><td>15.3</td><td>17.0</td></tr><tr><td>0.87</td><td>0.1126</td><td>0.0122</td><td>0.0049</td><td>0.0001</td><td>0.0002</td><td>0.0</td><td>0.0</td><td>0.0</td><td>0.0</td><td>0.0</td><td>0.0</td><td>0.0</td><td>0.0</td><td>0.0</td><td>0.0</td><td>16.3</td><td>16.0</td></tr><tr><td>0.999</td><td>0.001</td><td>0.0</td><td>0.0</td><td>0.0</td><td>0.0</td><td>0.0</td><td>0.0</td><td>0.0</td><td>0.0</td><td>0.0</td><td>0.0</td><td>0.0</td><td>0.0</td><td>0.0</td><td>0.0</td><td>28.3</td><td>17.0</td></tr><tr><td>0.8279</td><td>0.1351</td><td>0.0211</td><td>0.0104</td><td>0.0029</td><td>0.0022</td><td>0.0003</td><td>0.0001</td><td>0.0</td><td>0.0</td><td>0.0</td><td>0.0</td><td>0.0</td><td>0.0</td><td>0.0</td><td>0.0</td><td>15.3</td><td>16.0</td></tr><tr><td>0.9184</td><td>0.0743</td><td>0.0054</td><td>0.0017</td><td>0.0001</td><td>0.0</td><td>0.0001</td><td>0.0</td><td>0.0</td><td>0.0</td><td>0.0</td><td>0.0</td><td>0.0</td><td>0.0</td><td>0.0</td><td>0.0</td><td>16.3</td><td>17.6</td></tr><tr><td>0.9417</td><td>0.0545</td><td>0.003</td><td>0.0008</td><td>0.0</td><td>0.0</td><td>0.0</td><td>0.0</td><td>0.0</td><td>0.0</td><td>0.0</td><td>0.0</td><td>0.0</td><td>0.0</td><td>0.0</td><td>0.0</td><td>16.3</td><td>50.0</td></tr><tr><td>0.9785</td><td>0.0207</td><td>0.0007</td><td>0.0001</td><td>0.0</td><td>0.0</td><td>0.0</td><td>0.0</td><td>0.0</td><td>0.0</td><td>0.0</td><td>0.0</td><td>0.0</td><td>0.0</td><td>0.0</td><td>0.0</td><td>19.3</td><td>17.6</td></tr><tr><td>0.9992</td><td>0.0008</td><td>0.0</td><td>0.0</td><td>0.0</td><td>0.0</td><td>0.0</td><td>0.0</td><td>0.0</td><td>0.0</td><td>0.0</td><td>0.0</td><td>0.0</td><td>0.0</td><td>0.0</td><td>0.0</td><td>36.3</td><td>17.6</td></tr><tr><td>0.8587</td><td>0.1203</td><td>0.0135</td><td>0.007</td><td>0.0004</td><td>0.0001</td><td>0.0</td><td>0.0</td><td>0.0</td><td>0.0</td><td>0.0</td><td>0.0</td><td>0.0</td><td>0.0</td><td>0.0</td><td>0.0</td><td>15.3</td><td>18.0</td></tr><tr><td>0.9999</td><td>0.0001</td><td>0.0</td><td>0.0</td><td>0.0</td><td>0.0</td><td>0.0</td><td>0.0</td><td>0.0</td><td>0.0</td><td>0.0</td><td>0.0</td><td>0.0</td><td>0.0</td><td>0.0</td><td>0.0</td><td>26.3</td><td>50.0</td></tr><tr><td>1.0</td><td>0.0</td><td>0.0</td><td>0.0</td><td>0.0</td><td>0.0</td><td>0.0</td><td>0.0</td><td>0.0</td><td>0.0</td><td>0.0</td><td>0.0</td><td>0.0</td><td>0.0</td><td>0.0</td><td>0.0</td><td>26.3</td><td>50.0</td></tr><tr><td>&hellip;</td><td>&hellip;</td><td>&hellip;</td><td>&hellip;</td><td>&hellip;</td><td>&hellip;</td><td>&hellip;</td><td>&hellip;</td><td>&hellip;</td><td>&hellip;</td><td>&hellip;</td><td>&hellip;</td><td>&hellip;</td><td>&hellip;</td><td>&hellip;</td><td>&hellip;</td><td>&hellip;</td><td>&hellip;</td></tr><tr><td>0.9914</td><td>0.0084</td><td>0.0002</td><td>0.0</td><td>0.0</td><td>0.0</td><td>0.0</td><td>0.0</td><td>0.0</td><td>0.0</td><td>0.0</td><td>0.0</td><td>0.0</td><td>0.0</td><td>0.0</td><td>0.0</td><td>31.3</td><td>16.0</td></tr><tr><td>0.9194</td><td>0.0699</td><td>0.0072</td><td>0.003</td><td>0.0004</td><td>0.0001</td><td>0.0</td><td>0.0</td><td>0.0</td><td>0.0</td><td>0.0</td><td>0.0</td><td>0.0</td><td>0.0</td><td>0.0</td><td>0.0</td><td>28.3</td><td>15.5</td></tr><tr><td>0.9982</td><td>0.0018</td><td>0.0</td><td>0.0</td><td>0.0</td><td>0.0</td><td>0.0</td><td>0.0</td><td>0.0</td><td>0.0</td><td>0.0</td><td>0.0</td><td>0.0</td><td>0.0</td><td>0.0</td><td>0.0</td><td>28.3</td><td>17.0</td></tr><tr><td>0.9988</td><td>0.0012</td><td>0.0</td><td>0.0</td><td>0.0</td><td>0.0</td><td>0.0</td><td>0.0</td><td>0.0</td><td>0.0</td><td>0.0</td><td>0.0</td><td>0.0</td><td>0.0</td><td>0.0</td><td>0.0</td><td>31.3</td><td>16.5</td></tr><tr><td>0.9172</td><td>0.0755</td><td>0.0055</td><td>0.0018</td><td>0.0</td><td>0.0</td><td>0.0</td><td>0.0</td><td>0.0</td><td>0.0</td><td>0.0</td><td>0.0</td><td>0.0</td><td>0.0</td><td>0.0</td><td>0.0</td><td>16.3</td><td>16.5</td></tr><tr><td>0.9997</td><td>0.0003</td><td>0.0</td><td>0.0</td><td>0.0</td><td>0.0</td><td>0.0</td><td>0.0</td><td>0.0</td><td>0.0</td><td>0.0</td><td>0.0</td><td>0.0</td><td>0.0</td><td>0.0</td><td>0.0</td><td>26.3</td><td>18.0</td></tr><tr><td>0.8891</td><td>0.0914</td><td>0.0116</td><td>0.0065</td><td>0.0008</td><td>0.0002</td><td>0.0004</td><td>0.0</td><td>0.0</td><td>0.0</td><td>0.0</td><td>0.0</td><td>0.0</td><td>0.0</td><td>0.0</td><td>0.0</td><td>21.3</td><td>15.5</td></tr><tr><td>0.9982</td><td>0.0018</td><td>0.0</td><td>0.0</td><td>0.0</td><td>0.0</td><td>0.0</td><td>0.0</td><td>0.0</td><td>0.0</td><td>0.0</td><td>0.0</td><td>0.0</td><td>0.0</td><td>0.0</td><td>0.0</td><td>31.3</td><td>16.5</td></tr><tr><td>0.9406</td><td>0.0554</td><td>0.0033</td><td>0.0006</td><td>0.0001</td><td>0.0</td><td>0.0</td><td>0.0</td><td>0.0</td><td>0.0</td><td>0.0</td><td>0.0</td><td>0.0</td><td>0.0</td><td>0.0</td><td>0.0</td><td>16.3</td><td>50.0</td></tr><tr><td>0.9152</td><td>0.0776</td><td>0.0062</td><td>0.0009</td><td>0.0001</td><td>0.0</td><td>0.0</td><td>0.0</td><td>0.0</td><td>0.0</td><td>0.0</td><td>0.0</td><td>0.0</td><td>0.0</td><td>0.0</td><td>0.0</td><td>16.3</td><td>17.6</td></tr><tr><td>0.989</td><td>0.0109</td><td>0.0001</td><td>0.0</td><td>0.0</td><td>0.0</td><td>0.0</td><td>0.0</td><td>0.0</td><td>0.0</td><td>0.0</td><td>0.0</td><td>0.0</td><td>0.0</td><td>0.0</td><td>0.0</td><td>21.3</td><td>16.5</td></tr><tr><td>0.8872</td><td>0.0981</td><td>0.0094</td><td>0.0052</td><td>0.0001</td><td>0.0</td><td>0.0</td><td>0.0</td><td>0.0</td><td>0.0</td><td>0.0</td><td>0.0</td><td>0.0</td><td>0.0</td><td>0.0</td><td>0.0</td><td>15.3</td><td>17.0</td></tr></tbody></table></div>"
      ],
      "text/plain": [
       "shape: (680, 18)\n",
       "┌──────────┬──────────┬──────────┬──────────┬───┬───────────┬───────────┬───────────┬───────────┐\n",
       "│ column_1 ┆ column_2 ┆ column_3 ┆ column_4 ┆ … ┆ column_15 ┆ column_16 ┆ column_17 ┆ column_18 │\n",
       "│ ---      ┆ ---      ┆ ---      ┆ ---      ┆   ┆ ---       ┆ ---       ┆ ---       ┆ ---       │\n",
       "│ f64      ┆ f64      ┆ f64      ┆ f64      ┆   ┆ f64       ┆ f64       ┆ f64       ┆ f64       │\n",
       "╞══════════╪══════════╪══════════╪══════════╪═══╪═══════════╪═══════════╪═══════════╪═══════════╡\n",
       "│ 0.8876   ┆ 0.0925   ┆ 0.0125   ┆ 0.0061   ┆ … ┆ 0.0       ┆ 0.0       ┆ 21.3      ┆ 15.5      │\n",
       "│ 0.883    ┆ 0.1012   ┆ 0.0108   ┆ 0.0048   ┆ … ┆ 0.0       ┆ 0.0       ┆ 15.3      ┆ 17.0      │\n",
       "│ 0.87     ┆ 0.1126   ┆ 0.0122   ┆ 0.0049   ┆ … ┆ 0.0       ┆ 0.0       ┆ 16.3      ┆ 16.0      │\n",
       "│ 0.999    ┆ 0.001    ┆ 0.0      ┆ 0.0      ┆ … ┆ 0.0       ┆ 0.0       ┆ 28.3      ┆ 17.0      │\n",
       "│ …        ┆ …        ┆ …        ┆ …        ┆ … ┆ …         ┆ …         ┆ …         ┆ …         │\n",
       "│ 0.9406   ┆ 0.0554   ┆ 0.0033   ┆ 0.0006   ┆ … ┆ 0.0       ┆ 0.0       ┆ 16.3      ┆ 50.0      │\n",
       "│ 0.9152   ┆ 0.0776   ┆ 0.0062   ┆ 0.0009   ┆ … ┆ 0.0       ┆ 0.0       ┆ 16.3      ┆ 17.6      │\n",
       "│ 0.989    ┆ 0.0109   ┆ 0.0001   ┆ 0.0      ┆ … ┆ 0.0       ┆ 0.0       ┆ 21.3      ┆ 16.5      │\n",
       "│ 0.8872   ┆ 0.0981   ┆ 0.0094   ┆ 0.0052   ┆ … ┆ 0.0       ┆ 0.0       ┆ 15.3      ┆ 17.0      │\n",
       "└──────────┴──────────┴──────────┴──────────┴───┴───────────┴───────────┴───────────┴───────────┘"
      ]
     },
     "execution_count": 24,
     "metadata": {},
     "output_type": "execute_result"
    }
   ],
   "source": [
    "# Shuffle the dataframe\n",
    "cv16g_shuffled = cv16g.sample(n=len(cv16g), shuffle=True, seed=1036681523)\n",
    "cv16g_shuffled"
   ]
  },
  {
   "cell_type": "code",
   "execution_count": 25,
   "id": "-5hfSk7apPZQ",
   "metadata": {
    "colab": {
     "base_uri": "https://localhost:8080/"
    },
    "id": "-5hfSk7apPZQ",
    "outputId": "19c58b99-239c-447e-f4a8-4d927c0ebe6c"
   },
   "outputs": [
    {
     "data": {
      "text/html": [
       "<div><style>\n",
       ".dataframe > thead > tr,\n",
       ".dataframe > tbody > tr {\n",
       "  text-align: right;\n",
       "  white-space: pre-wrap;\n",
       "}\n",
       "</style>\n",
       "<small>shape: (68, 18)</small><table border=\"1\" class=\"dataframe\"><thead><tr><th>column_1</th><th>column_2</th><th>column_3</th><th>column_4</th><th>column_5</th><th>column_6</th><th>column_7</th><th>column_8</th><th>column_9</th><th>column_10</th><th>column_11</th><th>column_12</th><th>column_13</th><th>column_14</th><th>column_15</th><th>column_16</th><th>column_17</th><th>column_18</th></tr><tr><td>f64</td><td>f64</td><td>f64</td><td>f64</td><td>f64</td><td>f64</td><td>f64</td><td>f64</td><td>f64</td><td>f64</td><td>f64</td><td>f64</td><td>f64</td><td>f64</td><td>f64</td><td>f64</td><td>f64</td><td>f64</td></tr></thead><tbody><tr><td>0.8876</td><td>0.0925</td><td>0.0125</td><td>0.0061</td><td>0.0006</td><td>0.0006</td><td>0.0001</td><td>0.0</td><td>0.0</td><td>0.0</td><td>0.0</td><td>0.0</td><td>0.0</td><td>0.0</td><td>0.0</td><td>0.0</td><td>21.3</td><td>15.5</td></tr><tr><td>0.883</td><td>0.1012</td><td>0.0108</td><td>0.0048</td><td>0.0001</td><td>0.0001</td><td>0.0</td><td>0.0</td><td>0.0</td><td>0.0</td><td>0.0</td><td>0.0</td><td>0.0</td><td>0.0</td><td>0.0</td><td>0.0</td><td>15.3</td><td>17.0</td></tr><tr><td>0.87</td><td>0.1126</td><td>0.0122</td><td>0.0049</td><td>0.0001</td><td>0.0002</td><td>0.0</td><td>0.0</td><td>0.0</td><td>0.0</td><td>0.0</td><td>0.0</td><td>0.0</td><td>0.0</td><td>0.0</td><td>0.0</td><td>16.3</td><td>16.0</td></tr><tr><td>0.999</td><td>0.001</td><td>0.0</td><td>0.0</td><td>0.0</td><td>0.0</td><td>0.0</td><td>0.0</td><td>0.0</td><td>0.0</td><td>0.0</td><td>0.0</td><td>0.0</td><td>0.0</td><td>0.0</td><td>0.0</td><td>28.3</td><td>17.0</td></tr><tr><td>0.8279</td><td>0.1351</td><td>0.0211</td><td>0.0104</td><td>0.0029</td><td>0.0022</td><td>0.0003</td><td>0.0001</td><td>0.0</td><td>0.0</td><td>0.0</td><td>0.0</td><td>0.0</td><td>0.0</td><td>0.0</td><td>0.0</td><td>15.3</td><td>16.0</td></tr><tr><td>0.9184</td><td>0.0743</td><td>0.0054</td><td>0.0017</td><td>0.0001</td><td>0.0</td><td>0.0001</td><td>0.0</td><td>0.0</td><td>0.0</td><td>0.0</td><td>0.0</td><td>0.0</td><td>0.0</td><td>0.0</td><td>0.0</td><td>16.3</td><td>17.6</td></tr><tr><td>0.9417</td><td>0.0545</td><td>0.003</td><td>0.0008</td><td>0.0</td><td>0.0</td><td>0.0</td><td>0.0</td><td>0.0</td><td>0.0</td><td>0.0</td><td>0.0</td><td>0.0</td><td>0.0</td><td>0.0</td><td>0.0</td><td>16.3</td><td>50.0</td></tr><tr><td>0.9785</td><td>0.0207</td><td>0.0007</td><td>0.0001</td><td>0.0</td><td>0.0</td><td>0.0</td><td>0.0</td><td>0.0</td><td>0.0</td><td>0.0</td><td>0.0</td><td>0.0</td><td>0.0</td><td>0.0</td><td>0.0</td><td>19.3</td><td>17.6</td></tr><tr><td>0.9992</td><td>0.0008</td><td>0.0</td><td>0.0</td><td>0.0</td><td>0.0</td><td>0.0</td><td>0.0</td><td>0.0</td><td>0.0</td><td>0.0</td><td>0.0</td><td>0.0</td><td>0.0</td><td>0.0</td><td>0.0</td><td>36.3</td><td>17.6</td></tr><tr><td>0.8587</td><td>0.1203</td><td>0.0135</td><td>0.007</td><td>0.0004</td><td>0.0001</td><td>0.0</td><td>0.0</td><td>0.0</td><td>0.0</td><td>0.0</td><td>0.0</td><td>0.0</td><td>0.0</td><td>0.0</td><td>0.0</td><td>15.3</td><td>18.0</td></tr><tr><td>0.9999</td><td>0.0001</td><td>0.0</td><td>0.0</td><td>0.0</td><td>0.0</td><td>0.0</td><td>0.0</td><td>0.0</td><td>0.0</td><td>0.0</td><td>0.0</td><td>0.0</td><td>0.0</td><td>0.0</td><td>0.0</td><td>26.3</td><td>50.0</td></tr><tr><td>1.0</td><td>0.0</td><td>0.0</td><td>0.0</td><td>0.0</td><td>0.0</td><td>0.0</td><td>0.0</td><td>0.0</td><td>0.0</td><td>0.0</td><td>0.0</td><td>0.0</td><td>0.0</td><td>0.0</td><td>0.0</td><td>26.3</td><td>50.0</td></tr><tr><td>&hellip;</td><td>&hellip;</td><td>&hellip;</td><td>&hellip;</td><td>&hellip;</td><td>&hellip;</td><td>&hellip;</td><td>&hellip;</td><td>&hellip;</td><td>&hellip;</td><td>&hellip;</td><td>&hellip;</td><td>&hellip;</td><td>&hellip;</td><td>&hellip;</td><td>&hellip;</td><td>&hellip;</td><td>&hellip;</td></tr><tr><td>0.9886</td><td>0.011</td><td>0.0004</td><td>0.0</td><td>0.0</td><td>0.0</td><td>0.0</td><td>0.0</td><td>0.0</td><td>0.0</td><td>0.0</td><td>0.0</td><td>0.0</td><td>0.0</td><td>0.0</td><td>0.0</td><td>36.3</td><td>16.0</td></tr><tr><td>0.9978</td><td>0.0022</td><td>0.0</td><td>0.0</td><td>0.0</td><td>0.0</td><td>0.0</td><td>0.0</td><td>0.0</td><td>0.0</td><td>0.0</td><td>0.0</td><td>0.0</td><td>0.0</td><td>0.0</td><td>0.0</td><td>36.3</td><td>16.5</td></tr><tr><td>0.9788</td><td>0.0203</td><td>0.0007</td><td>0.0002</td><td>0.0</td><td>0.0</td><td>0.0</td><td>0.0</td><td>0.0</td><td>0.0</td><td>0.0</td><td>0.0</td><td>0.0</td><td>0.0</td><td>0.0</td><td>0.0</td><td>19.3</td><td>17.6</td></tr><tr><td>1.0</td><td>0.0</td><td>0.0</td><td>0.0</td><td>0.0</td><td>0.0</td><td>0.0</td><td>0.0</td><td>0.0</td><td>0.0</td><td>0.0</td><td>0.0</td><td>0.0</td><td>0.0</td><td>0.0</td><td>0.0</td><td>36.3</td><td>50.0</td></tr><tr><td>0.9438</td><td>0.0531</td><td>0.0021</td><td>0.001</td><td>0.0</td><td>0.0</td><td>0.0</td><td>0.0</td><td>0.0</td><td>0.0</td><td>0.0</td><td>0.0</td><td>0.0</td><td>0.0</td><td>0.0</td><td>0.0</td><td>16.3</td><td>50.0</td></tr><tr><td>0.9994</td><td>0.0006</td><td>0.0</td><td>0.0</td><td>0.0</td><td>0.0</td><td>0.0</td><td>0.0</td><td>0.0</td><td>0.0</td><td>0.0</td><td>0.0</td><td>0.0</td><td>0.0</td><td>0.0</td><td>0.0</td><td>26.3</td><td>17.6</td></tr><tr><td>0.999</td><td>0.0009</td><td>0.0001</td><td>0.0</td><td>0.0</td><td>0.0</td><td>0.0</td><td>0.0</td><td>0.0</td><td>0.0</td><td>0.0</td><td>0.0</td><td>0.0</td><td>0.0</td><td>0.0</td><td>0.0</td><td>26.3</td><td>17.6</td></tr><tr><td>0.7499</td><td>0.1849</td><td>0.0372</td><td>0.0216</td><td>0.0039</td><td>0.0023</td><td>0.0002</td><td>0.0</td><td>0.0</td><td>0.0</td><td>0.0</td><td>0.0</td><td>0.0</td><td>0.0</td><td>0.0</td><td>0.0</td><td>14.3</td><td>16.0</td></tr><tr><td>1.0</td><td>0.0</td><td>0.0</td><td>0.0</td><td>0.0</td><td>0.0</td><td>0.0</td><td>0.0</td><td>0.0</td><td>0.0</td><td>0.0</td><td>0.0</td><td>0.0</td><td>0.0</td><td>0.0</td><td>0.0</td><td>23.3</td><td>50.0</td></tr><tr><td>0.8754</td><td>0.1061</td><td>0.0119</td><td>0.0059</td><td>0.0003</td><td>0.0004</td><td>0.0</td><td>0.0</td><td>0.0</td><td>0.0</td><td>0.0</td><td>0.0</td><td>0.0</td><td>0.0</td><td>0.0</td><td>0.0</td><td>16.3</td><td>16.0</td></tr><tr><td>0.9995</td><td>0.0005</td><td>0.0</td><td>0.0</td><td>0.0</td><td>0.0</td><td>0.0</td><td>0.0</td><td>0.0</td><td>0.0</td><td>0.0</td><td>0.0</td><td>0.0</td><td>0.0</td><td>0.0</td><td>0.0</td><td>36.3</td><td>17.6</td></tr><tr><td>0.944</td><td>0.0511</td><td>0.0033</td><td>0.0016</td><td>0.0</td><td>0.0</td><td>0.0</td><td>0.0</td><td>0.0</td><td>0.0</td><td>0.0</td><td>0.0</td><td>0.0</td><td>0.0</td><td>0.0</td><td>0.0</td><td>19.3</td><td>16.0</td></tr></tbody></table></div>"
      ],
      "text/plain": [
       "shape: (68, 18)\n",
       "┌──────────┬──────────┬──────────┬──────────┬───┬───────────┬───────────┬───────────┬───────────┐\n",
       "│ column_1 ┆ column_2 ┆ column_3 ┆ column_4 ┆ … ┆ column_15 ┆ column_16 ┆ column_17 ┆ column_18 │\n",
       "│ ---      ┆ ---      ┆ ---      ┆ ---      ┆   ┆ ---       ┆ ---       ┆ ---       ┆ ---       │\n",
       "│ f64      ┆ f64      ┆ f64      ┆ f64      ┆   ┆ f64       ┆ f64       ┆ f64       ┆ f64       │\n",
       "╞══════════╪══════════╪══════════╪══════════╪═══╪═══════════╪═══════════╪═══════════╪═══════════╡\n",
       "│ 0.8876   ┆ 0.0925   ┆ 0.0125   ┆ 0.0061   ┆ … ┆ 0.0       ┆ 0.0       ┆ 21.3      ┆ 15.5      │\n",
       "│ 0.883    ┆ 0.1012   ┆ 0.0108   ┆ 0.0048   ┆ … ┆ 0.0       ┆ 0.0       ┆ 15.3      ┆ 17.0      │\n",
       "│ 0.87     ┆ 0.1126   ┆ 0.0122   ┆ 0.0049   ┆ … ┆ 0.0       ┆ 0.0       ┆ 16.3      ┆ 16.0      │\n",
       "│ 0.999    ┆ 0.001    ┆ 0.0      ┆ 0.0      ┆ … ┆ 0.0       ┆ 0.0       ┆ 28.3      ┆ 17.0      │\n",
       "│ …        ┆ …        ┆ …        ┆ …        ┆ … ┆ …         ┆ …         ┆ …         ┆ …         │\n",
       "│ 1.0      ┆ 0.0      ┆ 0.0      ┆ 0.0      ┆ … ┆ 0.0       ┆ 0.0       ┆ 23.3      ┆ 50.0      │\n",
       "│ 0.8754   ┆ 0.1061   ┆ 0.0119   ┆ 0.0059   ┆ … ┆ 0.0       ┆ 0.0       ┆ 16.3      ┆ 16.0      │\n",
       "│ 0.9995   ┆ 0.0005   ┆ 0.0      ┆ 0.0      ┆ … ┆ 0.0       ┆ 0.0       ┆ 36.3      ┆ 17.6      │\n",
       "│ 0.944    ┆ 0.0511   ┆ 0.0033   ┆ 0.0016   ┆ … ┆ 0.0       ┆ 0.0       ┆ 19.3      ┆ 16.0      │\n",
       "└──────────┴──────────┴──────────┴──────────┴───┴───────────┴───────────┴───────────┴───────────┘"
      ]
     },
     "execution_count": 25,
     "metadata": {},
     "output_type": "execute_result"
    }
   ],
   "source": [
    "# Extract 10% of the data to use later for \"production\" testing\n",
    "cv16g_prod = cv16g_shuffled[: int(len(cv16g_shuffled) * 0.1)]\n",
    "cv16g_prod"
   ]
  },
  {
   "cell_type": "code",
   "execution_count": 26,
   "id": "FLYS1pSOpPZQ",
   "metadata": {
    "id": "FLYS1pSOpPZQ"
   },
   "outputs": [],
   "source": [
    "# Use the rest of the data for normal testing\n",
    "cv16g_new = cv16g_shuffled[int(len(cv16g_shuffled) * 0.1) :]"
   ]
  },
  {
   "cell_type": "markdown",
   "id": "lP8pzAJspPZQ",
   "metadata": {
    "id": "lP8pzAJspPZQ"
   },
   "source": [
    "### Hyperparameters evaluation"
   ]
  },
  {
   "cell_type": "code",
   "execution_count": 28,
   "id": "kerkIfwQpPZR",
   "metadata": {
    "colab": {
     "base_uri": "https://localhost:8080/"
    },
    "id": "kerkIfwQpPZR",
    "outputId": "62bcdb52-b37c-4bcd-f3e3-571c48cb4cf2"
   },
   "outputs": [],
   "source": [
    "try:\n",
    "    cv16g_reg_results = sofa.load_hdf5(f\"{ROOT}/cv16g_reg_results.h5\")\n",
    "except:\n",
    "    print(\"Error loading from file, creating a new dictionary\")\n",
    "    cv16g_reg_results = defaultdict(\n",
    "        defaultdict(defaultdict(defaultdict().copy).copy).copy\n",
    "    )\n",
    "\n",
    "# Evaluate\n",
    "for activations in hidden_layers:\n",
    "    for neurons in max_neurons:\n",
    "        for osnr in osnr_lst:\n",
    "            args = {\n",
    "                \"data\": cv16g_new,\n",
    "                \"data_prod\": cv16g_prod,\n",
    "                \"n_splits\": 5,\n",
    "                \"max_neurons\": int(neurons),\n",
    "                \"activations\": activations,\n",
    "                \"use_osnr\": True if osnr == \"osnr\" else False,\n",
    "            }\n",
    "            act_fn_name = \"\".join([s[0] for s in activations])\n",
    "            if cv16g_reg_results[act_fn_name][neurons][osnr] == defaultdict():\n",
    "                # Get results\n",
    "                results = test_estimation_model(**args)\n",
    "                # Serialize model\n",
    "                results[\"model\"] = [\n",
    "                    utils.serialize_keras_object(model) for model in results[\"model\"]\n",
    "                ]\n",
    "                # Save serialized model for serialization\n",
    "                cv16g_reg_results[act_fn_name][neurons][osnr] = results\n",
    "                # Save results with serialized model\n",
    "                print(\"Saving results...\")\n",
    "                sofa.save_hdf5(cv16g_reg_results, f\"{ROOT}/cv16g_reg_results.h5\")\n",
    "                print(\"Results saved!\")"
   ]
  },
  {
   "cell_type": "markdown",
   "id": "1wajZsRKpPZR",
   "metadata": {
    "id": "1wajZsRKpPZR"
   },
   "source": [
    "### Results"
   ]
  },
  {
   "cell_type": "code",
   "execution_count": 29,
   "id": "XxiXylIEpPZR",
   "metadata": {
    "colab": {
     "base_uri": "https://localhost:8080/",
     "height": 628
    },
    "id": "XxiXylIEpPZR",
    "outputId": "3873f642-6914-460b-d039-38b90bb6e0ee"
   },
   "outputs": [
    {
     "data": {
      "image/png": "[encoded data removed]",
      "text/plain": [
       "<Figure size 800x600 with 1 Axes>"
      ]
     },
     "metadata": {},
     "output_type": "display_data"
    }
   ],
   "source": [
    "cv16g_neurons_avg_results = [\n",
    "    np.mean(\n",
    "        get_avg_score(\n",
    "            cv16g_reg_results, neurons, target=\"neurons\", metric=\"mae\", score=\"test\"\n",
    "        )\n",
    "    )\n",
    "    for neurons in max_neurons\n",
    "]\n",
    "x = list(map(int, max_neurons))\n",
    "plot_results(x, cv16g_neurons_avg_results, \"Maximum number of neurons\", log=True)"
   ]
  },
  {
   "cell_type": "code",
   "execution_count": 30,
   "id": "5VYw1iNMpPZR",
   "metadata": {
    "colab": {
     "base_uri": "https://localhost:8080/",
     "height": 628
    },
    "id": "5VYw1iNMpPZR",
    "outputId": "6b74eb4d-f5b7-48ab-c0fa-3e419630bcdb",
    "tags": []
   },
   "outputs": [
    {
     "data": {
      "image/png": "[encoded data removed]",
      "text/plain": [
       "<Figure size 800x600 with 1 Axes>"
      ]
     },
     "metadata": {},
     "output_type": "display_data"
    }
   ],
   "source": [
    "cv16g_layers_avg_results = [\n",
    "    np.mean(\n",
    "        get_avg_score(\n",
    "            cv16g_reg_results, layers, target=\"layers\", metric=\"mae\", score=\"test\"\n",
    "        )\n",
    "    )\n",
    "    for layers in range(1, 4)\n",
    "]\n",
    "x = range(1, 4)\n",
    "plot_results(x, cv16g_layers_avg_results, \"Number of layers\", log=False, intx=True)"
   ]
  },
  {
   "cell_type": "code",
   "execution_count": 31,
   "id": "8j0gDA9YpPZR",
   "metadata": {
    "colab": {
     "base_uri": "https://localhost:8080/"
    },
    "id": "8j0gDA9YpPZR",
    "outputId": "ede04c6b-2c2c-4067-ee5b-7e71e09f289b",
    "tags": []
   },
   "outputs": [
    {
     "name": "stdout",
     "output_type": "stream",
     "text": [
      "Con OSNR  Sin OSNR\n",
      "4.232       5.228\n"
     ]
    }
   ],
   "source": [
    "cv16g_osnr_avg_results = [\n",
    "    np.mean(\n",
    "        get_avg_score(\n",
    "            cv16g_reg_results, osnr, target=\"osnr\", metric=\"mae\", score=\"test\"\n",
    "        )\n",
    "    )\n",
    "    for osnr in [\"osnr\", \"wo_osnr\"]\n",
    "]\n",
    "print(f\"Con OSNR  Sin OSNR\")\n",
    "print(f\"{cv16g_osnr_avg_results[0]:.3f}       {cv16g_osnr_avg_results[1]:.3f}\")"
   ]
  },
  {
   "cell_type": "markdown",
   "id": "H3cJ9Go3pPZR",
   "metadata": {
    "id": "H3cJ9Go3pPZR"
   },
   "source": [
    "### Sort models by score"
   ]
  },
  {
   "cell_type": "code",
   "execution_count": 32,
   "id": "ItMtirWupPZS",
   "metadata": {
    "colab": {
     "base_uri": "https://localhost:8080/",
     "height": 882
    },
    "id": "ItMtirWupPZS",
    "outputId": "a0dc45a4-9ffc-4215-93ce-ed179c1002b3"
   },
   "outputs": [
    {
     "data": {
      "text/html": [
       "<div><style>\n",
       ".dataframe > thead > tr,\n",
       ".dataframe > tbody > tr {\n",
       "  text-align: right;\n",
       "  white-space: pre-wrap;\n",
       "}\n",
       "</style>\n",
       "<small>shape: (10, 2)</small><table border=\"1\" class=\"dataframe\"><thead><tr><th>column_0</th><th>column_1</th></tr><tr><td>f64</td><td>list[str]</td></tr></thead><tbody><tr><td>2.756541</td><td>[&quot;tst&quot;, &quot;128&quot;, &quot;osnr&quot;]</td></tr><tr><td>2.822385</td><td>[&quot;tst&quot;, &quot;64&quot;, &quot;osnr&quot;]</td></tr><tr><td>2.830602</td><td>[&quot;rtt&quot;, &quot;64&quot;, &quot;osnr&quot;]</td></tr><tr><td>2.837135</td><td>[&quot;tss&quot;, &quot;64&quot;, &quot;osnr&quot;]</td></tr><tr><td>2.842542</td><td>[&quot;rss&quot;, &quot;32&quot;, &quot;osnr&quot;]</td></tr><tr><td>2.852606</td><td>[&quot;rtt&quot;, &quot;512&quot;, &quot;osnr&quot;]</td></tr><tr><td>2.871675</td><td>[&quot;rst&quot;, &quot;128&quot;, &quot;osnr&quot;]</td></tr><tr><td>2.873786</td><td>[&quot;tst&quot;, &quot;512&quot;, &quot;osnr&quot;]</td></tr><tr><td>2.886047</td><td>[&quot;rrs&quot;, &quot;256&quot;, &quot;osnr&quot;]</td></tr><tr><td>2.915278</td><td>[&quot;tss&quot;, &quot;256&quot;, &quot;osnr&quot;]</td></tr></tbody></table></div>"
      ],
      "text/plain": [
       "shape: (10, 2)\n",
       "┌──────────┬────────────────────────┐\n",
       "│ column_0 ┆ column_1               │\n",
       "│ ---      ┆ ---                    │\n",
       "│ f64      ┆ list[str]              │\n",
       "╞══════════╪════════════════════════╡\n",
       "│ 2.756541 ┆ [\"tst\", \"128\", \"osnr\"] │\n",
       "│ 2.822385 ┆ [\"tst\", \"64\", \"osnr\"]  │\n",
       "│ 2.830602 ┆ [\"rtt\", \"64\", \"osnr\"]  │\n",
       "│ 2.837135 ┆ [\"tss\", \"64\", \"osnr\"]  │\n",
       "│ …        ┆ …                      │\n",
       "│ 2.871675 ┆ [\"rst\", \"128\", \"osnr\"] │\n",
       "│ 2.873786 ┆ [\"tst\", \"512\", \"osnr\"] │\n",
       "│ 2.886047 ┆ [\"rrs\", \"256\", \"osnr\"] │\n",
       "│ 2.915278 ┆ [\"tss\", \"256\", \"osnr\"] │\n",
       "└──────────┴────────────────────────┘"
      ]
     },
     "execution_count": 32,
     "metadata": {},
     "output_type": "execute_result"
    }
   ],
   "source": [
    "cv16g_better_models_df = get_better_models(\n",
    "    cv16g_reg_results, metric=\"mae\", score=\"test\"\n",
    ")\n",
    "cv16g_better_models_df.head(10)"
   ]
  }
 ],
 "metadata": {
  "accelerator": "GPU",
  "colab": {
   "gpuType": "T4",
   "provenance": [],
   "toc_visible": true
  },
  "kernelspec": {
   "display_name": "Python 3 (ipykernel)",
   "language": "python",
   "name": "python3"
  },
  "language_info": {
   "codemirror_mode": {
    "name": "ipython",
    "version": 3
   },
   "file_extension": ".py",
   "mimetype": "text/x-python",
   "name": "python",
   "nbconvert_exporter": "python",
   "pygments_lexer": "ipython3",
   "version": "3.10.10"
  }
 },
 "nbformat": 4,
 "nbformat_minor": 5
}
