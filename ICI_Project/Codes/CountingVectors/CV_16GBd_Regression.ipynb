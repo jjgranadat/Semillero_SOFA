{
  "cells": [
    {
      "cell_type": "markdown",
      "id": "59be66b6-f376-484e-8c2b-c5d58a38c942",
      "metadata": {
        "tags": [],
        "id": "59be66b6-f376-484e-8c2b-c5d58a38c942"
      },
      "source": [
        "# Estimación de ICI mediante *counting vectors* a 16 GBd"
      ]
    },
    {
      "cell_type": "markdown",
      "source": [
        "## Inicialización"
      ],
      "metadata": {
        "id": "pJ6XTcEno0ID"
      },
      "id": "pJ6XTcEno0ID"
    },
    {
      "cell_type": "markdown",
      "id": "408abaa0-933f-499a-accc-5fe826ffcd58",
      "metadata": {
        "id": "408abaa0-933f-499a-accc-5fe826ffcd58"
      },
      "source": [
        "### Librerías\n",
        "\n"
      ]
    },
    {
      "cell_type": "code",
      "source": [
        "if 'google.colab' in str(get_ipython()):\n",
        "    from google.colab import drive\n",
        "    GOOGLE_COLAB = True\n",
        "    ROOT = \"/content/drive/MyDrive/SOFA/ICI_Project\"\n",
        "\n",
        "    drive.mount('/content/drive')\n",
        "    !cp {ROOT}\"/sofa.py\" \".\"\n",
        "    !cp {ROOT}\"/counting_vectors_16f.csv\" \".\"\n",
        "    !cp {ROOT}\"/counting_vectors_16g.csv\" \".\"\n",
        "else:\n",
        "    GOOGLE_COLAB = False\n",
        "    ROOT = \".\""
      ],
      "metadata": {
        "id": "0k-2EzDZazUP",
        "outputId": "1822c9c3-8f9c-4e07-a999-0c23b5ffae4c",
        "colab": {
          "base_uri": "https://localhost:8080/"
        }
      },
      "id": "0k-2EzDZazUP",
      "execution_count": 1,
      "outputs": [
        {
          "output_type": "stream",
          "name": "stdout",
          "text": [
            "Mounted at /content/drive\n"
          ]
        }
      ]
    },
    {
      "cell_type": "code",
      "execution_count": 2,
      "id": "c7e5b55a-87f0-47ea-9a51-942c2216202b",
      "metadata": {
        "tags": [],
        "id": "c7e5b55a-87f0-47ea-9a51-942c2216202b"
      },
      "outputs": [],
      "source": [
        "import sofa\n",
        "\n",
        "import polars as pl\n",
        "import numpy as np\n",
        "import scipy as sp\n",
        "import matplotlib.pyplot as plt\n",
        "import tensorflow as tf\n",
        "import tensorflow.keras as ker\n",
        "import json\n",
        "import os\n",
        "\n",
        "from scipy.stats import multivariate_normal\n",
        "from mpl_toolkits.mplot3d import Axes3D\n",
        "from matplotlib import cm\n",
        "from matplotlib.colors import LogNorm\n",
        "\n",
        "from sklearn.mixture import GaussianMixture\n",
        "from sklearn.metrics import mean_absolute_error, mean_squared_error, r2_score\n",
        "from sklearn.model_selection import cross_validate, KFold, train_test_split\n",
        "from sklearn.preprocessing import StandardScaler\n",
        "\n",
        "from tensorflow.keras import models, regularizers, Sequential, utils\n",
        "from tensorflow.keras.layers import Dense\n",
        "from tensorflow.keras.callbacks import EarlyStopping\n",
        "\n",
        "from itertools import product\n",
        "from collections import defaultdict"
      ]
    },
    {
      "cell_type": "code",
      "source": [
        "GPU = tf.config.list_physical_devices('GPU')\n",
        "if len(GPU) > 0:\n",
        "    print(f\"Using GPU: {GPU}\")"
      ],
      "metadata": {
        "id": "ObdMXuCIlLXR",
        "outputId": "bbf0ac1a-b866-4701-8ffc-b4d93a0fc087",
        "colab": {
          "base_uri": "https://localhost:8080/"
        }
      },
      "id": "ObdMXuCIlLXR",
      "execution_count": 3,
      "outputs": [
        {
          "output_type": "stream",
          "name": "stdout",
          "text": [
            "Using GPU: [PhysicalDevice(name='/physical_device:GPU:0', device_type='GPU')]\n"
          ]
        }
      ]
    },
    {
      "cell_type": "markdown",
      "id": "39a1a2c2-572c-4fc4-8ba9-d4c6ad017cbc",
      "metadata": {
        "tags": [],
        "id": "39a1a2c2-572c-4fc4-8ba9-d4c6ad017cbc"
      },
      "source": [
        "### Funciones globales"
      ]
    },
    {
      "cell_type": "code",
      "execution_count": 4,
      "id": "b5dd6092-f808-4326-af60-1b750a5710fa",
      "metadata": {
        "tags": [],
        "id": "b5dd6092-f808-4326-af60-1b750a5710fa"
      },
      "outputs": [],
      "source": [
        "def calc_once(varname, fn, args):\n",
        "    \"\"\" Calculate a variable only once. \"\"\"\n",
        "    if varname not in globals():\n",
        "        return fn(**args)\n",
        "    return eval(varname)\n",
        "\n",
        "\n",
        "def estimation_model(\n",
        "    layers_props_lst: list, loss_fn: ker.losses.Loss, input_dim: int\n",
        ") -> ker.models.Sequential:\n",
        "    \"\"\" Compile a sequential model for regression purposes. \"\"\"\n",
        "    model = ker.Sequential()\n",
        "    # Hidden layers\n",
        "    for i, layer_props in enumerate(layers_props_lst):\n",
        "        if i == 0:\n",
        "            model.add(ker.layers.Dense(input_dim=input_dim, **layer_props))\n",
        "        else:\n",
        "            model.add(ker.layers.Dense(**layer_props))\n",
        "    # Regressor\n",
        "    model.add(ker.layers.Dense(units=1, activation=\"linear\"))\n",
        "\n",
        "    model.compile(loss=loss_fn, optimizer=\"adam\")\n",
        "\n",
        "    return model\n",
        "\n",
        "\n",
        "def estimation_crossvalidation(X, y, X_prod, y_prod, n_splits, layer_props, loss_fn, callbacks):\n",
        "    \"\"\" Crossvalidation of an estimation network. \"\"\"\n",
        "    # Scores dict\n",
        "    scores = {}\n",
        "    scores[\"model\"] = []\n",
        "    scores[\"loss\"] = []\n",
        "    scores[\"mae\"] = {\"train\": [], \"test\": [], \"prod\": []}\n",
        "    scores[\"r2\"] = {\"train\": [], \"test\": [], \"prod\": []}\n",
        "    scores[\"rmse\"] = {\"train\": [], \"test\": [], \"prod\": []}\n",
        "\n",
        "    # K-fold crossvalidation\n",
        "    kf = KFold(n_splits=n_splits, shuffle=True)\n",
        "\n",
        "    for train_index, test_index in kf.split(X, y):\n",
        "        X_train, X_test = X[train_index], X[test_index]\n",
        "        y_train, y_test = y[train_index], y[test_index]\n",
        "\n",
        "        # Input variables standarizer\n",
        "        sc = StandardScaler()\n",
        "        X_train = sc.fit_transform(X_train)\n",
        "        X_test_kf = sc.transform(X_test)\n",
        "        X_prod_kf = sc.transform(X_prod)\n",
        "\n",
        "        model = estimation_model(layer_props, loss_fn, X_train.shape[1])\n",
        "\n",
        "        # Save test scalar loss\n",
        "        if callbacks:\n",
        "            loss = model.fit(\n",
        "                X_train, y_train, epochs=5000, batch_size=64, callbacks=callbacks, verbose=0\n",
        "            )\n",
        "        else:\n",
        "            loss = model.fit(X_train, y_train, epochs=5000, batch_size=64, verbose=0)\n",
        "        print(f\"Needed iterations: {len(loss.history['loss'])}\")\n",
        "        loss = loss.history[\"loss\"]\n",
        "\n",
        "        # Predict using train values\n",
        "        predictions_train = model.predict(X_train, verbose=0).flatten()\n",
        "        # Predict using test values\n",
        "        predictions_test = model.predict(X_test_kf, verbose=0).flatten()\n",
        "        # Predict using production values\n",
        "        predictions_prod = model.predict(X_prod_kf, verbose=0).flatten()\n",
        "\n",
        "        # Dataframe for better visualization\n",
        "        train_data_train = pl.DataFrame(\n",
        "            {\"ICI\": y_train, \"Predicted ICI\": predictions_train}\n",
        "        )\n",
        "        train_data_test = pl.DataFrame(\n",
        "            {\"ICI\": y_test, \"Predicted ICI\": predictions_test}\n",
        "        )\n",
        "        train_data_prod = pl.DataFrame(\n",
        "            {\"ICI\": y_prod, \"Predicted ICI\": predictions_prod}\n",
        "        )\n",
        "\n",
        "        # MAE\n",
        "        mae_score_train = mean_absolute_error(\n",
        "            train_data_train[\"ICI\"], train_data_train[\"Predicted ICI\"]\n",
        "        )\n",
        "        mae_score_test = mean_absolute_error(\n",
        "            train_data_test[\"ICI\"], train_data_test[\"Predicted ICI\"]\n",
        "        )\n",
        "        mae_score_prod = mean_absolute_error(\n",
        "            train_data_prod[\"ICI\"], train_data_prod[\"Predicted ICI\"]\n",
        "        )\n",
        "\n",
        "        # R²\n",
        "        r2_score_train = r2_score(\n",
        "            train_data_train[\"ICI\"], train_data_train[\"Predicted ICI\"]\n",
        "        )\n",
        "        r2_score_test = r2_score(\n",
        "            train_data_test[\"ICI\"], train_data_test[\"Predicted ICI\"]\n",
        "        )\n",
        "        r2_score_prod = r2_score(\n",
        "            train_data_prod[\"ICI\"], train_data_prod[\"Predicted ICI\"]\n",
        "        )\n",
        "\n",
        "        # RMSE\n",
        "        rmse_score_train = mean_squared_error(\n",
        "            train_data_train[\"ICI\"], train_data_train[\"Predicted ICI\"],\n",
        "            squared=False\n",
        "        )\n",
        "        rmse_score_test = mean_squared_error(\n",
        "            train_data_test[\"ICI\"], train_data_test[\"Predicted ICI\"],\n",
        "            squared=False\n",
        "        )\n",
        "        rmse_score_prod = mean_squared_error(\n",
        "            train_data_prod[\"ICI\"], train_data_prod[\"Predicted ICI\"],\n",
        "            squared=False\n",
        "        )\n",
        "\n",
        "        # Append to lists\n",
        "        scores[\"model\"].append(model)\n",
        "        scores[\"loss\"].append(loss)\n",
        "        scores[\"mae\"][\"train\"].append(mae_score_train)\n",
        "        scores[\"mae\"][\"test\"].append(mae_score_test)\n",
        "        scores[\"mae\"][\"prod\"].append(mae_score_prod)\n",
        "        scores[\"r2\"][\"train\"].append(r2_score_train)\n",
        "        scores[\"r2\"][\"test\"].append(r2_score_test)\n",
        "        scores[\"r2\"][\"prod\"].append(r2_score_prod)\n",
        "        scores[\"rmse\"][\"train\"].append(rmse_score_train)\n",
        "        scores[\"rmse\"][\"test\"].append(rmse_score_test)\n",
        "        scores[\"rmse\"][\"prod\"].append(rmse_score_prod)\n",
        "\n",
        "    return scores\n",
        "\n",
        "\n",
        "def test_estimation_model(data, data_prod, n_splits, max_neurons, activations,\n",
        "                          use_osnr=True, loss_fn=\"mean_absolute_error\"):\n",
        "    \"\"\" Test a spectral spacing estimation model with given parameters. \"\"\"\n",
        "    n_feat = data.shape[1]\n",
        "    var_n = n_feat - 1 if use_osnr else n_feat - 2\n",
        "\n",
        "    # Split variables\n",
        "    # Variables\n",
        "    X = np.array(data[:, 0:var_n])\n",
        "    X_prod = np.array(data_prod[:, 0:var_n])\n",
        "    # Tags\n",
        "    y = np.array(data[:, -1])\n",
        "    y_prod = np.array(data_prod[:, -1])\n",
        "\n",
        "    # Layer properties\n",
        "    layer_props = [\n",
        "        {\"units\": max_neurons // (2**i), \"activation\": activation}\n",
        "        for i, activation in enumerate(activations)\n",
        "    ]\n",
        "    print(f\"{layer_props}{' + OSNR' if use_osnr else ''}\")\n",
        "    callbacks = [\n",
        "        EarlyStopping(monitor=\"loss\", patience=30, mode=\"min\", restore_best_weights=True)\n",
        "    ]\n",
        "\n",
        "    return estimation_crossvalidation(X, y, X_prod, y_prod, n_splits, layer_props, loss_fn, callbacks)\n",
        "\n",
        "def plot_results(x_values, scores, xlabel, log):\n",
        "    plt.figure(figsize=(8, 6), layout=\"constrained\")\n",
        "    plt.scatter(x_values, scores)\n",
        "    plt.plot(x_values, scores)\n",
        "    plt.xlabel(xlabel)\n",
        "    plt.ylabel(\"MAE\")\n",
        "    if log:\n",
        "        plt.xscale(\"log\", base=2)\n",
        "    plt.grid(True)\n",
        "    plt.show()"
      ]
    },
    {
      "cell_type": "markdown",
      "id": "4efce4fa-5de8-4a54-8685-491ecc648041",
      "metadata": {
        "tags": [],
        "id": "4efce4fa-5de8-4a54-8685-491ecc648041"
      },
      "source": [
        "### Leer CV y separarlos"
      ]
    },
    {
      "cell_type": "code",
      "execution_count": 5,
      "id": "75d361a4-bc88-451a-9945-c05e8b3a17ab",
      "metadata": {
        "tags": [],
        "id": "75d361a4-bc88-451a-9945-c05e8b3a17ab"
      },
      "outputs": [],
      "source": [
        "if GOOGLE_COLAB:\n",
        "    cv16f_file = \"counting_vectors_16f.csv\"\n",
        "    cv16g_file = \"counting_vectors_16g.csv\"\n",
        "else:\n",
        "    cv16f_file = \"../../Databases/16GBd/counting_vectors_16f.csv\"\n",
        "    cv16g_file = \"../../Databases/16GBd/counting_vectors_16g.csv\"\n",
        "\n",
        "\n",
        "cv16f = pl.read_csv(cv16f_file, has_header=False, dtypes=[pl.Float64])\n",
        "cv16g = pl.read_csv(cv16g_file, has_header=False, dtypes=[pl.Float64])"
      ]
    },
    {
      "cell_type": "markdown",
      "id": "fe3f3c52-2f24-4206-a56a-4887d5f001e9",
      "metadata": {
        "tags": [],
        "id": "fe3f3c52-2f24-4206-a56a-4887d5f001e9"
      },
      "source": [
        "## FCM"
      ]
    },
    {
      "cell_type": "code",
      "execution_count": 6,
      "id": "8aa7a9ce-69e1-40d3-9833-9e26e649fa00",
      "metadata": {
        "id": "8aa7a9ce-69e1-40d3-9833-9e26e649fa00",
        "outputId": "3a1f82e8-c84d-4eb1-de8a-82253b5305aa",
        "colab": {
          "base_uri": "https://localhost:8080/",
          "height": 882
        }
      },
      "outputs": [
        {
          "output_type": "execute_result",
          "data": {
            "text/plain": [
              "shape: (680, 18)\n",
              "┌──────────┬──────────┬──────────┬──────────┬───┬───────────┬───────────┬───────────┬───────────┐\n",
              "│ column_1 ┆ column_2 ┆ column_3 ┆ column_4 ┆ … ┆ column_15 ┆ column_16 ┆ column_17 ┆ column_18 │\n",
              "│ ---      ┆ ---      ┆ ---      ┆ ---      ┆   ┆ ---       ┆ ---       ┆ ---       ┆ ---       │\n",
              "│ f64      ┆ f64      ┆ f64      ┆ f64      ┆   ┆ f64       ┆ f64       ┆ f64       ┆ f64       │\n",
              "╞══════════╪══════════╪══════════╪══════════╪═══╪═══════════╪═══════════╪═══════════╪═══════════╡\n",
              "│ 0.7955   ┆ 0.1557   ┆ 0.0309   ┆ 0.0145   ┆ … ┆ 0.0       ┆ 0.0       ┆ 16.3      ┆ 15.5      │\n",
              "│ 0.7988   ┆ 0.1467   ┆ 0.034    ┆ 0.0149   ┆ … ┆ 0.0       ┆ 0.0       ┆ 16.3      ┆ 15.5      │\n",
              "│ 0.789    ┆ 0.1601   ┆ 0.0332   ┆ 0.0132   ┆ … ┆ 0.0       ┆ 0.0       ┆ 16.3      ┆ 15.5      │\n",
              "│ 0.7957   ┆ 0.1542   ┆ 0.0311   ┆ 0.0152   ┆ … ┆ 0.0       ┆ 0.0       ┆ 16.3      ┆ 15.5      │\n",
              "│ …        ┆ …        ┆ …        ┆ …        ┆ … ┆ …         ┆ …         ┆ …         ┆ …         │\n",
              "│ 1.0      ┆ 0.0      ┆ 0.0      ┆ 0.0      ┆ … ┆ 0.0       ┆ 0.0       ┆ 36.3      ┆ 50.0      │\n",
              "│ 1.0      ┆ 0.0      ┆ 0.0      ┆ 0.0      ┆ … ┆ 0.0       ┆ 0.0       ┆ 36.3      ┆ 50.0      │\n",
              "│ 1.0      ┆ 0.0      ┆ 0.0      ┆ 0.0      ┆ … ┆ 0.0       ┆ 0.0       ┆ 36.3      ┆ 50.0      │\n",
              "│ 1.0      ┆ 0.0      ┆ 0.0      ┆ 0.0      ┆ … ┆ 0.0       ┆ 0.0       ┆ 36.3      ┆ 50.0      │\n",
              "└──────────┴──────────┴──────────┴──────────┴───┴───────────┴───────────┴───────────┴───────────┘"
            ],
            "text/html": [
              "<div><style>\n",
              ".dataframe > thead > tr > th,\n",
              ".dataframe > tbody > tr > td {\n",
              "  text-align: right;\n",
              "}\n",
              "</style>\n",
              "<small>shape: (680, 18)</small><table border=\"1\" class=\"dataframe\"><thead><tr><th>column_1</th><th>column_2</th><th>column_3</th><th>column_4</th><th>column_5</th><th>column_6</th><th>column_7</th><th>column_8</th><th>column_9</th><th>column_10</th><th>column_11</th><th>column_12</th><th>column_13</th><th>column_14</th><th>column_15</th><th>column_16</th><th>column_17</th><th>column_18</th></tr><tr><td>f64</td><td>f64</td><td>f64</td><td>f64</td><td>f64</td><td>f64</td><td>f64</td><td>f64</td><td>f64</td><td>f64</td><td>f64</td><td>f64</td><td>f64</td><td>f64</td><td>f64</td><td>f64</td><td>f64</td><td>f64</td></tr></thead><tbody><tr><td>0.7955</td><td>0.1557</td><td>0.0309</td><td>0.0145</td><td>0.0021</td><td>0.0013</td><td>0.0</td><td>0.0</td><td>0.0</td><td>0.0</td><td>0.0</td><td>0.0</td><td>0.0</td><td>0.0</td><td>0.0</td><td>0.0</td><td>16.3</td><td>15.5</td></tr><tr><td>0.7988</td><td>0.1467</td><td>0.034</td><td>0.0149</td><td>0.0035</td><td>0.0015</td><td>0.0006</td><td>0.0</td><td>0.0</td><td>0.0</td><td>0.0</td><td>0.0</td><td>0.0</td><td>0.0</td><td>0.0</td><td>0.0</td><td>16.3</td><td>15.5</td></tr><tr><td>0.789</td><td>0.1601</td><td>0.0332</td><td>0.0132</td><td>0.0032</td><td>0.0008</td><td>0.0002</td><td>0.0002</td><td>0.0001</td><td>0.0</td><td>0.0</td><td>0.0</td><td>0.0</td><td>0.0</td><td>0.0</td><td>0.0</td><td>16.3</td><td>15.5</td></tr><tr><td>0.7957</td><td>0.1542</td><td>0.0311</td><td>0.0152</td><td>0.0024</td><td>0.0013</td><td>0.0001</td><td>0.0</td><td>0.0</td><td>0.0</td><td>0.0</td><td>0.0</td><td>0.0</td><td>0.0</td><td>0.0</td><td>0.0</td><td>16.3</td><td>15.5</td></tr><tr><td>0.7947</td><td>0.1477</td><td>0.0352</td><td>0.0143</td><td>0.0053</td><td>0.0023</td><td>0.0005</td><td>0.0</td><td>0.0</td><td>0.0</td><td>0.0</td><td>0.0</td><td>0.0</td><td>0.0</td><td>0.0</td><td>0.0</td><td>16.3</td><td>15.5</td></tr><tr><td>0.7976</td><td>0.152</td><td>0.0316</td><td>0.0152</td><td>0.0031</td><td>0.0004</td><td>0.0</td><td>0.0001</td><td>0.0</td><td>0.0</td><td>0.0</td><td>0.0</td><td>0.0</td><td>0.0</td><td>0.0</td><td>0.0</td><td>16.3</td><td>15.5</td></tr><tr><td>0.7736</td><td>0.1619</td><td>0.0386</td><td>0.0179</td><td>0.0039</td><td>0.0031</td><td>0.0004</td><td>0.0004</td><td>0.0001</td><td>0.0001</td><td>0.0</td><td>0.0</td><td>0.0</td><td>0.0</td><td>0.0</td><td>0.0</td><td>16.3</td><td>15.5</td></tr><tr><td>0.8089</td><td>0.1469</td><td>0.0293</td><td>0.0114</td><td>0.0025</td><td>0.0009</td><td>0.0001</td><td>0.0</td><td>0.0</td><td>0.0</td><td>0.0</td><td>0.0</td><td>0.0</td><td>0.0</td><td>0.0</td><td>0.0</td><td>16.3</td><td>15.5</td></tr><tr><td>0.8025</td><td>0.1523</td><td>0.029</td><td>0.013</td><td>0.0025</td><td>0.0005</td><td>0.0002</td><td>0.0</td><td>0.0</td><td>0.0</td><td>0.0</td><td>0.0</td><td>0.0</td><td>0.0</td><td>0.0</td><td>0.0</td><td>16.3</td><td>15.5</td></tr><tr><td>0.7974</td><td>0.1499</td><td>0.0316</td><td>0.0162</td><td>0.0027</td><td>0.0015</td><td>0.0005</td><td>0.0002</td><td>0.0</td><td>0.0</td><td>0.0</td><td>0.0</td><td>0.0</td><td>0.0</td><td>0.0</td><td>0.0</td><td>16.3</td><td>15.5</td></tr><tr><td>0.8856</td><td>0.0966</td><td>0.0124</td><td>0.0046</td><td>0.0005</td><td>0.0003</td><td>0.0</td><td>0.0</td><td>0.0</td><td>0.0</td><td>0.0</td><td>0.0</td><td>0.0</td><td>0.0</td><td>0.0</td><td>0.0</td><td>19.3</td><td>15.5</td></tr><tr><td>0.8806</td><td>0.0971</td><td>0.0151</td><td>0.0063</td><td>0.0006</td><td>0.0003</td><td>0.0</td><td>0.0</td><td>0.0</td><td>0.0</td><td>0.0</td><td>0.0</td><td>0.0</td><td>0.0</td><td>0.0</td><td>0.0</td><td>19.3</td><td>15.5</td></tr><tr><td>&hellip;</td><td>&hellip;</td><td>&hellip;</td><td>&hellip;</td><td>&hellip;</td><td>&hellip;</td><td>&hellip;</td><td>&hellip;</td><td>&hellip;</td><td>&hellip;</td><td>&hellip;</td><td>&hellip;</td><td>&hellip;</td><td>&hellip;</td><td>&hellip;</td><td>&hellip;</td><td>&hellip;</td><td>&hellip;</td></tr><tr><td>1.0</td><td>0.0</td><td>0.0</td><td>0.0</td><td>0.0</td><td>0.0</td><td>0.0</td><td>0.0</td><td>0.0</td><td>0.0</td><td>0.0</td><td>0.0</td><td>0.0</td><td>0.0</td><td>0.0</td><td>0.0</td><td>31.3</td><td>50.0</td></tr><tr><td>1.0</td><td>0.0</td><td>0.0</td><td>0.0</td><td>0.0</td><td>0.0</td><td>0.0</td><td>0.0</td><td>0.0</td><td>0.0</td><td>0.0</td><td>0.0</td><td>0.0</td><td>0.0</td><td>0.0</td><td>0.0</td><td>31.3</td><td>50.0</td></tr><tr><td>1.0</td><td>0.0</td><td>0.0</td><td>0.0</td><td>0.0</td><td>0.0</td><td>0.0</td><td>0.0</td><td>0.0</td><td>0.0</td><td>0.0</td><td>0.0</td><td>0.0</td><td>0.0</td><td>0.0</td><td>0.0</td><td>36.3</td><td>50.0</td></tr><tr><td>1.0</td><td>0.0</td><td>0.0</td><td>0.0</td><td>0.0</td><td>0.0</td><td>0.0</td><td>0.0</td><td>0.0</td><td>0.0</td><td>0.0</td><td>0.0</td><td>0.0</td><td>0.0</td><td>0.0</td><td>0.0</td><td>36.3</td><td>50.0</td></tr><tr><td>1.0</td><td>0.0</td><td>0.0</td><td>0.0</td><td>0.0</td><td>0.0</td><td>0.0</td><td>0.0</td><td>0.0</td><td>0.0</td><td>0.0</td><td>0.0</td><td>0.0</td><td>0.0</td><td>0.0</td><td>0.0</td><td>36.3</td><td>50.0</td></tr><tr><td>1.0</td><td>0.0</td><td>0.0</td><td>0.0</td><td>0.0</td><td>0.0</td><td>0.0</td><td>0.0</td><td>0.0</td><td>0.0</td><td>0.0</td><td>0.0</td><td>0.0</td><td>0.0</td><td>0.0</td><td>0.0</td><td>36.3</td><td>50.0</td></tr><tr><td>1.0</td><td>0.0</td><td>0.0</td><td>0.0</td><td>0.0</td><td>0.0</td><td>0.0</td><td>0.0</td><td>0.0</td><td>0.0</td><td>0.0</td><td>0.0</td><td>0.0</td><td>0.0</td><td>0.0</td><td>0.0</td><td>36.3</td><td>50.0</td></tr><tr><td>1.0</td><td>0.0</td><td>0.0</td><td>0.0</td><td>0.0</td><td>0.0</td><td>0.0</td><td>0.0</td><td>0.0</td><td>0.0</td><td>0.0</td><td>0.0</td><td>0.0</td><td>0.0</td><td>0.0</td><td>0.0</td><td>36.3</td><td>50.0</td></tr><tr><td>1.0</td><td>0.0</td><td>0.0</td><td>0.0</td><td>0.0</td><td>0.0</td><td>0.0</td><td>0.0</td><td>0.0</td><td>0.0</td><td>0.0</td><td>0.0</td><td>0.0</td><td>0.0</td><td>0.0</td><td>0.0</td><td>36.3</td><td>50.0</td></tr><tr><td>1.0</td><td>0.0</td><td>0.0</td><td>0.0</td><td>0.0</td><td>0.0</td><td>0.0</td><td>0.0</td><td>0.0</td><td>0.0</td><td>0.0</td><td>0.0</td><td>0.0</td><td>0.0</td><td>0.0</td><td>0.0</td><td>36.3</td><td>50.0</td></tr><tr><td>1.0</td><td>0.0</td><td>0.0</td><td>0.0</td><td>0.0</td><td>0.0</td><td>0.0</td><td>0.0</td><td>0.0</td><td>0.0</td><td>0.0</td><td>0.0</td><td>0.0</td><td>0.0</td><td>0.0</td><td>0.0</td><td>36.3</td><td>50.0</td></tr><tr><td>1.0</td><td>0.0</td><td>0.0</td><td>0.0</td><td>0.0</td><td>0.0</td><td>0.0</td><td>0.0</td><td>0.0</td><td>0.0</td><td>0.0</td><td>0.0</td><td>0.0</td><td>0.0</td><td>0.0</td><td>0.0</td><td>36.3</td><td>50.0</td></tr></tbody></table></div>"
            ]
          },
          "metadata": {},
          "execution_count": 6
        }
      ],
      "source": [
        "# Show the original dataframe\n",
        "cv16f"
      ]
    },
    {
      "cell_type": "code",
      "execution_count": 7,
      "id": "f4f300c3-eb56-4e90-bad2-4fd476f30b31",
      "metadata": {
        "id": "f4f300c3-eb56-4e90-bad2-4fd476f30b31",
        "outputId": "4113cf03-6e15-4d6c-89ac-74d16da62622",
        "colab": {
          "base_uri": "https://localhost:8080/"
        }
      },
      "outputs": [
        {
          "output_type": "stream",
          "name": "stdout",
          "text": [
            "shape: (680, 18)\n",
            "┌──────────┬──────────┬──────────┬──────────┬───┬───────────┬───────────┬───────────┬───────────┐\n",
            "│ column_1 ┆ column_2 ┆ column_3 ┆ column_4 ┆ … ┆ column_15 ┆ column_16 ┆ column_17 ┆ column_18 │\n",
            "│ ---      ┆ ---      ┆ ---      ┆ ---      ┆   ┆ ---       ┆ ---       ┆ ---       ┆ ---       │\n",
            "│ f64      ┆ f64      ┆ f64      ┆ f64      ┆   ┆ f64       ┆ f64       ┆ f64       ┆ f64       │\n",
            "╞══════════╪══════════╪══════════╪══════════╪═══╪═══════════╪═══════════╪═══════════╪═══════════╡\n",
            "│ 0.8907   ┆ 0.0905   ┆ 0.0119   ┆ 0.0054   ┆ … ┆ 0.0       ┆ 0.0       ┆ 21.3      ┆ 15.5      │\n",
            "│ 0.8867   ┆ 0.0966   ┆ 0.0117   ┆ 0.0047   ┆ … ┆ 0.0       ┆ 0.0       ┆ 15.3      ┆ 17.0      │\n",
            "│ 0.8751   ┆ 0.108    ┆ 0.0134   ┆ 0.0033   ┆ … ┆ 0.0       ┆ 0.0       ┆ 16.3      ┆ 16.0      │\n",
            "│ 0.9991   ┆ 0.0009   ┆ 0.0      ┆ 0.0      ┆ … ┆ 0.0       ┆ 0.0       ┆ 28.3      ┆ 17.0      │\n",
            "│ …        ┆ …        ┆ …        ┆ …        ┆ … ┆ …         ┆ …         ┆ …         ┆ …         │\n",
            "│ 0.9405   ┆ 0.0552   ┆ 0.0035   ┆ 0.0007   ┆ … ┆ 0.0       ┆ 0.0       ┆ 16.3      ┆ 50.0      │\n",
            "│ 0.9188   ┆ 0.0741   ┆ 0.006    ┆ 0.0011   ┆ … ┆ 0.0       ┆ 0.0       ┆ 16.3      ┆ 17.6      │\n",
            "│ 0.9896   ┆ 0.0102   ┆ 0.0001   ┆ 0.0001   ┆ … ┆ 0.0       ┆ 0.0       ┆ 21.3      ┆ 16.5      │\n",
            "│ 0.8898   ┆ 0.0963   ┆ 0.0107   ┆ 0.0031   ┆ … ┆ 0.0       ┆ 0.0       ┆ 15.3      ┆ 17.0      │\n",
            "└──────────┴──────────┴──────────┴──────────┴───┴───────────┴───────────┴───────────┴───────────┘\n"
          ]
        }
      ],
      "source": [
        "# Shuffle the dataframe\n",
        "cv16f_shuffled = cv16f.sample(n=len(cv16f), shuffle=True, seed=1036681523)\n",
        "print(cv16f_shuffled)"
      ]
    },
    {
      "cell_type": "code",
      "execution_count": 8,
      "id": "5e079b32-d271-4ca7-85e1-64c72c09c89a",
      "metadata": {
        "id": "5e079b32-d271-4ca7-85e1-64c72c09c89a",
        "outputId": "5b339543-bdca-486a-d925-ca56778dcad9",
        "colab": {
          "base_uri": "https://localhost:8080/"
        }
      },
      "outputs": [
        {
          "output_type": "stream",
          "name": "stdout",
          "text": [
            "shape: (68, 18)\n",
            "┌──────────┬──────────┬──────────┬──────────┬───┬───────────┬───────────┬───────────┬───────────┐\n",
            "│ column_1 ┆ column_2 ┆ column_3 ┆ column_4 ┆ … ┆ column_15 ┆ column_16 ┆ column_17 ┆ column_18 │\n",
            "│ ---      ┆ ---      ┆ ---      ┆ ---      ┆   ┆ ---       ┆ ---       ┆ ---       ┆ ---       │\n",
            "│ f64      ┆ f64      ┆ f64      ┆ f64      ┆   ┆ f64       ┆ f64       ┆ f64       ┆ f64       │\n",
            "╞══════════╪══════════╪══════════╪══════════╪═══╪═══════════╪═══════════╪═══════════╪═══════════╡\n",
            "│ 0.8907   ┆ 0.0905   ┆ 0.0119   ┆ 0.0054   ┆ … ┆ 0.0       ┆ 0.0       ┆ 21.3      ┆ 15.5      │\n",
            "│ 0.8867   ┆ 0.0966   ┆ 0.0117   ┆ 0.0047   ┆ … ┆ 0.0       ┆ 0.0       ┆ 15.3      ┆ 17.0      │\n",
            "│ 0.8751   ┆ 0.108    ┆ 0.0134   ┆ 0.0033   ┆ … ┆ 0.0       ┆ 0.0       ┆ 16.3      ┆ 16.0      │\n",
            "│ 0.9991   ┆ 0.0009   ┆ 0.0      ┆ 0.0      ┆ … ┆ 0.0       ┆ 0.0       ┆ 28.3      ┆ 17.0      │\n",
            "│ …        ┆ …        ┆ …        ┆ …        ┆ … ┆ …         ┆ …         ┆ …         ┆ …         │\n",
            "│ 1.0      ┆ 0.0      ┆ 0.0      ┆ 0.0      ┆ … ┆ 0.0       ┆ 0.0       ┆ 23.3      ┆ 50.0      │\n",
            "│ 0.8802   ┆ 0.1006   ┆ 0.0147   ┆ 0.004    ┆ … ┆ 0.0       ┆ 0.0       ┆ 16.3      ┆ 16.0      │\n",
            "│ 0.9996   ┆ 0.0004   ┆ 0.0      ┆ 0.0      ┆ … ┆ 0.0       ┆ 0.0       ┆ 36.3      ┆ 17.6      │\n",
            "│ 0.9462   ┆ 0.049    ┆ 0.0035   ┆ 0.0012   ┆ … ┆ 0.0       ┆ 0.0       ┆ 19.3      ┆ 16.0      │\n",
            "└──────────┴──────────┴──────────┴──────────┴───┴───────────┴───────────┴───────────┴───────────┘\n"
          ]
        }
      ],
      "source": [
        "# Extract 10% of the data to use later for \"production\" testing\n",
        "cv16f_prod = cv16f_shuffled[:int(len(cv16f_shuffled)*0.1)]\n",
        "print(cv16f_prod)"
      ]
    },
    {
      "cell_type": "code",
      "execution_count": 9,
      "id": "e5bc5587-8508-4809-a9eb-10a4cb51eb03",
      "metadata": {
        "id": "e5bc5587-8508-4809-a9eb-10a4cb51eb03"
      },
      "outputs": [],
      "source": [
        "# Use the rest of the data for normal testing\n",
        "cv16f_new = cv16f_shuffled[int(len(cv16f_shuffled)*0.1):]"
      ]
    },
    {
      "cell_type": "markdown",
      "id": "c7171c0b-812c-4e54-b46b-91480904a9a4",
      "metadata": {
        "id": "c7171c0b-812c-4e54-b46b-91480904a9a4"
      },
      "source": [
        "### Evaluación de hiperparámetros"
      ]
    },
    {
      "cell_type": "markdown",
      "id": "fffca2c3-15d4-4d50-bbe3-44fa538e51cb",
      "metadata": {
        "id": "fffca2c3-15d4-4d50-bbe3-44fa538e51cb"
      },
      "source": [
        "Se evaluará una combinación de parámetros:\n",
        "- Número de neuronas máximas por capa (8, 16, 32, 64, 128, 256, 512, 1024).\n",
        "- Número de capas (1, 2, 3).\n",
        "- Combinación de funciones de activación (ReLu, tanh, sigmoid).\n",
        "- El usar o no la OSNR como característica adicional.\n",
        "\n",
        "Los resultados tendrán la siguiente estructura:\n",
        "```\n",
        "{\"xyz\": {\"n_neurons\": {\"osnr/wo_osnr\": results}}}\n",
        "```\n",
        "Donde xyz serán las iniciales de las combinaciones de funciones de activación, n_neurons será el número de neuronas máximo, osnr/wo_osnr será la indicación de si se usó o no el OSNR como característica y results será el objeto resultante que contiene todos los resultados."
      ]
    },
    {
      "cell_type": "code",
      "execution_count": 10,
      "id": "27927d24-4ad8-4a25-b63d-dd5e54dfc0b0",
      "metadata": {
        "tags": [],
        "id": "27927d24-4ad8-4a25-b63d-dd5e54dfc0b0"
      },
      "outputs": [],
      "source": [
        "osnr_lst = [\"osnr\", \"wo_osnr\"]\n",
        "max_neurons = [str(2**n) for n in range(3, 11)]\n",
        "functs = [\"relu\", \"tanh\", \"sigmoid\"]\n",
        "layers_n = [1, 2, 3]\n",
        "\n",
        "combinations = [\n",
        "    [list(subset) for subset in product(functs, repeat=n)]\n",
        "    for n in layers_n\n",
        "]\n",
        "\n",
        "hidden_layers = [item for sublist in combinations for item in sublist]"
      ]
    },
    {
      "cell_type": "code",
      "execution_count": 11,
      "id": "1c29e306-cde9-4113-924a-ec3bd07e0d71",
      "metadata": {
        "id": "1c29e306-cde9-4113-924a-ec3bd07e0d71"
      },
      "outputs": [],
      "source": [
        "try:\n",
        "    cv16f_reg_results = sofa.load_hdf5(f\"{ROOT}/cv16f_reg_results.h5\")\n",
        "except:\n",
        "    print(\"Error loading from file, creating a new dictionary\")\n",
        "    cv16f_reg_results = defaultdict(defaultdict(defaultdict(defaultdict().copy).copy).copy)\n",
        "\n",
        "# Evaluar\n",
        "for activations in hidden_layers:\n",
        "    for neurons in max_neurons:\n",
        "        for osnr in osnr_lst:\n",
        "            args = {\"data\": cv16f_new, \"data_prod\": cv16f_prod, \"n_splits\": 5, \"max_neurons\": int(neurons), \"activations\": activations, \"use_osnr\": True if osnr == \"osnr\" else False}\n",
        "            act_fn_name = \"\".join([s[0] for s in activations])\n",
        "            if cv16f_reg_results[act_fn_name][neurons][osnr] == defaultdict():\n",
        "                # Get results\n",
        "                results = test_estimation_model(**args)\n",
        "                # Serialize model\n",
        "                results[\"model\"] = [utils.serialize_keras_object(model) for model in results[\"model\"]]\n",
        "                # Save serialized model for serialization\n",
        "                cv16f_reg_results[act_fn_name][neurons][osnr] = results\n",
        "                # Save results with serialized model\n",
        "                print(\"Saving results...\")\n",
        "                sofa.save_hdf5(cv16f_reg_results, f\"{ROOT}/cv16f_reg_results.h5\")\n",
        "                print(\"Results saved!\")"
      ]
    },
    {
      "cell_type": "markdown",
      "id": "91445933-554a-4ff9-a694-8352380b19ae",
      "metadata": {
        "id": "91445933-554a-4ff9-a694-8352380b19ae"
      },
      "source": [
        "### Resultados"
      ]
    },
    {
      "cell_type": "code",
      "execution_count": 12,
      "id": "83f757c6-1f28-4730-87e5-56683d000b44",
      "metadata": {
        "tags": [],
        "id": "83f757c6-1f28-4730-87e5-56683d000b44"
      },
      "outputs": [],
      "source": [
        "def get_avg_score(results, target_value, target=\"neurons\", metric=\"mae\", score=\"test\"):\n",
        "    mae_lst = []\n",
        "    for activations in hidden_layers:\n",
        "        if target == \"layers\" and len(activations) != target_value:\n",
        "            continue\n",
        "        for neurons in max_neurons:\n",
        "            if target == \"neurons\" and neurons != target_value:\n",
        "                continue\n",
        "            for osnr in osnr_lst:\n",
        "                if target == \"osnr\" and osnr != target_value:\n",
        "                    continue\n",
        "                act_fn_name = \"\".join([s[0] for s in activations])\n",
        "                mae_lst.append(np.mean(results[act_fn_name][neurons][osnr][\"mae\"][\"test\"]))\n",
        "    return mae_lst\n"
      ]
    },
    {
      "cell_type": "code",
      "source": [
        "neurons_avg_results = [np.mean(get_avg_score(cv16f_reg_results, neurons, target=\"neurons\", metric=\"mae\", score=\"test\")) for neurons in max_neurons]\n",
        "x = list(map(int, max_neurons))\n",
        "plot_results(x, neurons_avg_results, \"Maximum number of neurons\", log=True)"
      ],
      "metadata": {
        "id": "DFDTFw5QUftS",
        "outputId": "ea514430-d9e8-48f1-c646-8b48943c8e5c",
        "colab": {
          "base_uri": "https://localhost:8080/",
          "height": 628
        }
      },
      "id": "DFDTFw5QUftS",
      "execution_count": 13,
      "outputs": [
        {
          "output_type": "display_data",
          "data": {
            "text/plain": [
              "<Figure size 800x600 with 1 Axes>"
            ],
            "image/png": "[encoded data removed]"
          },
          "metadata": {}
        }
      ]
    },
    {
      "cell_type": "code",
      "execution_count": 14,
      "id": "08af0301-f030-4210-88aa-a29f2c6bfba3",
      "metadata": {
        "tags": [],
        "id": "08af0301-f030-4210-88aa-a29f2c6bfba3",
        "outputId": "401f2f12-659a-40f2-d880-092e98aec79c",
        "colab": {
          "base_uri": "https://localhost:8080/",
          "height": 628
        }
      },
      "outputs": [
        {
          "output_type": "display_data",
          "data": {
            "text/plain": [
              "<Figure size 800x600 with 1 Axes>"
            ],
            "image/png": "[encoded data removed]"
          },
          "metadata": {}
        }
      ],
      "source": [
        "layers_avg_results = [np.mean(get_avg_score(cv16f_reg_results, layers, target=\"layers\", metric=\"mae\", score=\"test\")) for layers in range(1, 4)]\n",
        "x = range(1, 4)\n",
        "plot_results(x, layers_avg_results, \"Number of layers\", log=False)"
      ]
    },
    {
      "cell_type": "code",
      "execution_count": 15,
      "id": "504675ce-fd55-49d0-95fd-dcff312cbaeb",
      "metadata": {
        "tags": [],
        "id": "504675ce-fd55-49d0-95fd-dcff312cbaeb",
        "outputId": "9c05c95b-3b7c-4191-9bf5-90cc3d3a0952",
        "colab": {
          "base_uri": "https://localhost:8080/"
        }
      },
      "outputs": [
        {
          "output_type": "stream",
          "name": "stdout",
          "text": [
            "Con OSNR  Sin OSNR\n",
            "4.232       5.235\n"
          ]
        }
      ],
      "source": [
        "osnr_avg_results = [np.mean(get_avg_score(cv16f_reg_results, osnr, target=\"osnr\", metric=\"mae\", score=\"test\")) for osnr in [\"osnr\", \"wo_osnr\"]]\n",
        "print(f\"Con OSNR  Sin OSNR\")\n",
        "print(f\"{osnr_avg_results[0]:.3f}       {osnr_avg_results[1]:.3f}\")"
      ]
    },
    {
      "cell_type": "markdown",
      "id": "9d7534de-2700-4ed5-a213-60a105904ac5",
      "metadata": {
        "id": "9d7534de-2700-4ed5-a213-60a105904ac5"
      },
      "source": [
        "### Ordenar modelos por puntaje"
      ]
    },
    {
      "cell_type": "code",
      "execution_count": 16,
      "id": "8bed53e1-b29f-4dfc-8df7-ca9c7c6913e4",
      "metadata": {
        "id": "8bed53e1-b29f-4dfc-8df7-ca9c7c6913e4"
      },
      "outputs": [],
      "source": [
        "# Find better model by test score\n",
        "def get_better_models(results, metric=\"mae\", score=\"test\"):\n",
        "    scores = []\n",
        "    for activations in hidden_layers:\n",
        "        for neurons in max_neurons:\n",
        "            for osnr in osnr_lst:\n",
        "                act_fn_name = \"\".join([s[0] for s in activations])\n",
        "                coll = cv16f_reg_results[act_fn_name][neurons][osnr][metric][score]\n",
        "                if isinstance(coll, defaultdict):\n",
        "                    continue\n",
        "                score_value = np.mean(coll)\n",
        "                scores.append((score_value, [act_fn_name, neurons, osnr]))\n",
        "    scores.sort(key=lambda x: x[0])\n",
        "    return pl.dataframe.DataFrame(scores)"
      ]
    },
    {
      "cell_type": "code",
      "source": [
        "better_models_df = get_better_models(cv16f_reg_results, metric=\"mae\", score=\"test\")\n",
        "better_models_df.head(25)"
      ],
      "metadata": {
        "id": "PT2mJucuX-Rf",
        "outputId": "93364a4d-d4c9-46ea-b611-0b413a52bdae",
        "colab": {
          "base_uri": "https://localhost:8080/",
          "height": 882
        }
      },
      "id": "PT2mJucuX-Rf",
      "execution_count": 17,
      "outputs": [
        {
          "output_type": "execute_result",
          "data": {
            "text/plain": [
              "shape: (25, 2)\n",
              "┌──────────┬─────────────────────────┐\n",
              "│ column_0 ┆ column_1                │\n",
              "│ ---      ┆ ---                     │\n",
              "│ f64      ┆ list[str]               │\n",
              "╞══════════╪═════════════════════════╡\n",
              "│ 2.80612  ┆ [\"tst\", \"512\", \"osnr\"]  │\n",
              "│ 2.807177 ┆ [\"tss\", \"32\", \"osnr\"]   │\n",
              "│ 2.818996 ┆ [\"stt\", \"256\", \"osnr\"]  │\n",
              "│ 2.83914  ┆ [\"tss\", \"256\", \"osnr\"]  │\n",
              "│ …        ┆ …                       │\n",
              "│ 3.010228 ┆ [\"sst\", \"1024\", \"osnr\"] │\n",
              "│ 3.020967 ┆ [\"rtt\", \"512\", \"osnr\"]  │\n",
              "│ 3.02349  ┆ [\"rss\", \"64\", \"osnr\"]   │\n",
              "│ 3.026711 ┆ [\"tst\", \"32\", \"osnr\"]   │\n",
              "└──────────┴─────────────────────────┘"
            ],
            "text/html": [
              "<div><style>\n",
              ".dataframe > thead > tr > th,\n",
              ".dataframe > tbody > tr > td {\n",
              "  text-align: right;\n",
              "}\n",
              "</style>\n",
              "<small>shape: (25, 2)</small><table border=\"1\" class=\"dataframe\"><thead><tr><th>column_0</th><th>column_1</th></tr><tr><td>f64</td><td>list[str]</td></tr></thead><tbody><tr><td>2.80612</td><td>[&quot;tst&quot;, &quot;512&quot;, &quot;osnr&quot;]</td></tr><tr><td>2.807177</td><td>[&quot;tss&quot;, &quot;32&quot;, &quot;osnr&quot;]</td></tr><tr><td>2.818996</td><td>[&quot;stt&quot;, &quot;256&quot;, &quot;osnr&quot;]</td></tr><tr><td>2.83914</td><td>[&quot;tss&quot;, &quot;256&quot;, &quot;osnr&quot;]</td></tr><tr><td>2.845752</td><td>[&quot;tst&quot;, &quot;128&quot;, &quot;osnr&quot;]</td></tr><tr><td>2.879023</td><td>[&quot;rtt&quot;, &quot;256&quot;, &quot;osnr&quot;]</td></tr><tr><td>2.881343</td><td>[&quot;tss&quot;, &quot;64&quot;, &quot;osnr&quot;]</td></tr><tr><td>2.891847</td><td>[&quot;tss&quot;, &quot;1024&quot;, &quot;osnr&quot;]</td></tr><tr><td>2.893098</td><td>[&quot;rrs&quot;, &quot;256&quot;, &quot;osnr&quot;]</td></tr><tr><td>2.921867</td><td>[&quot;tst&quot;, &quot;64&quot;, &quot;osnr&quot;]</td></tr><tr><td>2.92827</td><td>[&quot;rtt&quot;, &quot;1024&quot;, &quot;osnr&quot;]</td></tr><tr><td>2.930172</td><td>[&quot;trs&quot;, &quot;1024&quot;, &quot;osnr&quot;]</td></tr><tr><td>2.931621</td><td>[&quot;rrt&quot;, &quot;512&quot;, &quot;osnr&quot;]</td></tr><tr><td>2.956539</td><td>[&quot;trs&quot;, &quot;32&quot;, &quot;osnr&quot;]</td></tr><tr><td>2.964927</td><td>[&quot;tss&quot;, &quot;16&quot;, &quot;osnr&quot;]</td></tr><tr><td>2.971598</td><td>[&quot;sst&quot;, &quot;256&quot;, &quot;osnr&quot;]</td></tr><tr><td>2.989436</td><td>[&quot;rst&quot;, &quot;32&quot;, &quot;osnr&quot;]</td></tr><tr><td>2.993804</td><td>[&quot;rst&quot;, &quot;512&quot;, &quot;osnr&quot;]</td></tr><tr><td>2.999756</td><td>[&quot;tst&quot;, &quot;256&quot;, &quot;osnr&quot;]</td></tr><tr><td>3.001515</td><td>[&quot;trs&quot;, &quot;128&quot;, &quot;osnr&quot;]</td></tr><tr><td>3.005793</td><td>[&quot;sss&quot;, &quot;32&quot;, &quot;osnr&quot;]</td></tr><tr><td>3.010228</td><td>[&quot;sst&quot;, &quot;1024&quot;, &quot;osnr&quot;]</td></tr><tr><td>3.020967</td><td>[&quot;rtt&quot;, &quot;512&quot;, &quot;osnr&quot;]</td></tr><tr><td>3.02349</td><td>[&quot;rss&quot;, &quot;64&quot;, &quot;osnr&quot;]</td></tr><tr><td>3.026711</td><td>[&quot;tst&quot;, &quot;32&quot;, &quot;osnr&quot;]</td></tr></tbody></table></div>"
            ]
          },
          "metadata": {},
          "execution_count": 17
        }
      ]
    },
    {
      "cell_type": "markdown",
      "metadata": {
        "tags": [],
        "id": "QnkjCjBmpPZI"
      },
      "source": [
        "## GKM"
      ],
      "id": "QnkjCjBmpPZI"
    },
    {
      "cell_type": "code",
      "execution_count": 18,
      "metadata": {
        "id": "O10egjkUpPZP",
        "outputId": "79f4ab67-bef0-4e32-ef38-6f93bee5580e",
        "colab": {
          "base_uri": "https://localhost:8080/",
          "height": 882
        }
      },
      "outputs": [
        {
          "output_type": "execute_result",
          "data": {
            "text/plain": [
              "shape: (680, 18)\n",
              "┌──────────┬──────────┬──────────┬──────────┬───┬───────────┬───────────┬───────────┬───────────┐\n",
              "│ column_1 ┆ column_2 ┆ column_3 ┆ column_4 ┆ … ┆ column_15 ┆ column_16 ┆ column_17 ┆ column_18 │\n",
              "│ ---      ┆ ---      ┆ ---      ┆ ---      ┆   ┆ ---       ┆ ---       ┆ ---       ┆ ---       │\n",
              "│ f64      ┆ f64      ┆ f64      ┆ f64      ┆   ┆ f64       ┆ f64       ┆ f64       ┆ f64       │\n",
              "╞══════════╪══════════╪══════════╪══════════╪═══╪═══════════╪═══════════╪═══════════╪═══════════╡\n",
              "│ 0.7955   ┆ 0.1557   ┆ 0.0309   ┆ 0.0145   ┆ … ┆ 0.0       ┆ 0.0       ┆ 16.3      ┆ 15.5      │\n",
              "│ 0.7988   ┆ 0.1467   ┆ 0.034    ┆ 0.0149   ┆ … ┆ 0.0       ┆ 0.0       ┆ 16.3      ┆ 15.5      │\n",
              "│ 0.789    ┆ 0.1601   ┆ 0.0332   ┆ 0.0132   ┆ … ┆ 0.0       ┆ 0.0       ┆ 16.3      ┆ 15.5      │\n",
              "│ 0.7957   ┆ 0.1542   ┆ 0.0311   ┆ 0.0152   ┆ … ┆ 0.0       ┆ 0.0       ┆ 16.3      ┆ 15.5      │\n",
              "│ …        ┆ …        ┆ …        ┆ …        ┆ … ┆ …         ┆ …         ┆ …         ┆ …         │\n",
              "│ 1.0      ┆ 0.0      ┆ 0.0      ┆ 0.0      ┆ … ┆ 0.0       ┆ 0.0       ┆ 36.3      ┆ 50.0      │\n",
              "│ 1.0      ┆ 0.0      ┆ 0.0      ┆ 0.0      ┆ … ┆ 0.0       ┆ 0.0       ┆ 36.3      ┆ 50.0      │\n",
              "│ 1.0      ┆ 0.0      ┆ 0.0      ┆ 0.0      ┆ … ┆ 0.0       ┆ 0.0       ┆ 36.3      ┆ 50.0      │\n",
              "│ 1.0      ┆ 0.0      ┆ 0.0      ┆ 0.0      ┆ … ┆ 0.0       ┆ 0.0       ┆ 36.3      ┆ 50.0      │\n",
              "└──────────┴──────────┴──────────┴──────────┴───┴───────────┴───────────┴───────────┴───────────┘"
            ],
            "text/html": [
              "<div><style>\n",
              ".dataframe > thead > tr > th,\n",
              ".dataframe > tbody > tr > td {\n",
              "  text-align: right;\n",
              "}\n",
              "</style>\n",
              "<small>shape: (680, 18)</small><table border=\"1\" class=\"dataframe\"><thead><tr><th>column_1</th><th>column_2</th><th>column_3</th><th>column_4</th><th>column_5</th><th>column_6</th><th>column_7</th><th>column_8</th><th>column_9</th><th>column_10</th><th>column_11</th><th>column_12</th><th>column_13</th><th>column_14</th><th>column_15</th><th>column_16</th><th>column_17</th><th>column_18</th></tr><tr><td>f64</td><td>f64</td><td>f64</td><td>f64</td><td>f64</td><td>f64</td><td>f64</td><td>f64</td><td>f64</td><td>f64</td><td>f64</td><td>f64</td><td>f64</td><td>f64</td><td>f64</td><td>f64</td><td>f64</td><td>f64</td></tr></thead><tbody><tr><td>0.7955</td><td>0.1557</td><td>0.0309</td><td>0.0145</td><td>0.0021</td><td>0.0013</td><td>0.0</td><td>0.0</td><td>0.0</td><td>0.0</td><td>0.0</td><td>0.0</td><td>0.0</td><td>0.0</td><td>0.0</td><td>0.0</td><td>16.3</td><td>15.5</td></tr><tr><td>0.7988</td><td>0.1467</td><td>0.034</td><td>0.0149</td><td>0.0035</td><td>0.0015</td><td>0.0006</td><td>0.0</td><td>0.0</td><td>0.0</td><td>0.0</td><td>0.0</td><td>0.0</td><td>0.0</td><td>0.0</td><td>0.0</td><td>16.3</td><td>15.5</td></tr><tr><td>0.789</td><td>0.1601</td><td>0.0332</td><td>0.0132</td><td>0.0032</td><td>0.0008</td><td>0.0002</td><td>0.0002</td><td>0.0001</td><td>0.0</td><td>0.0</td><td>0.0</td><td>0.0</td><td>0.0</td><td>0.0</td><td>0.0</td><td>16.3</td><td>15.5</td></tr><tr><td>0.7957</td><td>0.1542</td><td>0.0311</td><td>0.0152</td><td>0.0024</td><td>0.0013</td><td>0.0001</td><td>0.0</td><td>0.0</td><td>0.0</td><td>0.0</td><td>0.0</td><td>0.0</td><td>0.0</td><td>0.0</td><td>0.0</td><td>16.3</td><td>15.5</td></tr><tr><td>0.7947</td><td>0.1477</td><td>0.0352</td><td>0.0143</td><td>0.0053</td><td>0.0023</td><td>0.0005</td><td>0.0</td><td>0.0</td><td>0.0</td><td>0.0</td><td>0.0</td><td>0.0</td><td>0.0</td><td>0.0</td><td>0.0</td><td>16.3</td><td>15.5</td></tr><tr><td>0.7976</td><td>0.152</td><td>0.0316</td><td>0.0152</td><td>0.0031</td><td>0.0004</td><td>0.0</td><td>0.0001</td><td>0.0</td><td>0.0</td><td>0.0</td><td>0.0</td><td>0.0</td><td>0.0</td><td>0.0</td><td>0.0</td><td>16.3</td><td>15.5</td></tr><tr><td>0.7736</td><td>0.1619</td><td>0.0386</td><td>0.0179</td><td>0.0039</td><td>0.0031</td><td>0.0004</td><td>0.0004</td><td>0.0001</td><td>0.0001</td><td>0.0</td><td>0.0</td><td>0.0</td><td>0.0</td><td>0.0</td><td>0.0</td><td>16.3</td><td>15.5</td></tr><tr><td>0.8089</td><td>0.1469</td><td>0.0293</td><td>0.0114</td><td>0.0025</td><td>0.0009</td><td>0.0001</td><td>0.0</td><td>0.0</td><td>0.0</td><td>0.0</td><td>0.0</td><td>0.0</td><td>0.0</td><td>0.0</td><td>0.0</td><td>16.3</td><td>15.5</td></tr><tr><td>0.8025</td><td>0.1523</td><td>0.029</td><td>0.013</td><td>0.0025</td><td>0.0005</td><td>0.0002</td><td>0.0</td><td>0.0</td><td>0.0</td><td>0.0</td><td>0.0</td><td>0.0</td><td>0.0</td><td>0.0</td><td>0.0</td><td>16.3</td><td>15.5</td></tr><tr><td>0.7974</td><td>0.1499</td><td>0.0316</td><td>0.0162</td><td>0.0027</td><td>0.0015</td><td>0.0005</td><td>0.0002</td><td>0.0</td><td>0.0</td><td>0.0</td><td>0.0</td><td>0.0</td><td>0.0</td><td>0.0</td><td>0.0</td><td>16.3</td><td>15.5</td></tr><tr><td>0.8856</td><td>0.0966</td><td>0.0124</td><td>0.0046</td><td>0.0005</td><td>0.0003</td><td>0.0</td><td>0.0</td><td>0.0</td><td>0.0</td><td>0.0</td><td>0.0</td><td>0.0</td><td>0.0</td><td>0.0</td><td>0.0</td><td>19.3</td><td>15.5</td></tr><tr><td>0.8806</td><td>0.0971</td><td>0.0151</td><td>0.0063</td><td>0.0006</td><td>0.0003</td><td>0.0</td><td>0.0</td><td>0.0</td><td>0.0</td><td>0.0</td><td>0.0</td><td>0.0</td><td>0.0</td><td>0.0</td><td>0.0</td><td>19.3</td><td>15.5</td></tr><tr><td>&hellip;</td><td>&hellip;</td><td>&hellip;</td><td>&hellip;</td><td>&hellip;</td><td>&hellip;</td><td>&hellip;</td><td>&hellip;</td><td>&hellip;</td><td>&hellip;</td><td>&hellip;</td><td>&hellip;</td><td>&hellip;</td><td>&hellip;</td><td>&hellip;</td><td>&hellip;</td><td>&hellip;</td><td>&hellip;</td></tr><tr><td>1.0</td><td>0.0</td><td>0.0</td><td>0.0</td><td>0.0</td><td>0.0</td><td>0.0</td><td>0.0</td><td>0.0</td><td>0.0</td><td>0.0</td><td>0.0</td><td>0.0</td><td>0.0</td><td>0.0</td><td>0.0</td><td>31.3</td><td>50.0</td></tr><tr><td>1.0</td><td>0.0</td><td>0.0</td><td>0.0</td><td>0.0</td><td>0.0</td><td>0.0</td><td>0.0</td><td>0.0</td><td>0.0</td><td>0.0</td><td>0.0</td><td>0.0</td><td>0.0</td><td>0.0</td><td>0.0</td><td>31.3</td><td>50.0</td></tr><tr><td>1.0</td><td>0.0</td><td>0.0</td><td>0.0</td><td>0.0</td><td>0.0</td><td>0.0</td><td>0.0</td><td>0.0</td><td>0.0</td><td>0.0</td><td>0.0</td><td>0.0</td><td>0.0</td><td>0.0</td><td>0.0</td><td>36.3</td><td>50.0</td></tr><tr><td>1.0</td><td>0.0</td><td>0.0</td><td>0.0</td><td>0.0</td><td>0.0</td><td>0.0</td><td>0.0</td><td>0.0</td><td>0.0</td><td>0.0</td><td>0.0</td><td>0.0</td><td>0.0</td><td>0.0</td><td>0.0</td><td>36.3</td><td>50.0</td></tr><tr><td>1.0</td><td>0.0</td><td>0.0</td><td>0.0</td><td>0.0</td><td>0.0</td><td>0.0</td><td>0.0</td><td>0.0</td><td>0.0</td><td>0.0</td><td>0.0</td><td>0.0</td><td>0.0</td><td>0.0</td><td>0.0</td><td>36.3</td><td>50.0</td></tr><tr><td>1.0</td><td>0.0</td><td>0.0</td><td>0.0</td><td>0.0</td><td>0.0</td><td>0.0</td><td>0.0</td><td>0.0</td><td>0.0</td><td>0.0</td><td>0.0</td><td>0.0</td><td>0.0</td><td>0.0</td><td>0.0</td><td>36.3</td><td>50.0</td></tr><tr><td>1.0</td><td>0.0</td><td>0.0</td><td>0.0</td><td>0.0</td><td>0.0</td><td>0.0</td><td>0.0</td><td>0.0</td><td>0.0</td><td>0.0</td><td>0.0</td><td>0.0</td><td>0.0</td><td>0.0</td><td>0.0</td><td>36.3</td><td>50.0</td></tr><tr><td>1.0</td><td>0.0</td><td>0.0</td><td>0.0</td><td>0.0</td><td>0.0</td><td>0.0</td><td>0.0</td><td>0.0</td><td>0.0</td><td>0.0</td><td>0.0</td><td>0.0</td><td>0.0</td><td>0.0</td><td>0.0</td><td>36.3</td><td>50.0</td></tr><tr><td>1.0</td><td>0.0</td><td>0.0</td><td>0.0</td><td>0.0</td><td>0.0</td><td>0.0</td><td>0.0</td><td>0.0</td><td>0.0</td><td>0.0</td><td>0.0</td><td>0.0</td><td>0.0</td><td>0.0</td><td>0.0</td><td>36.3</td><td>50.0</td></tr><tr><td>1.0</td><td>0.0</td><td>0.0</td><td>0.0</td><td>0.0</td><td>0.0</td><td>0.0</td><td>0.0</td><td>0.0</td><td>0.0</td><td>0.0</td><td>0.0</td><td>0.0</td><td>0.0</td><td>0.0</td><td>0.0</td><td>36.3</td><td>50.0</td></tr><tr><td>1.0</td><td>0.0</td><td>0.0</td><td>0.0</td><td>0.0</td><td>0.0</td><td>0.0</td><td>0.0</td><td>0.0</td><td>0.0</td><td>0.0</td><td>0.0</td><td>0.0</td><td>0.0</td><td>0.0</td><td>0.0</td><td>36.3</td><td>50.0</td></tr><tr><td>1.0</td><td>0.0</td><td>0.0</td><td>0.0</td><td>0.0</td><td>0.0</td><td>0.0</td><td>0.0</td><td>0.0</td><td>0.0</td><td>0.0</td><td>0.0</td><td>0.0</td><td>0.0</td><td>0.0</td><td>0.0</td><td>36.3</td><td>50.0</td></tr></tbody></table></div>"
            ]
          },
          "metadata": {},
          "execution_count": 18
        }
      ],
      "source": [
        "# Show the original dataframe\n",
        "cv16g"
      ],
      "id": "O10egjkUpPZP"
    },
    {
      "cell_type": "code",
      "execution_count": 19,
      "metadata": {
        "id": "Klpuu9ojpPZP",
        "outputId": "7cfe73d7-a8d4-451f-a020-bd384f8fb9f3",
        "colab": {
          "base_uri": "https://localhost:8080/"
        }
      },
      "outputs": [
        {
          "output_type": "stream",
          "name": "stdout",
          "text": [
            "shape: (680, 18)\n",
            "┌──────────┬──────────┬──────────┬──────────┬───┬───────────┬───────────┬───────────┬───────────┐\n",
            "│ column_1 ┆ column_2 ┆ column_3 ┆ column_4 ┆ … ┆ column_15 ┆ column_16 ┆ column_17 ┆ column_18 │\n",
            "│ ---      ┆ ---      ┆ ---      ┆ ---      ┆   ┆ ---       ┆ ---       ┆ ---       ┆ ---       │\n",
            "│ f64      ┆ f64      ┆ f64      ┆ f64      ┆   ┆ f64       ┆ f64       ┆ f64       ┆ f64       │\n",
            "╞══════════╪══════════╪══════════╪══════════╪═══╪═══════════╪═══════════╪═══════════╪═══════════╡\n",
            "│ 0.8907   ┆ 0.0905   ┆ 0.0119   ┆ 0.0054   ┆ … ┆ 0.0       ┆ 0.0       ┆ 21.3      ┆ 15.5      │\n",
            "│ 0.8867   ┆ 0.0966   ┆ 0.0117   ┆ 0.0047   ┆ … ┆ 0.0       ┆ 0.0       ┆ 15.3      ┆ 17.0      │\n",
            "│ 0.8751   ┆ 0.108    ┆ 0.0134   ┆ 0.0033   ┆ … ┆ 0.0       ┆ 0.0       ┆ 16.3      ┆ 16.0      │\n",
            "│ 0.9991   ┆ 0.0009   ┆ 0.0      ┆ 0.0      ┆ … ┆ 0.0       ┆ 0.0       ┆ 28.3      ┆ 17.0      │\n",
            "│ …        ┆ …        ┆ …        ┆ …        ┆ … ┆ …         ┆ …         ┆ …         ┆ …         │\n",
            "│ 0.9405   ┆ 0.0552   ┆ 0.0035   ┆ 0.0007   ┆ … ┆ 0.0       ┆ 0.0       ┆ 16.3      ┆ 50.0      │\n",
            "│ 0.9188   ┆ 0.0741   ┆ 0.006    ┆ 0.0011   ┆ … ┆ 0.0       ┆ 0.0       ┆ 16.3      ┆ 17.6      │\n",
            "│ 0.9896   ┆ 0.0102   ┆ 0.0001   ┆ 0.0001   ┆ … ┆ 0.0       ┆ 0.0       ┆ 21.3      ┆ 16.5      │\n",
            "│ 0.8898   ┆ 0.0963   ┆ 0.0107   ┆ 0.0031   ┆ … ┆ 0.0       ┆ 0.0       ┆ 15.3      ┆ 17.0      │\n",
            "└──────────┴──────────┴──────────┴──────────┴───┴───────────┴───────────┴───────────┴───────────┘\n"
          ]
        }
      ],
      "source": [
        "# Shuffle the dataframe\n",
        "cv16g_shuffled = cv16g.sample(n=len(cv16g), shuffle=True, seed=1036681523)\n",
        "print(cv16g_shuffled)"
      ],
      "id": "Klpuu9ojpPZP"
    },
    {
      "cell_type": "code",
      "execution_count": 20,
      "metadata": {
        "id": "-5hfSk7apPZQ",
        "outputId": "25908373-57cf-41e4-c7d9-30125a97292e",
        "colab": {
          "base_uri": "https://localhost:8080/"
        }
      },
      "outputs": [
        {
          "output_type": "stream",
          "name": "stdout",
          "text": [
            "shape: (68, 18)\n",
            "┌──────────┬──────────┬──────────┬──────────┬───┬───────────┬───────────┬───────────┬───────────┐\n",
            "│ column_1 ┆ column_2 ┆ column_3 ┆ column_4 ┆ … ┆ column_15 ┆ column_16 ┆ column_17 ┆ column_18 │\n",
            "│ ---      ┆ ---      ┆ ---      ┆ ---      ┆   ┆ ---       ┆ ---       ┆ ---       ┆ ---       │\n",
            "│ f64      ┆ f64      ┆ f64      ┆ f64      ┆   ┆ f64       ┆ f64       ┆ f64       ┆ f64       │\n",
            "╞══════════╪══════════╪══════════╪══════════╪═══╪═══════════╪═══════════╪═══════════╪═══════════╡\n",
            "│ 0.8907   ┆ 0.0905   ┆ 0.0119   ┆ 0.0054   ┆ … ┆ 0.0       ┆ 0.0       ┆ 21.3      ┆ 15.5      │\n",
            "│ 0.8867   ┆ 0.0966   ┆ 0.0117   ┆ 0.0047   ┆ … ┆ 0.0       ┆ 0.0       ┆ 15.3      ┆ 17.0      │\n",
            "│ 0.8751   ┆ 0.108    ┆ 0.0134   ┆ 0.0033   ┆ … ┆ 0.0       ┆ 0.0       ┆ 16.3      ┆ 16.0      │\n",
            "│ 0.9991   ┆ 0.0009   ┆ 0.0      ┆ 0.0      ┆ … ┆ 0.0       ┆ 0.0       ┆ 28.3      ┆ 17.0      │\n",
            "│ …        ┆ …        ┆ …        ┆ …        ┆ … ┆ …         ┆ …         ┆ …         ┆ …         │\n",
            "│ 1.0      ┆ 0.0      ┆ 0.0      ┆ 0.0      ┆ … ┆ 0.0       ┆ 0.0       ┆ 23.3      ┆ 50.0      │\n",
            "│ 0.8802   ┆ 0.1006   ┆ 0.0147   ┆ 0.004    ┆ … ┆ 0.0       ┆ 0.0       ┆ 16.3      ┆ 16.0      │\n",
            "│ 0.9996   ┆ 0.0004   ┆ 0.0      ┆ 0.0      ┆ … ┆ 0.0       ┆ 0.0       ┆ 36.3      ┆ 17.6      │\n",
            "│ 0.9462   ┆ 0.049    ┆ 0.0035   ┆ 0.0012   ┆ … ┆ 0.0       ┆ 0.0       ┆ 19.3      ┆ 16.0      │\n",
            "└──────────┴──────────┴──────────┴──────────┴───┴───────────┴───────────┴───────────┴───────────┘\n"
          ]
        }
      ],
      "source": [
        "# Extract 10% of the data to use later for \"production\" testing\n",
        "cv16g_prod = cv16g_shuffled[:int(len(cv16g_shuffled)*0.1)]\n",
        "print(cv16g_prod)"
      ],
      "id": "-5hfSk7apPZQ"
    },
    {
      "cell_type": "code",
      "execution_count": 21,
      "metadata": {
        "id": "FLYS1pSOpPZQ"
      },
      "outputs": [],
      "source": [
        "# Use the rest of the data for normal testing\n",
        "cv16g_new = cv16g_shuffled[int(len(cv16g_shuffled)*0.1):]"
      ],
      "id": "FLYS1pSOpPZQ"
    },
    {
      "cell_type": "markdown",
      "metadata": {
        "id": "lP8pzAJspPZQ"
      },
      "source": [
        "### Evaluación de hiperparámetros"
      ],
      "id": "lP8pzAJspPZQ"
    },
    {
      "cell_type": "code",
      "execution_count": null,
      "metadata": {
        "id": "kerkIfwQpPZR",
        "outputId": "00d84b86-aec3-4c0b-cc4f-7faf7f0b1681",
        "colab": {
          "base_uri": "https://localhost:8080/"
        }
      },
      "outputs": [
        {
          "output_type": "stream",
          "name": "stdout",
          "text": [
            "[{'units': 8, 'activation': 'relu'}, {'units': 4, 'activation': 'relu'}, {'units': 2, 'activation': 'relu'}] + OSNR\n"
          ]
        }
      ],
      "source": [
        "try:\n",
        "    cv16g_reg_results = sofa.load_hdf5(f\"{ROOT}/cv16g_reg_results.h5\")\n",
        "except:\n",
        "    print(\"Error loading from file, creating a new dictionary\")\n",
        "    cv16g_reg_results = defaultdict(defaultdict(defaultdict(defaultdict().copy).copy).copy)\n",
        "\n",
        "# Evaluar\n",
        "for activations in hidden_layers:\n",
        "    for neurons in max_neurons:\n",
        "        for osnr in osnr_lst:\n",
        "            args = {\"data\": cv16g_new, \"data_prod\": cv16g_prod, \"n_splits\": 5, \"max_neurons\": int(neurons), \"activations\": activations, \"use_osnr\": True if osnr == \"osnr\" else False}\n",
        "            act_fn_name = \"\".join([s[0] for s in activations])\n",
        "            if cv16g_reg_results[act_fn_name][neurons][osnr] == defaultdict():\n",
        "                # Get results\n",
        "                results = test_estimation_model(**args)\n",
        "                # Serialize model\n",
        "                results[\"model\"] = [utils.serialize_keras_object(model) for model in results[\"model\"]]\n",
        "                # Save serialized model for serialization\n",
        "                cv16g_reg_results[act_fn_name][neurons][osnr] = results\n",
        "                # Save results with serialized model\n",
        "                print(\"Saving results...\")\n",
        "                sofa.save_hdf5(cv16g_reg_results, f\"{ROOT}/cv16g_reg_results.h5\")\n",
        "                print(\"Results saved!\")"
      ],
      "id": "kerkIfwQpPZR"
    },
    {
      "cell_type": "markdown",
      "metadata": {
        "id": "1wajZsRKpPZR"
      },
      "source": [
        "### Resultados"
      ],
      "id": "1wajZsRKpPZR"
    },
    {
      "cell_type": "code",
      "source": [
        "neurons_avg_results = [np.mean(get_avg_score(cv16g_reg_results, neurons, target=\"neurons\", metric=\"mae\", score=\"test\")) for neurons in max_neurons]\n",
        "x = list(map(int, max_neurons))\n",
        "plot_results(x, neurons_avg_results, \"Maximum number of neurons\", log=True)"
      ],
      "metadata": {
        "id": "XxiXylIEpPZR"
      },
      "execution_count": null,
      "outputs": [],
      "id": "XxiXylIEpPZR"
    },
    {
      "cell_type": "code",
      "execution_count": null,
      "metadata": {
        "tags": [],
        "id": "5VYw1iNMpPZR"
      },
      "outputs": [],
      "source": [
        "layers_avg_results = [np.mean(get_avg_score(cv16g_reg_results, layers, target=\"layers\", metric=\"mae\", score=\"test\")) for layers in range(1, 4)]\n",
        "x = range(1, 4)\n",
        "plot_results(x, layers_avg_results, \"Number of layers\", log=False)"
      ],
      "id": "5VYw1iNMpPZR"
    },
    {
      "cell_type": "code",
      "execution_count": null,
      "metadata": {
        "tags": [],
        "id": "8j0gDA9YpPZR"
      },
      "outputs": [],
      "source": [
        "osnr_avg_results = [np.mean(get_avg_score(cv16g_reg_results, osnr, target=\"osnr\", metric=\"mae\", score=\"test\")) for osnr in [\"osnr\", \"wo_osnr\"]]\n",
        "print(f\"Con OSNR  Sin OSNR\")\n",
        "print(f\"{osnr_avg_results[0]:.3f}       {osnr_avg_results[1]:.3f}\")"
      ],
      "id": "8j0gDA9YpPZR"
    },
    {
      "cell_type": "markdown",
      "metadata": {
        "id": "H3cJ9Go3pPZR"
      },
      "source": [
        "### Ordenar modelos por puntaje"
      ],
      "id": "H3cJ9Go3pPZR"
    },
    {
      "cell_type": "code",
      "source": [
        "better_models_df = get_better_models(cv16g_reg_results, metric=\"mae\", score=\"test\")\n",
        "better_models_df.head(25)"
      ],
      "metadata": {
        "id": "ItMtirWupPZS"
      },
      "execution_count": null,
      "outputs": [],
      "id": "ItMtirWupPZS"
    },
    {
      "cell_type": "code",
      "source": [],
      "metadata": {
        "id": "EuUhyFvVpPZS"
      },
      "execution_count": null,
      "outputs": [],
      "id": "EuUhyFvVpPZS"
    }
  ],
  "metadata": {
    "kernelspec": {
      "display_name": "Python 3",
      "name": "python3"
    },
    "language_info": {
      "codemirror_mode": {
        "name": "ipython",
        "version": 3
      },
      "file_extension": ".py",
      "mimetype": "text/x-python",
      "name": "python",
      "nbconvert_exporter": "python",
      "pygments_lexer": "ipython3",
      "version": "3.11.5"
    },
    "colab": {
      "provenance": [],
      "gpuType": "T4",
      "toc_visible": true
    },
    "accelerator": "GPU"
  },
  "nbformat": 4,
  "nbformat_minor": 5
}