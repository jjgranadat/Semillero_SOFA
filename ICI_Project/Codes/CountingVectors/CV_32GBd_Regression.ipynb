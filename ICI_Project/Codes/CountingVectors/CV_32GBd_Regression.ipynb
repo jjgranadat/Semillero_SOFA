{
 "cells": [
  {
   "cell_type": "markdown",
   "id": "59be66b6-f376-484e-8c2b-c5d58a38c942",
   "metadata": {
    "id": "59be66b6-f376-484e-8c2b-c5d58a38c942",
    "tags": []
   },
   "source": [
    "# Inter-channel interference (ICI) estimation using *counting vectors* in a 32 GBd system. "
   ]
  },
  {
   "cell_type": "markdown",
   "id": "pJ6XTcEno0ID",
   "metadata": {
    "id": "pJ6XTcEno0ID"
   },
   "source": [
    "## Initialization"
   ]
  },
  {
   "cell_type": "markdown",
   "id": "0e0f2d14-9d97-41d7-b247-0c302f27f4f7",
   "metadata": {},
   "source": [
    "### Google Colab checking"
   ]
  },
  {
   "cell_type": "code",
   "execution_count": null,
   "id": "0k-2EzDZazUP",
   "metadata": {
    "colab": {
     "base_uri": "https://localhost:8080/"
    },
    "id": "0k-2EzDZazUP",
    "outputId": "881bef92-5fdb-4fe6-b5d4-ad0923ae8797"
   },
   "outputs": [],
   "source": [
    "if \"google.colab\" in str(get_ipython()):\n",
    "    from google.colab import drive\n",
    "\n",
    "    GOOGLE_COLAB = True\n",
    "    ROOT = \"/content/drive/MyDrive/SOFA/ICI_Project\"\n",
    "\n",
    "    drive.mount(\"/content/drive\")\n",
    "    !cp {ROOT}\"/sofa.py\" \".\"\n",
    "    !cp {ROOT}\"/counting_vectors_32f.csv\" \".\"\n",
    "    !cp {ROOT}\"/counting_vectors_32g.csv\" \".\"\n",
    "else:\n",
    "    GOOGLE_COLAB = False\n",
    "    ROOT = \".\""
   ]
  },
  {
   "cell_type": "markdown",
   "id": "408abaa0-933f-499a-accc-5fe826ffcd58",
   "metadata": {
    "id": "408abaa0-933f-499a-accc-5fe826ffcd58"
   },
   "source": [
    "### Libraries"
   ]
  },
  {
   "cell_type": "code",
   "execution_count": null,
   "id": "c7e5b55a-87f0-47ea-9a51-942c2216202b",
   "metadata": {
    "id": "c7e5b55a-87f0-47ea-9a51-942c2216202b",
    "tags": []
   },
   "outputs": [],
   "source": [
    "import json\n",
    "import os\n",
    "from collections import defaultdict\n",
    "from itertools import product\n",
    "\n",
    "import matplotlib.pyplot as plt\n",
    "import numpy as np\n",
    "import polars as pl\n",
    "import scipy as sp\n",
    "import sofa\n",
    "import tensorflow as tf\n",
    "import tensorflow.keras as ker\n",
    "from matplotlib import cm\n",
    "from matplotlib.colors import LogNorm\n",
    "from mpl_toolkits.mplot3d import Axes3D\n",
    "from scipy.stats import multivariate_normal\n",
    "from sklearn.metrics import mean_absolute_error, mean_squared_error, r2_score\n",
    "from sklearn.mixture import GaussianMixture\n",
    "from sklearn.model_selection import KFold, cross_validate, train_test_split\n",
    "from sklearn.preprocessing import StandardScaler\n",
    "from tensorflow.keras import Sequential, models, regularizers, utils\n",
    "from tensorflow.keras.callbacks import EarlyStopping\n",
    "from tensorflow.keras.layers import Dense"
   ]
  },
  {
   "cell_type": "code",
   "execution_count": null,
   "id": "ObdMXuCIlLXR",
   "metadata": {
    "id": "ObdMXuCIlLXR"
   },
   "outputs": [],
   "source": [
    "GPU = tf.config.list_physical_devices(\"GPU\")\n",
    "if len(GPU) > 0:\n",
    "    print(f\"Using GPU: {GPU}\")"
   ]
  },
  {
   "cell_type": "markdown",
   "id": "39a1a2c2-572c-4fc4-8ba9-d4c6ad017cbc",
   "metadata": {
    "id": "39a1a2c2-572c-4fc4-8ba9-d4c6ad017cbc",
    "tags": []
   },
   "source": [
    "### Globals"
   ]
  },
  {
   "cell_type": "code",
   "execution_count": null,
   "id": "b5dd6092-f808-4326-af60-1b750a5710fa",
   "metadata": {
    "id": "b5dd6092-f808-4326-af60-1b750a5710fa",
    "tags": []
   },
   "outputs": [],
   "source": [
    "def calc_once(varname, fn, args):\n",
    "    \"\"\"Calculate a variable only once.\"\"\"\n",
    "    if varname not in globals():\n",
    "        return fn(**args)\n",
    "    return eval(varname)\n",
    "\n",
    "\n",
    "def estimation_model(\n",
    "    layers_props_lst: list, loss_fn: ker.losses.Loss, input_dim: int\n",
    ") -> ker.models.Sequential:\n",
    "    \"\"\"Compile a sequential model for regression purposes.\"\"\"\n",
    "    model = ker.Sequential()\n",
    "    # Hidden layers\n",
    "    for i, layer_props in enumerate(layers_props_lst):\n",
    "        if i == 0:\n",
    "            model.add(ker.layers.Dense(input_dim=input_dim, **layer_props))\n",
    "        else:\n",
    "            model.add(ker.layers.Dense(**layer_props))\n",
    "    # Regressor\n",
    "    model.add(ker.layers.Dense(units=1, activation=\"linear\"))\n",
    "\n",
    "    model.compile(loss=loss_fn, optimizer=\"adam\")\n",
    "\n",
    "    return model\n",
    "\n",
    "\n",
    "def estimation_crossvalidation(\n",
    "    X, y, X_prod, y_prod, n_splits, layer_props, loss_fn, callbacks\n",
    "):\n",
    "    \"\"\"Crossvalidation of an estimation network.\"\"\"\n",
    "    # Scores dict\n",
    "    scores = {}\n",
    "    scores[\"model\"] = []\n",
    "    scores[\"loss\"] = []\n",
    "    scores[\"mae\"] = {\"train\": [], \"test\": [], \"prod\": []}\n",
    "    scores[\"r2\"] = {\"train\": [], \"test\": [], \"prod\": []}\n",
    "    scores[\"rmse\"] = {\"train\": [], \"test\": [], \"prod\": []}\n",
    "\n",
    "    # K-fold crossvalidation\n",
    "    kf = KFold(n_splits=n_splits, shuffle=True)\n",
    "\n",
    "    for train_index, test_index in kf.split(X, y):\n",
    "        X_train, X_test = X[train_index], X[test_index]\n",
    "        y_train, y_test = y[train_index], y[test_index]\n",
    "\n",
    "        # Input variables standarizer\n",
    "        sc = StandardScaler()\n",
    "        X_train = sc.fit_transform(X_train)\n",
    "        X_test_kf = sc.transform(X_test)\n",
    "        X_prod_kf = sc.transform(X_prod)\n",
    "\n",
    "        model = estimation_model(layer_props, loss_fn, X_train.shape[1])\n",
    "\n",
    "        # Save test scalar loss\n",
    "        if callbacks:\n",
    "            loss = model.fit(\n",
    "                X_train,\n",
    "                y_train,\n",
    "                epochs=5000,\n",
    "                batch_size=64,\n",
    "                callbacks=callbacks,\n",
    "                verbose=0,\n",
    "            )\n",
    "        else:\n",
    "            loss = model.fit(X_train, y_train, epochs=5000, batch_size=64, verbose=0)\n",
    "        print(f\"Needed iterations: {len(loss.history['loss'])}\")\n",
    "        loss = loss.history[\"loss\"]\n",
    "\n",
    "        # Predict using train values\n",
    "        predictions_train = model.predict(X_train, verbose=0).flatten()\n",
    "        # Predict using test values\n",
    "        predictions_test = model.predict(X_test_kf, verbose=0).flatten()\n",
    "        # Predict using production values\n",
    "        predictions_prod = model.predict(X_prod_kf, verbose=0).flatten()\n",
    "\n",
    "        # Dataframe for better visualization\n",
    "        train_data_train = pl.DataFrame(\n",
    "            {\"ICI\": y_train, \"Predicted ICI\": predictions_train}\n",
    "        )\n",
    "        train_data_test = pl.DataFrame(\n",
    "            {\"ICI\": y_test, \"Predicted ICI\": predictions_test}\n",
    "        )\n",
    "        train_data_prod = pl.DataFrame(\n",
    "            {\"ICI\": y_prod, \"Predicted ICI\": predictions_prod}\n",
    "        )\n",
    "\n",
    "        # MAE\n",
    "        mae_score_train = mean_absolute_error(\n",
    "            train_data_train[\"ICI\"], train_data_train[\"Predicted ICI\"]\n",
    "        )\n",
    "        mae_score_test = mean_absolute_error(\n",
    "            train_data_test[\"ICI\"], train_data_test[\"Predicted ICI\"]\n",
    "        )\n",
    "        mae_score_prod = mean_absolute_error(\n",
    "            train_data_prod[\"ICI\"], train_data_prod[\"Predicted ICI\"]\n",
    "        )\n",
    "\n",
    "        # R²\n",
    "        r2_score_train = r2_score(\n",
    "            train_data_train[\"ICI\"], train_data_train[\"Predicted ICI\"]\n",
    "        )\n",
    "        r2_score_test = r2_score(\n",
    "            train_data_test[\"ICI\"], train_data_test[\"Predicted ICI\"]\n",
    "        )\n",
    "        r2_score_prod = r2_score(\n",
    "            train_data_prod[\"ICI\"], train_data_prod[\"Predicted ICI\"]\n",
    "        )\n",
    "\n",
    "        # RMSE\n",
    "        rmse_score_train = mean_squared_error(\n",
    "            train_data_train[\"ICI\"], train_data_train[\"Predicted ICI\"], squared=False\n",
    "        )\n",
    "        rmse_score_test = mean_squared_error(\n",
    "            train_data_test[\"ICI\"], train_data_test[\"Predicted ICI\"], squared=False\n",
    "        )\n",
    "        rmse_score_prod = mean_squared_error(\n",
    "            train_data_prod[\"ICI\"], train_data_prod[\"Predicted ICI\"], squared=False\n",
    "        )\n",
    "\n",
    "        # Append to lists\n",
    "        scores[\"model\"].append(model)\n",
    "        scores[\"loss\"].append(loss)\n",
    "        scores[\"mae\"][\"train\"].append(mae_score_train)\n",
    "        scores[\"mae\"][\"test\"].append(mae_score_test)\n",
    "        scores[\"mae\"][\"prod\"].append(mae_score_prod)\n",
    "        scores[\"r2\"][\"train\"].append(r2_score_train)\n",
    "        scores[\"r2\"][\"test\"].append(r2_score_test)\n",
    "        scores[\"r2\"][\"prod\"].append(r2_score_prod)\n",
    "        scores[\"rmse\"][\"train\"].append(rmse_score_train)\n",
    "        scores[\"rmse\"][\"test\"].append(rmse_score_test)\n",
    "        scores[\"rmse\"][\"prod\"].append(rmse_score_prod)\n",
    "\n",
    "    return scores\n",
    "\n",
    "\n",
    "def test_estimation_model(\n",
    "    data,\n",
    "    data_prod,\n",
    "    n_splits,\n",
    "    max_neurons,\n",
    "    activations,\n",
    "    use_osnr=True,\n",
    "    loss_fn=\"mean_absolute_error\",\n",
    "):\n",
    "    \"\"\"Test a spectral spacing estimation model with given parameters.\"\"\"\n",
    "    n_feat = data.shape[1]\n",
    "    var_n = n_feat - 1 if use_osnr else n_feat - 2\n",
    "\n",
    "    # Split variables\n",
    "    # Features\n",
    "    X = np.array(data[:, 0:var_n])\n",
    "    X_prod = np.array(data_prod[:, 0:var_n])\n",
    "    # Tags\n",
    "    y = np.array(data[:, -1])\n",
    "    y_prod = np.array(data_prod[:, -1])\n",
    "\n",
    "    # Layer properties\n",
    "    layer_props = [\n",
    "        {\"units\": max_neurons // (2**i), \"activation\": activation}\n",
    "        for i, activation in enumerate(activations)\n",
    "    ]\n",
    "    print(f\"{layer_props}{' + OSNR' if use_osnr else ''}\")\n",
    "    callbacks = [\n",
    "        EarlyStopping(\n",
    "            monitor=\"loss\", patience=30, mode=\"min\", restore_best_weights=True\n",
    "        )\n",
    "    ]\n",
    "\n",
    "    return estimation_crossvalidation(\n",
    "        X, y, X_prod, y_prod, n_splits, layer_props, loss_fn, callbacks\n",
    "    )\n",
    "\n",
    "\n",
    "def plot_results(x_values, scores, xlabel, log=False, intx=False):\n",
    "    plt.figure(figsize=(8, 6), layout=\"constrained\")\n",
    "    plt.scatter(x_values, scores)\n",
    "    plt.plot(x_values, scores)\n",
    "    plt.xlabel(xlabel)\n",
    "    plt.ylabel(\"MAE\")\n",
    "    if log:\n",
    "        plt.xscale(\"log\", base=2)\n",
    "    if intx:\n",
    "        plt.xticks(x_values)\n",
    "\n",
    "    plt.grid(True)\n",
    "    plt.show()"
   ]
  },
  {
   "cell_type": "markdown",
   "id": "7cc44223-2a95-4918-bd93-557c5d52a926",
   "metadata": {
    "id": "fe3f3c52-2f24-4206-a56a-4887d5f001e9",
    "tags": []
   },
   "source": [
    "## FCM"
   ]
  },
  {
   "cell_type": "markdown",
   "id": "4efce4fa-5de8-4a54-8685-491ecc648041",
   "metadata": {
    "id": "4efce4fa-5de8-4a54-8685-491ecc648041",
    "tags": []
   },
   "source": [
    "### Load data"
   ]
  },
  {
   "cell_type": "code",
   "execution_count": null,
   "id": "8aa7a9ce-69e1-40d3-9833-9e26e649fa00",
   "metadata": {
    "colab": {
     "base_uri": "https://localhost:8080/",
     "height": 882
    },
    "id": "8aa7a9ce-69e1-40d3-9833-9e26e649fa00",
    "outputId": "d2a1f94a-1034-402f-d20b-a736677c9476"
   },
   "outputs": [],
   "source": [
    "if GOOGLE_COLAB:\n",
    "    cv32f_file = \"counting_vectors_32f.csv\"\n",
    "else:\n",
    "    cv32f_file = \"../../Databases/32GBd/counting_vectors_32f.csv\"\n",
    "    # cv32f_file = \"../../Databases/32GBd/CaractFCM.csv\"\n",
    "\n",
    "cv32f = pl.read_csv(\n",
    "    cv32f_file, has_header=False, dtypes=[pl.Float64], infer_schema_length=10000\n",
    ").cast(pl.Float64, strict=False)\n",
    "# Show the original dataframe\n",
    "cv32f"
   ]
  },
  {
   "cell_type": "code",
   "execution_count": null,
   "id": "87ba95cf-e495-439d-a41c-cbe569239171",
   "metadata": {},
   "outputs": [],
   "source": [
    "# Back-to-back (B2B)\n",
    "cv32f_B2B = cv32f[0:987, :]\n",
    "# 0dBm optical fiber\n",
    "cv32f_fiber0 = cv32f[988:1520, :]\n",
    "# 9dBm optical fiber\n",
    "cv32f_fiber9 = cv32f[1521:, :]"
   ]
  },
  {
   "cell_type": "code",
   "execution_count": null,
   "id": "f4f300c3-eb56-4e90-bad2-4fd476f30b31",
   "metadata": {
    "colab": {
     "base_uri": "https://localhost:8080/",
     "height": 882
    },
    "id": "f4f300c3-eb56-4e90-bad2-4fd476f30b31",
    "outputId": "64c2393a-2e65-47c1-d798-a6773ae3dabb"
   },
   "outputs": [],
   "source": [
    "# Shuffle the dataframes\n",
    "cv32f_B2B_shuffled = cv32f_B2B.sample(n=len(cv32f_B2B), shuffle=True, seed=1036681523)\n",
    "cv32f_fiber0_shuffled = cv32f_fiber0.sample(\n",
    "    n=len(cv32f_fiber0), shuffle=True, seed=1036681523\n",
    ")\n",
    "cv32f_fiber9_shuffled = cv32f_fiber9.sample(\n",
    "    n=len(cv32f_fiber9), shuffle=True, seed=1036681523\n",
    ")"
   ]
  },
  {
   "cell_type": "code",
   "execution_count": null,
   "id": "5e079b32-d271-4ca7-85e1-64c72c09c89a",
   "metadata": {
    "colab": {
     "base_uri": "https://localhost:8080/",
     "height": 882
    },
    "id": "5e079b32-d271-4ca7-85e1-64c72c09c89a",
    "outputId": "9c1a8fa5-a3fd-4a4d-c7d6-b2784c383e32"
   },
   "outputs": [],
   "source": [
    "# Extract 10% of the data to use later for \"production\" testing\n",
    "cv32f_B2B_prod = cv32f_B2B_shuffled[: int(len(cv32f_B2B_shuffled) * 0.1)]\n",
    "cv32f_fiber0_prod = cv32f_fiber0_shuffled[: int(len(cv32f_fiber0_shuffled) * 0.1)]\n",
    "cv32f_fiber9_prod = cv32f_fiber9_shuffled[: int(len(cv32f_fiber9_shuffled) * 0.1)]"
   ]
  },
  {
   "cell_type": "code",
   "execution_count": null,
   "id": "e5bc5587-8508-4809-a9eb-10a4cb51eb03",
   "metadata": {
    "id": "e5bc5587-8508-4809-a9eb-10a4cb51eb03"
   },
   "outputs": [],
   "source": [
    "# Use the rest of the data for normal testing\n",
    "cv32f_B2B_new = cv32f_B2B_shuffled[int(len(cv32f_B2B_shuffled) * 0.1) :]\n",
    "cv32f_fiber0_new = cv32f_fiber0_shuffled[int(len(cv32f_fiber0_shuffled) * 0.1) :]\n",
    "cv32f_fiber9_new = cv32f_fiber9_shuffled[int(len(cv32f_fiber9_shuffled) * 0.1) :]"
   ]
  },
  {
   "cell_type": "markdown",
   "id": "c7171c0b-812c-4e54-b46b-91480904a9a4",
   "metadata": {
    "id": "c7171c0b-812c-4e54-b46b-91480904a9a4"
   },
   "source": [
    "### Hyperparameters evaluation"
   ]
  },
  {
   "cell_type": "markdown",
   "id": "fffca2c3-15d4-4d50-bbe3-44fa538e51cb",
   "metadata": {
    "id": "fffca2c3-15d4-4d50-bbe3-44fa538e51cb"
   },
   "source": [
    "The following hyperparameters are going to be combined and evaluated: \n",
    "- Maximum number of neurons in the first layer (8, 16, 32, 64, 128, 256, 512, 1024).\n",
    "- Using or not the OSNR value as an additional feature.\n",
    "\n",
    "Results will have the following structure:\n",
    "```\n",
    "{\"scenario\": {\"n_neurons\": {\"osnr\": results}}}\n",
    "```\n",
    "Where `scenario` is the experimental scenario (B2B, fiber at 0 dBm or fiber at 9 dBm), `n_neurons` will be the maximum number of neurons in the model (corresponding to the first layer), `osnr` will be a string telling if that model used OSNR as input or not (`\"osnr\"` or `wo_osnr`).\n",
    "Finally the results will store the loss history, the serialized model in JSON format in a string and MAE, RMSE and R² values for training, test and production data."
   ]
  },
  {
   "cell_type": "code",
   "execution_count": null,
   "id": "27927d24-4ad8-4a25-b63d-dd5e54dfc0b0",
   "metadata": {
    "id": "27927d24-4ad8-4a25-b63d-dd5e54dfc0b0",
    "tags": []
   },
   "outputs": [],
   "source": [
    "osnr_lst = [\"osnr\", \"wo_osnr\"]\n",
    "max_neurons = [str(2**n) for n in range(3, 11)]\n",
    "activations = [\"relu\", \"tanh\", \"sigmoid\"]\n",
    "scenarios = [\"b2b\", \"fiber0\", \"fiber9\"]\n",
    "scenario_data = [\n",
    "    (cv32f_B2B_new, cv32f_B2B_prod),\n",
    "    (cv32f_fiber0_new, cv32f_fiber0_prod),\n",
    "    (cv32f_fiber9_new, cv32f_fiber9_prod),\n",
    "]"
   ]
  },
  {
   "cell_type": "code",
   "execution_count": null,
   "id": "1c29e306-cde9-4113-924a-ec3bd07e0d71",
   "metadata": {
    "id": "1c29e306-cde9-4113-924a-ec3bd07e0d71"
   },
   "outputs": [],
   "source": [
    "try:\n",
    "    cv32f_reg_results = sofa.load_hdf5(f\"{ROOT}/cv32f_reg_results.h5\")\n",
    "except:\n",
    "    print(\"Error loading from file, creating a new dictionary\")\n",
    "    cv32f_reg_results = defaultdict(\n",
    "        defaultdict(defaultdict(defaultdict().copy).copy).copy\n",
    "    )\n",
    "\n",
    "# Evaluate\n",
    "for i, (data, prod) in enumerate(scenario_data):\n",
    "    for neurons in max_neurons:\n",
    "        for osnr in osnr_lst:\n",
    "            args = {\n",
    "                \"data\": data,\n",
    "                \"data_prod\": prod,\n",
    "                \"n_splits\": 5,\n",
    "                \"max_neurons\": int(neurons),\n",
    "                \"activations\": activations,\n",
    "                \"use_osnr\": True if osnr == \"osnr\" else False,\n",
    "            }\n",
    "            scenario_name = scenarios[i]\n",
    "            if cv32f_reg_results[scenario_name][neurons][osnr] == defaultdict():\n",
    "                # Get results\n",
    "                results = test_estimation_model(**args)\n",
    "                # Serialize model\n",
    "                results[\"model\"] = [\n",
    "                    utils.serialize_keras_object(model) for model in results[\"model\"]\n",
    "                ]\n",
    "                # Save serialized model for serialization\n",
    "                cv32f_reg_results[scenario_name][neurons][osnr] = results\n",
    "                # Save results with serialized model\n",
    "                print(\"Saving results...\")\n",
    "                sofa.save_hdf5(cv32f_reg_results, f\"{ROOT}/cv32f_reg_results.h5\")\n",
    "                print(\"Results saved!\")"
   ]
  },
  {
   "cell_type": "markdown",
   "id": "91445933-554a-4ff9-a694-8352380b19ae",
   "metadata": {
    "id": "91445933-554a-4ff9-a694-8352380b19ae"
   },
   "source": [
    "### Results"
   ]
  },
  {
   "cell_type": "code",
   "execution_count": null,
   "id": "83f757c6-1f28-4730-87e5-56683d000b44",
   "metadata": {
    "id": "83f757c6-1f28-4730-87e5-56683d000b44",
    "tags": []
   },
   "outputs": [],
   "source": [
    "def get_avg_score(results, target_value, target=\"neurons\", metric=\"mae\", score=\"test\"):\n",
    "    mae_lst = []\n",
    "    for scenario in scenarios:\n",
    "        if target == \"scenario\" and scenario != target_value:\n",
    "            continue\n",
    "        for neurons in max_neurons:\n",
    "            if target == \"neurons\" and neurons != target_value:\n",
    "                continue\n",
    "            for osnr in osnr_lst:\n",
    "                if target == \"osnr\" and osnr != target_value:\n",
    "                    continue\n",
    "                act_fn_name = \"\".join([s[0] for s in activations])\n",
    "                mae_lst.append(\n",
    "                    np.mean(results[act_fn_name][neurons][osnr][\"mae\"][\"test\"])\n",
    "                )\n",
    "    return mae_lst"
   ]
  },
  {
   "cell_type": "code",
   "execution_count": null,
   "id": "DFDTFw5QUftS",
   "metadata": {
    "colab": {
     "base_uri": "https://localhost:8080/",
     "height": 628
    },
    "id": "DFDTFw5QUftS",
    "outputId": "7583980e-ca7c-480f-f309-180893bd89e6"
   },
   "outputs": [],
   "source": [
    "cv32f_neurons_avg_results = [\n",
    "    np.mean(\n",
    "        get_avg_score(\n",
    "            cv32f_reg_results, neurons, target=\"neurons\", metric=\"mae\", score=\"test\"\n",
    "        )\n",
    "    )\n",
    "    for neurons in max_neurons\n",
    "]\n",
    "x = list(map(int, max_neurons))\n",
    "plot_results(x, cv32f_neurons_avg_results, \"Maximum number of neurons\", log=True)"
   ]
  },
  {
   "cell_type": "code",
   "execution_count": null,
   "id": "08af0301-f030-4210-88aa-a29f2c6bfba3",
   "metadata": {
    "colab": {
     "base_uri": "https://localhost:8080/",
     "height": 628
    },
    "id": "08af0301-f030-4210-88aa-a29f2c6bfba3",
    "outputId": "0e876956-6897-4005-99f1-4f9cfc444d61",
    "tags": []
   },
   "outputs": [],
   "source": [
    "cv32f_scenario_avg_results = [np.mean(\n",
    "    get_avg_score(\n",
    "        cv32f_reg_results,\n",
    "        target_value=scenario,\n",
    "        target=\"scenario\",\n",
    "        metric=\"mae\",\n",
    "        score=\"test\",\n",
    "    )\n",
    ") for scenario in scenarios]\n",
    "\n",
    "print(\"B2B     Fiber at 0 dBm     Fiber at 9 dBm\")\n",
    "print(f\"{cv32f_scenario_avg_results[0]:.4f}     {cv32f_scenario_avg_results[1]:.4f}     {cv32f_scenario_avg_results[2]:.4f}\")"
   ]
  },
  {
   "cell_type": "code",
   "execution_count": null,
   "id": "504675ce-fd55-49d0-95fd-dcff312cbaeb",
   "metadata": {
    "colab": {
     "base_uri": "https://localhost:8080/"
    },
    "id": "504675ce-fd55-49d0-95fd-dcff312cbaeb",
    "outputId": "8d9897be-8262-429d-d366-aeb27fd299d5",
    "tags": []
   },
   "outputs": [],
   "source": [
    "cv32f_osnr_avg_results = [\n",
    "    np.mean(\n",
    "        get_avg_score(\n",
    "            cv32f_reg_results, osnr, target=\"osnr\", metric=\"mae\", score=\"test\"\n",
    "        )\n",
    "    )\n",
    "    for osnr in [\"osnr\", \"wo_osnr\"]\n",
    "]\n",
    "print(f\"With OSNR  Without OSNR\")\n",
    "print(f\"{cv32f_osnr_avg_results[0]:.3f}       {cv32f_osnr_avg_results[1]:.3f}\")"
   ]
  },
  {
   "cell_type": "markdown",
   "id": "9d7534de-2700-4ed5-a213-60a105904ac5",
   "metadata": {
    "id": "9d7534de-2700-4ed5-a213-60a105904ac5"
   },
   "source": [
    "### Sort models by score"
   ]
  },
  {
   "cell_type": "code",
   "execution_count": null,
   "id": "8bed53e1-b29f-4dfc-8df7-ca9c7c6913e4",
   "metadata": {
    "id": "8bed53e1-b29f-4dfc-8df7-ca9c7c6913e4"
   },
   "outputs": [],
   "source": [
    "# Find better model by test score\n",
    "def get_better_models(results, metric=\"mae\", score=\"test\"):\n",
    "    scores = []\n",
    "    for scenario in scenarios:\n",
    "        for neurons in max_neurons:\n",
    "            for osnr in osnr_lst:\n",
    "                coll = results[scenario][neurons][osnr][metric][score]\n",
    "                if isinstance(coll, defaultdict):\n",
    "                    continue\n",
    "                score_value = np.mean(coll)\n",
    "                scores.append((score_value, [scenario, neurons, osnr]))\n",
    "    scores.sort(key=lambda x: x[0])\n",
    "    return pl.dataframe.DataFrame(scores)"
   ]
  },
  {
   "cell_type": "code",
   "execution_count": null,
   "id": "PT2mJucuX-Rf",
   "metadata": {
    "colab": {
     "base_uri": "https://localhost:8080/",
     "height": 411
    },
    "id": "PT2mJucuX-Rf",
    "outputId": "2ced51dc-8f3b-4fff-b4aa-3b68b8b7c6ac"
   },
   "outputs": [],
   "source": [
    "cv32f_better_models_df = get_better_models(\n",
    "    cv32f_reg_results, metric=\"mae\", score=\"test\"\n",
    ")\n",
    "cv32f_better_models_df.head(10)"
   ]
  },
  {
   "cell_type": "markdown",
   "id": "bec3db3b-b263-47ca-8301-621fbd182b5c",
   "metadata": {
    "id": "fe3f3c52-2f24-4206-a56a-4887d5f001e9",
    "tags": []
   },
   "source": [
    "## GKM"
   ]
  },
  {
   "cell_type": "markdown",
   "id": "d6cf61d4-d673-46fa-935b-cc8b03e54488",
   "metadata": {
    "id": "4efce4fa-5de8-4a54-8685-491ecc648041",
    "tags": []
   },
   "source": [
    "### Load data"
   ]
  },
  {
   "cell_type": "code",
   "execution_count": null,
   "id": "aecd6197-8ee6-4778-a50d-b1119245b4ce",
   "metadata": {
    "colab": {
     "base_uri": "https://localhost:8080/",
     "height": 882
    },
    "id": "8aa7a9ce-69e1-40d3-9833-9e26e649fa00",
    "outputId": "d2a1f94a-1034-402f-d20b-a736677c9476"
   },
   "outputs": [],
   "source": [
    "if GOOGLE_COLAB:\n",
    "    cv32g_file = \"counting_vectors_32g.csv\"\n",
    "else:\n",
    "    cv32g_file = \"../../Databases/32GBd/counting_vectors_32g.csv\"\n",
    "    # cv32f_file = \"../../Databases/32GBd/CaractFCM.csv\"\n",
    "\n",
    "cv32g = pl.read_csv(\n",
    "    cv32g_file, has_header=False, dtypes=[pl.Float64], infer_schema_length=10000\n",
    ").cast(pl.Float64, strict=False)\n",
    "# Show the original dataframe\n",
    "cv32g"
   ]
  },
  {
   "cell_type": "code",
   "execution_count": null,
   "id": "412f840d-1ade-44d0-a801-214fe9170825",
   "metadata": {},
   "outputs": [],
   "source": [
    "# Back-to-back (B2B)\n",
    "cv32g_B2B = cv32g[0:987, :]\n",
    "# 0dBm optical fiber\n",
    "cv32g_fiber0 = cv32g[988:1520, :]\n",
    "# 9dBm optical fiber\n",
    "cv32g_fiber9 = cv32g[1521:, :]"
   ]
  },
  {
   "cell_type": "code",
   "execution_count": null,
   "id": "a4edcec8-2cbe-421f-a881-a6e1cd6ed572",
   "metadata": {
    "colab": {
     "base_uri": "https://localhost:8080/",
     "height": 882
    },
    "id": "f4f300c3-eb56-4e90-bad2-4fd476f30b31",
    "outputId": "64c2393a-2e65-47c1-d798-a6773ae3dabb"
   },
   "outputs": [],
   "source": [
    "# Shuffle the dataframes\n",
    "cv32g_B2B_shuffled = cv32g_B2B.sample(n=len(cv32g_B2B), shuffle=True, seed=1036681523)\n",
    "cv32g_fiber0_shuffled = cv32g_fiber0.sample(\n",
    "    n=len(cv32g_fiber0), shuffle=True, seed=1036681523\n",
    ")\n",
    "cv32g_fiber9_shuffled = cv32g_fiber9.sample(\n",
    "    n=len(cv32g_fiber9), shuffle=True, seed=1036681523\n",
    ")"
   ]
  },
  {
   "cell_type": "code",
   "execution_count": null,
   "id": "f8986b7a-6fb9-47d3-a6cd-f06997c7d4c3",
   "metadata": {
    "colab": {
     "base_uri": "https://localhost:8080/",
     "height": 882
    },
    "id": "5e079b32-d271-4ca7-85e1-64c72c09c89a",
    "outputId": "9c1a8fa5-a3fd-4a4d-c7d6-b2784c383e32"
   },
   "outputs": [],
   "source": [
    "# Extract 10% of the data to use later for \"production\" testing\n",
    "cv32g_B2B_prod = cv32g_B2B_shuffled[: int(len(cv32g_B2B_shuffled) * 0.1)]\n",
    "cv32g_fiber0_prod = cv32g_fiber0_shuffled[: int(len(cv32g_fiber0_shuffled) * 0.1)]\n",
    "cv32g_fiber9_prod = cv32g_fiber9_shuffled[: int(len(cv32g_fiber9_shuffled) * 0.1)]"
   ]
  },
  {
   "cell_type": "code",
   "execution_count": null,
   "id": "3f558eb6-9e69-48a3-97ea-0b5ca2af371d",
   "metadata": {
    "id": "e5bc5587-8508-4809-a9eb-10a4cb51eb03"
   },
   "outputs": [],
   "source": [
    "# Use the rest of the data for normal testing\n",
    "cv32g_B2B_new = cv32g_B2B_shuffled[int(len(cv32g_B2B_shuffled) * 0.1) :]\n",
    "cv32g_fiber0_new = cv32g_fiber0_shuffled[int(len(cv32g_fiber0_shuffled) * 0.1) :]\n",
    "cv32g_fiber9_new = cv32g_fiber9_shuffled[int(len(cv32g_fiber9_shuffled) * 0.1) :]"
   ]
  },
  {
   "cell_type": "markdown",
   "id": "201572be-3428-4a95-9a77-cfadb2311753",
   "metadata": {
    "id": "c7171c0b-812c-4e54-b46b-91480904a9a4"
   },
   "source": [
    "### Hyperparameters evaluation"
   ]
  },
  {
   "cell_type": "markdown",
   "id": "b38bb30c-d9ff-48cb-b1f7-cdf65295a382",
   "metadata": {
    "id": "fffca2c3-15d4-4d50-bbe3-44fa538e51cb"
   },
   "source": [
    "The following hyperparameters are going to be combined and evaluated: \n",
    "- Maximum number of neurons in the first layer (8, 16, 32, 64, 128, 256, 512, 1024).\n",
    "- Using or not the OSNR value as an additional feature.\n",
    "\n",
    "Results will have the following structure:\n",
    "```\n",
    "{\"scenario\": {\"n_neurons\": {\"osnr\": results}}}\n",
    "```\n",
    "Where `scenario` is the experimental scenario (B2B, fiber at 0 dBm or fiber at 9 dBm), `n_neurons` will be the maximum number of neurons in the model (corresponding to the first layer), `osnr` will be a string telling if that model used OSNR as input or not (`\"osnr\"` or `wo_osnr`).\n",
    "Finally the results will store the loss history, the serialized model in JSON format in a string and MAE, RMSE and R² values for training, test and production data."
   ]
  },
  {
   "cell_type": "code",
   "execution_count": null,
   "id": "9d99cb6c-031a-4c15-8ca1-67259630dc6f",
   "metadata": {
    "id": "27927d24-4ad8-4a25-b63d-dd5e54dfc0b0",
    "tags": []
   },
   "outputs": [],
   "source": [
    "osnr_lst = [\"osnr\", \"wo_osnr\"]\n",
    "max_neurons = [str(2**n) for n in range(3, 11)]\n",
    "activations = [\"relu\", \"tanh\", \"sigmoid\"]\n",
    "scenarios = [\"b2b\", \"fiber0\", \"fiber9\"]\n",
    "scenario_data = [\n",
    "    (cv32g_B2B_new, cv32g_B2B_prod),\n",
    "    (cv32g_fiber0_new, cv32g_fiber0_prod),\n",
    "    (cv32g_fiber9_new, cv32g_fiber9_prod),\n",
    "]"
   ]
  },
  {
   "cell_type": "code",
   "execution_count": null,
   "id": "1620aaaa-e1b2-48c0-9be8-d22bae3b05f9",
   "metadata": {
    "id": "1c29e306-cde9-4113-924a-ec3bd07e0d71"
   },
   "outputs": [],
   "source": [
    "try:\n",
    "    cv32g_reg_results = sofa.load_hdf5(f\"{ROOT}/cv32g_reg_results.h5\")\n",
    "except:\n",
    "    print(\"Error loading from file, creating a new dictionary\")\n",
    "    cv32g_reg_results = defaultdict(\n",
    "        defaultdict(defaultdict(defaultdict().copy).copy).copy\n",
    "    )\n",
    "\n",
    "# Evaluate\n",
    "for i, (data, prod) in enumerate(scenario_data):\n",
    "    for neurons in max_neurons:\n",
    "        for osnr in osnr_lst:\n",
    "            args = {\n",
    "                \"data\": data,\n",
    "                \"data_prod\": prod,\n",
    "                \"n_splits\": 5,\n",
    "                \"max_neurons\": int(neurons),\n",
    "                \"activations\": activations,\n",
    "                \"use_osnr\": True if osnr == \"osnr\" else False,\n",
    "            }\n",
    "            scenario_name = scenarios[i]\n",
    "            if cv32g_reg_results[scenario_name][neurons][osnr] == defaultdict():\n",
    "                # Get results\n",
    "                results = test_estimation_model(**args)\n",
    "                # Serialize model\n",
    "                results[\"model\"] = [\n",
    "                    utils.serialize_keras_object(model) for model in results[\"model\"]\n",
    "                ]\n",
    "                # Save serialized model for serialization\n",
    "                cv32g_reg_results[scenario_name][neurons][osnr] = results\n",
    "                # Save results with serialized model\n",
    "                print(\"Saving results...\")\n",
    "                sofa.save_hdf5(cv32g_reg_results, f\"{ROOT}/cv32g_reg_results.h5\")\n",
    "                print(\"Results saved!\")"
   ]
  },
  {
   "cell_type": "markdown",
   "id": "7125ac43-5377-497e-9951-7601f81d004e",
   "metadata": {
    "id": "91445933-554a-4ff9-a694-8352380b19ae"
   },
   "source": [
    "### Results"
   ]
  },
  {
   "cell_type": "code",
   "execution_count": null,
   "id": "6142f7da-a273-4efb-b959-ec90d39b700f",
   "metadata": {
    "colab": {
     "base_uri": "https://localhost:8080/",
     "height": 628
    },
    "id": "DFDTFw5QUftS",
    "outputId": "7583980e-ca7c-480f-f309-180893bd89e6"
   },
   "outputs": [],
   "source": [
    "cv32g_neurons_avg_results = [\n",
    "    np.mean(\n",
    "        get_avg_score(\n",
    "            cv32g_reg_results, neurons, target=\"neurons\", metric=\"mae\", score=\"test\"\n",
    "        )\n",
    "    )\n",
    "    for neurons in max_neurons\n",
    "]\n",
    "x = list(map(int, max_neurons))\n",
    "plot_results(x, cv32g_neurons_avg_results, \"Maximum number of neurons\", log=True)"
   ]
  },
  {
   "cell_type": "code",
   "execution_count": null,
   "id": "f08ba07c-28d6-400b-9bca-69de618816b0",
   "metadata": {
    "colab": {
     "base_uri": "https://localhost:8080/",
     "height": 628
    },
    "id": "08af0301-f030-4210-88aa-a29f2c6bfba3",
    "outputId": "0e876956-6897-4005-99f1-4f9cfc444d61",
    "tags": []
   },
   "outputs": [],
   "source": [
    "cv32g_scenario_avg_results = [np.mean(\n",
    "    get_avg_score(\n",
    "        cv32g_reg_results,\n",
    "        target_value=scenario,\n",
    "        target=\"scenario\",\n",
    "        metric=\"mae\",\n",
    "        score=\"test\",\n",
    "    )\n",
    ") for scenario in scenarios]\n",
    "\n",
    "print(\"B2B     Fiber at 0 dBm     Fiber at 9 dBm\")\n",
    "print(f\"{cv32g_scenario_avg_results[0]:.4f}     {cv32g_scenario_avg_results[1]:.4f}     {cv32g_scenario_avg_results[2]:.4f}\")"
   ]
  },
  {
   "cell_type": "code",
   "execution_count": null,
   "id": "2948f561-b9d6-444a-a4d8-7d1063926654",
   "metadata": {
    "colab": {
     "base_uri": "https://localhost:8080/"
    },
    "id": "504675ce-fd55-49d0-95fd-dcff312cbaeb",
    "outputId": "8d9897be-8262-429d-d366-aeb27fd299d5",
    "tags": []
   },
   "outputs": [],
   "source": [
    "cv32g_osnr_avg_results = [\n",
    "    np.mean(\n",
    "        get_avg_score(\n",
    "            cv32g_reg_results, osnr, target=\"osnr\", metric=\"mae\", score=\"test\"\n",
    "        )\n",
    "    )\n",
    "    for osnr in [\"osnr\", \"wo_osnr\"]\n",
    "]\n",
    "print(f\"With OSNR  Without OSNR\")\n",
    "print(f\"{cv32g_osnr_avg_results[0]:.3f}       {cv32g_osnr_avg_results[1]:.3f}\")"
   ]
  },
  {
   "cell_type": "markdown",
   "id": "74990c30-32fb-481c-858f-ba398c097856",
   "metadata": {
    "id": "9d7534de-2700-4ed5-a213-60a105904ac5"
   },
   "source": [
    "### Sort models by score"
   ]
  },
  {
   "cell_type": "code",
   "execution_count": null,
   "id": "dc85d617-c640-4066-bf4f-460e78162578",
   "metadata": {
    "colab": {
     "base_uri": "https://localhost:8080/",
     "height": 411
    },
    "id": "PT2mJucuX-Rf",
    "outputId": "2ced51dc-8f3b-4fff-b4aa-3b68b8b7c6ac"
   },
   "outputs": [],
   "source": [
    "cv32g_better_models_df = get_better_models(\n",
    "    cv32g_reg_results, metric=\"mae\", score=\"test\"\n",
    ")\n",
    "cv32g_better_models_df.head(10)"
   ]
  }
 ],
 "metadata": {
  "accelerator": "GPU",
  "colab": {
   "gpuType": "T4",
   "provenance": [],
   "toc_visible": true
  },
  "kernelspec": {
   "display_name": "Python 3 (ipykernel)",
   "language": "python",
   "name": "python3"
  },
  "language_info": {
   "codemirror_mode": {
    "name": "ipython",
    "version": 3
   },
   "file_extension": ".py",
   "mimetype": "text/x-python",
   "name": "python",
   "nbconvert_exporter": "python",
   "pygments_lexer": "ipython3",
   "version": "3.11.5"
  }
 },
 "nbformat": 4,
 "nbformat_minor": 5
}
