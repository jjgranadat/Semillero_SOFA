{
 "cells": [
  {
   "cell_type": "markdown",
   "metadata": {
    "id": "4FTGHYDJBJVt"
   },
   "source": [
    "# Clasificador para estimar el espaciamiento espectral"
   ]
  },
  {
   "cell_type": "markdown",
   "metadata": {
    "id": "IRg06MMfe2L1"
   },
   "source": [
    "- [x] Evolucionar la red neuronal a un clasificador basado en los mejores parámetros y probar con diferente número de clases (de 2 a 5 clases, como Alejandro).\n",
    "- [x] Añadir el caso sin tomar la OSNR como característica en clasificación.\n",
    "- [x] Cambiar marcadores para que sean distinguibles FCM vs. GKM (Ser consistente para train y test).\n",
    "- [x] Graficar matrices de confusión.\n",
    "- [x] Añadir el caso sin tomar la OSNR como característica en regresión."
   ]
  },
  {
   "cell_type": "code",
   "execution_count": null,
   "metadata": {
    "colab": {
     "base_uri": "https://localhost:8080/"
    },
    "executionInfo": {
     "elapsed": 8816,
     "status": "ok",
     "timestamp": 1651602736396,
     "user": {
      "displayName": "CÉSAR AUGUSTO MONTOYA OCAMPO",
      "userId": "05303656593086974081"
     },
     "user_tz": 300
    },
    "id": "J4DN_AOHAyPa",
    "outputId": "56d9ac4d-236a-4b27-dd09-fa60cb511328",
    "tags": []
   },
   "outputs": [],
   "source": [
    "# Imports\n",
    "import sofa\n",
    "import polars as pl\n",
    "import numpy as np\n",
    "import scipy as sp\n",
    "import matplotlib.pyplot as plt\n",
    "import tensorflow.keras as ker\n",
    "\n",
    "from sklearn.metrics import (accuracy_score, f1_score, multilabel_confusion_matrix,\n",
    "                             ConfusionMatrixDisplay)\n",
    "from sklearn.model_selection import cross_validate, KFold, train_test_split\n",
    "from sklearn.preprocessing import StandardScaler\n",
    "\n",
    "from tensorflow.keras import models, regularizers, Sequential, utils\n",
    "from tensorflow.keras.layers import Dense\n",
    "from tensorflow.keras.callbacks import EarlyStopping\n",
    "from tensorflow.keras.wrappers.scikit_learn import KerasClassifier\n",
    "\n",
    "from time import time"
   ]
  },
  {
   "cell_type": "markdown",
   "metadata": {},
   "source": [
    "## Funciones globales"
   ]
  },
  {
   "cell_type": "code",
   "execution_count": null,
   "metadata": {
    "tags": []
   },
   "outputs": [],
   "source": [
    "def calc_once(varname, fn, args):\n",
    "    \"\"\" Calculate a variable only once. \"\"\"\n",
    "    if varname not in globals():\n",
    "        return fn(**args)\n",
    "    return eval(varname)"
   ]
  },
  {
   "cell_type": "code",
   "execution_count": null,
   "metadata": {
    "tags": []
   },
   "outputs": [],
   "source": [
    "def plot_loss(score, end=500):\n",
    "    \"\"\" Plot loss evolution for each k-fold. \"\"\"\n",
    "    for k, loss in enumerate(score[\"loss\"]):\n",
    "        loss_length = len(loss.history[\"loss\"])\n",
    "        loss_values = loss.history[\"loss\"][:end if loss_length > end else loss_length]\n",
    "        epoch_values = range(end if loss_length > end else loss_length)\n",
    "        plt.plot(epoch_values, loss_values, label=f\"k = {k+1}\")\n",
    "\n",
    "def plot_losses(scores, scenario, cmp_fn, cmp_values=[], end=500, based_on_index=False):\n",
    "    \"\"\" Plot loss graphics for each scenario. \"\"\"\n",
    "    # Handle default cmp_values\n",
    "    if len(cmp_values) == 0:\n",
    "        cmp_values = np.zeros(len(scores))\n",
    "        \n",
    "    fig_loss = plt.figure(figsize=(16, 3*len(scores)), layout=\"constrained\")\n",
    "    fig_loss.suptitle(f\"{scenario} loss history\", size=\"x-large\")\n",
    "    \n",
    "    for index, (score, cmps) in enumerate(zip(scores, cmp_values)):\n",
    "        plt.subplot(len(scores)//2, 2, index + 1)\n",
    "        plot_loss(score, end=end)\n",
    "        \n",
    "        plt.title(cmp_fn(cmps) if not based_on_index else cmp_fn(index))\n",
    "        \n",
    "        plt.xlabel(\"Iteration\")\n",
    "        plt.ylabel(\"Loss\")\n",
    "        \n",
    "        # Transparent white box black edge legend\n",
    "        legend = plt.legend(loc=\"upper right\", edgecolor=\"black\")\n",
    "        legend.get_frame().set_alpha(None)\n",
    "        legend.get_frame().set_facecolor((1, 1, 1, 0.01))\n",
    "        \n",
    "        plt.grid(True)\n",
    "\n",
    "def plot_scores(scores, x_values, scenario, score_names, data_type,\n",
    "                label, xlabel, markers=[], colors=[], based_on_index=False,\n",
    "                log=False, multiple_points=False, plot_train=True):\n",
    "    fig_scores = plt.figure(figsize=(16, 6), layout=\"constrained\")\n",
    "    fig_scores.suptitle(f\"{scenario} scores\")\n",
    "    i = 0\n",
    "    for sn in score_names:\n",
    "        ax = plt.subplot(1, len(score_names), i+1)\n",
    "        for dt in data_type:\n",
    "            if not plot_train and dt == \"train\":\n",
    "                continue\n",
    "            points = [np.average(score[sn][dt]) for score in scores]\n",
    "            if not multiple_points:\n",
    "                label_value = \"\"\n",
    "                plt.scatter(x_values, points, marker=markers[0 if dt == \"train\" else 1],\n",
    "                            label=f\"{dt.title()} {label(i)}\", s=100)\n",
    "            else:\n",
    "                label_value = \"\"\n",
    "                points1 = points[::2]\n",
    "                points2 = points[1::2]\n",
    "                plt.scatter(x_values, points1, marker=markers[0 if dt == \"train\" else 1],\n",
    "                            color=colors[0 if dt == \"train\" else 1],\n",
    "                            label=f\"{dt.title()} {label(0)}\", s=100)\n",
    "                plt.scatter(x_values, points2, marker=markers[2 if dt == \"train\" else 3],\n",
    "                            color=colors[2 if dt == \"train\" else 3],\n",
    "                            label=f\"{dt.title()} {label(1)}\", s=100)\n",
    "            title = \"\"\n",
    "            if sn == \"r2\":\n",
    "                title = \"R²\"\n",
    "            elif sn == \"acc\":\n",
    "                title = \"Accuracy\"\n",
    "            else:\n",
    "                title = sn.upper()\n",
    "            plt.title(title)\n",
    "                \n",
    "        plt.xlabel(xlabel)\n",
    "        # Adjust logarithmic scale if requested\n",
    "        if log:\n",
    "            plt.xscale(\"log\", base=2)\n",
    "            \n",
    "        # Make integer xticks if matches}\n",
    "        if type(x_values[0]) == np.int64:\n",
    "            ax.set_xticks(x_values)\n",
    "            \n",
    "        if type(x_values[0]) == str:\n",
    "            ax.set_xticks(range(len(x_values)), x_values)\n",
    "            \n",
    "        # Shrink current axis by 20%\n",
    "        box = ax.get_position()\n",
    "        ax.set_position([box.x0, box.y0, box.width * 0.8, box.height])\n",
    "\n",
    "        # Transparent white box black edge legend\n",
    "        legend = plt.legend(loc=\"center left\", bbox_to_anchor=(1, 0.5),\n",
    "                            edgecolor=\"black\")\n",
    "        legend.get_frame().set_alpha(None)\n",
    "        legend.get_frame().set_facecolor((1, 1, 1, 0.01))\n",
    "\n",
    "        plt.grid(True)\n",
    "        i += 1\n",
    "    plt.show()"
   ]
  },
  {
   "cell_type": "markdown",
   "metadata": {},
   "source": [
    "### Funciones para clasificación"
   ]
  },
  {
   "cell_type": "code",
   "execution_count": null,
   "metadata": {
    "tags": []
   },
   "outputs": [],
   "source": [
    "def classificator(df, interval_lst, column_name):\n",
    "    \"\"\"Transforms a dataframe's column into classes\"\"\"\n",
    "    array = df[column_name].to_numpy()\n",
    "    indexes_lst = []\n",
    "    for i, interval in enumerate(interval_lst):\n",
    "        lower_limit, upper_limit = interval\n",
    "        indexes_lst.append(np.intersect1d(np.where(lower_limit < array), np.where(array <= upper_limit)))\n",
    "    \n",
    "    classfull = df[column_name]\n",
    "    for index, indexes in enumerate(indexes_lst):\n",
    "        classfull[indexes] = index\n",
    "\n",
    "    df_classfull = df.clone()\n",
    "    df_classfull.replace(column_name, classfull)\n",
    "    \n",
    "    return df_classfull\n",
    "\n",
    "\n",
    "def classifier_model(input_dim, layers_props_lst, classes_n, loss_fn):\n",
    "    \"\"\" Compile a sequential model for classification purposes. \"\"\"\n",
    "    model = ker.Sequential()\n",
    "    # Hidden layers\n",
    "    for i, layer_props in enumerate(layers_props_lst):\n",
    "        if i == 0:\n",
    "            model.add(ker.layers.Dense(**layer_props, input_dim=input_dim))\n",
    "        else:\n",
    "            model.add(ker.layers.Dense(**layer_props))\n",
    "    # Classifier\n",
    "    model.add(ker.layers.Dense(units=classes_n, activation=\"softmax\"))\n",
    "\n",
    "    model.compile(loss=loss_fn, optimizer=\"adam\")\n",
    "    return model    \n",
    "\n",
    "\n",
    "def classification_crossvalidation(X, y, n_splits, layer_props, classes_n, loss_fn, callbacks):\n",
    "    \"\"\" Crossvalidation of a classification network. \"\"\"\n",
    "    # Store initial time\n",
    "    t0 = time()\n",
    "\n",
    "    # Scores dict\n",
    "    scores = {}\n",
    "    scores[\"loss\"] = []\n",
    "    scores[\"acc\"] = {\"train\": [], \"test\": []}\n",
    "    scores[\"f1\"] = {\"train\": [], \"test\": []}\n",
    "    scores[\"cm\"] = {\"train\": [], \"test\": []}\n",
    "    \n",
    "    # K-fold crossvalidation\n",
    "    kf = KFold(n_splits=n_splits, shuffle=True)\n",
    "\n",
    "    for train_index, test_index in kf.split(X, y):\n",
    "        X_train, X_test = X[train_index], X[test_index]\n",
    "        y_train, y_test = y[train_index], y[test_index]\n",
    "\n",
    "        # Input variables standarizer\n",
    "        sc = StandardScaler()\n",
    "        X_train = sc.fit_transform(X_train)\n",
    "        X_test_kf = sc.transform(X_test)\n",
    "        \n",
    "        model = classifier_model(X_train.shape[1], layer_props, classes_n, loss_fn)\n",
    "        \n",
    "        # Save test scalar loss\n",
    "        if callbacks:\n",
    "            loss = model.fit(\n",
    "                X_train, y_train, epochs=5000, batch_size=64, verbose=0, callbacks=callbacks\n",
    "            )\n",
    "        else:\n",
    "            loss = model.fit(X_train, y_train, epochs=5000, batch_size=64, verbose=0)\n",
    "        print(f\"Needed iterations: {len(loss.history['loss'])}\")\n",
    "        \n",
    "        # Predict using train values\n",
    "        fuzzy_predictions_train = model.predict(X_train)\n",
    "        # Predict using test values\n",
    "        fuzzy_predictions_test = model.predict(X_test_kf)\n",
    "        \n",
    "        # Assign class based on higher probability in membership vector\n",
    "        predictions_train = np.array([np.argmax(fuzzy_prediction) for fuzzy_prediction in fuzzy_predictions_train])\n",
    "        predictions_test = np.array([np.argmax(fuzzy_prediction) for fuzzy_prediction in fuzzy_predictions_test])\n",
    "\n",
    "        # Dataframe for better visualization\n",
    "        train_data_train = pl.DataFrame(\n",
    "            {\"ICI\": [y_train], \"Predicted ICI\": [predictions_train]}\n",
    "        )\n",
    "        train_data_test = pl.DataFrame(\n",
    "            {\"ICI\": [y_test], \"Predicted ICI\": [predictions_test]}\n",
    "        )\n",
    "\n",
    "        # Accuracy\n",
    "        acc_score_train = accuracy_score(\n",
    "            *train_data_train[\"ICI\"], *train_data_train[\"Predicted ICI\"]\n",
    "        )\n",
    "        acc_score_test = accuracy_score(\n",
    "            *train_data_test[\"ICI\"], *train_data_test[\"Predicted ICI\"]\n",
    "        )\n",
    "\n",
    "        # F1\n",
    "        f1_score_train = f1_score(\n",
    "            *train_data_train[\"ICI\"], *train_data_train[\"Predicted ICI\"],\n",
    "            average=\"micro\"\n",
    "        )\n",
    "        f1_score_test = f1_score(\n",
    "            *train_data_test[\"ICI\"], *train_data_test[\"Predicted ICI\"],\n",
    "            average=\"micro\"\n",
    "        )\n",
    "         \n",
    "        # Confusion Matrix\n",
    "        cm_score_train = multilabel_confusion_matrix(\n",
    "            *train_data_train[\"ICI\"], *train_data_train[\"Predicted ICI\"]\n",
    "        )\n",
    "        cm_score_test = multilabel_confusion_matrix(\n",
    "            *train_data_test[\"ICI\"], *train_data_test[\"Predicted ICI\"]\n",
    "        )\n",
    "\n",
    "        # Append to lists\n",
    "        scores[\"loss\"].append(loss)\n",
    "        scores[\"acc\"][\"train\"].append(acc_score_train)\n",
    "        scores[\"acc\"][\"test\"].append(acc_score_test)\n",
    "        scores[\"f1\"][\"train\"].append(f1_score_train)\n",
    "        scores[\"f1\"][\"test\"].append(f1_score_test)\n",
    "        scores[\"cm\"][\"train\"].append(cm_score_train)\n",
    "        scores[\"cm\"][\"test\"].append(cm_score_test)\n",
    "        \n",
    "    print(f\"Time elapsed: {(time() - t0)/60:.2f} minutes\")\n",
    "\n",
    "    return scores\n",
    "\n",
    "\n",
    "def test_classification_model(data, n_splits, max_neurons, activations, classes_n,\n",
    "                              use_osnr=True, loss_fn=\"sparse_categorical_crossentropy\"):\n",
    "    \"\"\" Test a spectral overlapping classification model with given parameters. \"\"\"\n",
    "    # Set variable number\n",
    "    var_n = 17 if use_osnr else 16\n",
    "    \n",
    "    # Split variables\n",
    "    # Variables\n",
    "    X = np.array(data[:, 0:var_n]).T\n",
    "    # Tags\n",
    "    y = np.array(data[:, 19:20]).T\n",
    "    \n",
    "    # Layer properties\n",
    "    layer_props = [\n",
    "        {\"units\": max_neurons // (2**i), \"activation\": activation}\n",
    "        for i, activation in enumerate(activations)\n",
    "    ]\n",
    "    print(layer_props)\n",
    "    callbacks = [\n",
    "        EarlyStopping(monitor=\"loss\", patience=30, mode=\"min\", restore_best_weights=True)\n",
    "    ]\n",
    "    \n",
    "    return classification_crossvalidation(X, y, n_splits, layer_props, classes_n, loss_fn, callbacks)\n",
    "\n",
    "def plot_classes_scores(scores, scenario):\n",
    "    score_names = [\"acc\"]\n",
    "    data_type = [\"train\", \"test\"]\n",
    "    markers = [\"o\", \"D\", \"o\", \"D\"]\n",
    "    colors = [\"dodgerblue\", \"dodgerblue\", \"red\", \"red\"]\n",
    "    \n",
    "    # Plot loss\n",
    "    plot_losses(scores, scenario, \n",
    "                lambda index: f\"{'FCM' if index%2==0 else 'GKM'} {'B2B' if index<2 else 'optical fiber at ' + ('0' if index<4 else '9') + ' dBm'}\",\n",
    "                based_on_index=True)\n",
    "    \n",
    "    # Plot scores\n",
    "    plot_scores(scores, [\"B2B\", \"0 dBm\", \"9 dBm\"], scenario, score_names,\n",
    "                data_type, label=lambda index: f\"{'FCM' if index%2==0 else 'GKM'}\",\n",
    "                xlabel=\"Scenario\", markers=markers, colors=colors, multiple_points=True,\n",
    "                based_on_index=True)\n",
    "    plt.show()\n",
    "    \n",
    "def plot_cm(scores, interval_lst):\n",
    "    CM = np.array(scores.get(\"cm\").get(\"test\"))\n",
    "    for n, interval in enumerate(interval_lst):\n",
    "        result = np.zeros(CM[0][0].shape)\n",
    "        for cm in CM:\n",
    "            result = np.add(result, cm[n])\n",
    "        result /= np.sum(result)\n",
    "        disp = ConfusionMatrixDisplay(confusion_matrix=result, display_labels=[\"Positive\", \"Negative\"])\n",
    "        disp.plot(colorbar=False)\n",
    "        lower_limit, upper_limit = interval \n",
    "        plt.title(f\"Confusion matrix for class from {lower_limit} GHz up to {upper_limit} GHz\")\n",
    "        plt.show()"
   ]
  },
  {
   "cell_type": "markdown",
   "metadata": {},
   "source": [
    "## Restaurar variables"
   ]
  },
  {
   "cell_type": "markdown",
   "metadata": {},
   "source": [
    "#### Clasificación con 2 clases"
   ]
  },
  {
   "cell_type": "code",
   "execution_count": null,
   "metadata": {
    "tags": []
   },
   "outputs": [],
   "source": [
    "%store -r scores_2classes_FCM_B2B\n",
    "%store -r scores_2classes_GKM_B2B\n",
    "\n",
    "%store -r scores_2classes_FCM_fiber0\n",
    "%store -r scores_2classes_GKM_fiber0\n",
    "\n",
    "%store -r scores_2classes_FCM_fiber9\n",
    "%store -r scores_2classes_GKM_fiber9\n",
    "\n",
    "%store -r scores_2classes_woOSNR_FCM_B2B\n",
    "%store -r scores_2classes_woOSNR_GKM_B2B\n",
    "\n",
    "%store -r scores_2classes_woOSNR_FCM_fiber0\n",
    "%store -r scores_2classes_woOSNR_GKM_fiber0\n",
    "\n",
    "%store -r scores_2classes_woOSNR_FCM_fiber9\n",
    "%store -r scores_2classes_woOSNR_GKM_fiber9"
   ]
  },
  {
   "cell_type": "markdown",
   "metadata": {},
   "source": [
    "#### Clasificación con 3 clases"
   ]
  },
  {
   "cell_type": "code",
   "execution_count": null,
   "metadata": {
    "tags": []
   },
   "outputs": [],
   "source": [
    "%store -r scores_3classes_FCM_B2B\n",
    "%store -r scores_3classes_GKM_B2B\n",
    "\n",
    "%store -r scores_3classes_FCM_fiber0\n",
    "%store -r scores_3classes_GKM_fiber0\n",
    "\n",
    "%store -r scores_3classes_FCM_fiber9\n",
    "%store -r scores_3classes_GKM_fiber9\n",
    "\n",
    "%store -r scores_3classes_woOSNR_FCM_B2B\n",
    "%store -r scores_3classes_woOSNR_GKM_B2B\n",
    "\n",
    "%store -r scores_3classes_woOSNR_FCM_fiber0\n",
    "%store -r scores_3classes_woOSNR_GKM_fiber0\n",
    "\n",
    "%store -r scores_3classes_woOSNR_FCM_fiber9\n",
    "%store -r scores_3classes_woOSNR_GKM_fiber9"
   ]
  },
  {
   "cell_type": "markdown",
   "metadata": {},
   "source": [
    "#### Clasificación con 4 clases"
   ]
  },
  {
   "cell_type": "code",
   "execution_count": null,
   "metadata": {
    "tags": []
   },
   "outputs": [],
   "source": [
    "%store -r scores_4classes_FCM_B2B\n",
    "%store -r scores_4classes_GKM_B2B\n",
    "\n",
    "%store -r scores_4classes_FCM_fiber0\n",
    "%store -r scores_4classes_GKM_fiber0\n",
    "\n",
    "%store -r scores_4classes_FCM_fiber9\n",
    "%store -r scores_4classes_GKM_fiber9\n",
    "\n",
    "%store -r scores_4classes_woOSNR_FCM_B2B\n",
    "%store -r scores_4classes_woOSNR_GKM_B2B\n",
    "\n",
    "%store -r scores_4classes_woOSNR_FCM_fiber0\n",
    "%store -r scores_4classes_woOSNR_GKM_fiber0\n",
    "\n",
    "%store -r scores_4classes_woOSNR_FCM_fiber9\n",
    "%store -r scores_4classes_woOSNR_GKM_fiber9"
   ]
  },
  {
   "cell_type": "markdown",
   "metadata": {},
   "source": [
    "#### Clasificación con 5 clases"
   ]
  },
  {
   "cell_type": "code",
   "execution_count": null,
   "metadata": {
    "tags": []
   },
   "outputs": [],
   "source": [
    "%store -r scores_5classes_FCM_B2B\n",
    "%store -r scores_5classes_GKM_B2B\n",
    "\n",
    "%store -r scores_5classes_FCM_fiber0\n",
    "%store -r scores_5classes_GKM_fiber0\n",
    "\n",
    "%store -r scores_5classes_FCM_fiber9\n",
    "%store -r scores_5classes_GKM_fiber9\n",
    "\n",
    "%store -r scores_5classes_woOSNR_FCM_B2B\n",
    "%store -r scores_5classes_woOSNR_GKM_B2B\n",
    "\n",
    "%store -r scores_5classes_woOSNR_FCM_fiber0\n",
    "%store -r scores_5classes_woOSNR_GKM_fiber0\n",
    "\n",
    "%store -r scores_5classes_woOSNR_FCM_fiber9\n",
    "%store -r scores_5classes_woOSNR_GKM_fiber9"
   ]
  },
  {
   "cell_type": "markdown",
   "metadata": {},
   "source": [
    "## Cargar los datos"
   ]
  },
  {
   "cell_type": "markdown",
   "metadata": {},
   "source": [
    "### FCM"
   ]
  },
  {
   "cell_type": "code",
   "execution_count": null,
   "metadata": {
    "id": "IMW0LXLbCYqZ",
    "tags": []
   },
   "outputs": [],
   "source": [
    "data_file_FCM = \"../Databases/CaractFCM.csv\"\n",
    "df_FCM = pl.read_csv(data_file_FCM, dtypes=[pl.Float64], has_header=False)"
   ]
  },
  {
   "cell_type": "markdown",
   "metadata": {},
   "source": [
    "### GKM"
   ]
  },
  {
   "cell_type": "code",
   "execution_count": null,
   "metadata": {
    "tags": []
   },
   "outputs": [],
   "source": [
    "data_file_GKM = \"../Databases/CaractGKM.csv\"\n",
    "df_GKM = pl.read_csv(data_file_GKM, dtypes=[pl.Float64], infer_schema_length = 10000, has_header=False)"
   ]
  },
  {
   "cell_type": "markdown",
   "metadata": {},
   "source": [
    "# Clasificador"
   ]
  },
  {
   "cell_type": "markdown",
   "metadata": {
    "tags": []
   },
   "source": [
    "## 2 clases"
   ]
  },
  {
   "cell_type": "markdown",
   "metadata": {},
   "source": [
    "### FCM"
   ]
  },
  {
   "cell_type": "code",
   "execution_count": null,
   "metadata": {
    "tags": []
   },
   "outputs": [],
   "source": [
    "interval_lst = [(0, 35), (35, 50)]\n",
    "df_2classes_FCM = classificator(df_FCM, interval_lst, \"column_20\")\n",
    "\n",
    "# Scenarios split\n",
    "# Back-to-back (B2B)\n",
    "df_2classes_FCM_B2B = df_2classes_FCM[0:987, :]\n",
    "# 0dBm optical fiber\n",
    "df_2classes_FCM_fiber0 = df_2classes_FCM[988:1520, :]\n",
    "# 9dBm optical fiber\n",
    "df_2classes_FCM_fiber9 = df_2classes_FCM[1521:, :]"
   ]
  },
  {
   "cell_type": "markdown",
   "metadata": {},
   "source": [
    "#### B2B"
   ]
  },
  {
   "cell_type": "code",
   "execution_count": null,
   "metadata": {
    "tags": []
   },
   "outputs": [],
   "source": [
    "args = {\"data\": df_2classes_FCM_B2B, \"n_splits\": 5, \"max_neurons\": 256, \"activations\": [\"relu\", \"tanh\", \"sigmoid\"], \"classes_n\": len(interval_lst), \"loss_fn\": \"sparse_categorical_crossentropy\"}\n",
    "scores_2classes_FCM_B2B = calc_once(\"scores_2classes_FCM_B2B\", test_classification_model, args)\n",
    "plot_cm(scores_2classes_FCM_B2B, interval_lst)"
   ]
  },
  {
   "cell_type": "code",
   "execution_count": null,
   "metadata": {
    "tags": []
   },
   "outputs": [],
   "source": [
    "args = {\"data\": df_2classes_FCM_B2B, \"n_splits\": 5, \"max_neurons\": 256, \"activations\": [\"relu\", \"tanh\", \"sigmoid\"], \"classes_n\": len(interval_lst), \"loss_fn\": \"sparse_categorical_crossentropy\", \"use_osnr\": False}\n",
    "scores_2classes_woOSNR_FCM_B2B = calc_once(\"scores_2classes_woOSNR_FCM_B2B\", test_classification_model, args)\n",
    "plot_cm(scores_2classes_woOSNR_FCM_B2B, interval_lst)"
   ]
  },
  {
   "cell_type": "markdown",
   "metadata": {},
   "source": [
    "#### Fibra óptica a 0dBm"
   ]
  },
  {
   "cell_type": "code",
   "execution_count": null,
   "metadata": {
    "tags": []
   },
   "outputs": [],
   "source": [
    "args = {\"data\": df_2classes_FCM_fiber0, \"n_splits\": 5, \"max_neurons\": 256, \"activations\": [\"relu\", \"tanh\", \"sigmoid\"], \"classes_n\": len(interval_lst), \"loss_fn\": \"sparse_categorical_crossentropy\"}\n",
    "scores_2classes_FCM_fiber0 = calc_once(\"scores_2classes_FCM_fiber0\", test_classification_model, args)\n",
    "plot_cm(scores_2classes_FCM_fiber0, interval_lst)"
   ]
  },
  {
   "cell_type": "code",
   "execution_count": null,
   "metadata": {
    "tags": []
   },
   "outputs": [],
   "source": [
    "args = {\"data\": df_2classes_FCM_fiber0, \"n_splits\": 5, \"max_neurons\": 256, \"activations\": [\"relu\", \"tanh\", \"sigmoid\"], \"classes_n\": len(interval_lst), \"loss_fn\": \"sparse_categorical_crossentropy\", \"use_osnr\": False}\n",
    "scores_2classes_woOSNR_FCM_fiber0 = calc_once(\"scores_2classes_woOSNR_FCM_fiber0\", test_classification_model, args)\n",
    "plot_cm(scores_2classes_woOSNR_FCM_fiber0, interval_lst)"
   ]
  },
  {
   "cell_type": "markdown",
   "metadata": {},
   "source": [
    "#### Fibra óptica a 9dBm"
   ]
  },
  {
   "cell_type": "code",
   "execution_count": null,
   "metadata": {
    "tags": []
   },
   "outputs": [],
   "source": [
    "args = {\"data\": df_2classes_FCM_fiber9, \"n_splits\": 5, \"max_neurons\": 256, \"activations\": [\"relu\", \"tanh\", \"sigmoid\"], \"classes_n\": len(interval_lst), \"loss_fn\": \"sparse_categorical_crossentropy\"}\n",
    "scores_2classes_FCM_fiber9 = calc_once(\"scores_2classes_FCM_fiber9\", test_classification_model, args)\n",
    "plot_cm(scores_2classes_FCM_fiber9, interval_lst)"
   ]
  },
  {
   "cell_type": "code",
   "execution_count": null,
   "metadata": {
    "tags": []
   },
   "outputs": [],
   "source": [
    "args = {\"data\": df_2classes_FCM_fiber9, \"n_splits\": 5, \"max_neurons\": 256, \"activations\": [\"relu\", \"tanh\", \"sigmoid\"], \"classes_n\": len(interval_lst), \"loss_fn\": \"sparse_categorical_crossentropy\", \"use_osnr\": False}\n",
    "scores_2classes_woOSNR_FCM_fiber9 = calc_once(\"scores_2classes_woOSNR_FCM_fiber9\", test_classification_model, args)\n",
    "plot_cm(scores_2classes_woOSNR_FCM_fiber9, interval_lst)"
   ]
  },
  {
   "cell_type": "markdown",
   "metadata": {},
   "source": [
    "### GKM"
   ]
  },
  {
   "cell_type": "code",
   "execution_count": null,
   "metadata": {
    "tags": []
   },
   "outputs": [],
   "source": [
    "interval_lst = [(0, 35), (35, 50)]\n",
    "df_2classes_GKM = classificator(df_GKM, interval_lst, \"column_20\")\n",
    "\n",
    "# Scenarios split\n",
    "# Back-to-back (B2B)\n",
    "df_2classes_GKM_B2B = df_2classes_GKM[0:987, :]\n",
    "# 0dBm optical fiber\n",
    "df_2classes_GKM_fiber0 = df_2classes_GKM[988:1520, :]\n",
    "# 9dBm optical fiber\n",
    "df_2classes_GKM_fiber9 = df_2classes_GKM[1521:, :]"
   ]
  },
  {
   "cell_type": "markdown",
   "metadata": {},
   "source": [
    "#### B2B"
   ]
  },
  {
   "cell_type": "code",
   "execution_count": null,
   "metadata": {
    "tags": []
   },
   "outputs": [],
   "source": [
    "args = {\"data\": df_2classes_GKM_B2B, \"n_splits\": 5, \"max_neurons\": 256, \"activations\": [\"relu\", \"tanh\", \"sigmoid\"], \"classes_n\": len(interval_lst), \"loss_fn\": \"sparse_categorical_crossentropy\"}\n",
    "scores_2classes_GKM_B2B = calc_once(\"scores_2classes_GKM_B2B\", test_classification_model, args)\n",
    "plot_cm(scores_2classes_GKM_B2B, interval_lst)"
   ]
  },
  {
   "cell_type": "code",
   "execution_count": null,
   "metadata": {
    "tags": []
   },
   "outputs": [],
   "source": [
    "args = {\"data\": df_2classes_GKM_B2B, \"n_splits\": 5, \"max_neurons\": 256, \"activations\": [\"relu\", \"tanh\", \"sigmoid\"], \"classes_n\": len(interval_lst), \"loss_fn\": \"sparse_categorical_crossentropy\", \"use_osnr\": False}\n",
    "scores_2classes_woOSNR_GKM_B2B = calc_once(\"scores_2classes_woOSNR_GKM_B2B\", test_classification_model, args)\n",
    "plot_cm(scores_2classes_woOSNR_GKM_B2B, interval_lst)"
   ]
  },
  {
   "cell_type": "markdown",
   "metadata": {},
   "source": [
    "#### Fibra óptica a 0dBm"
   ]
  },
  {
   "cell_type": "code",
   "execution_count": null,
   "metadata": {
    "tags": []
   },
   "outputs": [],
   "source": [
    "args = {\"data\": df_2classes_GKM_fiber0, \"n_splits\": 5, \"max_neurons\": 256, \"activations\": [\"relu\", \"tanh\", \"sigmoid\"], \"classes_n\": len(interval_lst), \"loss_fn\": \"sparse_categorical_crossentropy\"}\n",
    "scores_2classes_GKM_fiber0 = calc_once(\"scores_2classes_GKM_fiber0\", test_classification_model, args)\n",
    "plot_cm(scores_2classes_GKM_fiber0, interval_lst)"
   ]
  },
  {
   "cell_type": "code",
   "execution_count": null,
   "metadata": {
    "tags": []
   },
   "outputs": [],
   "source": [
    "args = {\"data\": df_2classes_GKM_fiber0, \"n_splits\": 5, \"max_neurons\": 256, \"activations\": [\"relu\", \"tanh\", \"sigmoid\"], \"classes_n\": len(interval_lst), \"loss_fn\": \"sparse_categorical_crossentropy\", \"use_osnr\": False}\n",
    "scores_2classes_woOSNR_GKM_fiber0 = calc_once(\"scores_2classes_woOSNR_GKM_fiber0\", test_classification_model, args)\n",
    "plot_cm(scores_2classes_woOSNR_GKM_fiber0, interval_lst)"
   ]
  },
  {
   "cell_type": "markdown",
   "metadata": {},
   "source": [
    "#### Fibra óptica a 9dBm"
   ]
  },
  {
   "cell_type": "code",
   "execution_count": null,
   "metadata": {
    "tags": []
   },
   "outputs": [],
   "source": [
    "args = {\"data\": df_2classes_GKM_fiber9, \"n_splits\": 5, \"max_neurons\": 256, \"activations\": [\"relu\", \"tanh\", \"sigmoid\"], \"classes_n\": len(interval_lst), \"loss_fn\": \"sparse_categorical_crossentropy\"}\n",
    "scores_2classes_GKM_fiber9 = calc_once(\"scores_2classes_GKM_fiber9\", test_classification_model, args)\n",
    "plot_cm(scores_2classes_GKM_fiber9, interval_lst)"
   ]
  },
  {
   "cell_type": "code",
   "execution_count": null,
   "metadata": {
    "tags": []
   },
   "outputs": [],
   "source": [
    "args = {\"data\": df_2classes_GKM_fiber9, \"n_splits\": 5, \"max_neurons\": 256, \"activations\": [\"relu\", \"tanh\", \"sigmoid\"], \"classes_n\": len(interval_lst), \"loss_fn\": \"sparse_categorical_crossentropy\", \"use_osnr\": False}\n",
    "scores_2classes_woOSNR_GKM_fiber9 = calc_once(\"scores_2classes_woOSNR_GKM_fiber9\", test_classification_model, args)\n",
    "plot_cm(scores_2classes_woOSNR_GKM_fiber9, interval_lst)"
   ]
  },
  {
   "cell_type": "code",
   "execution_count": null,
   "metadata": {},
   "outputs": [],
   "source": [
    "%store scores_2classes_FCM_B2B\n",
    "%store scores_2classes_GKM_B2B\n",
    "%store scores_2classes_FCM_fiber0\n",
    "%store scores_2classes_GKM_fiber0\n",
    "%store scores_2classes_FCM_fiber9\n",
    "%store scores_2classes_GKM_fiber9\n",
    "\n",
    "%store scores_2classes_woOSNR_FCM_B2B\n",
    "%store scores_2classes_woOSNR_GKM_B2B\n",
    "%store scores_2classes_woOSNR_FCM_fiber0\n",
    "%store scores_2classes_woOSNR_GKM_fiber0\n",
    "%store scores_2classes_woOSNR_FCM_fiber9\n",
    "%store scores_2classes_woOSNR_GKM_fiber9"
   ]
  },
  {
   "cell_type": "markdown",
   "metadata": {},
   "source": [
    "### Gráficas"
   ]
  },
  {
   "cell_type": "code",
   "execution_count": null,
   "metadata": {},
   "outputs": [],
   "source": [
    "scores = [scores_2classes_FCM_B2B, scores_2classes_GKM_B2B, scores_2classes_FCM_fiber0, scores_2classes_GKM_fiber0, scores_2classes_FCM_fiber9, scores_2classes_GKM_fiber0]\n",
    "plot_classes_scores(scores, \"2 classes evaluation\")"
   ]
  },
  {
   "cell_type": "markdown",
   "metadata": {
    "tags": []
   },
   "source": [
    "## 3 clases"
   ]
  },
  {
   "cell_type": "markdown",
   "metadata": {},
   "source": [
    "### FCM"
   ]
  },
  {
   "cell_type": "code",
   "execution_count": null,
   "metadata": {
    "tags": []
   },
   "outputs": [],
   "source": [
    "interval_lst = [(0, 32), (32, 35), (35, 50)]\n",
    "df_3classes_FCM = classificator(df_FCM, interval_lst, \"column_20\")\n",
    "\n",
    "# Scenarios split\n",
    "# Back-to-back (B2B)\n",
    "df_3classes_FCM_B2B = df_3classes_FCM[0:987, :]\n",
    "# 0dBm optical fiber\n",
    "df_3classes_FCM_fiber0 = df_3classes_FCM[988:1520, :]\n",
    "# 9dBm optical fiber\n",
    "df_3classes_FCM_fiber9 = df_3classes_FCM[1521:, :]"
   ]
  },
  {
   "cell_type": "markdown",
   "metadata": {},
   "source": [
    "#### B2B"
   ]
  },
  {
   "cell_type": "code",
   "execution_count": null,
   "metadata": {
    "tags": []
   },
   "outputs": [],
   "source": [
    "args = {\"data\": df_3classes_FCM_B2B, \"n_splits\": 5, \"max_neurons\": 256, \"activations\": [\"relu\", \"tanh\", \"sigmoid\"], \"classes_n\": len(interval_lst), \"loss_fn\": \"sparse_categorical_crossentropy\"}\n",
    "scores_3classes_FCM_B2B = calc_once(\"scores_3classes_FCM_B2B\", test_classification_model, args)\n",
    "plot_cm(scores_3classes_FCM_B2B, interval_lst)"
   ]
  },
  {
   "cell_type": "code",
   "execution_count": null,
   "metadata": {
    "tags": []
   },
   "outputs": [],
   "source": [
    "args = {\"data\": df_3classes_FCM_B2B, \"n_splits\": 5, \"max_neurons\": 256, \"activations\": [\"relu\", \"tanh\", \"sigmoid\"], \"classes_n\": len(interval_lst), \"loss_fn\": \"sparse_categorical_crossentropy\", \"use_osnr\": False}\n",
    "scores_3classes_woOSNR_FCM_B2B = calc_once(\"scores_3classes_woOSNR_FCM_B2B\", test_classification_model, args)\n",
    "plot_cm(scores_3classes_woOSNR_FCM_B2B, interval_lst)"
   ]
  },
  {
   "cell_type": "markdown",
   "metadata": {},
   "source": [
    "#### Fibra óptica a 0dBm"
   ]
  },
  {
   "cell_type": "code",
   "execution_count": null,
   "metadata": {
    "tags": []
   },
   "outputs": [],
   "source": [
    "args = {\"data\": df_3classes_FCM_fiber0, \"n_splits\": 5, \"max_neurons\": 256, \"activations\": [\"relu\", \"tanh\", \"sigmoid\"], \"classes_n\": len(interval_lst), \"loss_fn\": \"sparse_categorical_crossentropy\"}\n",
    "scores_3classes_FCM_fiber0 = calc_once(\"scores_3classes_FCM_fiber0\", test_classification_model, args)\n",
    "plot_cm(scores_3classes_FCM_fiber0, interval_lst)"
   ]
  },
  {
   "cell_type": "code",
   "execution_count": null,
   "metadata": {
    "tags": []
   },
   "outputs": [],
   "source": [
    "args = {\"data\": df_3classes_FCM_fiber0, \"n_splits\": 5, \"max_neurons\": 256, \"activations\": [\"relu\", \"tanh\", \"sigmoid\"], \"classes_n\": len(interval_lst), \"loss_fn\": \"sparse_categorical_crossentropy\", \"use_osnr\": False}\n",
    "scores_3classes_woOSNR_FCM_fiber0 = calc_once(\"scores_3classes_woOSNR_FCM_fiber0\", test_classification_model, args)\n",
    "plot_cm(scores_3classes_woOSNR_FCM_fiber0, interval_lst)"
   ]
  },
  {
   "cell_type": "markdown",
   "metadata": {},
   "source": [
    "#### Fibra óptica a 9dBm"
   ]
  },
  {
   "cell_type": "code",
   "execution_count": null,
   "metadata": {
    "tags": []
   },
   "outputs": [],
   "source": [
    "args = {\"data\": df_3classes_FCM_fiber9, \"n_splits\": 5, \"max_neurons\": 256, \"activations\": [\"relu\", \"tanh\", \"sigmoid\"], \"classes_n\": len(interval_lst), \"loss_fn\": \"sparse_categorical_crossentropy\"}\n",
    "scores_3classes_FCM_fiber9 = calc_once(\"scores_3classes_FCM_fiber9\", test_classification_model, args)\n",
    "plot_cm(scores_3classes_FCM_fiber9, interval_lst)"
   ]
  },
  {
   "cell_type": "code",
   "execution_count": null,
   "metadata": {
    "tags": []
   },
   "outputs": [],
   "source": [
    "args = {\"data\": df_3classes_FCM_fiber9, \"n_splits\": 5, \"max_neurons\": 256, \"activations\": [\"relu\", \"tanh\", \"sigmoid\"], \"classes_n\": len(interval_lst), \"loss_fn\": \"sparse_categorical_crossentropy\", \"use_osnr\": False}\n",
    "scores_3classes_woOSNR_FCM_fiber9 = calc_once(\"scores_3classes_woOSNR_FCM_fiber9\", test_classification_model, args)\n",
    "plot_cm(scores_3classes_woOSNR_FCM_fiber9, interval_lst)"
   ]
  },
  {
   "cell_type": "markdown",
   "metadata": {},
   "source": [
    "### GKM"
   ]
  },
  {
   "cell_type": "code",
   "execution_count": null,
   "metadata": {
    "tags": []
   },
   "outputs": [],
   "source": [
    "interval_lst = [(0, 32), (32, 35), (35, 50)]\n",
    "df_3classes_GKM = classificator(df_GKM, interval_lst, \"column_20\")\n",
    "\n",
    "# Scenarios split\n",
    "# Back-to-back (B2B)\n",
    "df_3classes_GKM_B2B = df_3classes_GKM[0:987, :]\n",
    "# 0dBm optical fiber\n",
    "df_3classes_GKM_fiber0 = df_3classes_GKM[988:1520, :]\n",
    "# 9dBm optical fiber\n",
    "df_3classes_GKM_fiber9 = df_3classes_GKM[1521:, :]"
   ]
  },
  {
   "cell_type": "markdown",
   "metadata": {},
   "source": [
    "#### B2B"
   ]
  },
  {
   "cell_type": "code",
   "execution_count": null,
   "metadata": {
    "tags": []
   },
   "outputs": [],
   "source": [
    "args = {\"data\": df_3classes_GKM_B2B, \"n_splits\": 5, \"max_neurons\": 256, \"activations\": [\"relu\", \"tanh\", \"sigmoid\"], \"classes_n\": len(interval_lst), \"loss_fn\": \"sparse_categorical_crossentropy\"}\n",
    "scores_3classes_GKM_B2B = calc_once(\"scores_3classes_GKM_B2B\", test_classification_model, args)\n",
    "plot_cm(scores_3classes_GKM_B2B, interval_lst)"
   ]
  },
  {
   "cell_type": "code",
   "execution_count": null,
   "metadata": {
    "tags": []
   },
   "outputs": [],
   "source": [
    "args = {\"data\": df_3classes_GKM_B2B, \"n_splits\": 5, \"max_neurons\": 256, \"activations\": [\"relu\", \"tanh\", \"sigmoid\"], \"classes_n\": len(interval_lst), \"loss_fn\": \"sparse_categorical_crossentropy\", \"use_osnr\": False}\n",
    "scores_3classes_woOSNR_GKM_B2B = calc_once(\"scores_3classes_woOSNR_GKM_B2B\", test_classification_model, args)\n",
    "plot_cm(scores_3classes_woOSNR_GKM_B2B, interval_lst)"
   ]
  },
  {
   "cell_type": "markdown",
   "metadata": {},
   "source": [
    "#### Fibra óptica a 0dBm"
   ]
  },
  {
   "cell_type": "code",
   "execution_count": null,
   "metadata": {
    "tags": []
   },
   "outputs": [],
   "source": [
    "args = {\"data\": df_3classes_GKM_fiber0, \"n_splits\": 5, \"max_neurons\": 256, \"activations\": [\"relu\", \"tanh\", \"sigmoid\"], \"classes_n\": len(interval_lst), \"loss_fn\": \"sparse_categorical_crossentropy\"}\n",
    "scores_3classes_GKM_fiber0 = calc_once(\"scores_3classes_GKM_fiber0\", test_classification_model, args)\n",
    "plot_cm(scores_3classes_GKM_fiber0, interval_lst)"
   ]
  },
  {
   "cell_type": "code",
   "execution_count": null,
   "metadata": {
    "tags": []
   },
   "outputs": [],
   "source": [
    "args = {\"data\": df_3classes_GKM_fiber0, \"n_splits\": 5, \"max_neurons\": 256, \"activations\": [\"relu\", \"tanh\", \"sigmoid\"], \"classes_n\": len(interval_lst), \"loss_fn\": \"sparse_categorical_crossentropy\", \"use_osnr\": False}\n",
    "scores_3classes_woOSNR_GKM_fiber0 = calc_once(\"scores_3classes_woOSNR_GKM_fiber0\", test_classification_model, args)\n",
    "plot_cm(scores_3classes_woOSNR_GKM_fiber0, interval_lst)"
   ]
  },
  {
   "cell_type": "markdown",
   "metadata": {},
   "source": [
    "#### Fibra óptica a 9dBm"
   ]
  },
  {
   "cell_type": "code",
   "execution_count": null,
   "metadata": {
    "tags": []
   },
   "outputs": [],
   "source": [
    "args = {\"data\": df_3classes_GKM_fiber9, \"n_splits\": 5, \"max_neurons\": 256, \"activations\": [\"relu\", \"tanh\", \"sigmoid\"], \"classes_n\": len(interval_lst), \"loss_fn\": \"sparse_categorical_crossentropy\"}\n",
    "scores_3classes_GKM_fiber9 = calc_once(\"scores_3classes_GKM_fiber9\", test_classification_model, args)\n",
    "plot_cm(scores_3classes_GKM_fiber9, interval_lst)"
   ]
  },
  {
   "cell_type": "code",
   "execution_count": null,
   "metadata": {
    "tags": []
   },
   "outputs": [],
   "source": [
    "args = {\"data\": df_3classes_GKM_fiber9, \"n_splits\": 5, \"max_neurons\": 256, \"activations\": [\"relu\", \"tanh\", \"sigmoid\"], \"classes_n\": len(interval_lst), \"loss_fn\": \"sparse_categorical_crossentropy\", \"use_osnr\": False}\n",
    "scores_3classes_woOSNR_GKM_fiber9 = calc_once(\"scores_3classes_woOSNR_GKM_fiber9\", test_classification_model, args)\n",
    "plot_cm(scores_3classes_woOSNR_GKM_fiber9, interval_lst)"
   ]
  },
  {
   "cell_type": "code",
   "execution_count": null,
   "metadata": {
    "tags": []
   },
   "outputs": [],
   "source": [
    "%store scores_3classes_FCM_B2B\n",
    "%store scores_3classes_GKM_B2B\n",
    "%store scores_3classes_FCM_fiber0\n",
    "%store scores_3classes_GKM_fiber0\n",
    "%store scores_3classes_FCM_fiber9\n",
    "%store scores_3classes_GKM_fiber9\n",
    "\n",
    "%store scores_3classes_woOSNR_FCM_B2B\n",
    "%store scores_3classes_woOSNR_GKM_B2B\n",
    "%store scores_3classes_woOSNR_FCM_fiber0\n",
    "%store scores_3classes_woOSNR_GKM_fiber0\n",
    "%store scores_3classes_woOSNR_FCM_fiber9\n",
    "%store scores_3classes_woOSNR_GKM_fiber9"
   ]
  },
  {
   "cell_type": "markdown",
   "metadata": {},
   "source": [
    "### Gráficas"
   ]
  },
  {
   "cell_type": "code",
   "execution_count": null,
   "metadata": {
    "tags": []
   },
   "outputs": [],
   "source": [
    "scores = [scores_3classes_FCM_B2B, scores_3classes_GKM_B2B, scores_3classes_FCM_fiber0, scores_3classes_GKM_fiber0, scores_3classes_FCM_fiber9, scores_3classes_GKM_fiber0]\n",
    "plot_classes_scores(scores, \"3 classes evaluation\")"
   ]
  },
  {
   "cell_type": "markdown",
   "metadata": {
    "tags": []
   },
   "source": [
    "## 4 clases"
   ]
  },
  {
   "cell_type": "markdown",
   "metadata": {},
   "source": [
    "### FCM"
   ]
  },
  {
   "cell_type": "code",
   "execution_count": null,
   "metadata": {
    "tags": []
   },
   "outputs": [],
   "source": [
    "interval_lst = [(0, 31.5), (31.5, 33.5), (33.5, 35), (35, 50)]\n",
    "df_4classes_FCM = classificator(df_FCM, interval_lst, \"column_20\")\n",
    "\n",
    "# Scenarios split\n",
    "# Back-to-back (B2B)\n",
    "df_4classes_FCM_B2B = df_4classes_FCM[0:987, :]\n",
    "# 0dBm optical fiber\n",
    "df_4classes_FCM_fiber0 = df_4classes_FCM[988:1520, :]\n",
    "# 9dBm optical fiber\n",
    "df_4classes_FCM_fiber9 = df_4classes_FCM[1521:, :]"
   ]
  },
  {
   "cell_type": "markdown",
   "metadata": {},
   "source": [
    "#### B2B"
   ]
  },
  {
   "cell_type": "code",
   "execution_count": null,
   "metadata": {
    "tags": []
   },
   "outputs": [],
   "source": [
    "args = {\"data\": df_4classes_FCM_B2B, \"n_splits\": 5, \"max_neurons\": 256, \"activations\": [\"relu\", \"tanh\", \"sigmoid\"], \"classes_n\": len(interval_lst), \"loss_fn\": \"sparse_categorical_crossentropy\"}\n",
    "scores_4classes_FCM_B2B = calc_once(\"scores_4classes_FCM_B2B\", test_classification_model, args)\n",
    "plot_cm(scores_4classes_FCM_B2B, interval_lst)"
   ]
  },
  {
   "cell_type": "code",
   "execution_count": null,
   "metadata": {
    "tags": []
   },
   "outputs": [],
   "source": [
    "args = {\"data\": df_4classes_FCM_B2B, \"n_splits\": 5, \"max_neurons\": 256, \"activations\": [\"relu\", \"tanh\", \"sigmoid\"], \"classes_n\": len(interval_lst), \"loss_fn\": \"sparse_categorical_crossentropy\", \"use_osnr\": False}\n",
    "scores_4classes_woOSNR_FCM_B2B = calc_once(\"scores_4classes_woOSNR_FCM_B2B\", test_classification_model, args)\n",
    "plot_cm(scores_4classes_woOSNR_FCM_B2B, interval_lst)"
   ]
  },
  {
   "cell_type": "markdown",
   "metadata": {},
   "source": [
    "#### Fibra óptica a 0dBm"
   ]
  },
  {
   "cell_type": "code",
   "execution_count": null,
   "metadata": {
    "tags": []
   },
   "outputs": [],
   "source": [
    "args = {\"data\": df_4classes_FCM_fiber0, \"n_splits\": 5, \"max_neurons\": 256, \"activations\": [\"relu\", \"tanh\", \"sigmoid\"], \"classes_n\": len(interval_lst), \"loss_fn\": \"sparse_categorical_crossentropy\"}\n",
    "scores_4classes_FCM_fiber0 = calc_once(\"scores_4classes_FCM_fiber0\", test_classification_model, args)\n",
    "plot_cm(scores_4classes_FCM_fiber0, interval_lst)"
   ]
  },
  {
   "cell_type": "code",
   "execution_count": null,
   "metadata": {
    "tags": []
   },
   "outputs": [],
   "source": [
    "args = {\"data\": df_4classes_FCM_fiber0, \"n_splits\": 5, \"max_neurons\": 256, \"activations\": [\"relu\", \"tanh\", \"sigmoid\"], \"classes_n\": len(interval_lst), \"loss_fn\": \"sparse_categorical_crossentropy\", \"use_osnr\": False}\n",
    "scores_4classes_woOSNR_FCM_fiber0 = calc_once(\"scores_4classes_woOSNR_FCM_fiber0\", test_classification_model, args)\n",
    "plot_cm(scores_4classes_woOSNR_FCM_fiber0, interval_lst)"
   ]
  },
  {
   "cell_type": "markdown",
   "metadata": {},
   "source": [
    "#### Fibra óptica a 9dBm"
   ]
  },
  {
   "cell_type": "code",
   "execution_count": null,
   "metadata": {
    "tags": []
   },
   "outputs": [],
   "source": [
    "args = {\"data\": df_4classes_FCM_fiber9, \"n_splits\": 5, \"max_neurons\": 256, \"activations\": [\"relu\", \"tanh\", \"sigmoid\"], \"classes_n\": len(interval_lst), \"loss_fn\": \"sparse_categorical_crossentropy\"}\n",
    "scores_4classes_FCM_fiber9 = calc_once(\"scores_4classes_FCM_fiber9\", test_classification_model, args)\n",
    "plot_cm(scores_4classes_FCM_fiber9, interval_lst)"
   ]
  },
  {
   "cell_type": "code",
   "execution_count": null,
   "metadata": {
    "tags": []
   },
   "outputs": [],
   "source": [
    "args = {\"data\": df_4classes_FCM_fiber9, \"n_splits\": 5, \"max_neurons\": 256, \"activations\": [\"relu\", \"tanh\", \"sigmoid\"], \"classes_n\": len(interval_lst), \"loss_fn\": \"sparse_categorical_crossentropy\", \"use_osnr\": False}\n",
    "scores_4classes_woOSNR_FCM_fiber9 = calc_once(\"scores_4classes_woOSNR_FCM_fiber9\", test_classification_model, args)\n",
    "plot_cm(scores_4classes_woOSNR_FCM_fiber9, interval_lst)"
   ]
  },
  {
   "cell_type": "markdown",
   "metadata": {},
   "source": [
    "### GKM"
   ]
  },
  {
   "cell_type": "code",
   "execution_count": null,
   "metadata": {
    "tags": []
   },
   "outputs": [],
   "source": [
    "interval_lst = [(0, 31.5), (31.5, 33.5), (33.5, 35), (35, 50)]\n",
    "df_4classes_GKM = classificator(df_GKM, interval_lst, \"column_20\")\n",
    "\n",
    "# Scenarios split\n",
    "# Back-to-back (B2B)\n",
    "df_4classes_GKM_B2B = df_4classes_GKM[0:987, :]\n",
    "# 0dBm optical fiber\n",
    "df_4classes_GKM_fiber0 = df_4classes_GKM[988:1520, :]\n",
    "# 9dBm optical fiber\n",
    "df_4classes_GKM_fiber9 = df_4classes_GKM[1521:, :]"
   ]
  },
  {
   "cell_type": "markdown",
   "metadata": {},
   "source": [
    "#### B2B"
   ]
  },
  {
   "cell_type": "code",
   "execution_count": null,
   "metadata": {
    "tags": []
   },
   "outputs": [],
   "source": [
    "args = {\"data\": df_4classes_GKM_B2B, \"n_splits\": 5, \"max_neurons\": 256, \"activations\": [\"relu\", \"tanh\", \"sigmoid\"], \"classes_n\": len(interval_lst), \"loss_fn\": \"sparse_categorical_crossentropy\"}\n",
    "scores_4classes_GKM_B2B = calc_once(\"scores_4classes_GKM_B2B\", test_classification_model, args)\n",
    "plot_cm(scores_4classes_GKM_B2B, interval_lst)"
   ]
  },
  {
   "cell_type": "code",
   "execution_count": null,
   "metadata": {
    "tags": []
   },
   "outputs": [],
   "source": [
    "args = {\"data\": df_4classes_GKM_B2B, \"n_splits\": 5, \"max_neurons\": 256, \"activations\": [\"relu\", \"tanh\", \"sigmoid\"], \"classes_n\": len(interval_lst), \"loss_fn\": \"sparse_categorical_crossentropy\", \"use_osnr\": False}\n",
    "scores_4classes_woOSNR_GKM_B2B = calc_once(\"scores_4classes_woOSNR_GKM_B2B\", test_classification_model, args)\n",
    "plot_cm(scores_4classes_woOSNR_GKM_B2B, interval_lst)"
   ]
  },
  {
   "cell_type": "markdown",
   "metadata": {},
   "source": [
    "#### Fibra óptica a 0dBm"
   ]
  },
  {
   "cell_type": "code",
   "execution_count": null,
   "metadata": {
    "tags": []
   },
   "outputs": [],
   "source": [
    "args = {\"data\": df_4classes_GKM_fiber0, \"n_splits\": 5, \"max_neurons\": 256, \"activations\": [\"relu\", \"tanh\", \"sigmoid\"], \"classes_n\": len(interval_lst), \"loss_fn\": \"sparse_categorical_crossentropy\"}\n",
    "scores_4classes_GKM_fiber0 = calc_once(\"scores_4classes_GKM_fiber0\", test_classification_model, args)\n",
    "plot_cm(scores_4classes_GKM_fiber0, interval_lst)"
   ]
  },
  {
   "cell_type": "code",
   "execution_count": null,
   "metadata": {
    "tags": []
   },
   "outputs": [],
   "source": [
    "args = {\"data\": df_4classes_GKM_fiber0, \"n_splits\": 5, \"max_neurons\": 256, \"activations\": [\"relu\", \"tanh\", \"sigmoid\"], \"classes_n\": len(interval_lst), \"loss_fn\": \"sparse_categorical_crossentropy\", \"use_osnr\": False}\n",
    "scores_4classes_woOSNR_GKM_fiber0 = calc_once(\"scores_4classes_woOSNR_GKM_fiber0\", test_classification_model, args)\n",
    "plot_cm(scores_4classes_woOSNR_GKM_fiber0, interval_lst)"
   ]
  },
  {
   "cell_type": "markdown",
   "metadata": {},
   "source": [
    "#### Fibra óptica a 9dBm"
   ]
  },
  {
   "cell_type": "code",
   "execution_count": null,
   "metadata": {
    "tags": []
   },
   "outputs": [],
   "source": [
    "args = {\"data\": df_4classes_GKM_fiber9, \"n_splits\": 5, \"max_neurons\": 256, \"activations\": [\"relu\", \"tanh\", \"sigmoid\"], \"classes_n\": len(interval_lst), \"loss_fn\": \"sparse_categorical_crossentropy\"}\n",
    "scores_4classes_GKM_fiber9 = calc_once(\"scores_4classes_GKM_fiber9\", test_classification_model, args)\n",
    "plot_cm(scores_4classes_GKM_fiber9, interval_lst)"
   ]
  },
  {
   "cell_type": "code",
   "execution_count": null,
   "metadata": {
    "tags": []
   },
   "outputs": [],
   "source": [
    "args = {\"data\": df_4classes_GKM_fiber9, \"n_splits\": 5, \"max_neurons\": 256, \"activations\": [\"relu\", \"tanh\", \"sigmoid\"], \"classes_n\": len(interval_lst), \"loss_fn\": \"sparse_categorical_crossentropy\", \"use_osnr\": False}\n",
    "scores_4classes_woOSNR_GKM_fiber9 = calc_once(\"scores_4classes_woOSNR_GKM_fiber9\", test_classification_model, args)\n",
    "plot_cm(scores_4classes_woOSNR_GKM_fiber9, interval_lst)"
   ]
  },
  {
   "cell_type": "code",
   "execution_count": null,
   "metadata": {
    "tags": []
   },
   "outputs": [],
   "source": [
    "%store scores_4classes_FCM_B2B\n",
    "%store scores_4classes_GKM_B2B\n",
    "%store scores_4classes_FCM_fiber0\n",
    "%store scores_4classes_GKM_fiber0\n",
    "%store scores_4classes_FCM_fiber9\n",
    "%store scores_4classes_GKM_fiber9\n",
    "\n",
    "%store scores_4classes_woOSNR_FCM_B2B\n",
    "%store scores_4classes_woOSNR_GKM_B2B\n",
    "%store scores_4classes_woOSNR_FCM_fiber0\n",
    "%store scores_4classes_woOSNR_GKM_fiber0\n",
    "%store scores_4classes_woOSNR_FCM_fiber9\n",
    "%store scores_4classes_woOSNR_GKM_fiber9"
   ]
  },
  {
   "cell_type": "markdown",
   "metadata": {},
   "source": [
    "### Gráficas"
   ]
  },
  {
   "cell_type": "code",
   "execution_count": null,
   "metadata": {
    "tags": []
   },
   "outputs": [],
   "source": [
    "scores = [scores_4classes_FCM_B2B, scores_4classes_GKM_B2B, scores_4classes_FCM_fiber0, scores_4classes_GKM_fiber0, scores_4classes_FCM_fiber9, scores_4classes_GKM_fiber0]\n",
    "plot_classes_scores(scores, \"4 classes evaluation\")"
   ]
  },
  {
   "cell_type": "markdown",
   "metadata": {
    "tags": []
   },
   "source": [
    "## 5 clases"
   ]
  },
  {
   "cell_type": "markdown",
   "metadata": {},
   "source": [
    "### FCM"
   ]
  },
  {
   "cell_type": "code",
   "execution_count": null,
   "metadata": {
    "tags": []
   },
   "outputs": [],
   "source": [
    "interval_lst = [(0, 31.5), (31.5, 33.5), (33.5, 35), (35, 37.5), (37.5, 50)]\n",
    "df_5classes_FCM = classificator(df_FCM, interval_lst, \"column_20\")\n",
    "\n",
    "# Scenarios split\n",
    "# Back-to-back (B2B)\n",
    "df_5classes_FCM_B2B = df_5classes_FCM[0:987, :]\n",
    "# 0dBm optical fiber\n",
    "df_5classes_FCM_fiber0 = df_5classes_FCM[988:1520, :]\n",
    "# 9dBm optical fiber\n",
    "df_5classes_FCM_fiber9 = df_5classes_FCM[1521:, :]"
   ]
  },
  {
   "cell_type": "markdown",
   "metadata": {},
   "source": [
    "#### B2B"
   ]
  },
  {
   "cell_type": "code",
   "execution_count": null,
   "metadata": {
    "tags": []
   },
   "outputs": [],
   "source": [
    "args = {\"data\": df_5classes_FCM_B2B, \"n_splits\": 5, \"max_neurons\": 256, \"activations\": [\"relu\", \"tanh\", \"sigmoid\"], \"classes_n\": len(interval_lst), \"loss_fn\": \"sparse_categorical_crossentropy\"}\n",
    "scores_5classes_FCM_B2B = calc_once(\"scores_5classes_FCM_B2B\", test_classification_model, args)\n",
    "plot_cm(scores_5classes_FCM_B2B, interval_lst)"
   ]
  },
  {
   "cell_type": "code",
   "execution_count": null,
   "metadata": {
    "tags": []
   },
   "outputs": [],
   "source": [
    "args = {\"data\": df_5classes_FCM_B2B, \"n_splits\": 5, \"max_neurons\": 256, \"activations\": [\"relu\", \"tanh\", \"sigmoid\"], \"classes_n\": len(interval_lst), \"loss_fn\": \"sparse_categorical_crossentropy\", \"use_osnr\": False}\n",
    "scores_5classes_woOSNR_FCM_B2B = calc_once(\"scores_5classes_woOSNR_FCM_B2B\", test_classification_model, args)\n",
    "plot_cm(scores_5classes_woOSNR_FCM_B2B, interval_lst)"
   ]
  },
  {
   "cell_type": "markdown",
   "metadata": {},
   "source": [
    "#### Fibra óptica a 0dBm"
   ]
  },
  {
   "cell_type": "code",
   "execution_count": null,
   "metadata": {
    "tags": []
   },
   "outputs": [],
   "source": [
    "bargs = {\"data\": df_5classes_FCM_fiber0, \"n_splits\": 5, \"max_neurons\": 256, \"activations\": [\"relu\", \"tanh\", \"sigmoid\"], \"classes_n\": len(interval_lst), \"loss_fn\": \"sparse_categorical_crossentropy\"}\n",
    "scores_5classes_FCM_fiber0 = calc_once(\"scores_5classes_FCM_fiber0\", test_classification_model, args)\n",
    "plot_cm(scores_5classes_FCM_fiber0, interval_lst)"
   ]
  },
  {
   "cell_type": "code",
   "execution_count": null,
   "metadata": {
    "tags": []
   },
   "outputs": [],
   "source": [
    "args = {\"data\": df_5classes_FCM_fiber0, \"n_splits\": 5, \"max_neurons\": 256, \"activations\": [\"relu\", \"tanh\", \"sigmoid\"], \"classes_n\": len(interval_lst), \"loss_fn\": \"sparse_categorical_crossentropy\", \"use_osnr\": False}\n",
    "scores_5classes_woOSNR_FCM_fiber0 = calc_once(\"scores_5classes_woOSNR_FCM_fiber0\", test_classification_model, args)\n",
    "plot_cm(scores_5classes_woOSNR_FCM_fiber0, interval_lst)"
   ]
  },
  {
   "cell_type": "markdown",
   "metadata": {},
   "source": [
    "#### Fibra óptica a 9dBm"
   ]
  },
  {
   "cell_type": "code",
   "execution_count": null,
   "metadata": {
    "tags": []
   },
   "outputs": [],
   "source": [
    "args = {\"data\": df_5classes_FCM_fiber9, \"n_splits\": 5, \"max_neurons\": 256, \"activations\": [\"relu\", \"tanh\", \"sigmoid\"], \"classes_n\": len(interval_lst), \"loss_fn\": \"sparse_categorical_crossentropy\"}\n",
    "scores_5classes_FCM_fiber9 = calc_once(\"scores_5classes_FCM_fiber9\", test_classification_model, args)\n",
    "plot_cm(scores_5classes_FCM_fiber9, interval_lst)"
   ]
  },
  {
   "cell_type": "code",
   "execution_count": null,
   "metadata": {
    "tags": []
   },
   "outputs": [],
   "source": [
    "args = {\"data\": df_5classes_FCM_fiber9, \"n_splits\": 5, \"max_neurons\": 256, \"activations\": [\"relu\", \"tanh\", \"sigmoid\"], \"classes_n\": len(interval_lst), \"loss_fn\": \"sparse_categorical_crossentropy\", \"use_osnr\": False}\n",
    "scores_5classes_woOSNR_FCM_fiber9 = calc_once(\"scores_5classes_woOSNR_FCM_fiber9\", test_classification_model, args)\n",
    "plot_cm(scores_5classes_woOSNR_FCM_fiber9, interval_lst)"
   ]
  },
  {
   "cell_type": "markdown",
   "metadata": {},
   "source": [
    "### GKM"
   ]
  },
  {
   "cell_type": "code",
   "execution_count": null,
   "metadata": {
    "tags": []
   },
   "outputs": [],
   "source": [
    "interval_lst = [(0, 31.5), (31.5, 33.5), (33.5, 35), (35, 37.5), (37.5, 50)]\n",
    "df_5classes_GKM = classificator(df_GKM, interval_lst, \"column_20\")\n",
    "\n",
    "# Scenarios split\n",
    "# Back-to-back (B2B)\n",
    "df_5classes_GKM_B2B = df_5classes_GKM[0:987, :]\n",
    "# 0dBm optical fiber\n",
    "df_5classes_GKM_fiber0 = df_5classes_GKM[988:1520, :]\n",
    "# 9dBm optical fiber\n",
    "df_5classes_GKM_fiber9 = df_5classes_GKM[1521:, :]"
   ]
  },
  {
   "cell_type": "markdown",
   "metadata": {},
   "source": [
    "#### B2B"
   ]
  },
  {
   "cell_type": "code",
   "execution_count": null,
   "metadata": {
    "tags": []
   },
   "outputs": [],
   "source": [
    "args = {\"data\": df_5classes_GKM_B2B, \"n_splits\": 5, \"max_neurons\": 256, \"activations\": [\"relu\", \"tanh\", \"sigmoid\"], \"classes_n\": len(interval_lst), \"loss_fn\": \"sparse_categorical_crossentropy\"}\n",
    "scores_5classes_GKM_B2B = calc_once(\"scores_5classes_GKM_B2B\", test_classification_model, args)\n",
    "plot_cm(scores_5classes_GKM_B2B, interval_lst)"
   ]
  },
  {
   "cell_type": "code",
   "execution_count": null,
   "metadata": {
    "tags": []
   },
   "outputs": [],
   "source": [
    "args = {\"data\": df_5classes_GKM_B2B, \"n_splits\": 5, \"max_neurons\": 256, \"activations\": [\"relu\", \"tanh\", \"sigmoid\"], \"classes_n\": len(interval_lst), \"loss_fn\": \"sparse_categorical_crossentropy\", \"use_osnr\": False}\n",
    "scores_5classes_woOSNR_GKM_B2B = calc_once(\"scores_5classes_woOSNR_GKM_B2B\", test_classification_model, args)\n",
    "plot_cm(scores_5classes_woOSNR_GKM_B2B, interval_lst)"
   ]
  },
  {
   "cell_type": "markdown",
   "metadata": {},
   "source": [
    "#### Fibra óptica a 0dBm"
   ]
  },
  {
   "cell_type": "code",
   "execution_count": null,
   "metadata": {
    "tags": []
   },
   "outputs": [],
   "source": [
    "args = {\"data\": df_5classes_GKM_fiber0, \"n_splits\": 5, \"max_neurons\": 256, \"activations\": [\"relu\", \"tanh\", \"sigmoid\"], \"classes_n\": len(interval_lst), \"loss_fn\": \"sparse_categorical_crossentropy\"}\n",
    "scores_5classes_GKM_fiber0 = calc_once(\"scores_5classes_GKM_fiber0\", test_classification_model, args)\n",
    "plot_cm(scores_5classes_GKM_fiber0, interval_lst)"
   ]
  },
  {
   "cell_type": "code",
   "execution_count": null,
   "metadata": {
    "tags": []
   },
   "outputs": [],
   "source": [
    "args = {\"data\": df_5classes_GKM_fiber0, \"n_splits\": 5, \"max_neurons\": 256, \"activations\": [\"relu\", \"tanh\", \"sigmoid\"], \"classes_n\": len(interval_lst), \"loss_fn\": \"sparse_categorical_crossentropy\", \"use_osnr\": False}\n",
    "scores_5classes_woOSNR_GKM_fiber0 = calc_once(\"scores_5classes_woOSNR_GKM_fiber0\", test_classification_model, args)\n",
    "plot_cm(scores_5classes_woOSNR_GKM_fiber0, interval_lst)"
   ]
  },
  {
   "cell_type": "markdown",
   "metadata": {},
   "source": [
    "#### Fibra óptica a 9dBm"
   ]
  },
  {
   "cell_type": "code",
   "execution_count": null,
   "metadata": {
    "tags": []
   },
   "outputs": [],
   "source": [
    "args = {\"data\": df_5classes_GKM_fiber9, \"n_splits\": 5, \"max_neurons\": 256, \"activations\": [\"relu\", \"tanh\", \"sigmoid\"], \"classes_n\": len(interval_lst), \"loss_fn\": \"sparse_categorical_crossentropy\"}\n",
    "scores_5classes_GKM_fiber9 = calc_once(\"scores_5classes_GKM_fiber9\", test_classification_model, args)\n",
    "plot_cm(scores_5classes_GKM_fiber9, interval_lst)"
   ]
  },
  {
   "cell_type": "code",
   "execution_count": null,
   "metadata": {
    "tags": []
   },
   "outputs": [],
   "source": [
    "args = {\"data\": df_5classes_GKM_fiber9, \"n_splits\": 5, \"max_neurons\": 256, \"activations\": [\"relu\", \"tanh\", \"sigmoid\"], \"classes_n\": len(interval_lst), \"loss_fn\": \"sparse_categorical_crossentropy\", \"use_osnr\": False}\n",
    "scores_5classes_woOSNR_GKM_fiber9 = calc_once(\"scores_5classes_woOSNR_GKM_fiber9\", test_classification_model, args)\n",
    "plot_cm(scores_5classes_woOSNR_GKM_fiber9, interval_lst)"
   ]
  },
  {
   "cell_type": "code",
   "execution_count": null,
   "metadata": {
    "tags": []
   },
   "outputs": [],
   "source": [
    "%store scores_5classes_FCM_B2B\n",
    "%store scores_5classes_GKM_B2B\n",
    "%store scores_5classes_FCM_fiber0\n",
    "%store scores_5classes_GKM_fiber0\n",
    "%store scores_5classes_FCM_fiber9\n",
    "%store scores_5classes_GKM_fiber9\n",
    "\n",
    "%store scores_5classes_woOSNR_FCM_B2B\n",
    "%store scores_5classes_woOSNR_GKM_B2B\n",
    "%store scores_5classes_woOSNR_FCM_fiber0\n",
    "%store scores_5classes_woOSNR_GKM_fiber0\n",
    "%store scores_5classes_woOSNR_FCM_fiber9\n",
    "%store scores_5classes_woOSNR_GKM_fiber9"
   ]
  },
  {
   "cell_type": "markdown",
   "metadata": {},
   "source": [
    "### Gráficas"
   ]
  },
  {
   "cell_type": "code",
   "execution_count": null,
   "metadata": {
    "tags": []
   },
   "outputs": [],
   "source": [
    "scores = [scores_5classes_FCM_B2B, scores_5classes_GKM_B2B, scores_5classes_FCM_fiber0, scores_5classes_GKM_fiber0, scores_5classes_FCM_fiber9, scores_5classes_GKM_fiber0]\n",
    "plot_classes_scores(scores, \"5 classes evaluation\")"
   ]
  },
  {
   "cell_type": "markdown",
   "metadata": {},
   "source": [
    "## Gráfica final"
   ]
  },
  {
   "cell_type": "code",
   "execution_count": null,
   "metadata": {
    "tags": []
   },
   "outputs": [],
   "source": [
    "algorithms = [\"FCM\", \"GKM\"]\n",
    "classes_n = [2, 3, 4, 5]\n",
    "scenarios = [\"B2B\", \"fiber0\", \"fiber9\"]\n",
    "OSNR = [\"\", \"_woOSNR\"]\n",
    "classes_scores = {f\"scores{osnr}_{algo}_{scenario}\":\n",
    "                  [np.average(\n",
    "                      eval(f\"scores_{n}classes{osnr}_{algo}_{scenario}\").get(\n",
    "                          \"acc\"\n",
    "                      ).get(\n",
    "                          \"test\"\n",
    "                      )\n",
    "                  ) for n in classes_n]\n",
    "                  for algo in algorithms for osnr in OSNR for scenario in scenarios\n",
    "                 }\n",
    "# Markers for algorithm \n",
    "markers = {\"FCM\": \"^\", \"GKM\": \"s\"}\n",
    "\n",
    "# Colors for scenario (blue for B2B, orange for 0dBm, red for 9dBm)\n",
    "colors = {\"B2B\": [\"blue\", \"magenta\"], \"fiber0\": [\"orange\", \"green\"], \"fiber9\": [\"red\", \"cyan\"]}\n",
    "\n",
    "plt.figure(figsize=(8, 6), layout=\"constrained\")\n",
    "ax = plt.subplot(1, 1, 1)\n",
    "for algo in algorithms:\n",
    "    for scenario in scenarios:\n",
    "        for osnr in OSNR:\n",
    "            scenario_label = \"Fiber @ 0 dBm\" if scenario == \"fiber0\" else \"Fiber @ 9 dBm\" if scenario != \"B2B\" else scenario\n",
    "            OSNR_label = \"+ OSNR\" if osnr == \"\" else \"\"\n",
    "            label = f\"{algo} {scenario_label} {OSNR_label}\"\n",
    "            color = colors.get(scenario)[0 if OSNR_label == \"\" else 1]\n",
    "            marker = markers.get(algo)\n",
    "            markeredgecolor = \"black\" if algo == \"FCM\" else None\n",
    "            plt.plot(classes_n, classes_scores.get(f\"scores{osnr}_{algo}_{scenario}\"),\n",
    "                     color=color, marker=marker, linestyle=\"--\",\n",
    "                     markeredgecolor=markeredgecolor,\n",
    "                     label=f\"{label}\")\n",
    "plt.xlabel(\"Number of classes\")\n",
    "ax.set_xticks(classes_n)\n",
    "plt.ylabel(\"Accuracy\")\n",
    "# Shrink current axis by 20%\n",
    "box = ax.get_position()\n",
    "ax.set_position([box.x0, box.y0, box.width * 0.8, box.height])\n",
    "\n",
    "# Transparent white box black edge legend\n",
    "legend = plt.legend(loc=\"center left\", bbox_to_anchor=(1, 0.5),\n",
    "                    edgecolor=\"black\")\n",
    "legend.get_frame().set_alpha(None)\n",
    "legend.get_frame().set_facecolor((1, 1, 1, 0.01))\n",
    "plt.grid(True)\n",
    "\n",
    "plt.savefig(\"classes.svg\", format=\"svg\", transparent=True, bbox_inches=\"tight\")"
   ]
  },
  {
   "cell_type": "markdown",
   "metadata": {},
   "source": [
    "## Tabla"
   ]
  },
  {
   "cell_type": "code",
   "execution_count": null,
   "metadata": {
    "tags": []
   },
   "outputs": [],
   "source": [
    "scores = [scores_2classes_FCM_B2B, scores_3classes_FCM_B2B, scores_4classes_FCM_B2B, scores_5classes_FCM_B2B]\n",
    "scores_classes_FCM_B2B = [float(np.average(score_classes_FCM_B2B.get(\"acc\").get(\"test\"))) for score_classes_FCM_B2B in scores]\n",
    "\n",
    "scores = [scores_2classes_FCM_fiber0, scores_3classes_FCM_fiber0, scores_4classes_FCM_fiber0, scores_5classes_FCM_fiber0]\n",
    "scores_classes_FCM_fiber0 = [float(np.average(score_classes_FCM_fiber0.get(\"acc\").get(\"test\"))) for score_classes_FCM_fiber0 in scores]\n",
    "\n",
    "scores = [scores_2classes_FCM_fiber9, scores_3classes_FCM_fiber9, scores_4classes_FCM_fiber9, scores_5classes_FCM_fiber9]\n",
    "scores_classes_FCM_fiber9 = [float(np.average(score_classes_FCM_fiber9.get(\"acc\").get(\"test\"))) for score_classes_FCM_fiber9 in scores]\n",
    "\n",
    "classifier_FCM_df = pl.DataFrame(\n",
    "        {\"Classes\": range(2, 6), \"B2B\": scores_classes_FCM_B2B, \"Fiber @ 0dBm\": scores_classes_FCM_fiber0, \"Fiber @ 9dBm\": scores_classes_FCM_fiber9}\n",
    "    )\n",
    "\n",
    "classifier_FCM_df"
   ]
  },
  {
   "cell_type": "code",
   "execution_count": null,
   "metadata": {
    "tags": []
   },
   "outputs": [],
   "source": [
    "scores = [scores_2classes_GKM_B2B, scores_3classes_GKM_B2B, scores_4classes_GKM_B2B, scores_5classes_GKM_B2B]\n",
    "scores_classes_GKM_B2B = [float(np.average(score_classes_GKM_B2B.get(\"acc\").get(\"test\"))) for score_classes_GKM_B2B in scores]\n",
    "\n",
    "scores = [scores_2classes_GKM_fiber0, scores_3classes_GKM_fiber0, scores_4classes_GKM_fiber0, scores_5classes_GKM_fiber0]\n",
    "scores_classes_GKM_fiber0 = [float(np.average(score_classes_GKM_fiber0.get(\"acc\").get(\"test\"))) for score_classes_GKM_fiber0 in scores]\n",
    "\n",
    "scores = [scores_2classes_GKM_fiber9, scores_3classes_GKM_fiber9, scores_4classes_GKM_fiber9, scores_5classes_GKM_fiber9]\n",
    "scores_classes_GKM_fiber9 = [float(np.average(score_classes_GKM_fiber9.get(\"acc\").get(\"test\"))) for score_classes_GKM_fiber9 in scores]\n",
    "\n",
    "classifier_GKM_df = pl.DataFrame(\n",
    "        {\"Classes\": range(2, 6), \"B2B\": scores_classes_GKM_B2B, \"Fiber @ 0dBm\": scores_classes_GKM_fiber0, \"Fiber @ 9dBm\": scores_classes_GKM_fiber9}\n",
    "    )\n",
    "\n",
    "classifier_GKM_df"
   ]
  }
 ],
 "metadata": {
  "colab": {
   "name": "Copia de Regressor.ipynb",
   "provenance": []
  },
  "kernelspec": {
   "display_name": "Python 3 (ipykernel)",
   "language": "python",
   "name": "python3"
  },
  "language_info": {
   "codemirror_mode": {
    "name": "ipython",
    "version": 3
   },
   "file_extension": ".py",
   "mimetype": "text/x-python",
   "name": "python",
   "nbconvert_exporter": "python",
   "pygments_lexer": "ipython3",
   "version": "3.11.4"
  },
  "toc-autonumbering": false,
  "toc-showcode": false,
  "toc-showmarkdowntxt": false,
  "toc-showtags": false
 },
 "nbformat": 4,
 "nbformat_minor": 4
}
