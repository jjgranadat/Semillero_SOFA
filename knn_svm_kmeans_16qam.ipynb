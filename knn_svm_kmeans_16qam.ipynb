{
 "cells": [
  {
   "cell_type": "markdown",
   "metadata": {
    "colab_type": "text",
    "id": "view-in-github"
   },
   "source": [
    "<a href=\"https://colab.research.google.com/github/jjgranadat/Semillero_SOFA/blob/C%C3%A9sar/knn_svm_kmeans_16qam.ipynb\" target=\"_parent\"><img src=\"https://colab.research.google.com/assets/colab-badge.svg\" alt=\"Open In Colab\"/></a>"
   ]
  },
  {
   "cell_type": "markdown",
   "metadata": {
    "id": "jh66PPf4sCE2"
   },
   "source": [
    "## Librerías"
   ]
  },
  {
   "cell_type": "code",
   "execution_count": null,
   "metadata": {
    "id": "yTRqjMQ70rxa",
    "tags": []
   },
   "outputs": [],
   "source": [
    "import pandas as pd\n",
    "import numpy as np\n",
    "import scipy as sp\n",
    "import matplotlib.pyplot as plt\n",
    "import os\n",
    "\n",
    "from sklearn import metrics\n",
    "from sklearn.neighbors import KNeighborsClassifier\n",
    "from sklearn.cluster import KMeans\n",
    "from sklearn.svm import SVC\n",
    "from sklearn.model_selection import train_test_split, GridSearchCV\n",
    "\n",
    "from scipy.io import loadmat"
   ]
  },
  {
   "cell_type": "markdown",
   "metadata": {
    "id": "jaWg7p8lsD0b"
   },
   "source": [
    "## Globales"
   ]
  },
  {
   "cell_type": "code",
   "execution_count": null,
   "metadata": {
    "id": "p2N_fGftsGHK",
    "tags": []
   },
   "outputs": [],
   "source": [
    "def download_file(link):\n",
    "    # Nombre del archivo\n",
    "    file = link.split('/')[-1]\n",
    "    \n",
    "    # Descarga el archivo si no se ha hecho aún\n",
    "    !if ! [[ -f \"$file\" ]]; then wget $link; fi;\n",
    "\n",
    "    return file\n",
    "\n",
    "\n",
    "# Función especial para leer todos los datos con la estructura estudiada\n",
    "def read_data(folder_rx):\n",
    "    data = {}\n",
    "\n",
    "    # Leer la carpeta principal\n",
    "    for folder in os.listdir(folder_rx):\n",
    "        # Leer las subcarpetas\n",
    "        if folder.endswith(\"spacing\"):\n",
    "            data[folder] = {}\n",
    "            for file in os.listdir(f\"{folder_rx}/{folder}\"):\n",
    "                if file.find(\"consY\") != -1:\n",
    "                    data_name = file.split(\"_\")[2]\n",
    "                    if data[folder].get(data_name) == None:\n",
    "                        data[folder][data_name] = {}\n",
    "                    mat_file_data = loadmat(f\"{folder_rx}/{folder}/{file}\")\n",
    "                    data[folder][data_name] = mat_file_data\n",
    "    return data"
   ]
  },
  {
   "cell_type": "markdown",
   "metadata": {
    "id": "ZH1_abQpgQ_C"
   },
   "source": [
    "## Librería de funciones"
   ]
  },
  {
   "cell_type": "code",
   "execution_count": null,
   "metadata": {
    "id": "g2N_z5M3gQcK",
    "tags": []
   },
   "outputs": [],
   "source": [
    "#LIB_LINK = \"https://raw.githubusercontent.com/jjgranadat/Semillero_SOFA/C%C3%A9sar/sofa.py\"\n",
    "#LIB_FILE = download_file(LIB_LINK)\n",
    "import sofa"
   ]
  },
  {
   "cell_type": "markdown",
   "metadata": {
    "id": "AZs5hIMpuIFG"
   },
   "source": [
    "## Datos experimentales"
   ]
  },
  {
   "cell_type": "code",
   "execution_count": null,
   "metadata": {
    "colab": {
     "base_uri": "https://localhost:8080/"
    },
    "id": "2fGYKxU3uMwf",
    "outputId": "c9834d17-f8db-492f-f8e5-3cd05dce1eb6",
    "tags": []
   },
   "outputs": [],
   "source": [
    "# Enlace del archivo (raw)\n",
    "# link_rx = \"https://github.com/jjgranadat/Semillero_SOFA/raw/main/16QAM_3x16GBd_consY250km_00010.mat\"\n",
    "# link_tx = \"https://github.com/jjgranadat/Semillero_SOFA/raw/main/2x16QAM_16GBd.mat\"\n",
    "\n",
    "# file_rx = download_file(link_rx)\n",
    "# X_ch_norm = loadmat(file_rx)\n",
    "# print(f\"Las llaves de X_ch son: {X_ch_norm.keys()}\")\n",
    "# X_ch_norm = X_ch_norm.get(\"const_Y\").flatten()\n",
    "# X_ch = sofa.mod_norm(X_ch_norm, 10)*X_ch_norm\n",
    "# print(f\"El tamaño de X_ch es: {X_ch_norm.shape}\")\n",
    "\n",
    "# file_tx = download_file(link_tx)\n",
    "# X_tx_norm = loadmat(file_tx)\n",
    "# print(f\"Las llaves de X_tx son: {X_tx_norm.keys()}\")\n",
    "# X_tx_norm = X_tx_norm.get(\"Constellation\").flatten()[0][1].flatten()\n",
    "# X_tx = sofa.mod_norm(X_tx_norm, 10)*X_tx_norm\n",
    "# print(f\"El tamaño de X_tx es: {X_tx_norm.shape}\")"
   ]
  },
  {
   "cell_type": "code",
   "execution_count": null,
   "metadata": {
    "colab": {
     "base_uri": "https://localhost:8080/",
     "height": 621
    },
    "id": "F2_5BERE2qJU",
    "outputId": "a304ca85-171f-4e4e-fff1-139cf18aecfb",
    "tags": []
   },
   "outputs": [],
   "source": [
    "file_tx = \"Datos/2x16QAM_16GBd.mat\"\n",
    "folder_rx = \"Datos/\"\n",
    "\n",
    "# Datos transmitidos\n",
    "X_tx_norm = loadmat(file_tx)\n",
    "X_tx_norm = X_tx_norm.get(\"Constellation\").flatten()[0][0].flatten()\n",
    "X_tx = sofa.mod_norm(X_tx_norm, 10)*X_tx_norm\n",
    "\n",
    "# Leer los datos recibidos\n",
    "data = read_data(folder_rx)"
   ]
  },
  {
   "cell_type": "markdown",
   "metadata": {
    "id": "bmMrMnhgZRrd",
    "tags": []
   },
   "source": [
    "## Demodulación usando KMeans"
   ]
  },
  {
   "cell_type": "code",
   "execution_count": null,
   "metadata": {
    "tags": []
   },
   "outputs": [
    {
     "name": "stdout",
     "output_type": "stream",
     "text": [
      "SNR 18dB terminado.\n",
      "SNR 19dB terminado.\n",
      "SNR 20dB terminado.\n",
      "SNR 23dB terminado.\n",
      "SNR 25dB terminado.\n",
      "SNR 27dB terminado.\n"
     ]
    }
   ],
   "source": [
    "spacing = \"18GHz_spacing\"\n",
    "\n",
    "ber = {}\n",
    "\n",
    "plt.figure(figsize = (16, 16))\n",
    "\n",
    "for i, snr in enumerate(data[spacing]):\n",
    "    # Extraer información\n",
    "    X_ch_norm = data[spacing][snr].get(\"const_Y\").flatten()\n",
    "    X_ch = sofa.mod_norm(X_ch_norm, 10)*X_ch_norm\n",
    "    Xr_ch = X_ch.real\n",
    "    Xi_ch = X_ch.imag\n",
    "    Xr_tx = X_tx.real\n",
    "    Xi_tx = X_tx.imag\n",
    "\n",
    "    # Demodular\n",
    "    X = X_ch.T\n",
    "    signals = []\n",
    "    kmeans_ber = []\n",
    "    \n",
    "    for ph in range(4):\n",
    "        # Constelación recibida rotada\n",
    "        rotated_X = X_ch*np.exp(ph*1j*np.pi/2)\n",
    "        # Sincronización de las señales\n",
    "        synced_X_tx = sofa.sync_signals(X_tx, rotated_X)\n",
    "        # Se demodula la señal transmitida\n",
    "        y = sofa.demodulate(synced_X_tx, sofa.MOD_DICT)\n",
    "        # Demodulación de la recibida rotada\n",
    "        kmeans_model = sofa.demodulate_kmeans(rotated_X, sofa.MOD_DICT)\n",
    "        kmeans = kmeans_model.predict(list(zip(rotated_X.real, rotated_X.imag)))\n",
    "        # BER de la demodulación con respecto a la transmitida desplazada\n",
    "        kmeans_ber.append(sofa.bit_error_rate(kmeans, y))\n",
    "        signals.append((rotated_X, synced_X_tx, y, kmeans_model))\n",
    "\n",
    "    true_index = np.where(kmeans_ber == np.amin(kmeans_ber))[0][0]\n",
    "    rotated_X, synced_X_tx, y, kmeans_model = signals[true_index]\n",
    "    \n",
    "    ber[snr] = {\"kmeans\": kmeans_ber[true_index][0]}\n",
    "\n",
    "    # Probar la correlación con los datos sin demodular\n",
    "    # Probar girando 90° la constelación recibida\n",
    "    \n",
    "    # Graficar\n",
    "    plt.subplot(4, 3, i + 1)\n",
    "\n",
    "    # Constelación transmitida\n",
    "    plt.scatter(Xr_ch, Xi_ch, c = kmeans_model.labels_, marker = 'o')\n",
    "    \n",
    "    A_mc = np.array([(x.real, x.imag) for x in list(sofa.MOD_DICT.values())])\n",
    "    \n",
    "    plt.scatter(A_mc[:,0], A_mc[:,1],\n",
    "                s = 100, label = \"Centroides iniciales\",\n",
    "                marker = 'o', color = \"red\")\n",
    "    \n",
    "    plt.scatter(kmeans_model.cluster_centers_[:, 0], kmeans_model.cluster_centers_[:, 1],\n",
    "                s = 100, label = \"Centroides finales\",\n",
    "                marker = 'o', color = \"green\")\n",
    "    \n",
    "    plt.title(f\"Espaciamiento: {spacing.split('_')[0]}, SNR: {snr[5:]}\")\n",
    "    plt.legend(loc = \"upper right\")\n",
    "    plt.xlabel(\"I\")\n",
    "    plt.ylabel(\"Q\")\n",
    "    plt.grid(True)\n",
    "    # Mensaje para saber que se progresa\n",
    "    print(f\"SNR {snr[5:]} terminado.\")\n",
    "plt.show()"
   ]
  },
  {
   "cell_type": "code",
   "execution_count": null,
   "metadata": {
    "tags": []
   },
   "outputs": [],
   "source": [
    "snr = [18, 19, 20, 23, 25, 27, 30, 32, 35, 40]\n",
    "BER = [ber.get(f\"consY{snr_i}dB\").get(\"kmeans\") for snr_i in snr]\n",
    "plt.semilogy(snr, BER, marker = \"x\")"
   ]
  },
  {
   "cell_type": "markdown",
   "metadata": {
    "id": "ll-m4tmcm6Y9"
   },
   "source": [
    "## Falsificación del modelo real"
   ]
  },
  {
   "cell_type": "code",
   "execution_count": null,
   "metadata": {
    "colab": {
     "base_uri": "https://localhost:8080/",
     "height": 1000
    },
    "id": "oDScyJcdnqCc",
    "outputId": "4e651780-fe39-4c09-dee0-482ba40ae033"
   },
   "outputs": [],
   "source": [
    "# Crear datos aleatorios\n",
    "# Número de símbolos\n",
    "Ns = 10000\n",
    "# 16-QAM\n",
    "Mod = 16\n",
    "sym_tx = np.random.randint(Mod, size = Ns)\n",
    "\n",
    "# Ahora se concatena 3 veces el array (simulando que sea infinito)\n",
    "sym_tx_inf = np.concatenate((sym_tx, sym_tx))\n",
    "\n",
    "# Ahora se tomará la longitud Ns del arreglo infinito desde un índice aleatorio\n",
    "rand_index = np.random.randint(1, Ns*2 - 1)\n",
    "print(f\"El verdadero retraso es de {Ns - rand_index} posiciones\")\n",
    "sym_rx_pure = sym_tx_inf[rand_index:rand_index + Ns]\n",
    "\n",
    "# Se modulará tanto la transmitida como la recibida\n",
    "X_rx_pure = np.array([sofa.MOD_DICT[sym] for sym in sym_rx_pure])\n",
    "X_tx = np.array([sofa.MOD_DICT[sym] for sym in sym_tx_inf])\n",
    "\n",
    "snr = 24\n",
    "X_ch_r, X_ch_i = sofa.add_awgn(snr, X_rx_pure)\n",
    "X_ch = X_ch_r + 1j*X_ch_i\n",
    "\n",
    "# Ahora finalmente se rotará la constelación\n",
    "X_ch = X_ch*np.exp(2*1j*np.pi/2)\n",
    "\n",
    "# Se grafica la constelación resultante\n",
    "plt.scatter(X_ch.real, X_ch.imag)\n",
    "\n",
    "# Se procede entonces a demodular (hacer el procedimiento inverso)\n",
    "X = X_ch.T\n",
    "kmeans_ser = []\n",
    "trad_ser = []\n",
    "for ph in range(4):\n",
    "    # Constelación recibida rotada\n",
    "    rotated_X = X_ch*np.exp(ph*1j*np.pi/2)\n",
    "    # Sincronización de las señales\n",
    "    rotated_X, synced_X_tx = sofa.sync_signals(rotated_X, X_tx)\n",
    "    print(f\"El error absoluto entre las señales sincronizadas es {np.abs(rotated_X[:5] - synced_X_tx[:5])}\")\n",
    "    # Se demodula la señal transmitida\n",
    "    y = sofa.demodulate(synced_X_tx, sofa.MOD_DICT)\n",
    "    print(y[:5])\n",
    "    # Demodulación de la recibida rotada\n",
    "    kmeans = sofa.demodulate_kmeans(rotated_X, sofa.MOD_DICT)\n",
    "    trad = sofa.demodulate(rotated_X, sofa.MOD_DICT)\n",
    "    # BER de la demodulación con respecto a la transmitida desplazada\n",
    "    kmeans_ser.append(sofa.symbol_error_rate(kmeans, y))\n",
    "    trad_ser.append(sofa.symbol_error_rate(trad, y))\n",
    "\n",
    "print(kmeans_ser)\n",
    "print(trad_ser)\n",
    "# Probar la correlación con los datos sin demodular\n",
    "# Probar girando 90° la constelación recibida"
   ]
  },
  {
   "cell_type": "code",
   "execution_count": null,
   "metadata": {},
   "outputs": [],
   "source": []
  }
 ],
 "metadata": {
  "colab": {
   "authorship_tag": "ABX9TyO6IQd4xGuTjEvpO6AKwEpF",
   "include_colab_link": true,
   "provenance": []
  },
  "kernelspec": {
   "display_name": "Python 3 (ipykernel)",
   "language": "python",
   "name": "python3"
  },
  "language_info": {
   "codemirror_mode": {
    "name": "ipython",
    "version": 3
   },
   "file_extension": ".py",
   "mimetype": "text/x-python",
   "name": "python",
   "nbconvert_exporter": "python",
   "pygments_lexer": "ipython3",
   "version": "3.10.9"
  }
 },
 "nbformat": 4,
 "nbformat_minor": 4
}
